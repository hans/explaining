{
 "cells": [
  {
   "cell_type": "code",
   "execution_count": 6,
   "id": "constitutional-chambers",
   "metadata": {},
   "outputs": [],
   "source": [
    "import sys\n",
    "sys.path.append(\"../../src\")"
   ]
  },
  {
   "cell_type": "code",
   "execution_count": 7,
   "id": "banner-staff",
   "metadata": {},
   "outputs": [
    {
     "name": "stdout",
     "output_type": "stream",
     "text": [
      "The autoreload extension is already loaded. To reload it, use:\n",
      "  %reload_ext autoreload\n"
     ]
    }
   ],
   "source": [
    "%load_ext autoreload\n",
    "%autoreload 2"
   ]
  },
  {
   "cell_type": "code",
   "execution_count": 8,
   "id": "accomplished-islam",
   "metadata": {},
   "outputs": [],
   "source": [
    "import numpy as np\n",
    "import pandas as pd\n",
    "import seaborn as sns\n",
    "from matplotlib import pyplot as plt"
   ]
  },
  {
   "cell_type": "markdown",
   "id": "armed-publicity",
   "metadata": {},
   "source": [
    "## Load and preprocess data"
   ]
  },
  {
   "cell_type": "code",
   "execution_count": 9,
   "id": "applicable-falls",
   "metadata": {},
   "outputs": [],
   "source": [
    "import data"
   ]
  },
  {
   "cell_type": "code",
   "execution_count": 49,
   "id": "assured-persian",
   "metadata": {},
   "outputs": [
    {
     "name": "stderr",
     "output_type": "stream",
     "text": [
      "WARNING:data:Missing datastring for uid A1I3TPX8GA7ISU:3634BBTX0PI2DDMJKQL1T7BJTU3IF4. Status was 1.\n",
      "WARNING:data:Missing datastring for uid A33LYSCQQU1YDJ:31JLPPHS2VIHTNHTYQX3Y0LM83NO3X. Status was 1.\n",
      "WARNING:data:Missing datastring for uid debugL9306E:debugJT1KTE. Status was 1.\n",
      "WARNING:data:Missing datastring for uid A1VWP7HOSGKATD:37WLF8U1WQEX0FJWJ038YMGXYHE6KK. Status was 1.\n",
      "WARNING:data:Missing datastring for uid A6QDP0HAGE9W5:3V0Z7YWSIZONYPU7V25CAIA2YANV2I. Status was 1.\n",
      "WARNING:data:Missing datastring for uid A19VDBNACNJNI8:3ZY8KE4ISKR4Q8WSXDVD6085GQIQVU. Status was 1.\n",
      "WARNING:data:Missing datastring for uid AQ5TMPEPN5UIP:3QUO65DNQVC1SHUCDAT4L9BMNIZUO9. Status was 1.\n",
      "WARNING:data:Missing datastring for uid A3I1W58P6SIV26:3LEP4MGT3HOVSLUHNAYT5P7ZWFIBD3. Status was 1.\n",
      "WARNING:data:Missing datastring for uid A3V4AW6DGWBHDO:3ERET4BTVNXKIYLUH76KIW70TBHK9X. Status was 1.\n",
      "WARNING:data:Missing datastring for uid A12VDN3TJJCAQQ:33TIN5LC05YF23ABLM7BR4MBRUY9YX. Status was 1.\n",
      "WARNING:data:Missing datastring for uid A11EMV89KB6OCM:3DL65MZB8E3JUW0NX558MRV3F30EC8. Status was 1.\n",
      "WARNING:data:Missing datastring for uid A1HRH92NH49RX2:3Z4GS9HPNWYS90QHJGJR0VB8S6T77C. Status was 1.\n"
     ]
    }
   ],
   "source": [
    "# set db path hackily\n",
    "data._get_connection(\"../../data/participants.db\")\n",
    "\n",
    "EXPERIMENT_ID = \"07_comprehension_spray-load-construction-meaning-with-images\"\n",
    "\n",
    "raw_df = data.get_trials_df(data.load_raw_results(),\n",
    "                            (\"experiment_id\", \"materials_id\", \"item_id\", \"condition_id\"))\n",
    "\n",
    "response_df = raw_df[(raw_df.experiment_id == EXPERIMENT_ID) & (raw_df.trial_type == \"html-slider-response-with-copout\")]\n",
    "image_response_df = raw_df[(raw_df.experiment_id == EXPERIMENT_ID) & (raw_df.trial_type == \"html-image-response-with-copout\")]"
   ]
  },
  {
   "cell_type": "code",
   "execution_count": 50,
   "id": "threaded-fantasy",
   "metadata": {},
   "outputs": [
    {
     "name": "stdout",
     "output_type": "stream",
     "text": [
      "Dropping 0 dupe results.\n",
      "Dropping 0 dupe results.\n"
     ]
    }
   ],
   "source": [
    "# Drop dupes.\n",
    "print(f\"Dropping {response_df.index.duplicated().sum()} dupe results.\")\n",
    "response_df = response_df[~response_df.index.duplicated()]\n",
    "\n",
    "print(f\"Dropping {image_response_df.index.duplicated().sum()} dupe results.\")\n",
    "image_response_df = image_response_df[~image_response_df.index.duplicated()]"
   ]
  },
  {
   "cell_type": "code",
   "execution_count": 51,
   "id": "verbal-assist",
   "metadata": {},
   "outputs": [],
   "source": [
    "# Expand condition data\n",
    "response_df = pd.concat([response_df,\n",
    "                         response_df.condition_id.apply(pd.Series).rename(columns=lambda k: f\"condition_{k}\")],\n",
    "                        axis=1) \\\n",
    "    .drop(columns=\"condition_id\")\n",
    "\n",
    "image_response_df = pd.concat([image_response_df,\n",
    "                               image_response_df.condition_id.apply(pd.Series).rename(columns=lambda k: f\"condition_{k}\")],\n",
    "                              axis=1) \\\n",
    "    .drop(columns=\"condition_id\")"
   ]
  },
  {
   "cell_type": "code",
   "execution_count": 52,
   "id": "everyday-palace",
   "metadata": {},
   "outputs": [],
   "source": [
    "for df in [response_df, image_response_df]:\n",
    "    # Convert condition_id to independent features\n",
    "    df[\"theme_is_object\"] = df[\"condition_0\"] == 1\n",
    "    df[\"location_is_heavy\"] = df[\"condition_1\"] == 1\n",
    "    df[\"theme_is_heavy\"] = df[\"condition_2\"] == 1\n",
    "    \n",
    "    # dtype fixes\n",
    "    df[\"dateTime\"] = pd.to_datetime(df.dateTime, unit=\"ms\")"
   ]
  },
  {
   "cell_type": "code",
   "execution_count": 53,
   "id": "adjustable-handling",
   "metadata": {},
   "outputs": [],
   "source": [
    "# Norm slider values within-subject.\n",
    "response_df[\"slider_value_normed\"] = \\\n",
    "    response_df.groupby(\"uniqueid\").slider_value.apply(lambda xs: (xs - xs.mean()) / xs.std())\n",
    "\n",
    "response_df[\"slider_copout\"] = response_df.slider_copout.astype(bool)"
   ]
  },
  {
   "cell_type": "code",
   "execution_count": 54,
   "id": "corrected-timing",
   "metadata": {},
   "outputs": [
    {
     "data": {
      "text/html": [
       "<div>\n",
       "<style scoped>\n",
       "    .dataframe tbody tr th:only-of-type {\n",
       "        vertical-align: middle;\n",
       "    }\n",
       "\n",
       "    .dataframe tbody tr th {\n",
       "        vertical-align: top;\n",
       "    }\n",
       "\n",
       "    .dataframe thead th {\n",
       "        text-align: right;\n",
       "    }\n",
       "</style>\n",
       "<table border=\"1\" class=\"dataframe\">\n",
       "  <thead>\n",
       "    <tr style=\"text-align: right;\">\n",
       "      <th></th>\n",
       "      <th></th>\n",
       "      <th>condition</th>\n",
       "      <th>counterbalance</th>\n",
       "      <th>assignmentId</th>\n",
       "      <th>workerId</th>\n",
       "      <th>hitId</th>\n",
       "      <th>trial_type</th>\n",
       "      <th>rt</th>\n",
       "      <th>internal_node_id</th>\n",
       "      <th>dateTime</th>\n",
       "      <th>experiment_id</th>\n",
       "      <th>...</th>\n",
       "      <th>slider_copout</th>\n",
       "      <th>response</th>\n",
       "      <th>image_copout</th>\n",
       "      <th>condition_0</th>\n",
       "      <th>condition_1</th>\n",
       "      <th>condition_2</th>\n",
       "      <th>theme_is_object</th>\n",
       "      <th>location_is_heavy</th>\n",
       "      <th>theme_is_heavy</th>\n",
       "      <th>slider_value_normed</th>\n",
       "    </tr>\n",
       "    <tr>\n",
       "      <th>trial_index</th>\n",
       "      <th>uniqueid</th>\n",
       "      <th></th>\n",
       "      <th></th>\n",
       "      <th></th>\n",
       "      <th></th>\n",
       "      <th></th>\n",
       "      <th></th>\n",
       "      <th></th>\n",
       "      <th></th>\n",
       "      <th></th>\n",
       "      <th></th>\n",
       "      <th></th>\n",
       "      <th></th>\n",
       "      <th></th>\n",
       "      <th></th>\n",
       "      <th></th>\n",
       "      <th></th>\n",
       "      <th></th>\n",
       "      <th></th>\n",
       "      <th></th>\n",
       "      <th></th>\n",
       "      <th></th>\n",
       "    </tr>\n",
       "  </thead>\n",
       "  <tbody>\n",
       "    <tr>\n",
       "      <th>5</th>\n",
       "      <th>debugWG3ZVM:debugBDB6GC</th>\n",
       "      <td>0</td>\n",
       "      <td>0</td>\n",
       "      <td>debugBDB6GC</td>\n",
       "      <td>debugWG3ZVM</td>\n",
       "      <td>debug8WM17Q</td>\n",
       "      <td>html-slider-response-with-copout</td>\n",
       "      <td>2704.8</td>\n",
       "      <td>0.0-5.0</td>\n",
       "      <td>2021-10-08 16:30:05.193</td>\n",
       "      <td>07_comprehension_spray-load-construction-meani...</td>\n",
       "      <td>...</td>\n",
       "      <td>False</td>\n",
       "      <td>NaN</td>\n",
       "      <td>NaN</td>\n",
       "      <td>practice</td>\n",
       "      <td>fill</td>\n",
       "      <td>full</td>\n",
       "      <td>False</td>\n",
       "      <td>False</td>\n",
       "      <td>False</td>\n",
       "      <td>0.917556</td>\n",
       "    </tr>\n",
       "    <tr>\n",
       "      <th>6</th>\n",
       "      <th>debugWG3ZVM:debugBDB6GC</th>\n",
       "      <td>0</td>\n",
       "      <td>0</td>\n",
       "      <td>debugBDB6GC</td>\n",
       "      <td>debugWG3ZVM</td>\n",
       "      <td>debug8WM17Q</td>\n",
       "      <td>html-slider-response-with-copout</td>\n",
       "      <td>1862.2</td>\n",
       "      <td>0.0-6.0</td>\n",
       "      <td>2021-10-08 16:30:07.061</td>\n",
       "      <td>07_comprehension_spray-load-construction-meani...</td>\n",
       "      <td>...</td>\n",
       "      <td>False</td>\n",
       "      <td>NaN</td>\n",
       "      <td>NaN</td>\n",
       "      <td>practice</td>\n",
       "      <td>cover</td>\n",
       "      <td>empty</td>\n",
       "      <td>False</td>\n",
       "      <td>False</td>\n",
       "      <td>False</td>\n",
       "      <td>-1.645449</td>\n",
       "    </tr>\n",
       "    <tr>\n",
       "      <th>8</th>\n",
       "      <th>debugWG3ZVM:debugBDB6GC</th>\n",
       "      <td>0</td>\n",
       "      <td>0</td>\n",
       "      <td>debugBDB6GC</td>\n",
       "      <td>debugWG3ZVM</td>\n",
       "      <td>debug8WM17Q</td>\n",
       "      <td>html-slider-response-with-copout</td>\n",
       "      <td>1899.0</td>\n",
       "      <td>0.0-8.0</td>\n",
       "      <td>2021-10-08 16:30:09.918</td>\n",
       "      <td>07_comprehension_spray-load-construction-meani...</td>\n",
       "      <td>...</td>\n",
       "      <td>False</td>\n",
       "      <td>NaN</td>\n",
       "      <td>NaN</td>\n",
       "      <td>practice</td>\n",
       "      <td>cover</td>\n",
       "      <td>full</td>\n",
       "      <td>False</td>\n",
       "      <td>False</td>\n",
       "      <td>False</td>\n",
       "      <td>0.917556</td>\n",
       "    </tr>\n",
       "    <tr>\n",
       "      <th>11</th>\n",
       "      <th>debugWG3ZVM:debugBDB6GC</th>\n",
       "      <td>0</td>\n",
       "      <td>0</td>\n",
       "      <td>debugBDB6GC</td>\n",
       "      <td>debugWG3ZVM</td>\n",
       "      <td>debug8WM17Q</td>\n",
       "      <td>html-slider-response-with-copout</td>\n",
       "      <td>3802.3</td>\n",
       "      <td>0.0-11.0</td>\n",
       "      <td>2021-10-08 16:30:16.558</td>\n",
       "      <td>07_comprehension_spray-load-construction-meani...</td>\n",
       "      <td>...</td>\n",
       "      <td>False</td>\n",
       "      <td>NaN</td>\n",
       "      <td>NaN</td>\n",
       "      <td>filler</td>\n",
       "      <td>empty</td>\n",
       "      <td>NaN</td>\n",
       "      <td>False</td>\n",
       "      <td>False</td>\n",
       "      <td>False</td>\n",
       "      <td>-1.645449</td>\n",
       "    </tr>\n",
       "    <tr>\n",
       "      <th>12</th>\n",
       "      <th>debugWG3ZVM:debugBDB6GC</th>\n",
       "      <td>0</td>\n",
       "      <td>0</td>\n",
       "      <td>debugBDB6GC</td>\n",
       "      <td>debugWG3ZVM</td>\n",
       "      <td>debug8WM17Q</td>\n",
       "      <td>html-slider-response-with-copout</td>\n",
       "      <td>1780.5</td>\n",
       "      <td>0.0-12.0</td>\n",
       "      <td>2021-10-08 16:30:18.370</td>\n",
       "      <td>07_comprehension_spray-load-construction-meani...</td>\n",
       "      <td>...</td>\n",
       "      <td>False</td>\n",
       "      <td>NaN</td>\n",
       "      <td>NaN</td>\n",
       "      <td>1</td>\n",
       "      <td>0</td>\n",
       "      <td>0</td>\n",
       "      <td>True</td>\n",
       "      <td>False</td>\n",
       "      <td>False</td>\n",
       "      <td>0.917556</td>\n",
       "    </tr>\n",
       "  </tbody>\n",
       "</table>\n",
       "<p>5 rows × 25 columns</p>\n",
       "</div>"
      ],
      "text/plain": [
       "                                     condition  counterbalance assignmentId  \\\n",
       "trial_index uniqueid                                                          \n",
       "5           debugWG3ZVM:debugBDB6GC          0               0  debugBDB6GC   \n",
       "6           debugWG3ZVM:debugBDB6GC          0               0  debugBDB6GC   \n",
       "8           debugWG3ZVM:debugBDB6GC          0               0  debugBDB6GC   \n",
       "11          debugWG3ZVM:debugBDB6GC          0               0  debugBDB6GC   \n",
       "12          debugWG3ZVM:debugBDB6GC          0               0  debugBDB6GC   \n",
       "\n",
       "                                        workerId        hitId  \\\n",
       "trial_index uniqueid                                            \n",
       "5           debugWG3ZVM:debugBDB6GC  debugWG3ZVM  debug8WM17Q   \n",
       "6           debugWG3ZVM:debugBDB6GC  debugWG3ZVM  debug8WM17Q   \n",
       "8           debugWG3ZVM:debugBDB6GC  debugWG3ZVM  debug8WM17Q   \n",
       "11          debugWG3ZVM:debugBDB6GC  debugWG3ZVM  debug8WM17Q   \n",
       "12          debugWG3ZVM:debugBDB6GC  debugWG3ZVM  debug8WM17Q   \n",
       "\n",
       "                                                           trial_type      rt  \\\n",
       "trial_index uniqueid                                                            \n",
       "5           debugWG3ZVM:debugBDB6GC  html-slider-response-with-copout  2704.8   \n",
       "6           debugWG3ZVM:debugBDB6GC  html-slider-response-with-copout  1862.2   \n",
       "8           debugWG3ZVM:debugBDB6GC  html-slider-response-with-copout  1899.0   \n",
       "11          debugWG3ZVM:debugBDB6GC  html-slider-response-with-copout  3802.3   \n",
       "12          debugWG3ZVM:debugBDB6GC  html-slider-response-with-copout  1780.5   \n",
       "\n",
       "                                    internal_node_id                dateTime  \\\n",
       "trial_index uniqueid                                                           \n",
       "5           debugWG3ZVM:debugBDB6GC          0.0-5.0 2021-10-08 16:30:05.193   \n",
       "6           debugWG3ZVM:debugBDB6GC          0.0-6.0 2021-10-08 16:30:07.061   \n",
       "8           debugWG3ZVM:debugBDB6GC          0.0-8.0 2021-10-08 16:30:09.918   \n",
       "11          debugWG3ZVM:debugBDB6GC         0.0-11.0 2021-10-08 16:30:16.558   \n",
       "12          debugWG3ZVM:debugBDB6GC         0.0-12.0 2021-10-08 16:30:18.370   \n",
       "\n",
       "                                                                         experiment_id  \\\n",
       "trial_index uniqueid                                                                     \n",
       "5           debugWG3ZVM:debugBDB6GC  07_comprehension_spray-load-construction-meani...   \n",
       "6           debugWG3ZVM:debugBDB6GC  07_comprehension_spray-load-construction-meani...   \n",
       "8           debugWG3ZVM:debugBDB6GC  07_comprehension_spray-load-construction-meani...   \n",
       "11          debugWG3ZVM:debugBDB6GC  07_comprehension_spray-load-construction-meani...   \n",
       "12          debugWG3ZVM:debugBDB6GC  07_comprehension_spray-load-construction-meani...   \n",
       "\n",
       "                                     ... slider_copout  response  \\\n",
       "trial_index uniqueid                 ...                           \n",
       "5           debugWG3ZVM:debugBDB6GC  ...         False       NaN   \n",
       "6           debugWG3ZVM:debugBDB6GC  ...         False       NaN   \n",
       "8           debugWG3ZVM:debugBDB6GC  ...         False       NaN   \n",
       "11          debugWG3ZVM:debugBDB6GC  ...         False       NaN   \n",
       "12          debugWG3ZVM:debugBDB6GC  ...         False       NaN   \n",
       "\n",
       "                                     image_copout condition_0  condition_1  \\\n",
       "trial_index uniqueid                                                         \n",
       "5           debugWG3ZVM:debugBDB6GC           NaN    practice         fill   \n",
       "6           debugWG3ZVM:debugBDB6GC           NaN    practice        cover   \n",
       "8           debugWG3ZVM:debugBDB6GC           NaN    practice        cover   \n",
       "11          debugWG3ZVM:debugBDB6GC           NaN      filler        empty   \n",
       "12          debugWG3ZVM:debugBDB6GC           NaN           1            0   \n",
       "\n",
       "                                     condition_2 theme_is_object  \\\n",
       "trial_index uniqueid                                               \n",
       "5           debugWG3ZVM:debugBDB6GC         full           False   \n",
       "6           debugWG3ZVM:debugBDB6GC        empty           False   \n",
       "8           debugWG3ZVM:debugBDB6GC         full           False   \n",
       "11          debugWG3ZVM:debugBDB6GC          NaN           False   \n",
       "12          debugWG3ZVM:debugBDB6GC            0            True   \n",
       "\n",
       "                                    location_is_heavy theme_is_heavy  \\\n",
       "trial_index uniqueid                                                   \n",
       "5           debugWG3ZVM:debugBDB6GC             False          False   \n",
       "6           debugWG3ZVM:debugBDB6GC             False          False   \n",
       "8           debugWG3ZVM:debugBDB6GC             False          False   \n",
       "11          debugWG3ZVM:debugBDB6GC             False          False   \n",
       "12          debugWG3ZVM:debugBDB6GC             False          False   \n",
       "\n",
       "                                    slider_value_normed  \n",
       "trial_index uniqueid                                     \n",
       "5           debugWG3ZVM:debugBDB6GC            0.917556  \n",
       "6           debugWG3ZVM:debugBDB6GC           -1.645449  \n",
       "8           debugWG3ZVM:debugBDB6GC            0.917556  \n",
       "11          debugWG3ZVM:debugBDB6GC           -1.645449  \n",
       "12          debugWG3ZVM:debugBDB6GC            0.917556  \n",
       "\n",
       "[5 rows x 25 columns]"
      ]
     },
     "execution_count": 54,
     "metadata": {},
     "output_type": "execute_result"
    }
   ],
   "source": [
    "response_df.head()"
   ]
  },
  {
   "cell_type": "code",
   "execution_count": 55,
   "id": "careful-timer",
   "metadata": {},
   "outputs": [],
   "source": [
    "response_df.to_csv(\"raw_responses.csv\")"
   ]
  },
  {
   "cell_type": "markdown",
   "id": "drawn-counter",
   "metadata": {},
   "source": [
    "## Preliminaries"
   ]
  },
  {
   "cell_type": "code",
   "execution_count": 56,
   "id": "adopted-forth",
   "metadata": {},
   "outputs": [
    {
     "data": {
      "text/plain": [
       "1"
      ]
     },
     "execution_count": 56,
     "metadata": {},
     "output_type": "execute_result"
    }
   ],
   "source": [
    "N = len(response_df.reset_index().uniqueid.unique())\n",
    "N"
   ]
  },
  {
   "cell_type": "markdown",
   "id": "interior-greeting",
   "metadata": {},
   "source": [
    "### Demo"
   ]
  },
  {
   "cell_type": "code",
   "execution_count": 57,
   "id": "derived-shower",
   "metadata": {},
   "outputs": [],
   "source": [
    "qualitative_df = raw_df[(raw_df.experiment_id == EXPERIMENT_ID) & raw_df.trial_type.isin((\"survey-text\", \"survey-multi-choice\"))]"
   ]
  },
  {
   "cell_type": "code",
   "execution_count": 58,
   "id": "junior-nudist",
   "metadata": {},
   "outputs": [
    {
     "data": {
      "text/plain": [
       "<AxesSubplot:>"
      ]
     },
     "execution_count": 58,
     "metadata": {},
     "output_type": "execute_result"
    },
    {
     "data": {
      "image/png": "[encoded data removed]",
      "text/plain": [
       "<Figure size 432x288 with 1 Axes>"
      ]
     },
     "metadata": {
      "needs_background": "light"
     },
     "output_type": "display_data"
    }
   ],
   "source": [
    "ages = qualitative_df[(qualitative_df.trial_type == \"survey-text\") & (qualitative_df.internal_node_id == \"0.0-0.0\")].survey_answer.astype(int, errors=\"ignore\")\n",
    "sns.histplot(ages)"
   ]
  },
  {
   "cell_type": "code",
   "execution_count": 59,
   "id": "complete-adventure",
   "metadata": {},
   "outputs": [
    {
     "data": {
      "text/plain": [
       "Master's degree    1\n",
       "Name: survey_answer, dtype: int64"
      ]
     },
     "execution_count": 59,
     "metadata": {},
     "output_type": "execute_result"
    }
   ],
   "source": [
    "education = qualitative_df[(qualitative_df.trial_type == \"survey-multi-choice\") & (qualitative_df.survey_question_idx == 0)].survey_answer\n",
    "education.value_counts()"
   ]
  },
  {
   "cell_type": "code",
   "execution_count": 60,
   "id": "gentle-dylan",
   "metadata": {},
   "outputs": [
    {
     "data": {
      "text/plain": [
       "Yes    1\n",
       "Name: survey_answer, dtype: int64"
      ]
     },
     "execution_count": 60,
     "metadata": {},
     "output_type": "execute_result"
    }
   ],
   "source": [
    "native = qualitative_df[(qualitative_df.trial_type == \"survey-multi-choice\") & (qualitative_df.survey_question_idx == 1)].survey_answer\n",
    "native.value_counts()"
   ]
  },
  {
   "cell_type": "markdown",
   "id": "occupied-treasury",
   "metadata": {},
   "source": [
    "### Comments"
   ]
  },
  {
   "cell_type": "code",
   "execution_count": 61,
   "id": "rocky-wholesale",
   "metadata": {},
   "outputs": [
    {
     "data": {
      "text/plain": [
       "['3', '']"
      ]
     },
     "execution_count": 61,
     "metadata": {},
     "output_type": "execute_result"
    }
   ],
   "source": [
    "list(qualitative_df[(qualitative_df.trial_type == \"survey-text\") & (qualitative_df.internal_node_id != \"0.0-0.0\")].survey_answer)"
   ]
  },
  {
   "cell_type": "markdown",
   "id": "korean-marks",
   "metadata": {},
   "source": [
    "### Total times"
   ]
  },
  {
   "cell_type": "code",
   "execution_count": 62,
   "id": "offensive-google",
   "metadata": {},
   "outputs": [
    {
     "data": {
      "text/plain": [
       "Text(0.5, 1.0, 'Total study time (minutes)')"
      ]
     },
     "execution_count": 62,
     "metadata": {},
     "output_type": "execute_result"
    },
    {
     "data": {
      "image/png": "[encoded data removed]",
      "text/plain": [
       "<Figure size 432x288 with 1 Axes>"
      ]
     },
     "metadata": {
      "needs_background": "light"
     },
     "output_type": "display_data"
    }
   ],
   "source": [
    "sns.histplot(pd.concat([response_df, qualitative_df]).groupby(\"uniqueid\").apply(lambda rows: rows.rt.sum() / 1000 / 60))\n",
    "plt.title(\"Total study time (minutes)\")"
   ]
  },
  {
   "cell_type": "code",
   "execution_count": 63,
   "id": "dangerous-pepper",
   "metadata": {},
   "outputs": [
    {
     "data": {
      "text/plain": [
       "mean    1.377915\n",
       "std          NaN\n",
       "Name: rt, dtype: float64"
      ]
     },
     "execution_count": 63,
     "metadata": {},
     "output_type": "execute_result"
    }
   ],
   "source": [
    "pd.concat([response_df, qualitative_df]).groupby(\"uniqueid\").rt.sum().apply(lambda xs: xs / 1000 / 60).agg([\"mean\", \"std\"])"
   ]
  },
  {
   "cell_type": "markdown",
   "id": "announced-posting",
   "metadata": {},
   "source": [
    "### Response times"
   ]
  },
  {
   "cell_type": "code",
   "execution_count": 64,
   "id": "banned-carolina",
   "metadata": {},
   "outputs": [],
   "source": [
    "# sns.displot(data=response_df, x=\"rt\", hue=\"uniqueid\", kind=\"hist\")"
   ]
  },
  {
   "cell_type": "code",
   "execution_count": 65,
   "id": "filled-donna",
   "metadata": {},
   "outputs": [
    {
     "data": {
      "text/plain": [
       "<seaborn.axisgrid.FacetGrid at 0x7fa103a3f670>"
      ]
     },
     "execution_count": 65,
     "metadata": {},
     "output_type": "execute_result"
    },
    {
     "data": {
      "image/png": "[encoded data removed]",
      "text/plain": [
       "<Figure size 551.125x360 with 1 Axes>"
      ]
     },
     "metadata": {
      "needs_background": "light"
     },
     "output_type": "display_data"
    }
   ],
   "source": [
    "response_df[\"rt.log\"] = np.log(response_df.rt)\n",
    "sns.displot(data=response_df, x=\"rt.log\", hue=\"uniqueid\", kind=\"kde\")"
   ]
  },
  {
   "cell_type": "code",
   "execution_count": 66,
   "id": "incoming-trick",
   "metadata": {},
   "outputs": [],
   "source": [
    "# sns.lmplot(data=response_df.reset_index(), x=\"trial_index\", y=\"rt.log\", hue=\"uniqueid\", height=10, ci=False)\n",
    "# plt.title(\"Log response time vs. trial position\")"
   ]
  },
  {
   "cell_type": "markdown",
   "id": "expanded-delaware",
   "metadata": {},
   "source": [
    "### How are people using the sliders?"
   ]
  },
  {
   "cell_type": "markdown",
   "id": "quarterly-cable",
   "metadata": {},
   "source": [
    "- Stripplot points correspond to individual slider responses.\n",
    "- Responses are grouped vertically by subject.\n",
    "- Transparent boxplots indicate filler response value for a particular subject. Red median lines / boxes indicate \"full\" fillers and blue indicate \"empty.\"\n",
    "- X marks indicate mean practice response value for a particular subject. Red and blue match above."
   ]
  },
  {
   "cell_type": "code",
   "execution_count": 67,
   "id": "artificial-genetics",
   "metadata": {},
   "outputs": [
    {
     "data": {
      "text/plain": [
       "[<matplotlib.lines.Line2D at 0x7fa1034191c0>]"
      ]
     },
     "execution_count": 67,
     "metadata": {},
     "output_type": "execute_result"
    },
    {
     "data": {
      "image/png": "[encoded data removed]",
      "text/plain": [
       "<Figure size 2520x1080 with 1 Axes>"
      ]
     },
     "metadata": {
      "needs_background": "light"
     },
     "output_type": "display_data"
    }
   ],
   "source": [
    "# Order S by descending difference between mean full-filler and empty-filler rating\n",
    "filler_rows = response_df[response_df.condition_0 == \"filler\"]\n",
    "filler_diffs = filler_rows.groupby(\"uniqueid\").apply(lambda xs: xs[xs.condition_1 == \"full\"].slider_value.mean() - xs[xs.condition_1 == \"empty\"].slider_value.mean())\n",
    "subject_order = filler_diffs.sort_values(ascending=False).index\n",
    "\n",
    "plt.subplots(figsize=(35, 15))\n",
    "g = sns.stripplot(data=response_df.reset_index(), x=\"uniqueid\", y=\"slider_value\", order=subject_order)\n",
    "\n",
    "# plot filler responses\n",
    "sns.boxplot(data=response_df[(response_df.condition_0 == \"filler\") & (response_df.condition_1 == \"full\")].reset_index(),\n",
    "            x=\"uniqueid\", y=\"slider_value\", order=subject_order,\n",
    "            color=\"red\", medianprops=dict(color=\"red\"), flierprops=dict(markerfacecolor=\"red\"), boxprops=dict(alpha=0.3))\n",
    "sns.boxplot(data=response_df[(response_df.condition_0 == \"filler\") & (response_df.condition_1 == \"empty\")].reset_index(),\n",
    "            x=\"uniqueid\", y=\"slider_value\", order=subject_order, \n",
    "            color=\"blue\", medianprops=dict(color=\"blue\"), flierprops=dict(markerfacecolor=\"blue\"), boxprops=dict(alpha=0.3))\n",
    "\n",
    "# plot practice responses\n",
    "practice_full, practice_empty = [], []\n",
    "for i, subj in enumerate(subject_order):\n",
    "    subj_rows = response_df.xs(subj, level=\"uniqueid\")\n",
    "    subj_rows = subj_rows[(subj_rows.condition_0 == \"practice\")]\n",
    "    practice_full.append(subj_rows[subj_rows.condition_2 == \"full\"].slider_value.mean())\n",
    "    practice_empty.append(subj_rows[subj_rows.condition_2 == \"empty\"].slider_value.mean())\n",
    "    \n",
    "g.plot(np.arange(len(subject_order)), practice_full, marker=\"x\", markersize=10, color=\"red\", linestyle=\"none\")\n",
    "g.plot(np.arange(len(subject_order)), practice_empty, marker=\"x\", markersize=10, color=\"blue\", linestyle=\"none\")"
   ]
  },
  {
   "cell_type": "markdown",
   "id": "regulation-header",
   "metadata": {},
   "source": [
    "## Attention checks"
   ]
  },
  {
   "cell_type": "markdown",
   "id": "awful-nicaragua",
   "metadata": {},
   "source": [
    "### Practice round"
   ]
  },
  {
   "cell_type": "code",
   "execution_count": 68,
   "id": "necessary-blond",
   "metadata": {},
   "outputs": [
    {
     "name": "stderr",
     "output_type": "stream",
     "text": [
      "<ipython-input-68-380d923c644c>:2: SettingWithCopyWarning: \n",
      "A value is trying to be set on a copy of a slice from a DataFrame.\n",
      "Try using .loc[row_indexer,col_indexer] = value instead\n",
      "\n",
      "See the caveats in the documentation: https://pandas.pydata.org/pandas-docs/stable/user_guide/indexing.html#returning-a-view-versus-a-copy\n",
      "  practice_df[\"match\"] = practice_df.apply(lambda r: r.slider_value > 50 if r.condition_2 == \"full\" else r.slider_value <= 50, axis=1)\n",
      "<ipython-input-68-380d923c644c>:3: SettingWithCopyWarning: \n",
      "A value is trying to be set on a copy of a slice from a DataFrame.\n",
      "Try using .loc[row_indexer,col_indexer] = value instead\n",
      "\n",
      "See the caveats in the documentation: https://pandas.pydata.org/pandas-docs/stable/user_guide/indexing.html#returning-a-view-versus-a-copy\n",
      "  practice_df[\"practice_id\"] = practice_df.condition_1.str.cat(practice_df.condition_2)\n"
     ]
    }
   ],
   "source": [
    "practice_df = response_df[response_df.condition_0 == \"practice\"]\n",
    "practice_df[\"match\"] = practice_df.apply(lambda r: r.slider_value > 50 if r.condition_2 == \"full\" else r.slider_value <= 50, axis=1)\n",
    "practice_df[\"practice_id\"] = practice_df.condition_1.str.cat(practice_df.condition_2)"
   ]
  },
  {
   "cell_type": "code",
   "execution_count": 69,
   "id": "sexual-sociology",
   "metadata": {},
   "outputs": [],
   "source": [
    "# Ignore evaluating practice items which retrospectively don't seem like good practice items...\n",
    "PRACTICE_IGNORE = set()\n",
    "\n",
    "practice_df = practice_df[~practice_df.practice_id.isin(PRACTICE_IGNORE)]"
   ]
  },
  {
   "cell_type": "markdown",
   "id": "aging-flight",
   "metadata": {},
   "source": [
    "#### Practice failures by item"
   ]
  },
  {
   "cell_type": "code",
   "execution_count": 70,
   "id": "dressed-cover",
   "metadata": {},
   "outputs": [
    {
     "data": {
      "text/plain": [
       "practice_id\n",
       "coverempty    True\n",
       "coverfull     True\n",
       "fillfull      True\n",
       "Name: match, dtype: bool"
      ]
     },
     "execution_count": 70,
     "metadata": {},
     "output_type": "execute_result"
    }
   ],
   "source": [
    "practice_df.groupby(\"practice_id\").match.mean()"
   ]
  },
  {
   "cell_type": "code",
   "execution_count": 71,
   "id": "veterinary-volume",
   "metadata": {},
   "outputs": [
    {
     "data": {
      "text/plain": [
       "<matplotlib.lines.Line2D at 0x7fa1046ae490>"
      ]
     },
     "execution_count": 71,
     "metadata": {},
     "output_type": "execute_result"
    },
    {
     "data": {
      "image/png": "[encoded data removed]",
      "text/plain": [
       "<Figure size 1080x1080 with 1 Axes>"
      ]
     },
     "metadata": {
      "needs_background": "light"
     },
     "output_type": "display_data"
    }
   ],
   "source": [
    "plt.subplots(figsize=(15,15))\n",
    "sns.swarmplot(data=practice_df.reset_index(), x=\"practice_id\", y=\"slider_value\")\n",
    "plt.axhline(50)"
   ]
  },
  {
   "cell_type": "markdown",
   "id": "sublime-negative",
   "metadata": {},
   "source": [
    "#### Practice copouts"
   ]
  },
  {
   "cell_type": "code",
   "execution_count": 72,
   "id": "sexual-murray",
   "metadata": {},
   "outputs": [
    {
     "data": {
      "text/html": [
       "<div>\n",
       "<style scoped>\n",
       "    .dataframe tbody tr th:only-of-type {\n",
       "        vertical-align: middle;\n",
       "    }\n",
       "\n",
       "    .dataframe tbody tr th {\n",
       "        vertical-align: top;\n",
       "    }\n",
       "\n",
       "    .dataframe thead th {\n",
       "        text-align: right;\n",
       "    }\n",
       "</style>\n",
       "<table border=\"1\" class=\"dataframe\">\n",
       "  <thead>\n",
       "    <tr style=\"text-align: right;\">\n",
       "      <th></th>\n",
       "      <th>mean</th>\n",
       "      <th>count</th>\n",
       "    </tr>\n",
       "    <tr>\n",
       "      <th>practice_id</th>\n",
       "      <th></th>\n",
       "      <th></th>\n",
       "    </tr>\n",
       "  </thead>\n",
       "  <tbody>\n",
       "    <tr>\n",
       "      <th>coverempty</th>\n",
       "      <td>False</td>\n",
       "      <td>1</td>\n",
       "    </tr>\n",
       "    <tr>\n",
       "      <th>coverfull</th>\n",
       "      <td>False</td>\n",
       "      <td>1</td>\n",
       "    </tr>\n",
       "    <tr>\n",
       "      <th>fillfull</th>\n",
       "      <td>False</td>\n",
       "      <td>1</td>\n",
       "    </tr>\n",
       "  </tbody>\n",
       "</table>\n",
       "</div>"
      ],
      "text/plain": [
       "              mean  count\n",
       "practice_id              \n",
       "coverempty   False      1\n",
       "coverfull    False      1\n",
       "fillfull     False      1"
      ]
     },
     "execution_count": 72,
     "metadata": {},
     "output_type": "execute_result"
    }
   ],
   "source": [
    "practice_df.groupby(\"practice_id\").slider_copout.agg([\"mean\", \"count\"]).sort_values(\"mean\", ascending=False)"
   ]
  },
  {
   "cell_type": "markdown",
   "id": "overhead-orchestra",
   "metadata": {},
   "source": [
    "### Fillers"
   ]
  },
  {
   "cell_type": "code",
   "execution_count": 73,
   "id": "mechanical-timer",
   "metadata": {},
   "outputs": [
    {
     "data": {
      "text/plain": [
       "<AxesSubplot:xlabel='t'>"
      ]
     },
     "execution_count": 73,
     "metadata": {},
     "output_type": "execute_result"
    },
    {
     "data": {
      "image/png": "[encoded data removed]",
      "text/plain": [
       "<Figure size 432x288 with 1 Axes>"
      ]
     },
     "metadata": {
      "needs_background": "light"
     },
     "output_type": "display_data"
    }
   ],
   "source": [
    "from scipy.stats import ttest_ind\n",
    "def compute_filler_ttest(subj_rows):\n",
    "    \"\"\"\n",
    "    sanity check: \"full\" items should be rated higher than \"empty\" filler items\n",
    "    \"\"\"\n",
    "    filler_rows = subj_rows[subj_rows.condition_0 == \"filler\"]\n",
    "    \n",
    "    # Filter out copouts (and print warning -- fillers should not trigger copout)\n",
    "    copout_rows = filler_rows[filler_rows.slider_copout]\n",
    "    if len(copout_rows) > 0:\n",
    "        print(f\"WARNING: subject {filler_rows.iloc[0].name} had {len(copout_rows)} filler copout(s). Seems fishy.\")\n",
    "    filler_rows = filler_rows[~filler_rows.slider_copout]\n",
    "    \n",
    "    full_filler = filler_rows[filler_rows.condition_1 == \"full\"]\n",
    "    empty_filler = filler_rows[filler_rows.condition_1 == \"empty\"]\n",
    "    \n",
    "    return pd.Series(ttest_ind(full_filler.slider_value, empty_filler.slider_value),\n",
    "                     index=[\"t\", \"pval\"])\n",
    "\n",
    "filler_stats = response_df.groupby(\"uniqueid\").apply(compute_filler_ttest)\n",
    "sns.boxplot(data=filler_stats.reset_index(), x=\"t\", hue=\"uniqueid\")"
   ]
  },
  {
   "cell_type": "code",
   "execution_count": 74,
   "id": "prime-aquarium",
   "metadata": {},
   "outputs": [
    {
     "data": {
      "text/html": [
       "<div>\n",
       "<style scoped>\n",
       "    .dataframe tbody tr th:only-of-type {\n",
       "        vertical-align: middle;\n",
       "    }\n",
       "\n",
       "    .dataframe tbody tr th {\n",
       "        vertical-align: top;\n",
       "    }\n",
       "\n",
       "    .dataframe thead th {\n",
       "        text-align: right;\n",
       "    }\n",
       "</style>\n",
       "<table border=\"1\" class=\"dataframe\">\n",
       "  <thead>\n",
       "    <tr style=\"text-align: right;\">\n",
       "      <th></th>\n",
       "      <th>t</th>\n",
       "      <th>pval</th>\n",
       "    </tr>\n",
       "    <tr>\n",
       "      <th>uniqueid</th>\n",
       "      <th></th>\n",
       "      <th></th>\n",
       "    </tr>\n",
       "  </thead>\n",
       "  <tbody>\n",
       "    <tr>\n",
       "      <th>debugWG3ZVM:debugBDB6GC</th>\n",
       "      <td>18.457</td>\n",
       "      <td>4.697749e-09</td>\n",
       "    </tr>\n",
       "  </tbody>\n",
       "</table>\n",
       "</div>"
      ],
      "text/plain": [
       "                              t          pval\n",
       "uniqueid                                     \n",
       "debugWG3ZVM:debugBDB6GC  18.457  4.697749e-09"
      ]
     },
     "execution_count": 74,
     "metadata": {},
     "output_type": "execute_result"
    }
   ],
   "source": [
    "filler_stats.sort_values(\"t\").head(50)"
   ]
  },
  {
   "cell_type": "markdown",
   "id": "indian-toolbox",
   "metadata": {},
   "source": [
    "#### Filler copouts"
   ]
  },
  {
   "cell_type": "code",
   "execution_count": 75,
   "id": "complicated-profile",
   "metadata": {},
   "outputs": [
    {
     "data": {
      "text/html": [
       "<div>\n",
       "<style scoped>\n",
       "    .dataframe tbody tr th:only-of-type {\n",
       "        vertical-align: middle;\n",
       "    }\n",
       "\n",
       "    .dataframe tbody tr th {\n",
       "        vertical-align: top;\n",
       "    }\n",
       "\n",
       "    .dataframe thead th {\n",
       "        text-align: right;\n",
       "    }\n",
       "</style>\n",
       "<table border=\"1\" class=\"dataframe\">\n",
       "  <thead>\n",
       "    <tr style=\"text-align: right;\">\n",
       "      <th></th>\n",
       "      <th></th>\n",
       "      <th>mean</th>\n",
       "      <th>sum</th>\n",
       "      <th>count</th>\n",
       "    </tr>\n",
       "    <tr>\n",
       "      <th>item_id</th>\n",
       "      <th>condition_1</th>\n",
       "      <th></th>\n",
       "      <th></th>\n",
       "      <th></th>\n",
       "    </tr>\n",
       "  </thead>\n",
       "  <tbody>\n",
       "    <tr>\n",
       "      <th>0.0</th>\n",
       "      <th>empty</th>\n",
       "      <td>False</td>\n",
       "      <td>0</td>\n",
       "      <td>1</td>\n",
       "    </tr>\n",
       "    <tr>\n",
       "      <th>1.0</th>\n",
       "      <th>empty</th>\n",
       "      <td>False</td>\n",
       "      <td>0</td>\n",
       "      <td>1</td>\n",
       "    </tr>\n",
       "    <tr>\n",
       "      <th>2.0</th>\n",
       "      <th>empty</th>\n",
       "      <td>False</td>\n",
       "      <td>0</td>\n",
       "      <td>1</td>\n",
       "    </tr>\n",
       "    <tr>\n",
       "      <th>3.0</th>\n",
       "      <th>empty</th>\n",
       "      <td>False</td>\n",
       "      <td>0</td>\n",
       "      <td>1</td>\n",
       "    </tr>\n",
       "    <tr>\n",
       "      <th>4.0</th>\n",
       "      <th>empty</th>\n",
       "      <td>False</td>\n",
       "      <td>0</td>\n",
       "      <td>1</td>\n",
       "    </tr>\n",
       "    <tr>\n",
       "      <th>5.0</th>\n",
       "      <th>empty</th>\n",
       "      <td>False</td>\n",
       "      <td>0</td>\n",
       "      <td>1</td>\n",
       "    </tr>\n",
       "    <tr>\n",
       "      <th>6.0</th>\n",
       "      <th>full</th>\n",
       "      <td>False</td>\n",
       "      <td>0</td>\n",
       "      <td>1</td>\n",
       "    </tr>\n",
       "    <tr>\n",
       "      <th>7.0</th>\n",
       "      <th>full</th>\n",
       "      <td>False</td>\n",
       "      <td>0</td>\n",
       "      <td>1</td>\n",
       "    </tr>\n",
       "    <tr>\n",
       "      <th>8.0</th>\n",
       "      <th>full</th>\n",
       "      <td>False</td>\n",
       "      <td>0</td>\n",
       "      <td>1</td>\n",
       "    </tr>\n",
       "    <tr>\n",
       "      <th>9.0</th>\n",
       "      <th>full</th>\n",
       "      <td>False</td>\n",
       "      <td>0</td>\n",
       "      <td>1</td>\n",
       "    </tr>\n",
       "    <tr>\n",
       "      <th>10.0</th>\n",
       "      <th>full</th>\n",
       "      <td>False</td>\n",
       "      <td>0</td>\n",
       "      <td>1</td>\n",
       "    </tr>\n",
       "    <tr>\n",
       "      <th>11.0</th>\n",
       "      <th>full</th>\n",
       "      <td>False</td>\n",
       "      <td>0</td>\n",
       "      <td>1</td>\n",
       "    </tr>\n",
       "  </tbody>\n",
       "</table>\n",
       "</div>"
      ],
      "text/plain": [
       "                      mean  sum  count\n",
       "item_id condition_1                   \n",
       "0.0     empty        False    0      1\n",
       "1.0     empty        False    0      1\n",
       "2.0     empty        False    0      1\n",
       "3.0     empty        False    0      1\n",
       "4.0     empty        False    0      1\n",
       "5.0     empty        False    0      1\n",
       "6.0     full         False    0      1\n",
       "7.0     full         False    0      1\n",
       "8.0     full         False    0      1\n",
       "9.0     full         False    0      1\n",
       "10.0    full         False    0      1\n",
       "11.0    full         False    0      1"
      ]
     },
     "execution_count": 75,
     "metadata": {},
     "output_type": "execute_result"
    }
   ],
   "source": [
    "response_df[response_df.condition_0 == \"filler\"].groupby([\"item_id\", \"condition_1\"]).slider_copout.agg([\"mean\", \"sum\", \"count\"]).sort_values(\"mean\", ascending=False)"
   ]
  },
  {
   "cell_type": "markdown",
   "id": "appropriate-curve",
   "metadata": {},
   "source": [
    "#### Filler failures by item"
   ]
  },
  {
   "cell_type": "code",
   "execution_count": 76,
   "id": "latin-fault",
   "metadata": {},
   "outputs": [
    {
     "name": "stderr",
     "output_type": "stream",
     "text": [
      "<ipython-input-76-5f9f2f07b75b>:2: SettingWithCopyWarning: \n",
      "A value is trying to be set on a copy of a slice from a DataFrame.\n",
      "Try using .loc[row_indexer,col_indexer] = value instead\n",
      "\n",
      "See the caveats in the documentation: https://pandas.pydata.org/pandas-docs/stable/user_guide/indexing.html#returning-a-view-versus-a-copy\n",
      "  filler_df[\"match\"] = filler_df.apply(lambda r: r.slider_value > 50 if r.condition_1 == \"full\" else r.slider_value <= 50, axis=1)\n"
     ]
    }
   ],
   "source": [
    "filler_df = response_df[response_df.condition_0 == \"filler\"]\n",
    "filler_df[\"match\"] = filler_df.apply(lambda r: r.slider_value > 50 if r.condition_1 == \"full\" else r.slider_value <= 50, axis=1)"
   ]
  },
  {
   "cell_type": "code",
   "execution_count": 77,
   "id": "neural-letters",
   "metadata": {},
   "outputs": [
    {
     "data": {
      "text/plain": [
       "condition_1  item_id\n",
       "empty        0.0        True\n",
       "             1.0        True\n",
       "             2.0        True\n",
       "             3.0        True\n",
       "             4.0        True\n",
       "             5.0        True\n",
       "full         6.0        True\n",
       "             7.0        True\n",
       "             8.0        True\n",
       "             9.0        True\n",
       "             10.0       True\n",
       "             11.0       True\n",
       "Name: match, dtype: bool"
      ]
     },
     "execution_count": 77,
     "metadata": {},
     "output_type": "execute_result"
    }
   ],
   "source": [
    "filler_df.groupby([\"condition_1\", \"item_id\"]).match.mean()"
   ]
  },
  {
   "cell_type": "code",
   "execution_count": 78,
   "id": "surprised-courage",
   "metadata": {},
   "outputs": [
    {
     "data": {
      "text/plain": [
       "<matplotlib.lines.Line2D at 0x7fa103615190>"
      ]
     },
     "execution_count": 78,
     "metadata": {},
     "output_type": "execute_result"
    },
    {
     "data": {
      "image/png": "[encoded data removed]",
      "text/plain": [
       "<Figure size 2880x1080 with 1 Axes>"
      ]
     },
     "metadata": {
      "needs_background": "light"
     },
     "output_type": "display_data"
    }
   ],
   "source": [
    "plt.subplots(figsize=(40,15))\n",
    "# sns.barplot(data=filler_df.reset_index(), x=\"condition_1\", hue=\"item_id\", y=\"slider_value\")\n",
    "sns.swarmplot(data=filler_df.reset_index(), hue=\"condition_1\", x=\"item_id\", y=\"slider_value\")\n",
    "plt.axhline(50)"
   ]
  },
  {
   "cell_type": "markdown",
   "id": "characteristic-customer",
   "metadata": {},
   "source": [
    "## Final data processing"
   ]
  },
  {
   "cell_type": "code",
   "execution_count": 79,
   "id": "extensive-trick",
   "metadata": {},
   "outputs": [],
   "source": [
    "exp_items = response_df[~(response_df.condition_0.isin((\"practice\", \"filler\")))]\n",
    "exp_image_items = image_response_df[~(image_response_df.condition_0.isin((\"practice\", \"filler\")))]"
   ]
  },
  {
   "cell_type": "markdown",
   "id": "imported-account",
   "metadata": {},
   "source": [
    "### Filter based on practice and attention checks"
   ]
  },
  {
   "cell_type": "code",
   "execution_count": 80,
   "id": "polar-anchor",
   "metadata": {},
   "outputs": [
    {
     "name": "stdout",
     "output_type": "stream",
     "text": [
      "0 subjects (0.0%) disqualified and dropped due to failed practice.\n",
      "\t\n",
      "0 subjects (0.0%, possibly overlapping with previous) disqualified and dropped due to failed attention checks.\n",
      "\t\n"
     ]
    }
   ],
   "source": [
    "practice_drops = set(practice_df.groupby(\"uniqueid\").filter(lambda r: r.match.mean() < 0.66).index.get_level_values(\"uniqueid\"))\n",
    "drop_pct = np.round(len(practice_drops) / N * 100, 1)\n",
    "print(f\"{len(practice_drops)} subjects ({drop_pct}%) disqualified and dropped due to failed practice.\")\n",
    "print(\"\\t\" + \"\\n\\t\".join(practice_drops))\n",
    "exp_items = exp_items.drop(practice_drops, level=\"uniqueid\")\n",
    "exp_image_items = exp_image_items.drop(practice_drops, level=\"uniqueid\")\n",
    "\n",
    "attention_drops = filler_stats[(filler_stats.t < 0) | (filler_stats.pval > 1e-1) | filler_stats.t.isna()]\n",
    "drop_pct = np.round(len(attention_drops) / N * 100, 1)\n",
    "print(f\"{len(attention_drops)} subjects ({drop_pct}%, possibly overlapping with previous) disqualified and dropped due to failed attention checks.\")\n",
    "print(\"\\t\" + \"\\n\\t\".join(attention_drops.index))\n",
    "exp_items = exp_items.drop(attention_drops.index, level=\"uniqueid\")\n",
    "exp_image_items = exp_image_items.drop(attention_drops.index, level=\"uniqueid\")"
   ]
  },
  {
   "cell_type": "code",
   "execution_count": 81,
   "id": "common-outside",
   "metadata": {},
   "outputs": [
    {
     "name": "stdout",
     "output_type": "stream",
     "text": [
      "1 subjects remaining.\n"
     ]
    }
   ],
   "source": [
    "print(f\"{len(set(exp_items.index.get_level_values('uniqueid')))} subjects remaining.\")"
   ]
  },
  {
   "cell_type": "markdown",
   "id": "diagnostic-world",
   "metadata": {},
   "source": [
    "### Merge in materials"
   ]
  },
  {
   "cell_type": "code",
   "execution_count": 82,
   "id": "opposed-shark",
   "metadata": {},
   "outputs": [],
   "source": [
    "import json\n",
    "def load_materials(mat):\n",
    "    with open(f\"../../materials/{mat}.json\") as f:\n",
    "        materials = json.load(f)\n",
    "    return pd.DataFrame.from_records(materials[\"items\"]).rename(columns={\"id\": \"item_id\"}).set_index(\"item_id\")\n",
    "\n",
    "materials_ids = sorted(set(exp_items.materials_id))\n",
    "materials_df = pd.concat([load_materials(mat) for mat in materials_ids], names=[\"materials_id\"], keys=materials_ids, axis=0)\n",
    "\n",
    "materials_df[\"item_key\"] = materials_df.V.str.cat(materials_df[\"T\"], sep=\" \")\n",
    "\n",
    "# NB this doesn't handle fillers correctly"
   ]
  },
  {
   "cell_type": "code",
   "execution_count": 83,
   "id": "little-toddler",
   "metadata": {},
   "outputs": [],
   "source": [
    "keep_cols = [\"item_key\", \"T\", \"T heavy\", \"L\", \"L heavy\", \"V\", \"V pres\", \"scale type\", \"T plural?\", \"T mass?\", \"L plural?\"]\n",
    "merged_df = pd.merge(exp_items, materials_df[keep_cols], left_on=[\"materials_id\", \"item_id\"], right_index=True)\n",
    "merged_image_df = pd.merge(exp_image_items, materials_df[keep_cols], left_on=[\"materials_id\", \"item_id\"], right_index=True)"
   ]
  },
  {
   "cell_type": "markdown",
   "id": "standing-lounge",
   "metadata": {},
   "source": [
    "#### Add frequency data"
   ]
  },
  {
   "cell_type": "code",
   "execution_count": 84,
   "id": "republican-hebrew",
   "metadata": {},
   "outputs": [],
   "source": [
    "freqs = {}\n",
    "with open(\"../../data/wikitext-2_train_vocab.txt\") as f:\n",
    "    for line in f:\n",
    "        if line.strip():\n",
    "            token, freq = line.strip().split(\"\\t\")\n",
    "            freqs[token.strip()] = int(freq)"
   ]
  },
  {
   "cell_type": "code",
   "execution_count": 85,
   "id": "distributed-claim",
   "metadata": {},
   "outputs": [],
   "source": [
    "merged_df[\"V freq\"] = merged_df[\"V pres\"].map(freqs)"
   ]
  },
  {
   "cell_type": "markdown",
   "id": "incredible-witch",
   "metadata": {},
   "source": [
    "### Filter out items which were dropped in later materials iterations"
   ]
  },
  {
   "cell_type": "code",
   "execution_count": 86,
   "id": "advance-accounting",
   "metadata": {},
   "outputs": [
    {
     "name": "stdout",
     "output_type": "stream",
     "text": [
      "Dropping 0 item results because they weren't included in the latest materials, spray-load-003-images.\n"
     ]
    }
   ],
   "source": [
    "# Partition results into those evaluated on latest materials vs. earlier\n",
    "latest_materials = materials_ids[-1]\n",
    "latest_merged_df = merged_df[merged_df.materials_id == latest_materials]\n",
    "earlier_merged_df = merged_df[merged_df.materials_id != latest_materials]\n",
    "\n",
    "# Get item IDs which appear only in earlier\n",
    "early_only = set(earlier_merged_df.item_id) - set(latest_merged_df.item_id)\n",
    "\n",
    "print(f\"Dropping {len(early_only)} item results because they weren't included in the latest materials, {materials_ids[-1]}.\")\n",
    "merged_df = merged_df[~merged_df.item_id.isin(early_only)]"
   ]
  },
  {
   "cell_type": "markdown",
   "id": "defined-calculation",
   "metadata": {},
   "source": [
    "### Export"
   ]
  },
  {
   "cell_type": "code",
   "execution_count": 87,
   "id": "split-basic",
   "metadata": {},
   "outputs": [],
   "source": [
    "merged_df.to_csv(\"merged_df.csv\")"
   ]
  },
  {
   "cell_type": "markdown",
   "id": "former-terrace",
   "metadata": {},
   "source": [
    "## Basic visualization: construction meaning"
   ]
  },
  {
   "cell_type": "code",
   "execution_count": 88,
   "id": "unavailable-certificate",
   "metadata": {},
   "outputs": [],
   "source": [
    "# Compute by-item slider difference of means between conditions\n",
    "def compute_item_difference(item_rows):\n",
    "    item_rows = item_rows.set_index(\"theme_is_object\")\n",
    "    \n",
    "    if True not in item_rows.index or False not in item_rows.index:\n",
    "        return np.nan\n",
    "    \n",
    "    theme_rows, location_rows = item_rows.loc[True], item_rows.loc[False]\n",
    "    return location_rows.slider_value_normed.mean() - theme_rows.slider_value_normed.mean()\n",
    "\n",
    "item_differences = merged_df.groupby([\"item_id\", \"item_key\", \"T mass?\", \"scale type\"]) \\\n",
    "    .apply(compute_item_difference) \\\n",
    "    .rename(\"LocationObject - ThemeObject\")"
   ]
  },
  {
   "cell_type": "code",
   "execution_count": 89,
   "id": "attended-greece",
   "metadata": {},
   "outputs": [
    {
     "data": {
      "text/plain": [
       "<seaborn.axisgrid.FacetGrid at 0x7fa1035dcfd0>"
      ]
     },
     "execution_count": 89,
     "metadata": {},
     "output_type": "execute_result"
    },
    {
     "data": {
      "image/png": "[encoded data removed]",
      "text/plain": [
       "<Figure size 360x360 with 1 Axes>"
      ]
     },
     "metadata": {
      "needs_background": "light"
     },
     "output_type": "display_data"
    }
   ],
   "source": [
    "sns.displot(item_differences, bins=12)"
   ]
  },
  {
   "cell_type": "code",
   "execution_count": 90,
   "id": "defensive-energy",
   "metadata": {},
   "outputs": [
    {
     "data": {
      "text/plain": [
       "item_id  item_key                  T mass?  scale type\n",
       "1.0      cram clothes              True     fill         NaN\n",
       "4.0      dab ointment              True     cover        NaN\n",
       "9.0      heap appetizers           False    cover        NaN\n",
       "10.0     inject jelly              True     fill         NaN\n",
       "12.0     load hay                  True     fill         NaN\n",
       "14.0     pack soil                 True     fill         NaN\n",
       "16.0     plant lavender seedlings  False    cover        NaN\n",
       "19.0     rub marinade              True     cover        NaN\n",
       "25.0     slather mayonnaise        True     cover        NaN\n",
       "26.0     smear grease              True     cover        NaN\n",
       "32.0     spray paint               True     cover        NaN\n",
       "34.0     sprinkle nuts             False    cover        NaN\n",
       "35.0     squirt water              True     cover        NaN\n",
       "36.0     stack books               False    fill         NaN\n",
       "41.0     stuff money               True     fill         NaN\n",
       "Name: LocationObject - ThemeObject, dtype: float64"
      ]
     },
     "execution_count": 90,
     "metadata": {},
     "output_type": "execute_result"
    }
   ],
   "source": [
    "item_differences.sort_values(ascending=False)"
   ]
  },
  {
   "cell_type": "code",
   "execution_count": 91,
   "id": "offensive-static",
   "metadata": {},
   "outputs": [
    {
     "data": {
      "text/plain": [
       "(array([ 0,  1,  2,  3,  4,  5,  6,  7,  8,  9, 10, 11, 12, 13, 14]),\n",
       " [Text(0, 0, 'cram clothes'),\n",
       "  Text(1, 0, 'dab ointment'),\n",
       "  Text(2, 0, 'heap appetizers'),\n",
       "  Text(3, 0, 'inject jelly'),\n",
       "  Text(4, 0, 'load hay'),\n",
       "  Text(5, 0, 'pack soil'),\n",
       "  Text(6, 0, 'plant lavender seedlings'),\n",
       "  Text(7, 0, 'rub marinade'),\n",
       "  Text(8, 0, 'slather mayonnaise'),\n",
       "  Text(9, 0, 'smear grease'),\n",
       "  Text(10, 0, 'spray paint'),\n",
       "  Text(11, 0, 'sprinkle nuts'),\n",
       "  Text(12, 0, 'squirt water'),\n",
       "  Text(13, 0, 'stack books'),\n",
       "  Text(14, 0, 'stuff money')])"
      ]
     },
     "execution_count": 91,
     "metadata": {},
     "output_type": "execute_result"
    },
    {
     "data": {
      "image/png": "[encoded data removed]",
      "text/plain": [
       "<Figure size 1080x720 with 1 Axes>"
      ]
     },
     "metadata": {
      "needs_background": "light"
     },
     "output_type": "display_data"
    }
   ],
   "source": [
    "plt.subplots(figsize=(15, 10))\n",
    "sns.barplot(data=merged_df.reset_index(), x=\"item_key\", hue=\"theme_is_object\", y=\"slider_value_normed\",\n",
    "            order=item_differences.sort_values().index.get_level_values(\"item_key\"))\n",
    "plt.xticks(rotation=35, ha=\"right\")"
   ]
  },
  {
   "cell_type": "code",
   "execution_count": 92,
   "id": "returning-appreciation",
   "metadata": {},
   "outputs": [
    {
     "data": {
      "text/plain": [
       "<AxesSubplot:xlabel='T mass?', ylabel='LocationObject - ThemeObject'>"
      ]
     },
     "execution_count": 92,
     "metadata": {},
     "output_type": "execute_result"
    },
    {
     "data": {
      "image/png": "[encoded data removed]",
      "text/plain": [
       "<Figure size 432x288 with 1 Axes>"
      ]
     },
     "metadata": {
      "needs_background": "light"
     },
     "output_type": "display_data"
    }
   ],
   "source": [
    "sns.barplot(data=item_differences.reset_index(), x=\"T mass?\", y=\"LocationObject - ThemeObject\")"
   ]
  },
  {
   "cell_type": "markdown",
   "id": "private-offset",
   "metadata": {},
   "source": [
    "### By scale type"
   ]
  },
  {
   "cell_type": "code",
   "execution_count": 93,
   "id": "steady-french",
   "metadata": {},
   "outputs": [
    {
     "data": {
      "text/plain": [
       "<matplotlib.lines.Line2D at 0x7fa103e1f700>"
      ]
     },
     "execution_count": 93,
     "metadata": {},
     "output_type": "execute_result"
    },
    {
     "data": {
      "image/png": "[encoded data removed]",
      "text/plain": [
       "<Figure size 432x288 with 1 Axes>"
      ]
     },
     "metadata": {
      "needs_background": "light"
     },
     "output_type": "display_data"
    }
   ],
   "source": [
    "ax = sns.swarmplot(data=item_differences.reset_index(), x=\"scale type\", y=\"LocationObject - ThemeObject\")\n",
    "ax.axhline(0)"
   ]
  },
  {
   "cell_type": "markdown",
   "id": "through-france",
   "metadata": {},
   "source": [
    "### Bootstrap check"
   ]
  },
  {
   "cell_type": "code",
   "execution_count": 94,
   "id": "exotic-subcommittee",
   "metadata": {},
   "outputs": [],
   "source": [
    "def eval_bootstrap(rows):\n",
    "    pos = [value for cond, value in rows if cond]\n",
    "    neg = [value for cond, value in rows if not cond]\n",
    "    if not pos or not neg:\n",
    "        return None\n",
    "    return np.mean(neg) - np.mean(pos)\n",
    "\n",
    "def item_bootstrap(rows):\n",
    "    rows = rows[~rows.slider_copout]\n",
    "    bootstrap = sns.algorithms.bootstrap(rows[[\"agent_is_subject\", \"slider_value_normed\"]],\n",
    "                                         n_boot=10000, func=eval_bootstrap)\n",
    "    # Drop samples where there were no positive or negative classes\n",
    "    bootstrap = [x for x in bootstrap if x is not None]\n",
    "    \n",
    "    pcts = np.percentile(bootstrap, [0.025, 0.975])\n",
    "    return pd.Series({\"low\": pcts[0], \"high\": pcts[1]})\n",
    "\n",
    "# item_bootstrap_df = merged_df.groupby(\"item_id\").apply(item_bootstrap)\n",
    "# item_bootstrap_df"
   ]
  },
  {
   "cell_type": "code",
   "execution_count": 95,
   "id": "oriented-hindu",
   "metadata": {},
   "outputs": [],
   "source": [
    "# item_bootstrap_df = \\\n",
    "#     pd.merge(item_bootstrap_df, materials_df.loc[latest_materials][[\"A\", \"V\", \"AV\", \"L\"]],\n",
    "#              left_index=True, right_index=True).sort_values(\"low\", ascending=False)"
   ]
  },
  {
   "cell_type": "code",
   "execution_count": 96,
   "id": "faced-circulation",
   "metadata": {},
   "outputs": [],
   "source": [
    "# item_bootstrap_df.sort_values(\"low\", ascending=False)"
   ]
  },
  {
   "cell_type": "code",
   "execution_count": 97,
   "id": "aboriginal-somalia",
   "metadata": {},
   "outputs": [],
   "source": [
    "# plt.subplots(figsize=(15, 15))\n",
    "# sns.barplot(\n",
    "#     data=item_bootstrap_df.reset_index().melt(id_vars=[\"item_id\", \"AV\", \"L\"], value_vars=[\"low\", \"high\"]),\n",
    "#     x=\"AV\", y=\"value\", hue=\"variable\")\n",
    "# plt.xticks(rotation=35, ha=\"right\")"
   ]
  },
  {
   "cell_type": "markdown",
   "id": "ordered-india",
   "metadata": {},
   "source": [
    "### Copouts"
   ]
  },
  {
   "cell_type": "code",
   "execution_count": 98,
   "id": "spoken-certification",
   "metadata": {},
   "outputs": [],
   "source": [
    "copouts = exp_items.groupby([\"materials_id\", \"item_id\"]).apply(lambda subj_rows: subj_rows.slider_copout.astype(bool).mean())"
   ]
  },
  {
   "cell_type": "code",
   "execution_count": 99,
   "id": "convinced-frequency",
   "metadata": {},
   "outputs": [
    {
     "data": {
      "text/html": [
       "<div>\n",
       "<style scoped>\n",
       "    .dataframe tbody tr th:only-of-type {\n",
       "        vertical-align: middle;\n",
       "    }\n",
       "\n",
       "    .dataframe tbody tr th {\n",
       "        vertical-align: top;\n",
       "    }\n",
       "\n",
       "    .dataframe thead th {\n",
       "        text-align: right;\n",
       "    }\n",
       "</style>\n",
       "<table border=\"1\" class=\"dataframe\">\n",
       "  <thead>\n",
       "    <tr style=\"text-align: right;\">\n",
       "      <th></th>\n",
       "      <th>slider_copout</th>\n",
       "      <th>sum</th>\n",
       "      <th>count</th>\n",
       "      <th>mean</th>\n",
       "    </tr>\n",
       "    <tr>\n",
       "      <th>item_id</th>\n",
       "      <th>theme_is_object</th>\n",
       "      <th></th>\n",
       "      <th></th>\n",
       "      <th></th>\n",
       "    </tr>\n",
       "  </thead>\n",
       "  <tbody>\n",
       "    <tr>\n",
       "      <th>1.0</th>\n",
       "      <th>True</th>\n",
       "      <td>0</td>\n",
       "      <td>1</td>\n",
       "      <td>0.0</td>\n",
       "    </tr>\n",
       "    <tr>\n",
       "      <th>4.0</th>\n",
       "      <th>True</th>\n",
       "      <td>0</td>\n",
       "      <td>1</td>\n",
       "      <td>0.0</td>\n",
       "    </tr>\n",
       "    <tr>\n",
       "      <th>9.0</th>\n",
       "      <th>False</th>\n",
       "      <td>0</td>\n",
       "      <td>1</td>\n",
       "      <td>0.0</td>\n",
       "    </tr>\n",
       "    <tr>\n",
       "      <th>10.0</th>\n",
       "      <th>True</th>\n",
       "      <td>0</td>\n",
       "      <td>1</td>\n",
       "      <td>0.0</td>\n",
       "    </tr>\n",
       "    <tr>\n",
       "      <th>12.0</th>\n",
       "      <th>False</th>\n",
       "      <td>0</td>\n",
       "      <td>1</td>\n",
       "      <td>0.0</td>\n",
       "    </tr>\n",
       "    <tr>\n",
       "      <th>14.0</th>\n",
       "      <th>False</th>\n",
       "      <td>0</td>\n",
       "      <td>1</td>\n",
       "      <td>0.0</td>\n",
       "    </tr>\n",
       "    <tr>\n",
       "      <th>16.0</th>\n",
       "      <th>False</th>\n",
       "      <td>0</td>\n",
       "      <td>1</td>\n",
       "      <td>0.0</td>\n",
       "    </tr>\n",
       "    <tr>\n",
       "      <th>19.0</th>\n",
       "      <th>True</th>\n",
       "      <td>0</td>\n",
       "      <td>1</td>\n",
       "      <td>0.0</td>\n",
       "    </tr>\n",
       "    <tr>\n",
       "      <th>25.0</th>\n",
       "      <th>True</th>\n",
       "      <td>0</td>\n",
       "      <td>1</td>\n",
       "      <td>0.0</td>\n",
       "    </tr>\n",
       "    <tr>\n",
       "      <th>26.0</th>\n",
       "      <th>False</th>\n",
       "      <td>0</td>\n",
       "      <td>1</td>\n",
       "      <td>0.0</td>\n",
       "    </tr>\n",
       "    <tr>\n",
       "      <th>32.0</th>\n",
       "      <th>True</th>\n",
       "      <td>0</td>\n",
       "      <td>1</td>\n",
       "      <td>0.0</td>\n",
       "    </tr>\n",
       "    <tr>\n",
       "      <th>34.0</th>\n",
       "      <th>True</th>\n",
       "      <td>0</td>\n",
       "      <td>1</td>\n",
       "      <td>0.0</td>\n",
       "    </tr>\n",
       "    <tr>\n",
       "      <th>35.0</th>\n",
       "      <th>False</th>\n",
       "      <td>0</td>\n",
       "      <td>1</td>\n",
       "      <td>0.0</td>\n",
       "    </tr>\n",
       "    <tr>\n",
       "      <th>36.0</th>\n",
       "      <th>False</th>\n",
       "      <td>0</td>\n",
       "      <td>1</td>\n",
       "      <td>0.0</td>\n",
       "    </tr>\n",
       "    <tr>\n",
       "      <th>41.0</th>\n",
       "      <th>True</th>\n",
       "      <td>0</td>\n",
       "      <td>1</td>\n",
       "      <td>0.0</td>\n",
       "    </tr>\n",
       "  </tbody>\n",
       "</table>\n",
       "</div>"
      ],
      "text/plain": [
       "slider_copout            sum  count  mean\n",
       "item_id theme_is_object                  \n",
       "1.0     True               0      1   0.0\n",
       "4.0     True               0      1   0.0\n",
       "9.0     False              0      1   0.0\n",
       "10.0    True               0      1   0.0\n",
       "12.0    False              0      1   0.0\n",
       "14.0    False              0      1   0.0\n",
       "16.0    False              0      1   0.0\n",
       "19.0    True               0      1   0.0\n",
       "25.0    True               0      1   0.0\n",
       "26.0    False              0      1   0.0\n",
       "32.0    True               0      1   0.0\n",
       "34.0    True               0      1   0.0\n",
       "35.0    False              0      1   0.0\n",
       "36.0    False              0      1   0.0\n",
       "41.0    True               0      1   0.0"
      ]
     },
     "execution_count": 99,
     "metadata": {},
     "output_type": "execute_result"
    }
   ],
   "source": [
    "copouts = merged_df.groupby([\"materials_id\", \"item_id\", \"theme_is_object\"] + keep_cols).apply(lambda rows: rows.slider_copout.astype(bool).agg([\"sum\", \"count\"]))\n",
    "copouts = copouts.sum(level=[\"item_id\", \"theme_is_object\"])\n",
    "copouts[\"mean\"] = copouts[\"sum\"].div(copouts[\"count\"])\n",
    "copouts.sort_values(\"mean\", ascending=False)"
   ]
  },
  {
   "cell_type": "code",
   "execution_count": 100,
   "id": "disabled-account",
   "metadata": {},
   "outputs": [
    {
     "data": {
      "text/plain": [
       "<AxesSubplot:xlabel='item_key', ylabel='slider_copout'>"
      ]
     },
     "execution_count": 100,
     "metadata": {},
     "output_type": "execute_result"
    },
    {
     "data": {
      "image/png": "[encoded data removed]",
      "text/plain": [
       "<Figure size 1080x576 with 1 Axes>"
      ]
     },
     "metadata": {
      "needs_background": "light"
     },
     "output_type": "display_data"
    }
   ],
   "source": [
    "plt.subplots(figsize=(15, 8))\n",
    "sns.barplot(data=merged_df, x=\"item_key\", y=\"slider_copout\", hue=\"theme_is_object\")"
   ]
  },
  {
   "cell_type": "code",
   "execution_count": 101,
   "id": "international-centre",
   "metadata": {},
   "outputs": [
    {
     "data": {
      "text/plain": [
       "<AxesSubplot:xlabel='T mass?', ylabel='slider_copout'>"
      ]
     },
     "execution_count": 101,
     "metadata": {},
     "output_type": "execute_result"
    },
    {
     "data": {
      "image/png": "[encoded data removed]",
      "text/plain": [
       "<Figure size 432x288 with 1 Axes>"
      ]
     },
     "metadata": {
      "needs_background": "light"
     },
     "output_type": "display_data"
    }
   ],
   "source": [
    "sns.barplot(data=merged_df, x=\"T mass?\", y=\"slider_copout\")"
   ]
  },
  {
   "cell_type": "markdown",
   "id": "auburn-pontiac",
   "metadata": {},
   "source": [
    "## Basic analysis: image trials"
   ]
  },
  {
   "cell_type": "code",
   "execution_count": 110,
   "id": "located-scottish",
   "metadata": {},
   "outputs": [
    {
     "data": {
      "text/html": [
       "<div>\n",
       "<style scoped>\n",
       "    .dataframe tbody tr th:only-of-type {\n",
       "        vertical-align: middle;\n",
       "    }\n",
       "\n",
       "    .dataframe tbody tr th {\n",
       "        vertical-align: top;\n",
       "    }\n",
       "\n",
       "    .dataframe thead th {\n",
       "        text-align: right;\n",
       "    }\n",
       "</style>\n",
       "<table border=\"1\" class=\"dataframe\">\n",
       "  <thead>\n",
       "    <tr style=\"text-align: right;\">\n",
       "      <th></th>\n",
       "      <th></th>\n",
       "      <th>theme_is_object</th>\n",
       "      <th>response</th>\n",
       "    </tr>\n",
       "    <tr>\n",
       "      <th>trial_index</th>\n",
       "      <th>uniqueid</th>\n",
       "      <th></th>\n",
       "      <th></th>\n",
       "    </tr>\n",
       "  </thead>\n",
       "  <tbody>\n",
       "    <tr>\n",
       "      <th>4</th>\n",
       "      <th>debugWG3ZVM:debugBDB6GC</th>\n",
       "      <td>False</td>\n",
       "      <td>max</td>\n",
       "    </tr>\n",
       "    <tr>\n",
       "      <th>7</th>\n",
       "      <th>debugWG3ZVM:debugBDB6GC</th>\n",
       "      <td>False</td>\n",
       "      <td>min</td>\n",
       "    </tr>\n",
       "    <tr>\n",
       "      <th>10</th>\n",
       "      <th>debugWG3ZVM:debugBDB6GC</th>\n",
       "      <td>True</td>\n",
       "      <td>min</td>\n",
       "    </tr>\n",
       "    <tr>\n",
       "      <th>15</th>\n",
       "      <th>debugWG3ZVM:debugBDB6GC</th>\n",
       "      <td>False</td>\n",
       "      <td>max</td>\n",
       "    </tr>\n",
       "    <tr>\n",
       "      <th>21</th>\n",
       "      <th>debugWG3ZVM:debugBDB6GC</th>\n",
       "      <td>False</td>\n",
       "      <td>max</td>\n",
       "    </tr>\n",
       "    <tr>\n",
       "      <th>25</th>\n",
       "      <th>debugWG3ZVM:debugBDB6GC</th>\n",
       "      <td>True</td>\n",
       "      <td>min</td>\n",
       "    </tr>\n",
       "    <tr>\n",
       "      <th>38</th>\n",
       "      <th>debugWG3ZVM:debugBDB6GC</th>\n",
       "      <td>True</td>\n",
       "      <td>min</td>\n",
       "    </tr>\n",
       "  </tbody>\n",
       "</table>\n",
       "</div>"
      ],
      "text/plain": [
       "                                     theme_is_object response\n",
       "trial_index uniqueid                                         \n",
       "4           debugWG3ZVM:debugBDB6GC            False      max\n",
       "7           debugWG3ZVM:debugBDB6GC            False      min\n",
       "10          debugWG3ZVM:debugBDB6GC             True      min\n",
       "15          debugWG3ZVM:debugBDB6GC            False      max\n",
       "21          debugWG3ZVM:debugBDB6GC            False      max\n",
       "25          debugWG3ZVM:debugBDB6GC             True      min\n",
       "38          debugWG3ZVM:debugBDB6GC             True      min"
      ]
     },
     "execution_count": 110,
     "metadata": {},
     "output_type": "execute_result"
    }
   ],
   "source": [
    "image_response_df[[\"theme_is_object\", \"response\"]]"
   ]
  },
  {
   "cell_type": "code",
   "execution_count": 112,
   "id": "awful-partner",
   "metadata": {},
   "outputs": [
    {
     "data": {
      "text/plain": [
       "<AxesSubplot:xlabel='theme_is_object', ylabel='chose_max'>"
      ]
     },
     "execution_count": 112,
     "metadata": {},
     "output_type": "execute_result"
    },
    {
     "data": {
      "image/png": "[encoded data removed]",
      "text/plain": [
       "<Figure size 432x288 with 1 Axes>"
      ]
     },
     "metadata": {
      "needs_background": "light"
     },
     "output_type": "display_data"
    }
   ],
   "source": [
    "image_response_df[\"chose_max\"] = image_response_df[\"response\"] == \"max\"\n",
    "sns.barplot(data=image_response_df.reset_index(), x=\"theme_is_object\", y=\"chose_max\")"
   ]
  },
  {
   "cell_type": "markdown",
   "id": "technical-techno",
   "metadata": {},
   "source": [
    "## Item exposure"
   ]
  },
  {
   "cell_type": "code",
   "execution_count": 103,
   "id": "failing-pencil",
   "metadata": {},
   "outputs": [
    {
     "data": {
      "text/plain": [
       "item_id  item_key                  theme_is_object\n",
       "1.0      cram clothes              True               1\n",
       "4.0      dab ointment              True               1\n",
       "9.0      heap appetizers           False              1\n",
       "10.0     inject jelly              True               1\n",
       "12.0     load hay                  False              1\n",
       "14.0     pack soil                 False              1\n",
       "16.0     plant lavender seedlings  False              1\n",
       "19.0     rub marinade              True               1\n",
       "25.0     slather mayonnaise        True               1\n",
       "26.0     smear grease              False              1\n",
       "32.0     spray paint               True               1\n",
       "34.0     sprinkle nuts             True               1\n",
       "35.0     squirt water              False              1\n",
       "36.0     stack books               False              1\n",
       "41.0     stuff money               True               1\n",
       "dtype: int64"
      ]
     },
     "execution_count": 103,
     "metadata": {},
     "output_type": "execute_result"
    }
   ],
   "source": [
    "merged_df.groupby([\"item_id\", \"item_key\", \"theme_is_object\"]).size().sort_values().head(20)"
   ]
  }
 ],
 "metadata": {
  "kernelspec": {
   "display_name": "Python 3",
   "language": "python",
   "name": "python3"
  },
  "language_info": {
   "codemirror_mode": {
    "name": "ipython",
    "version": 3
   },
   "file_extension": ".py",
   "mimetype": "text/x-python",
   "name": "python",
   "nbconvert_exporter": "python",
   "pygments_lexer": "ipython3",
   "version": "3.8.8"
  }
 },
 "nbformat": 4,
 "nbformat_minor": 5
}
