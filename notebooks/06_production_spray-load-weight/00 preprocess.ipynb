{
 "cells": [
  {
   "cell_type": "code",
   "execution_count": 1,
   "id": "defined-familiar",
   "metadata": {},
   "outputs": [],
   "source": [
    "import sys\n",
    "sys.path.append(\"../../src\")"
   ]
  },
  {
   "cell_type": "markdown",
   "id": "worse-security",
   "metadata": {},
   "source": [
    "# Production study: givenness manipulation\n",
    "\n",
    "We present minimal-pair sentence sequences where a first sentence establishes a clear discourse referent -- either the agent/theme or the location of an event.\n",
    "\n",
    "Open Qs:\n",
    "\n",
    "1. Does the discourse manipulation actually work?\n",
    "2. Assuming the discourse manipulation is effective, do subjects use the *swarm*-alternation to place the given item as a pronominal in subject position (vs. as a pronominal elsewhere)?"
   ]
  },
  {
   "cell_type": "code",
   "execution_count": 2,
   "id": "flush-occasions",
   "metadata": {},
   "outputs": [],
   "source": [
    "%load_ext autoreload\n",
    "%autoreload 2"
   ]
  },
  {
   "cell_type": "code",
   "execution_count": 3,
   "id": "durable-cookbook",
   "metadata": {},
   "outputs": [],
   "source": [
    "import numpy as np\n",
    "import pandas as pd\n",
    "import seaborn as sns\n",
    "from matplotlib import pyplot as plt"
   ]
  },
  {
   "cell_type": "markdown",
   "id": "nominated-advocacy",
   "metadata": {},
   "source": [
    "## Load and preprocess data"
   ]
  },
  {
   "cell_type": "code",
   "execution_count": 5,
   "id": "congressional-surgery",
   "metadata": {},
   "outputs": [],
   "source": [
    "import data"
   ]
  },
  {
   "cell_type": "code",
   "execution_count": 6,
   "id": "brave-occasions",
   "metadata": {},
   "outputs": [
    {
     "name": "stderr",
     "output_type": "stream",
     "text": [
      "Missing datastring for uid A1I3TPX8GA7ISU:3634BBTX0PI2DDMJKQL1T7BJTU3IF4. Status was 1.\n",
      "Missing datastring for uid A33LYSCQQU1YDJ:31JLPPHS2VIHTNHTYQX3Y0LM83NO3X. Status was 1.\n",
      "Missing datastring for uid debugL9306E:debugJT1KTE. Status was 1.\n",
      "Missing datastring for uid A1VWP7HOSGKATD:37WLF8U1WQEX0FJWJ038YMGXYHE6KK. Status was 1.\n",
      "Missing datastring for uid A6QDP0HAGE9W5:3V0Z7YWSIZONYPU7V25CAIA2YANV2I. Status was 1.\n",
      "Missing datastring for uid A19VDBNACNJNI8:3ZY8KE4ISKR4Q8WSXDVD6085GQIQVU. Status was 1.\n",
      "Missing datastring for uid AQ5TMPEPN5UIP:3QUO65DNQVC1SHUCDAT4L9BMNIZUO9. Status was 1.\n",
      "Missing datastring for uid A3I1W58P6SIV26:3LEP4MGT3HOVSLUHNAYT5P7ZWFIBD3. Status was 1.\n",
      "Missing datastring for uid A29P13MOYA3EXB:3UN61F00HXDN4FWD41207SOC265R5H. Status was 1.\n",
      "Missing datastring for uid debugLTJDLS:debugASO9PP. Status was 1.\n"
     ]
    }
   ],
   "source": [
    "# set db path hackily\n",
    "data._get_connection(\"../../data/participants.db\")\n",
    "\n",
    "raw_df = data.get_trials_df(data.load_raw_results(),\n",
    "                            (\"experiment_id\", \"materials_id\", \"item_id\", \"condition_id\",\n",
    "                             \"practice_sentence\"))\n",
    "\n",
    "EXPERIMENT_ID = \"06_production_spray-load-weight\"\n",
    "response_df = raw_df[(raw_df.experiment_id == EXPERIMENT_ID) & (raw_df.trial_type == \"survey-multi-choice-ext\")] \\\n",
    "    .reset_index().set_index([\"uniqueid\", \"trial_index\"])"
   ]
  },
  {
   "cell_type": "code",
   "execution_count": 7,
   "id": "announced-treaty",
   "metadata": {},
   "outputs": [
    {
     "data": {
      "text/html": [
       "<div>\n",
       "<style scoped>\n",
       "    .dataframe tbody tr th:only-of-type {\n",
       "        vertical-align: middle;\n",
       "    }\n",
       "\n",
       "    .dataframe tbody tr th {\n",
       "        vertical-align: top;\n",
       "    }\n",
       "\n",
       "    .dataframe thead th {\n",
       "        text-align: right;\n",
       "    }\n",
       "</style>\n",
       "<table border=\"1\" class=\"dataframe\">\n",
       "  <thead>\n",
       "    <tr style=\"text-align: right;\">\n",
       "      <th></th>\n",
       "      <th></th>\n",
       "      <th>condition</th>\n",
       "      <th>counterbalance</th>\n",
       "      <th>assignmentId</th>\n",
       "      <th>workerId</th>\n",
       "      <th>hitId</th>\n",
       "      <th>trial_type</th>\n",
       "      <th>rt</th>\n",
       "      <th>internal_node_id</th>\n",
       "      <th>dateTime</th>\n",
       "      <th>experiment_id</th>\n",
       "      <th>materials_id</th>\n",
       "      <th>item_id</th>\n",
       "      <th>condition_id</th>\n",
       "      <th>practice_sentence</th>\n",
       "      <th>survey_question_idx</th>\n",
       "      <th>survey_answer</th>\n",
       "      <th>slider_value</th>\n",
       "      <th>slider_copout</th>\n",
       "    </tr>\n",
       "    <tr>\n",
       "      <th>uniqueid</th>\n",
       "      <th>trial_index</th>\n",
       "      <th></th>\n",
       "      <th></th>\n",
       "      <th></th>\n",
       "      <th></th>\n",
       "      <th></th>\n",
       "      <th></th>\n",
       "      <th></th>\n",
       "      <th></th>\n",
       "      <th></th>\n",
       "      <th></th>\n",
       "      <th></th>\n",
       "      <th></th>\n",
       "      <th></th>\n",
       "      <th></th>\n",
       "      <th></th>\n",
       "      <th></th>\n",
       "      <th></th>\n",
       "      <th></th>\n",
       "    </tr>\n",
       "  </thead>\n",
       "  <tbody>\n",
       "    <tr>\n",
       "      <th rowspan=\"5\" valign=\"top\">debugLTJDLT:debugASO9PP</th>\n",
       "      <th>3</th>\n",
       "      <td>0</td>\n",
       "      <td>0</td>\n",
       "      <td>debugASO9PP</td>\n",
       "      <td>debugLTJDLT</td>\n",
       "      <td>debug0X5WKF</td>\n",
       "      <td>survey-multi-choice-ext</td>\n",
       "      <td>1279.1</td>\n",
       "      <td>0.0-3.0</td>\n",
       "      <td>1632859667736</td>\n",
       "      <td>06_production_spray-load-weight</td>\n",
       "      <td>None</td>\n",
       "      <td>NaN</td>\n",
       "      <td>None</td>\n",
       "      <td>True</td>\n",
       "      <td>0</td>\n",
       "      <td>good</td>\n",
       "      <td>NaN</td>\n",
       "      <td>NaN</td>\n",
       "    </tr>\n",
       "    <tr>\n",
       "      <th>5</th>\n",
       "      <td>0</td>\n",
       "      <td>0</td>\n",
       "      <td>debugASO9PP</td>\n",
       "      <td>debugLTJDLT</td>\n",
       "      <td>debug0X5WKF</td>\n",
       "      <td>survey-multi-choice-ext</td>\n",
       "      <td>3082.9</td>\n",
       "      <td>0.0-5.0</td>\n",
       "      <td>1632859671476</td>\n",
       "      <td>06_production_spray-load-weight</td>\n",
       "      <td>spray-load-002-indefinite</td>\n",
       "      <td>7.0</td>\n",
       "      <td>[None, 1, 0]</td>\n",
       "      <td>None</td>\n",
       "      <td>0</td>\n",
       "      <td>0</td>\n",
       "      <td>NaN</td>\n",
       "      <td>NaN</td>\n",
       "    </tr>\n",
       "    <tr>\n",
       "      <th>6</th>\n",
       "      <td>0</td>\n",
       "      <td>0</td>\n",
       "      <td>debugASO9PP</td>\n",
       "      <td>debugLTJDLT</td>\n",
       "      <td>debug0X5WKF</td>\n",
       "      <td>survey-multi-choice-ext</td>\n",
       "      <td>2313.0</td>\n",
       "      <td>0.0-6.0</td>\n",
       "      <td>1632859673792</td>\n",
       "      <td>06_production_spray-load-weight</td>\n",
       "      <td>spray-load-002-indefinite</td>\n",
       "      <td>43.0</td>\n",
       "      <td>[None, 0, 1]</td>\n",
       "      <td>None</td>\n",
       "      <td>0</td>\n",
       "      <td>0</td>\n",
       "      <td>NaN</td>\n",
       "      <td>NaN</td>\n",
       "    </tr>\n",
       "    <tr>\n",
       "      <th>7</th>\n",
       "      <td>0</td>\n",
       "      <td>0</td>\n",
       "      <td>debugASO9PP</td>\n",
       "      <td>debugLTJDLT</td>\n",
       "      <td>debug0X5WKF</td>\n",
       "      <td>survey-multi-choice-ext</td>\n",
       "      <td>2830.4</td>\n",
       "      <td>0.0-7.0</td>\n",
       "      <td>1632859676626</td>\n",
       "      <td>06_production_spray-load-weight</td>\n",
       "      <td>spray-load-002-indefinite</td>\n",
       "      <td>25.0</td>\n",
       "      <td>[None, 1, 0]</td>\n",
       "      <td>None</td>\n",
       "      <td>0</td>\n",
       "      <td>1</td>\n",
       "      <td>NaN</td>\n",
       "      <td>NaN</td>\n",
       "    </tr>\n",
       "    <tr>\n",
       "      <th>8</th>\n",
       "      <td>0</td>\n",
       "      <td>0</td>\n",
       "      <td>debugASO9PP</td>\n",
       "      <td>debugLTJDLT</td>\n",
       "      <td>debug0X5WKF</td>\n",
       "      <td>survey-multi-choice-ext</td>\n",
       "      <td>2468.7</td>\n",
       "      <td>0.0-8.0</td>\n",
       "      <td>1632859679098</td>\n",
       "      <td>06_production_spray-load-weight</td>\n",
       "      <td>spray-load-002-indefinite</td>\n",
       "      <td>16.0</td>\n",
       "      <td>[None, 0, 1]</td>\n",
       "      <td>None</td>\n",
       "      <td>0</td>\n",
       "      <td>0</td>\n",
       "      <td>NaN</td>\n",
       "      <td>NaN</td>\n",
       "    </tr>\n",
       "  </tbody>\n",
       "</table>\n",
       "</div>"
      ],
      "text/plain": [
       "                                     condition  counterbalance assignmentId  \\\n",
       "uniqueid                trial_index                                           \n",
       "debugLTJDLT:debugASO9PP 3                    0               0  debugASO9PP   \n",
       "                        5                    0               0  debugASO9PP   \n",
       "                        6                    0               0  debugASO9PP   \n",
       "                        7                    0               0  debugASO9PP   \n",
       "                        8                    0               0  debugASO9PP   \n",
       "\n",
       "                                        workerId        hitId  \\\n",
       "uniqueid                trial_index                             \n",
       "debugLTJDLT:debugASO9PP 3            debugLTJDLT  debug0X5WKF   \n",
       "                        5            debugLTJDLT  debug0X5WKF   \n",
       "                        6            debugLTJDLT  debug0X5WKF   \n",
       "                        7            debugLTJDLT  debug0X5WKF   \n",
       "                        8            debugLTJDLT  debug0X5WKF   \n",
       "\n",
       "                                                  trial_type      rt  \\\n",
       "uniqueid                trial_index                                    \n",
       "debugLTJDLT:debugASO9PP 3            survey-multi-choice-ext  1279.1   \n",
       "                        5            survey-multi-choice-ext  3082.9   \n",
       "                        6            survey-multi-choice-ext  2313.0   \n",
       "                        7            survey-multi-choice-ext  2830.4   \n",
       "                        8            survey-multi-choice-ext  2468.7   \n",
       "\n",
       "                                    internal_node_id       dateTime  \\\n",
       "uniqueid                trial_index                                   \n",
       "debugLTJDLT:debugASO9PP 3                    0.0-3.0  1632859667736   \n",
       "                        5                    0.0-5.0  1632859671476   \n",
       "                        6                    0.0-6.0  1632859673792   \n",
       "                        7                    0.0-7.0  1632859676626   \n",
       "                        8                    0.0-8.0  1632859679098   \n",
       "\n",
       "                                                       experiment_id  \\\n",
       "uniqueid                trial_index                                    \n",
       "debugLTJDLT:debugASO9PP 3            06_production_spray-load-weight   \n",
       "                        5            06_production_spray-load-weight   \n",
       "                        6            06_production_spray-load-weight   \n",
       "                        7            06_production_spray-load-weight   \n",
       "                        8            06_production_spray-load-weight   \n",
       "\n",
       "                                                  materials_id  item_id  \\\n",
       "uniqueid                trial_index                                       \n",
       "debugLTJDLT:debugASO9PP 3                                 None      NaN   \n",
       "                        5            spray-load-002-indefinite      7.0   \n",
       "                        6            spray-load-002-indefinite     43.0   \n",
       "                        7            spray-load-002-indefinite     25.0   \n",
       "                        8            spray-load-002-indefinite     16.0   \n",
       "\n",
       "                                     condition_id practice_sentence  \\\n",
       "uniqueid                trial_index                                   \n",
       "debugLTJDLT:debugASO9PP 3                    None              True   \n",
       "                        5            [None, 1, 0]              None   \n",
       "                        6            [None, 0, 1]              None   \n",
       "                        7            [None, 1, 0]              None   \n",
       "                        8            [None, 0, 1]              None   \n",
       "\n",
       "                                     survey_question_idx survey_answer  \\\n",
       "uniqueid                trial_index                                      \n",
       "debugLTJDLT:debugASO9PP 3                              0          good   \n",
       "                        5                              0             0   \n",
       "                        6                              0             0   \n",
       "                        7                              0             1   \n",
       "                        8                              0             0   \n",
       "\n",
       "                                     slider_value slider_copout  \n",
       "uniqueid                trial_index                              \n",
       "debugLTJDLT:debugASO9PP 3                     NaN           NaN  \n",
       "                        5                     NaN           NaN  \n",
       "                        6                     NaN           NaN  \n",
       "                        7                     NaN           NaN  \n",
       "                        8                     NaN           NaN  "
      ]
     },
     "execution_count": 7,
     "metadata": {},
     "output_type": "execute_result"
    }
   ],
   "source": [
    "response_df.head()"
   ]
  },
  {
   "cell_type": "code",
   "execution_count": 9,
   "id": "ignored-merit",
   "metadata": {},
   "outputs": [],
   "source": [
    "# Expand condition labels, which are tuples\n",
    "response_df = pd.concat([response_df, response_df.condition_id.apply(pd.Series).rename(columns=lambda x: f\"condition_{x}\")], axis=1) \\\n",
    "    .drop(columns=\"condition_id\")"
   ]
  },
  {
   "cell_type": "code",
   "execution_count": 10,
   "id": "alpine-attachment",
   "metadata": {},
   "outputs": [],
   "source": [
    "# Convert condition_id to independent features\n",
    "response_df[\"location_is_heavy\"] = response_df[\"condition_1\"] == 1\n",
    "response_df[\"theme_is_heavy\"] = response_df[\"condition_2\"] == 1"
   ]
  },
  {
   "cell_type": "code",
   "execution_count": 11,
   "id": "stainless-novel",
   "metadata": {},
   "outputs": [],
   "source": [
    "# dtype fixes\n",
    "response_df[\"dateTime\"] = pd.to_datetime(response_df.dateTime, unit=\"ms\")"
   ]
  },
  {
   "cell_type": "code",
   "execution_count": 12,
   "id": "previous-portsmouth",
   "metadata": {},
   "outputs": [
    {
     "data": {
      "text/html": [
       "<div>\n",
       "<style scoped>\n",
       "    .dataframe tbody tr th:only-of-type {\n",
       "        vertical-align: middle;\n",
       "    }\n",
       "\n",
       "    .dataframe tbody tr th {\n",
       "        vertical-align: top;\n",
       "    }\n",
       "\n",
       "    .dataframe thead th {\n",
       "        text-align: right;\n",
       "    }\n",
       "</style>\n",
       "<table border=\"1\" class=\"dataframe\">\n",
       "  <thead>\n",
       "    <tr style=\"text-align: right;\">\n",
       "      <th></th>\n",
       "      <th></th>\n",
       "      <th>condition</th>\n",
       "      <th>counterbalance</th>\n",
       "      <th>assignmentId</th>\n",
       "      <th>workerId</th>\n",
       "      <th>hitId</th>\n",
       "      <th>trial_type</th>\n",
       "      <th>rt</th>\n",
       "      <th>internal_node_id</th>\n",
       "      <th>dateTime</th>\n",
       "      <th>experiment_id</th>\n",
       "      <th>...</th>\n",
       "      <th>practice_sentence</th>\n",
       "      <th>survey_question_idx</th>\n",
       "      <th>survey_answer</th>\n",
       "      <th>slider_value</th>\n",
       "      <th>slider_copout</th>\n",
       "      <th>condition_0</th>\n",
       "      <th>condition_1</th>\n",
       "      <th>condition_2</th>\n",
       "      <th>location_is_heavy</th>\n",
       "      <th>theme_is_heavy</th>\n",
       "    </tr>\n",
       "    <tr>\n",
       "      <th>uniqueid</th>\n",
       "      <th>trial_index</th>\n",
       "      <th></th>\n",
       "      <th></th>\n",
       "      <th></th>\n",
       "      <th></th>\n",
       "      <th></th>\n",
       "      <th></th>\n",
       "      <th></th>\n",
       "      <th></th>\n",
       "      <th></th>\n",
       "      <th></th>\n",
       "      <th></th>\n",
       "      <th></th>\n",
       "      <th></th>\n",
       "      <th></th>\n",
       "      <th></th>\n",
       "      <th></th>\n",
       "      <th></th>\n",
       "      <th></th>\n",
       "      <th></th>\n",
       "      <th></th>\n",
       "      <th></th>\n",
       "    </tr>\n",
       "  </thead>\n",
       "  <tbody>\n",
       "    <tr>\n",
       "      <th rowspan=\"5\" valign=\"top\">debugLTJDLT:debugASO9PP</th>\n",
       "      <th>3</th>\n",
       "      <td>0</td>\n",
       "      <td>0</td>\n",
       "      <td>debugASO9PP</td>\n",
       "      <td>debugLTJDLT</td>\n",
       "      <td>debug0X5WKF</td>\n",
       "      <td>survey-multi-choice-ext</td>\n",
       "      <td>1279.1</td>\n",
       "      <td>0.0-3.0</td>\n",
       "      <td>2021-09-28 20:07:47.736</td>\n",
       "      <td>06_production_spray-load-weight</td>\n",
       "      <td>...</td>\n",
       "      <td>True</td>\n",
       "      <td>0</td>\n",
       "      <td>good</td>\n",
       "      <td>NaN</td>\n",
       "      <td>NaN</td>\n",
       "      <td>NaN</td>\n",
       "      <td>NaN</td>\n",
       "      <td>NaN</td>\n",
       "      <td>False</td>\n",
       "      <td>False</td>\n",
       "    </tr>\n",
       "    <tr>\n",
       "      <th>5</th>\n",
       "      <td>0</td>\n",
       "      <td>0</td>\n",
       "      <td>debugASO9PP</td>\n",
       "      <td>debugLTJDLT</td>\n",
       "      <td>debug0X5WKF</td>\n",
       "      <td>survey-multi-choice-ext</td>\n",
       "      <td>3082.9</td>\n",
       "      <td>0.0-5.0</td>\n",
       "      <td>2021-09-28 20:07:51.476</td>\n",
       "      <td>06_production_spray-load-weight</td>\n",
       "      <td>...</td>\n",
       "      <td>None</td>\n",
       "      <td>0</td>\n",
       "      <td>0</td>\n",
       "      <td>NaN</td>\n",
       "      <td>NaN</td>\n",
       "      <td>NaN</td>\n",
       "      <td>1.0</td>\n",
       "      <td>0.0</td>\n",
       "      <td>True</td>\n",
       "      <td>False</td>\n",
       "    </tr>\n",
       "    <tr>\n",
       "      <th>6</th>\n",
       "      <td>0</td>\n",
       "      <td>0</td>\n",
       "      <td>debugASO9PP</td>\n",
       "      <td>debugLTJDLT</td>\n",
       "      <td>debug0X5WKF</td>\n",
       "      <td>survey-multi-choice-ext</td>\n",
       "      <td>2313.0</td>\n",
       "      <td>0.0-6.0</td>\n",
       "      <td>2021-09-28 20:07:53.792</td>\n",
       "      <td>06_production_spray-load-weight</td>\n",
       "      <td>...</td>\n",
       "      <td>None</td>\n",
       "      <td>0</td>\n",
       "      <td>0</td>\n",
       "      <td>NaN</td>\n",
       "      <td>NaN</td>\n",
       "      <td>NaN</td>\n",
       "      <td>0.0</td>\n",
       "      <td>1.0</td>\n",
       "      <td>False</td>\n",
       "      <td>True</td>\n",
       "    </tr>\n",
       "    <tr>\n",
       "      <th>7</th>\n",
       "      <td>0</td>\n",
       "      <td>0</td>\n",
       "      <td>debugASO9PP</td>\n",
       "      <td>debugLTJDLT</td>\n",
       "      <td>debug0X5WKF</td>\n",
       "      <td>survey-multi-choice-ext</td>\n",
       "      <td>2830.4</td>\n",
       "      <td>0.0-7.0</td>\n",
       "      <td>2021-09-28 20:07:56.626</td>\n",
       "      <td>06_production_spray-load-weight</td>\n",
       "      <td>...</td>\n",
       "      <td>None</td>\n",
       "      <td>0</td>\n",
       "      <td>1</td>\n",
       "      <td>NaN</td>\n",
       "      <td>NaN</td>\n",
       "      <td>NaN</td>\n",
       "      <td>1.0</td>\n",
       "      <td>0.0</td>\n",
       "      <td>True</td>\n",
       "      <td>False</td>\n",
       "    </tr>\n",
       "    <tr>\n",
       "      <th>8</th>\n",
       "      <td>0</td>\n",
       "      <td>0</td>\n",
       "      <td>debugASO9PP</td>\n",
       "      <td>debugLTJDLT</td>\n",
       "      <td>debug0X5WKF</td>\n",
       "      <td>survey-multi-choice-ext</td>\n",
       "      <td>2468.7</td>\n",
       "      <td>0.0-8.0</td>\n",
       "      <td>2021-09-28 20:07:59.098</td>\n",
       "      <td>06_production_spray-load-weight</td>\n",
       "      <td>...</td>\n",
       "      <td>None</td>\n",
       "      <td>0</td>\n",
       "      <td>0</td>\n",
       "      <td>NaN</td>\n",
       "      <td>NaN</td>\n",
       "      <td>NaN</td>\n",
       "      <td>0.0</td>\n",
       "      <td>1.0</td>\n",
       "      <td>False</td>\n",
       "      <td>True</td>\n",
       "    </tr>\n",
       "  </tbody>\n",
       "</table>\n",
       "<p>5 rows × 22 columns</p>\n",
       "</div>"
      ],
      "text/plain": [
       "                                     condition  counterbalance assignmentId  \\\n",
       "uniqueid                trial_index                                           \n",
       "debugLTJDLT:debugASO9PP 3                    0               0  debugASO9PP   \n",
       "                        5                    0               0  debugASO9PP   \n",
       "                        6                    0               0  debugASO9PP   \n",
       "                        7                    0               0  debugASO9PP   \n",
       "                        8                    0               0  debugASO9PP   \n",
       "\n",
       "                                        workerId        hitId  \\\n",
       "uniqueid                trial_index                             \n",
       "debugLTJDLT:debugASO9PP 3            debugLTJDLT  debug0X5WKF   \n",
       "                        5            debugLTJDLT  debug0X5WKF   \n",
       "                        6            debugLTJDLT  debug0X5WKF   \n",
       "                        7            debugLTJDLT  debug0X5WKF   \n",
       "                        8            debugLTJDLT  debug0X5WKF   \n",
       "\n",
       "                                                  trial_type      rt  \\\n",
       "uniqueid                trial_index                                    \n",
       "debugLTJDLT:debugASO9PP 3            survey-multi-choice-ext  1279.1   \n",
       "                        5            survey-multi-choice-ext  3082.9   \n",
       "                        6            survey-multi-choice-ext  2313.0   \n",
       "                        7            survey-multi-choice-ext  2830.4   \n",
       "                        8            survey-multi-choice-ext  2468.7   \n",
       "\n",
       "                                    internal_node_id                dateTime  \\\n",
       "uniqueid                trial_index                                            \n",
       "debugLTJDLT:debugASO9PP 3                    0.0-3.0 2021-09-28 20:07:47.736   \n",
       "                        5                    0.0-5.0 2021-09-28 20:07:51.476   \n",
       "                        6                    0.0-6.0 2021-09-28 20:07:53.792   \n",
       "                        7                    0.0-7.0 2021-09-28 20:07:56.626   \n",
       "                        8                    0.0-8.0 2021-09-28 20:07:59.098   \n",
       "\n",
       "                                                       experiment_id  ...  \\\n",
       "uniqueid                trial_index                                   ...   \n",
       "debugLTJDLT:debugASO9PP 3            06_production_spray-load-weight  ...   \n",
       "                        5            06_production_spray-load-weight  ...   \n",
       "                        6            06_production_spray-load-weight  ...   \n",
       "                        7            06_production_spray-load-weight  ...   \n",
       "                        8            06_production_spray-load-weight  ...   \n",
       "\n",
       "                                    practice_sentence  survey_question_idx  \\\n",
       "uniqueid                trial_index                                          \n",
       "debugLTJDLT:debugASO9PP 3                        True                    0   \n",
       "                        5                        None                    0   \n",
       "                        6                        None                    0   \n",
       "                        7                        None                    0   \n",
       "                        8                        None                    0   \n",
       "\n",
       "                                    survey_answer  slider_value slider_copout  \\\n",
       "uniqueid                trial_index                                             \n",
       "debugLTJDLT:debugASO9PP 3                    good           NaN           NaN   \n",
       "                        5                       0           NaN           NaN   \n",
       "                        6                       0           NaN           NaN   \n",
       "                        7                       1           NaN           NaN   \n",
       "                        8                       0           NaN           NaN   \n",
       "\n",
       "                                     condition_0 condition_1 condition_2  \\\n",
       "uniqueid                trial_index                                        \n",
       "debugLTJDLT:debugASO9PP 3                    NaN         NaN         NaN   \n",
       "                        5                    NaN         1.0         0.0   \n",
       "                        6                    NaN         0.0         1.0   \n",
       "                        7                    NaN         1.0         0.0   \n",
       "                        8                    NaN         0.0         1.0   \n",
       "\n",
       "                                    location_is_heavy theme_is_heavy  \n",
       "uniqueid                trial_index                                   \n",
       "debugLTJDLT:debugASO9PP 3                       False          False  \n",
       "                        5                        True          False  \n",
       "                        6                       False           True  \n",
       "                        7                        True          False  \n",
       "                        8                       False           True  \n",
       "\n",
       "[5 rows x 22 columns]"
      ]
     },
     "execution_count": 12,
     "metadata": {},
     "output_type": "execute_result"
    }
   ],
   "source": [
    "response_df.head()"
   ]
  },
  {
   "cell_type": "code",
   "execution_count": 13,
   "id": "cognitive-python",
   "metadata": {},
   "outputs": [],
   "source": [
    "response_df.to_csv(\"raw_responses.csv\")"
   ]
  },
  {
   "cell_type": "markdown",
   "id": "delayed-georgia",
   "metadata": {},
   "source": [
    "## Preliminaries"
   ]
  },
  {
   "cell_type": "code",
   "execution_count": 14,
   "id": "smart-vertex",
   "metadata": {},
   "outputs": [
    {
     "data": {
      "text/plain": [
       "1"
      ]
     },
     "execution_count": 14,
     "metadata": {},
     "output_type": "execute_result"
    }
   ],
   "source": [
    "subjects = set(response_df.index.get_level_values(\"uniqueid\"))\n",
    "len(subjects)"
   ]
  },
  {
   "cell_type": "markdown",
   "id": "mobile-trance",
   "metadata": {},
   "source": [
    "### Demo"
   ]
  },
  {
   "cell_type": "code",
   "execution_count": 15,
   "id": "utility-burst",
   "metadata": {},
   "outputs": [],
   "source": [
    "qualitative_df = raw_df[(raw_df.experiment_id == EXPERIMENT_ID) & raw_df.trial_type.isin((\"survey-text\", \"survey-multi-choice\"))]"
   ]
  },
  {
   "cell_type": "code",
   "execution_count": 16,
   "id": "precise-there",
   "metadata": {},
   "outputs": [
    {
     "data": {
      "text/plain": [
       "<AxesSubplot:xlabel='survey_answer', ylabel='Count'>"
      ]
     },
     "execution_count": 16,
     "metadata": {},
     "output_type": "execute_result"
    },
    {
     "data": {
      "image/png": "[encoded data removed]",
      "text/plain": [
       "<Figure size 432x288 with 1 Axes>"
      ]
     },
     "metadata": {
      "needs_background": "light"
     },
     "output_type": "display_data"
    }
   ],
   "source": [
    "ages = qualitative_df[(qualitative_df.trial_type == \"survey-text\") & (qualitative_df.internal_node_id == \"0.0-0.0\")].survey_answer.astype(int)\n",
    "sns.histplot(ages)"
   ]
  },
  {
   "cell_type": "code",
   "execution_count": 17,
   "id": "improved-white",
   "metadata": {},
   "outputs": [
    {
     "data": {
      "text/plain": [
       "Master's degree    1\n",
       "Name: survey_answer, dtype: int64"
      ]
     },
     "execution_count": 17,
     "metadata": {},
     "output_type": "execute_result"
    }
   ],
   "source": [
    "education = qualitative_df[(qualitative_df.trial_type == \"survey-multi-choice\") & (qualitative_df.survey_question_idx == 0)].survey_answer\n",
    "education.value_counts()"
   ]
  },
  {
   "cell_type": "code",
   "execution_count": 18,
   "id": "quick-deposit",
   "metadata": {},
   "outputs": [
    {
     "data": {
      "text/plain": [
       "Yes    1\n",
       "Name: survey_answer, dtype: int64"
      ]
     },
     "execution_count": 18,
     "metadata": {},
     "output_type": "execute_result"
    }
   ],
   "source": [
    "native = qualitative_df[(qualitative_df.trial_type == \"survey-multi-choice\") & (qualitative_df.survey_question_idx == 1)].survey_answer\n",
    "native.value_counts()"
   ]
  },
  {
   "cell_type": "markdown",
   "id": "unnecessary-record",
   "metadata": {},
   "source": [
    "### Comments"
   ]
  },
  {
   "cell_type": "code",
   "execution_count": 19,
   "id": "specified-williams",
   "metadata": {},
   "outputs": [
    {
     "data": {
      "text/plain": [
       "trial_index  uniqueid               \n",
       "37           debugLTJDLT:debugASO9PP    thx\n",
       "Name: survey_answer, dtype: object"
      ]
     },
     "execution_count": 19,
     "metadata": {},
     "output_type": "execute_result"
    }
   ],
   "source": [
    "qualitative_df[(qualitative_df.trial_type == \"survey-text\") & (qualitative_df.internal_node_id != \"0.0-0.0\")].survey_answer"
   ]
  },
  {
   "cell_type": "markdown",
   "id": "honey-nebraska",
   "metadata": {},
   "source": [
    "### Total times"
   ]
  },
  {
   "cell_type": "code",
   "execution_count": 20,
   "id": "neither-collector",
   "metadata": {},
   "outputs": [
    {
     "data": {
      "text/plain": [
       "Text(0.5, 1.0, 'Total study time (minutes)')"
      ]
     },
     "execution_count": 20,
     "metadata": {},
     "output_type": "execute_result"
    },
    {
     "data": {
      "image/png": "[encoded data removed]",
      "text/plain": [
       "<Figure size 432x288 with 1 Axes>"
      ]
     },
     "metadata": {
      "needs_background": "light"
     },
     "output_type": "display_data"
    }
   ],
   "source": [
    "sns.histplot(pd.concat([response_df, qualitative_df]).groupby(\"uniqueid\").apply(lambda rows: rows.rt.sum() / 1000 / 60))\n",
    "plt.title(\"Total study time (minutes)\")"
   ]
  },
  {
   "cell_type": "code",
   "execution_count": 21,
   "id": "higher-wildlife",
   "metadata": {},
   "outputs": [
    {
     "data": {
      "text/plain": [
       "mean    0.416482\n",
       "std     0.758061\n",
       "Name: rt, dtype: float64"
      ]
     },
     "execution_count": 21,
     "metadata": {},
     "output_type": "execute_result"
    }
   ],
   "source": [
    "pd.concat([response_df, qualitative_df]).groupby(\"uniqueid\").rt.sum().apply(lambda xs: xs / 1000 / 60).agg([\"mean\", \"std\"])"
   ]
  },
  {
   "cell_type": "markdown",
   "id": "controlling-complement",
   "metadata": {},
   "source": [
    "### Response times"
   ]
  },
  {
   "cell_type": "code",
   "execution_count": 22,
   "id": "sapphire-wisdom",
   "metadata": {},
   "outputs": [],
   "source": [
    "# sns.displot(data=response_df, x=\"rt\", hue=\"uniqueid\", kind=\"hist\")"
   ]
  },
  {
   "cell_type": "code",
   "execution_count": 23,
   "id": "comfortable-cathedral",
   "metadata": {},
   "outputs": [
    {
     "data": {
      "text/plain": [
       "<seaborn.axisgrid.FacetGrid at 0x7fb418a4e6d0>"
      ]
     },
     "execution_count": 23,
     "metadata": {},
     "output_type": "execute_result"
    },
    {
     "data": {
      "image/png": "[encoded data removed]",
      "text/plain": [
       "<Figure size 531.25x360 with 1 Axes>"
      ]
     },
     "metadata": {
      "needs_background": "light"
     },
     "output_type": "display_data"
    }
   ],
   "source": [
    "response_df[\"rt.log\"] = np.log(response_df.rt)\n",
    "sns.displot(data=response_df, x=\"rt.log\", hue=\"uniqueid\", kind=\"kde\")"
   ]
  },
  {
   "cell_type": "markdown",
   "id": "identical-active",
   "metadata": {},
   "source": [
    "## Attention checks"
   ]
  },
  {
   "cell_type": "markdown",
   "id": "controlling-donna",
   "metadata": {},
   "source": [
    "### Practice round"
   ]
  },
  {
   "cell_type": "code",
   "execution_count": 24,
   "id": "robust-nitrogen",
   "metadata": {},
   "outputs": [
    {
     "data": {
      "text/plain": [
       "Series([], Name: survey_answer, dtype: bool)"
      ]
     },
     "execution_count": 24,
     "metadata": {},
     "output_type": "execute_result"
    }
   ],
   "source": [
    "practice_attention_failures = response_df[response_df.practice_sentence == True].survey_answer == \"bad\"\n",
    "practice_attention_failures = practice_attention_failures.loc[practice_attention_failures]\n",
    "practice_attention_failures"
   ]
  },
  {
   "cell_type": "markdown",
   "id": "patient-mexico",
   "metadata": {},
   "source": [
    "### Fillers"
   ]
  },
  {
   "cell_type": "code",
   "execution_count": 26,
   "id": "future-poetry",
   "metadata": {},
   "outputs": [
    {
     "data": {
      "text/plain": [
       "<AxesSubplot:xlabel='survey_answer'>"
      ]
     },
     "execution_count": 26,
     "metadata": {},
     "output_type": "execute_result"
    },
    {
     "data": {
      "image/png": "[encoded data removed]",
      "text/plain": [
       "<Figure size 432x288 with 1 Axes>"
      ]
     },
     "metadata": {
      "needs_background": "light"
     },
     "output_type": "display_data"
    }
   ],
   "source": [
    "# some fillers aren't good, upon reflection. drop them from evaluation\n",
    "drop_fillers = []\n",
    "\n",
    "filler_stats = response_df[response_df.condition_0 == \"filler\"].reset_index() \\\n",
    "    .groupby([\"uniqueid\", \"item_id\", \"condition_1\"]).apply(lambda xs: (xs[~xs.item_id.isin(drop_fillers)].survey_answer == \"good\").astype(float))\n",
    "sns.boxplot(data=filler_stats.reset_index(), x=\"survey_answer\", hue=\"uniqueid\")"
   ]
  },
  {
   "cell_type": "code",
   "execution_count": 27,
   "id": "combined-think",
   "metadata": {},
   "outputs": [
    {
     "data": {
      "text/plain": [
       "uniqueid\n",
       "debugLTJDLT:debugASO9PP    0.916667\n",
       "Name: survey_answer, dtype: float64"
      ]
     },
     "execution_count": 27,
     "metadata": {},
     "output_type": "execute_result"
    }
   ],
   "source": [
    "filler_stats_summary = filler_stats.groupby(\"uniqueid\").mean()\n",
    "filler_stats_summary.sort_values()"
   ]
  },
  {
   "cell_type": "code",
   "execution_count": 28,
   "id": "victorian-prerequisite",
   "metadata": {},
   "outputs": [
    {
     "data": {
      "text/plain": [
       "<AxesSubplot:xlabel='item_id', ylabel='survey_answer'>"
      ]
     },
     "execution_count": 28,
     "metadata": {},
     "output_type": "execute_result"
    },
    {
     "data": {
      "image/png": "[encoded data removed]",
      "text/plain": [
       "<Figure size 432x288 with 1 Axes>"
      ]
     },
     "metadata": {
      "needs_background": "light"
     },
     "output_type": "display_data"
    }
   ],
   "source": [
    "sns.barplot(data=filler_stats.reset_index(), x=\"item_id\", y=\"survey_answer\")"
   ]
  },
  {
   "cell_type": "code",
   "execution_count": 29,
   "id": "binding-behavior",
   "metadata": {},
   "outputs": [
    {
     "data": {
      "text/plain": [
       "item_id  condition_1\n",
       "2.0      order          1\n",
       "Name: survey_answer, dtype: int64"
      ]
     },
     "execution_count": 29,
     "metadata": {},
     "output_type": "execute_result"
    }
   ],
   "source": [
    "# What are fillers that are commonly missed, for high-scoring people?\n",
    "tmp = filler_stats.loc[filler_stats_summary[filler_stats_summary > 0.7].index]\n",
    "tmp[tmp == 0].groupby([\"item_id\", \"condition_1\"]).size().sort_values(ascending=False)"
   ]
  },
  {
   "cell_type": "markdown",
   "id": "lesbian-force",
   "metadata": {},
   "source": [
    "## Final data processing"
   ]
  },
  {
   "cell_type": "code",
   "execution_count": 30,
   "id": "primary-speaker",
   "metadata": {},
   "outputs": [],
   "source": [
    "exp_items = response_df[(response_df.condition_0 != \"filler\") & response_df.practice_sentence.isna()]"
   ]
  },
  {
   "cell_type": "markdown",
   "id": "intended-democracy",
   "metadata": {},
   "source": [
    "### Filter based on practice and attention checks"
   ]
  },
  {
   "cell_type": "code",
   "execution_count": 31,
   "id": "legal-boston",
   "metadata": {},
   "outputs": [
    {
     "name": "stdout",
     "output_type": "stream",
     "text": [
      "0 subjects (0.0%, possibly overlapping with previous) disqualified and dropped due to failed attention checks.\n",
      "\t\n",
      "0 subjects (0.0%, possibly overlapping with previous) disqualified and dropped due to failed attention checks.\n",
      "\t\n"
     ]
    }
   ],
   "source": [
    "drop_pct = np.round(len(practice_attention_failures) / len(filler_stats_summary.index) * 100, 1)\n",
    "print(f\"{len(practice_attention_failures)} subjects ({drop_pct}%, possibly overlapping with previous) disqualified and dropped due to failed attention checks.\")\n",
    "print(\"\\t\" + \"\\n\\t\".join(practice_attention_failures.index.get_level_values(\"uniqueid\")))\n",
    "exp_items = exp_items.drop(practice_attention_failures.index.get_level_values(\"uniqueid\"), level=\"uniqueid\")\n",
    "\n",
    "attention_drops = filler_stats_summary[(filler_stats_summary < 0.7)]\n",
    "drop_pct = np.round(len(attention_drops) / len(filler_stats_summary.index) * 100, 1)\n",
    "print(f\"{len(attention_drops)} subjects ({drop_pct}%, possibly overlapping with previous) disqualified and dropped due to failed attention checks.\")\n",
    "print(\"\\t\" + \"\\n\\t\".join(attention_drops.index))\n",
    "exp_items = exp_items.drop(attention_drops.index, level=\"uniqueid\")"
   ]
  },
  {
   "cell_type": "code",
   "execution_count": 32,
   "id": "premier-remedy",
   "metadata": {},
   "outputs": [
    {
     "name": "stdout",
     "output_type": "stream",
     "text": [
      "1 subjects remaining.\n"
     ]
    }
   ],
   "source": [
    "print(f\"{len(set(exp_items.index.get_level_values('uniqueid')))} subjects remaining.\")"
   ]
  },
  {
   "cell_type": "markdown",
   "id": "concrete-physics",
   "metadata": {},
   "source": [
    "### Compute match"
   ]
  },
  {
   "cell_type": "code",
   "execution_count": 37,
   "id": "professional-glossary",
   "metadata": {},
   "outputs": [],
   "source": [
    "exp_items[\"theme_is_object\"] = exp_items.survey_answer == 1"
   ]
  },
  {
   "cell_type": "code",
   "execution_count": 38,
   "id": "contemporary-receptor",
   "metadata": {},
   "outputs": [],
   "source": [
    "exp_items[\"match\"] = ~(exp_items.theme_is_heavy & exp_items.theme_is_object)"
   ]
  },
  {
   "cell_type": "markdown",
   "id": "macro-sudan",
   "metadata": {},
   "source": [
    "### Merge in materials"
   ]
  },
  {
   "cell_type": "code",
   "execution_count": 40,
   "id": "agricultural-boost",
   "metadata": {},
   "outputs": [],
   "source": [
    "import json\n",
    "def load_materials(mat):\n",
    "    with open(f\"../../materials/{mat}.json\") as f:\n",
    "        materials = json.load(f)\n",
    "    return pd.DataFrame.from_records(materials[\"items\"]).rename(columns={\"id\": \"item_id\"}).set_index(\"item_id\")\n",
    "\n",
    "materials_ids = sorted(set(exp_items.materials_id))\n",
    "materials_df = pd.concat([load_materials(mat) for mat in materials_ids], names=[\"materials_id\"], keys=materials_ids, axis=0)\n",
    "\n",
    "materials_df[\"item_key\"] = materials_df.V.str.cat(materials_df[\"T\"], sep=\" \")\n",
    "\n",
    "# NB this doesn't handle fillers correctly"
   ]
  },
  {
   "cell_type": "code",
   "execution_count": 41,
   "id": "biological-russian",
   "metadata": {},
   "outputs": [],
   "source": [
    "keep_cols = [\"item_key\", \"T\", \"T heavy\", \"L\", \"L heavy\", \"V\", \"scale type\", \"T plural?\", \"T mass?\", \"L plural?\"]\n",
    "merged_df = pd.merge(exp_items, materials_df[keep_cols], left_on=[\"materials_id\", \"item_id\"], right_index=True)"
   ]
  },
  {
   "cell_type": "markdown",
   "id": "romance-hypothetical",
   "metadata": {},
   "source": [
    "### Export"
   ]
  },
  {
   "cell_type": "code",
   "execution_count": 42,
   "id": "qualified-ladder",
   "metadata": {},
   "outputs": [],
   "source": [
    "merged_df.to_csv(\"merged_df.csv\")"
   ]
  },
  {
   "cell_type": "markdown",
   "id": "normal-listing",
   "metadata": {},
   "source": [
    "## Analysis"
   ]
  },
  {
   "cell_type": "code",
   "execution_count": 44,
   "id": "imperial-telescope",
   "metadata": {},
   "outputs": [
    {
     "data": {
      "text/plain": [
       "<AxesSubplot:ylabel='match'>"
      ]
     },
     "execution_count": 44,
     "metadata": {},
     "output_type": "execute_result"
    },
    {
     "data": {
      "image/png": "[encoded data removed]",
      "text/plain": [
       "<Figure size 432x288 with 1 Axes>"
      ]
     },
     "metadata": {
      "needs_background": "light"
     },
     "output_type": "display_data"
    }
   ],
   "source": [
    "sns.barplot(data=exp_items.reset_index(), y=\"match\")"
   ]
  },
  {
   "cell_type": "markdown",
   "id": "sound-repair",
   "metadata": {},
   "source": [
    "### Item exposure"
   ]
  },
  {
   "cell_type": "code",
   "execution_count": 45,
   "id": "brazilian-fellow",
   "metadata": {},
   "outputs": [
    {
     "data": {
      "text/plain": [
       "item_id  item_key                  theme_is_heavy\n",
       "0.0      brush powder              True              1\n",
       "38.0     stock spices              False             1\n",
       "36.0     stack books               False             1\n",
       "35.0     squirt water              True              1\n",
       "34.0     sprinkle nuts             False             1\n",
       "32.0     spray paint               False             1\n",
       "26.0     smear grease              True              1\n",
       "25.0     slather mayonnaise        False             1\n",
       "19.0     rub marinade              True              1\n",
       "16.0     plant lavender seedlings  True              1\n",
       "14.0     pack soil                 False             1\n",
       "12.0     load hay                  True              1\n",
       "10.0     inject jelly              True              1\n",
       "9.0      heap appetizers           True              1\n",
       "7.0      dust sugar                False             1\n",
       "6.0      drizzle frosting          True              1\n",
       "4.0      dab ointment              False             1\n",
       "1.0      cram clothes              False             1\n",
       "41.0     stuff money               False             1\n",
       "43.0     wrap tape                 True              1\n",
       "dtype: int64"
      ]
     },
     "execution_count": 45,
     "metadata": {},
     "output_type": "execute_result"
    }
   ],
   "source": [
    "merged_df[merged_df.condition_0 != \"filler\"] \\\n",
    "    .groupby([\"item_id\", \"item_key\", \"theme_is_heavy\"]).size().sort_values()"
   ]
  },
  {
   "cell_type": "markdown",
   "id": "discrete-energy",
   "metadata": {},
   "source": [
    "### Influence of weight"
   ]
  },
  {
   "cell_type": "markdown",
   "id": "popular-rebate",
   "metadata": {},
   "source": [
    "### Other control variables"
   ]
  },
  {
   "cell_type": "code",
   "execution_count": 46,
   "id": "asian-bowling",
   "metadata": {},
   "outputs": [
    {
     "data": {
      "text/plain": [
       "<AxesSubplot:xlabel='T plural?', ylabel='match'>"
      ]
     },
     "execution_count": 46,
     "metadata": {},
     "output_type": "execute_result"
    },
    {
     "data": {
      "image/png": "[encoded data removed]",
      "text/plain": [
       "<Figure size 432x288 with 1 Axes>"
      ]
     },
     "metadata": {
      "needs_background": "light"
     },
     "output_type": "display_data"
    }
   ],
   "source": [
    "sns.barplot(data=merged_df.reset_index(), x=\"T plural?\", y=\"match\")"
   ]
  },
  {
   "cell_type": "code",
   "execution_count": 48,
   "id": "cheap-romania",
   "metadata": {},
   "outputs": [
    {
     "data": {
      "text/plain": [
       "<AxesSubplot:xlabel='T mass?', ylabel='match'>"
      ]
     },
     "execution_count": 48,
     "metadata": {},
     "output_type": "execute_result"
    },
    {
     "data": {
      "image/png": "[encoded data removed]",
      "text/plain": [
       "<Figure size 432x288 with 1 Axes>"
      ]
     },
     "metadata": {
      "needs_background": "light"
     },
     "output_type": "display_data"
    }
   ],
   "source": [
    "sns.barplot(data=merged_df.reset_index(), x=\"T mass?\", y=\"match\")"
   ]
  },
  {
   "cell_type": "code",
   "execution_count": 47,
   "id": "incident-azerbaijan",
   "metadata": {},
   "outputs": [
    {
     "data": {
      "text/plain": [
       "<AxesSubplot:xlabel='L plural?', ylabel='match'>"
      ]
     },
     "execution_count": 47,
     "metadata": {},
     "output_type": "execute_result"
    },
    {
     "data": {
      "image/png": "[encoded data removed]",
      "text/plain": [
       "<Figure size 432x288 with 1 Axes>"
      ]
     },
     "metadata": {
      "needs_background": "light"
     },
     "output_type": "display_data"
    }
   ],
   "source": [
    "sns.barplot(data=merged_df.reset_index(), x=\"L plural?\", y=\"match\")"
   ]
  },
  {
   "cell_type": "markdown",
   "id": "rising-helen",
   "metadata": {},
   "source": [
    "### By item"
   ]
  },
  {
   "cell_type": "code",
   "execution_count": 49,
   "id": "innocent-married",
   "metadata": {},
   "outputs": [
    {
     "data": {
      "text/plain": [
       "<AxesSubplot:xlabel='Theme object(Light - Heavy)', ylabel='Count'>"
      ]
     },
     "execution_count": 49,
     "metadata": {},
     "output_type": "execute_result"
    },
    {
     "data": {
      "image/png": "[encoded data removed]",
      "text/plain": [
       "<Figure size 432x288 with 1 Axes>"
      ]
     },
     "metadata": {
      "needs_background": "light"
     },
     "output_type": "display_data"
    }
   ],
   "source": [
    "def compute_item_differences(rows):\n",
    "    rows = rows.set_index(\"theme_is_heavy\")\n",
    "    if True not in rows.index or False not in rows.index:\n",
    "        return np.nan\n",
    "    return rows.loc[False, \"theme_is_object\"].mean() - rows.loc[True, \"theme_is_object\"].mean()\n",
    "item_differences = merged_df.groupby([\"item_id\", \"item_key\"]).apply(compute_item_differences).rename(\"Theme object(Light - Heavy)\")\n",
    "sns.histplot(item_differences)"
   ]
  }
 ],
 "metadata": {
  "kernelspec": {
   "display_name": "Python 3",
   "language": "python",
   "name": "python3"
  },
  "language_info": {
   "codemirror_mode": {
    "name": "ipython",
    "version": 3
   },
   "file_extension": ".py",
   "mimetype": "text/x-python",
   "name": "python",
   "nbconvert_exporter": "python",
   "pygments_lexer": "ipython3",
   "version": "3.8.8"
  }
 },
 "nbformat": 4,
 "nbformat_minor": 5
}
