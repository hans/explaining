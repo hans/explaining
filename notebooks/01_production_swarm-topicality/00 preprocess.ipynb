{
 "cells": [
  {
   "cell_type": "code",
   "execution_count": 1,
   "id": "solved-luther",
   "metadata": {},
   "outputs": [],
   "source": [
    "import sys\n",
    "sys.path.append(\"../../src\")"
   ]
  },
  {
   "cell_type": "code",
   "execution_count": 2,
   "id": "curious-madagascar",
   "metadata": {},
   "outputs": [],
   "source": [
    "%load_ext autoreload\n",
    "%autoreload 2"
   ]
  },
  {
   "cell_type": "code",
   "execution_count": 3,
   "id": "alpine-banks",
   "metadata": {},
   "outputs": [],
   "source": [
    "import numpy as np\n",
    "import pandas as pd\n",
    "import seaborn as sns\n",
    "from matplotlib import pyplot as plt"
   ]
  },
  {
   "cell_type": "markdown",
   "id": "dedicated-northern",
   "metadata": {},
   "source": [
    "## Load and preprocess data"
   ]
  },
  {
   "cell_type": "code",
   "execution_count": 4,
   "id": "proof-crash",
   "metadata": {},
   "outputs": [],
   "source": [
    "import data"
   ]
  },
  {
   "cell_type": "code",
   "execution_count": 19,
   "id": "backed-waste",
   "metadata": {},
   "outputs": [
    {
     "name": "stderr",
     "output_type": "stream",
     "text": [
      "Missing datastring for uid A1I3TPX8GA7ISU:3634BBTX0PI2DDMJKQL1T7BJTU3IF4. Status was 1.\n",
      "Missing datastring for uid A33LYSCQQU1YDJ:31JLPPHS2VIHTNHTYQX3Y0LM83NO3X. Status was 1.\n"
     ]
    }
   ],
   "source": [
    "# set db path hackily\n",
    "data._get_connection(\"../../data/participants.db\")\n",
    "\n",
    "raw_df = data.get_trials_df(data.load_raw_results(),\n",
    "                            (\"experiment_id\", \"materials_id\", \"item_id\", \"condition_id\",\n",
    "                             \"practice_sentence\"))\n",
    "\n",
    "EXPERIMENT_ID = \"01_production_swarm-topicality\"\n",
    "response_df = raw_df[(raw_df.experiment_id == EXPERIMENT_ID) & (raw_df.trial_type == \"survey-multi-choice-ext\")] \\\n",
    "    .reset_index().set_index([\"uniqueid\", \"trial_index\"])"
   ]
  },
  {
   "cell_type": "code",
   "execution_count": 20,
   "id": "compressed-quebec",
   "metadata": {},
   "outputs": [
    {
     "data": {
      "text/html": [
       "<div>\n",
       "<style scoped>\n",
       "    .dataframe tbody tr th:only-of-type {\n",
       "        vertical-align: middle;\n",
       "    }\n",
       "\n",
       "    .dataframe tbody tr th {\n",
       "        vertical-align: top;\n",
       "    }\n",
       "\n",
       "    .dataframe thead th {\n",
       "        text-align: right;\n",
       "    }\n",
       "</style>\n",
       "<table border=\"1\" class=\"dataframe\">\n",
       "  <thead>\n",
       "    <tr style=\"text-align: right;\">\n",
       "      <th></th>\n",
       "      <th></th>\n",
       "      <th>condition</th>\n",
       "      <th>counterbalance</th>\n",
       "      <th>assignmentId</th>\n",
       "      <th>workerId</th>\n",
       "      <th>hitId</th>\n",
       "      <th>trial_type</th>\n",
       "      <th>rt</th>\n",
       "      <th>internal_node_id</th>\n",
       "      <th>dateTime</th>\n",
       "      <th>experiment_id</th>\n",
       "      <th>materials_id</th>\n",
       "      <th>item_id</th>\n",
       "      <th>condition_id</th>\n",
       "      <th>practice_sentence</th>\n",
       "      <th>survey_question_idx</th>\n",
       "      <th>survey_answer</th>\n",
       "      <th>slider_value</th>\n",
       "      <th>slider_copout</th>\n",
       "    </tr>\n",
       "    <tr>\n",
       "      <th>uniqueid</th>\n",
       "      <th>trial_index</th>\n",
       "      <th></th>\n",
       "      <th></th>\n",
       "      <th></th>\n",
       "      <th></th>\n",
       "      <th></th>\n",
       "      <th></th>\n",
       "      <th></th>\n",
       "      <th></th>\n",
       "      <th></th>\n",
       "      <th></th>\n",
       "      <th></th>\n",
       "      <th></th>\n",
       "      <th></th>\n",
       "      <th></th>\n",
       "      <th></th>\n",
       "      <th></th>\n",
       "      <th></th>\n",
       "      <th></th>\n",
       "    </tr>\n",
       "  </thead>\n",
       "  <tbody>\n",
       "    <tr>\n",
       "      <th rowspan=\"5\" valign=\"top\">debug3RZ0EW:debugSKRMKQ</th>\n",
       "      <th>3</th>\n",
       "      <td>0</td>\n",
       "      <td>0</td>\n",
       "      <td>debugSKRMKQ</td>\n",
       "      <td>debug3RZ0EW</td>\n",
       "      <td>debug1GI6AE</td>\n",
       "      <td>survey-multi-choice-ext</td>\n",
       "      <td>1442.8</td>\n",
       "      <td>0.0-3.0</td>\n",
       "      <td>1628610200173</td>\n",
       "      <td>01_production_swarm-topicality</td>\n",
       "      <td>None</td>\n",
       "      <td>NaN</td>\n",
       "      <td>None</td>\n",
       "      <td>True</td>\n",
       "      <td>0</td>\n",
       "      <td>good</td>\n",
       "      <td>NaN</td>\n",
       "      <td>NaN</td>\n",
       "    </tr>\n",
       "    <tr>\n",
       "      <th>5</th>\n",
       "      <td>0</td>\n",
       "      <td>0</td>\n",
       "      <td>debugSKRMKQ</td>\n",
       "      <td>debug3RZ0EW</td>\n",
       "      <td>debug1GI6AE</td>\n",
       "      <td>survey-multi-choice-ext</td>\n",
       "      <td>2702.3</td>\n",
       "      <td>0.0-5.0</td>\n",
       "      <td>1628610203481</td>\n",
       "      <td>01_production_swarm-topicality</td>\n",
       "      <td>swarm-003-drops</td>\n",
       "      <td>56.0</td>\n",
       "      <td>[1, 1]</td>\n",
       "      <td>None</td>\n",
       "      <td>0</td>\n",
       "      <td>agent</td>\n",
       "      <td>NaN</td>\n",
       "      <td>NaN</td>\n",
       "    </tr>\n",
       "    <tr>\n",
       "      <th>6</th>\n",
       "      <td>0</td>\n",
       "      <td>0</td>\n",
       "      <td>debugSKRMKQ</td>\n",
       "      <td>debug3RZ0EW</td>\n",
       "      <td>debug1GI6AE</td>\n",
       "      <td>survey-multi-choice-ext</td>\n",
       "      <td>3762.9</td>\n",
       "      <td>0.0-6.0</td>\n",
       "      <td>1628610207247</td>\n",
       "      <td>01_production_swarm-topicality</td>\n",
       "      <td>swarm-003-drops</td>\n",
       "      <td>31.0</td>\n",
       "      <td>[0, 1]</td>\n",
       "      <td>None</td>\n",
       "      <td>0</td>\n",
       "      <td>location</td>\n",
       "      <td>NaN</td>\n",
       "      <td>NaN</td>\n",
       "    </tr>\n",
       "    <tr>\n",
       "      <th>7</th>\n",
       "      <td>0</td>\n",
       "      <td>0</td>\n",
       "      <td>debugSKRMKQ</td>\n",
       "      <td>debug3RZ0EW</td>\n",
       "      <td>debug1GI6AE</td>\n",
       "      <td>survey-multi-choice-ext</td>\n",
       "      <td>2017.5</td>\n",
       "      <td>0.0-7.0</td>\n",
       "      <td>1628610209267</td>\n",
       "      <td>01_production_swarm-topicality</td>\n",
       "      <td>swarm-003-drops</td>\n",
       "      <td>7.0</td>\n",
       "      <td>[0, 1]</td>\n",
       "      <td>None</td>\n",
       "      <td>0</td>\n",
       "      <td>location</td>\n",
       "      <td>NaN</td>\n",
       "      <td>NaN</td>\n",
       "    </tr>\n",
       "    <tr>\n",
       "      <th>8</th>\n",
       "      <td>0</td>\n",
       "      <td>0</td>\n",
       "      <td>debugSKRMKQ</td>\n",
       "      <td>debug3RZ0EW</td>\n",
       "      <td>debug1GI6AE</td>\n",
       "      <td>survey-multi-choice-ext</td>\n",
       "      <td>3500.4</td>\n",
       "      <td>0.0-8.0</td>\n",
       "      <td>1628610212771</td>\n",
       "      <td>01_production_swarm-topicality</td>\n",
       "      <td>swarm-003-drops</td>\n",
       "      <td>11.0</td>\n",
       "      <td>[filler, order]</td>\n",
       "      <td>None</td>\n",
       "      <td>0</td>\n",
       "      <td>good</td>\n",
       "      <td>NaN</td>\n",
       "      <td>NaN</td>\n",
       "    </tr>\n",
       "  </tbody>\n",
       "</table>\n",
       "</div>"
      ],
      "text/plain": [
       "                                     condition  counterbalance assignmentId  \\\n",
       "uniqueid                trial_index                                           \n",
       "debug3RZ0EW:debugSKRMKQ 3                    0               0  debugSKRMKQ   \n",
       "                        5                    0               0  debugSKRMKQ   \n",
       "                        6                    0               0  debugSKRMKQ   \n",
       "                        7                    0               0  debugSKRMKQ   \n",
       "                        8                    0               0  debugSKRMKQ   \n",
       "\n",
       "                                        workerId        hitId  \\\n",
       "uniqueid                trial_index                             \n",
       "debug3RZ0EW:debugSKRMKQ 3            debug3RZ0EW  debug1GI6AE   \n",
       "                        5            debug3RZ0EW  debug1GI6AE   \n",
       "                        6            debug3RZ0EW  debug1GI6AE   \n",
       "                        7            debug3RZ0EW  debug1GI6AE   \n",
       "                        8            debug3RZ0EW  debug1GI6AE   \n",
       "\n",
       "                                                  trial_type      rt  \\\n",
       "uniqueid                trial_index                                    \n",
       "debug3RZ0EW:debugSKRMKQ 3            survey-multi-choice-ext  1442.8   \n",
       "                        5            survey-multi-choice-ext  2702.3   \n",
       "                        6            survey-multi-choice-ext  3762.9   \n",
       "                        7            survey-multi-choice-ext  2017.5   \n",
       "                        8            survey-multi-choice-ext  3500.4   \n",
       "\n",
       "                                    internal_node_id       dateTime  \\\n",
       "uniqueid                trial_index                                   \n",
       "debug3RZ0EW:debugSKRMKQ 3                    0.0-3.0  1628610200173   \n",
       "                        5                    0.0-5.0  1628610203481   \n",
       "                        6                    0.0-6.0  1628610207247   \n",
       "                        7                    0.0-7.0  1628610209267   \n",
       "                        8                    0.0-8.0  1628610212771   \n",
       "\n",
       "                                                      experiment_id  \\\n",
       "uniqueid                trial_index                                   \n",
       "debug3RZ0EW:debugSKRMKQ 3            01_production_swarm-topicality   \n",
       "                        5            01_production_swarm-topicality   \n",
       "                        6            01_production_swarm-topicality   \n",
       "                        7            01_production_swarm-topicality   \n",
       "                        8            01_production_swarm-topicality   \n",
       "\n",
       "                                        materials_id  item_id  \\\n",
       "uniqueid                trial_index                             \n",
       "debug3RZ0EW:debugSKRMKQ 3                       None      NaN   \n",
       "                        5            swarm-003-drops     56.0   \n",
       "                        6            swarm-003-drops     31.0   \n",
       "                        7            swarm-003-drops      7.0   \n",
       "                        8            swarm-003-drops     11.0   \n",
       "\n",
       "                                        condition_id practice_sentence  \\\n",
       "uniqueid                trial_index                                      \n",
       "debug3RZ0EW:debugSKRMKQ 3                       None              True   \n",
       "                        5                     [1, 1]              None   \n",
       "                        6                     [0, 1]              None   \n",
       "                        7                     [0, 1]              None   \n",
       "                        8            [filler, order]              None   \n",
       "\n",
       "                                     survey_question_idx survey_answer  \\\n",
       "uniqueid                trial_index                                      \n",
       "debug3RZ0EW:debugSKRMKQ 3                              0          good   \n",
       "                        5                              0         agent   \n",
       "                        6                              0      location   \n",
       "                        7                              0      location   \n",
       "                        8                              0          good   \n",
       "\n",
       "                                     slider_value slider_copout  \n",
       "uniqueid                trial_index                              \n",
       "debug3RZ0EW:debugSKRMKQ 3                     NaN           NaN  \n",
       "                        5                     NaN           NaN  \n",
       "                        6                     NaN           NaN  \n",
       "                        7                     NaN           NaN  \n",
       "                        8                     NaN           NaN  "
      ]
     },
     "execution_count": 20,
     "metadata": {},
     "output_type": "execute_result"
    }
   ],
   "source": [
    "response_df.head()"
   ]
  },
  {
   "cell_type": "code",
   "execution_count": 21,
   "id": "invisible-anatomy",
   "metadata": {},
   "outputs": [],
   "source": [
    "# Expand condition labels, which are tuples\n",
    "response_df = pd.concat([response_df, response_df.condition_id.apply(pd.Series).rename(columns=lambda x: f\"condition_{x}\")], axis=1) \\\n",
    "    .drop(columns=\"condition_id\")"
   ]
  },
  {
   "cell_type": "code",
   "execution_count": 22,
   "id": "sharp-cutting",
   "metadata": {},
   "outputs": [],
   "source": [
    "# Convert condition_id to independent features\n",
    "response_df[\"agent_is_topic\"] = response_df[\"condition_0\"] == 1"
   ]
  },
  {
   "cell_type": "code",
   "execution_count": 24,
   "id": "democratic-closure",
   "metadata": {},
   "outputs": [],
   "source": [
    "# dtype fixes\n",
    "response_df[\"dateTime\"] = pd.to_datetime(response_df.dateTime, unit=\"ms\")"
   ]
  },
  {
   "cell_type": "code",
   "execution_count": 25,
   "id": "affected-explorer",
   "metadata": {},
   "outputs": [
    {
     "data": {
      "text/html": [
       "<div>\n",
       "<style scoped>\n",
       "    .dataframe tbody tr th:only-of-type {\n",
       "        vertical-align: middle;\n",
       "    }\n",
       "\n",
       "    .dataframe tbody tr th {\n",
       "        vertical-align: top;\n",
       "    }\n",
       "\n",
       "    .dataframe thead th {\n",
       "        text-align: right;\n",
       "    }\n",
       "</style>\n",
       "<table border=\"1\" class=\"dataframe\">\n",
       "  <thead>\n",
       "    <tr style=\"text-align: right;\">\n",
       "      <th></th>\n",
       "      <th></th>\n",
       "      <th>condition</th>\n",
       "      <th>counterbalance</th>\n",
       "      <th>assignmentId</th>\n",
       "      <th>workerId</th>\n",
       "      <th>hitId</th>\n",
       "      <th>trial_type</th>\n",
       "      <th>rt</th>\n",
       "      <th>internal_node_id</th>\n",
       "      <th>dateTime</th>\n",
       "      <th>experiment_id</th>\n",
       "      <th>materials_id</th>\n",
       "      <th>item_id</th>\n",
       "      <th>practice_sentence</th>\n",
       "      <th>survey_question_idx</th>\n",
       "      <th>survey_answer</th>\n",
       "      <th>slider_value</th>\n",
       "      <th>slider_copout</th>\n",
       "      <th>condition_0</th>\n",
       "      <th>condition_1</th>\n",
       "      <th>agent_is_topic</th>\n",
       "    </tr>\n",
       "    <tr>\n",
       "      <th>uniqueid</th>\n",
       "      <th>trial_index</th>\n",
       "      <th></th>\n",
       "      <th></th>\n",
       "      <th></th>\n",
       "      <th></th>\n",
       "      <th></th>\n",
       "      <th></th>\n",
       "      <th></th>\n",
       "      <th></th>\n",
       "      <th></th>\n",
       "      <th></th>\n",
       "      <th></th>\n",
       "      <th></th>\n",
       "      <th></th>\n",
       "      <th></th>\n",
       "      <th></th>\n",
       "      <th></th>\n",
       "      <th></th>\n",
       "      <th></th>\n",
       "      <th></th>\n",
       "      <th></th>\n",
       "    </tr>\n",
       "  </thead>\n",
       "  <tbody>\n",
       "    <tr>\n",
       "      <th rowspan=\"5\" valign=\"top\">debug3RZ0EW:debugSKRMKQ</th>\n",
       "      <th>3</th>\n",
       "      <td>0</td>\n",
       "      <td>0</td>\n",
       "      <td>debugSKRMKQ</td>\n",
       "      <td>debug3RZ0EW</td>\n",
       "      <td>debug1GI6AE</td>\n",
       "      <td>survey-multi-choice-ext</td>\n",
       "      <td>1442.8</td>\n",
       "      <td>0.0-3.0</td>\n",
       "      <td>2021-08-10 15:43:20.173</td>\n",
       "      <td>01_production_swarm-topicality</td>\n",
       "      <td>None</td>\n",
       "      <td>NaN</td>\n",
       "      <td>True</td>\n",
       "      <td>0</td>\n",
       "      <td>good</td>\n",
       "      <td>NaN</td>\n",
       "      <td>NaN</td>\n",
       "      <td>NaN</td>\n",
       "      <td>NaN</td>\n",
       "      <td>False</td>\n",
       "    </tr>\n",
       "    <tr>\n",
       "      <th>5</th>\n",
       "      <td>0</td>\n",
       "      <td>0</td>\n",
       "      <td>debugSKRMKQ</td>\n",
       "      <td>debug3RZ0EW</td>\n",
       "      <td>debug1GI6AE</td>\n",
       "      <td>survey-multi-choice-ext</td>\n",
       "      <td>2702.3</td>\n",
       "      <td>0.0-5.0</td>\n",
       "      <td>2021-08-10 15:43:23.481</td>\n",
       "      <td>01_production_swarm-topicality</td>\n",
       "      <td>swarm-003-drops</td>\n",
       "      <td>56.0</td>\n",
       "      <td>None</td>\n",
       "      <td>0</td>\n",
       "      <td>agent</td>\n",
       "      <td>NaN</td>\n",
       "      <td>NaN</td>\n",
       "      <td>1</td>\n",
       "      <td>1</td>\n",
       "      <td>True</td>\n",
       "    </tr>\n",
       "    <tr>\n",
       "      <th>6</th>\n",
       "      <td>0</td>\n",
       "      <td>0</td>\n",
       "      <td>debugSKRMKQ</td>\n",
       "      <td>debug3RZ0EW</td>\n",
       "      <td>debug1GI6AE</td>\n",
       "      <td>survey-multi-choice-ext</td>\n",
       "      <td>3762.9</td>\n",
       "      <td>0.0-6.0</td>\n",
       "      <td>2021-08-10 15:43:27.247</td>\n",
       "      <td>01_production_swarm-topicality</td>\n",
       "      <td>swarm-003-drops</td>\n",
       "      <td>31.0</td>\n",
       "      <td>None</td>\n",
       "      <td>0</td>\n",
       "      <td>location</td>\n",
       "      <td>NaN</td>\n",
       "      <td>NaN</td>\n",
       "      <td>0</td>\n",
       "      <td>1</td>\n",
       "      <td>False</td>\n",
       "    </tr>\n",
       "    <tr>\n",
       "      <th>7</th>\n",
       "      <td>0</td>\n",
       "      <td>0</td>\n",
       "      <td>debugSKRMKQ</td>\n",
       "      <td>debug3RZ0EW</td>\n",
       "      <td>debug1GI6AE</td>\n",
       "      <td>survey-multi-choice-ext</td>\n",
       "      <td>2017.5</td>\n",
       "      <td>0.0-7.0</td>\n",
       "      <td>2021-08-10 15:43:29.267</td>\n",
       "      <td>01_production_swarm-topicality</td>\n",
       "      <td>swarm-003-drops</td>\n",
       "      <td>7.0</td>\n",
       "      <td>None</td>\n",
       "      <td>0</td>\n",
       "      <td>location</td>\n",
       "      <td>NaN</td>\n",
       "      <td>NaN</td>\n",
       "      <td>0</td>\n",
       "      <td>1</td>\n",
       "      <td>False</td>\n",
       "    </tr>\n",
       "    <tr>\n",
       "      <th>8</th>\n",
       "      <td>0</td>\n",
       "      <td>0</td>\n",
       "      <td>debugSKRMKQ</td>\n",
       "      <td>debug3RZ0EW</td>\n",
       "      <td>debug1GI6AE</td>\n",
       "      <td>survey-multi-choice-ext</td>\n",
       "      <td>3500.4</td>\n",
       "      <td>0.0-8.0</td>\n",
       "      <td>2021-08-10 15:43:32.771</td>\n",
       "      <td>01_production_swarm-topicality</td>\n",
       "      <td>swarm-003-drops</td>\n",
       "      <td>11.0</td>\n",
       "      <td>None</td>\n",
       "      <td>0</td>\n",
       "      <td>good</td>\n",
       "      <td>NaN</td>\n",
       "      <td>NaN</td>\n",
       "      <td>filler</td>\n",
       "      <td>order</td>\n",
       "      <td>False</td>\n",
       "    </tr>\n",
       "  </tbody>\n",
       "</table>\n",
       "</div>"
      ],
      "text/plain": [
       "                                     condition  counterbalance assignmentId  \\\n",
       "uniqueid                trial_index                                           \n",
       "debug3RZ0EW:debugSKRMKQ 3                    0               0  debugSKRMKQ   \n",
       "                        5                    0               0  debugSKRMKQ   \n",
       "                        6                    0               0  debugSKRMKQ   \n",
       "                        7                    0               0  debugSKRMKQ   \n",
       "                        8                    0               0  debugSKRMKQ   \n",
       "\n",
       "                                        workerId        hitId  \\\n",
       "uniqueid                trial_index                             \n",
       "debug3RZ0EW:debugSKRMKQ 3            debug3RZ0EW  debug1GI6AE   \n",
       "                        5            debug3RZ0EW  debug1GI6AE   \n",
       "                        6            debug3RZ0EW  debug1GI6AE   \n",
       "                        7            debug3RZ0EW  debug1GI6AE   \n",
       "                        8            debug3RZ0EW  debug1GI6AE   \n",
       "\n",
       "                                                  trial_type      rt  \\\n",
       "uniqueid                trial_index                                    \n",
       "debug3RZ0EW:debugSKRMKQ 3            survey-multi-choice-ext  1442.8   \n",
       "                        5            survey-multi-choice-ext  2702.3   \n",
       "                        6            survey-multi-choice-ext  3762.9   \n",
       "                        7            survey-multi-choice-ext  2017.5   \n",
       "                        8            survey-multi-choice-ext  3500.4   \n",
       "\n",
       "                                    internal_node_id                dateTime  \\\n",
       "uniqueid                trial_index                                            \n",
       "debug3RZ0EW:debugSKRMKQ 3                    0.0-3.0 2021-08-10 15:43:20.173   \n",
       "                        5                    0.0-5.0 2021-08-10 15:43:23.481   \n",
       "                        6                    0.0-6.0 2021-08-10 15:43:27.247   \n",
       "                        7                    0.0-7.0 2021-08-10 15:43:29.267   \n",
       "                        8                    0.0-8.0 2021-08-10 15:43:32.771   \n",
       "\n",
       "                                                      experiment_id  \\\n",
       "uniqueid                trial_index                                   \n",
       "debug3RZ0EW:debugSKRMKQ 3            01_production_swarm-topicality   \n",
       "                        5            01_production_swarm-topicality   \n",
       "                        6            01_production_swarm-topicality   \n",
       "                        7            01_production_swarm-topicality   \n",
       "                        8            01_production_swarm-topicality   \n",
       "\n",
       "                                        materials_id  item_id  \\\n",
       "uniqueid                trial_index                             \n",
       "debug3RZ0EW:debugSKRMKQ 3                       None      NaN   \n",
       "                        5            swarm-003-drops     56.0   \n",
       "                        6            swarm-003-drops     31.0   \n",
       "                        7            swarm-003-drops      7.0   \n",
       "                        8            swarm-003-drops     11.0   \n",
       "\n",
       "                                    practice_sentence  survey_question_idx  \\\n",
       "uniqueid                trial_index                                          \n",
       "debug3RZ0EW:debugSKRMKQ 3                        True                    0   \n",
       "                        5                        None                    0   \n",
       "                        6                        None                    0   \n",
       "                        7                        None                    0   \n",
       "                        8                        None                    0   \n",
       "\n",
       "                                    survey_answer  slider_value slider_copout  \\\n",
       "uniqueid                trial_index                                             \n",
       "debug3RZ0EW:debugSKRMKQ 3                    good           NaN           NaN   \n",
       "                        5                   agent           NaN           NaN   \n",
       "                        6                location           NaN           NaN   \n",
       "                        7                location           NaN           NaN   \n",
       "                        8                    good           NaN           NaN   \n",
       "\n",
       "                                    condition_0 condition_1  agent_is_topic  \n",
       "uniqueid                trial_index                                          \n",
       "debug3RZ0EW:debugSKRMKQ 3                   NaN         NaN           False  \n",
       "                        5                     1           1            True  \n",
       "                        6                     0           1           False  \n",
       "                        7                     0           1           False  \n",
       "                        8                filler       order           False  "
      ]
     },
     "execution_count": 25,
     "metadata": {},
     "output_type": "execute_result"
    }
   ],
   "source": [
    "response_df.head()"
   ]
  },
  {
   "cell_type": "code",
   "execution_count": 26,
   "id": "ecological-presence",
   "metadata": {},
   "outputs": [],
   "source": [
    "response_df.to_csv(\"raw_responses.csv\")"
   ]
  },
  {
   "cell_type": "markdown",
   "id": "individual-donor",
   "metadata": {},
   "source": [
    "## Preliminaries"
   ]
  },
  {
   "cell_type": "code",
   "execution_count": 27,
   "id": "temporal-footwear",
   "metadata": {},
   "outputs": [],
   "source": [
    "subjects = set(response_df.index.get_level_values(\"uniqueid\"))"
   ]
  },
  {
   "cell_type": "markdown",
   "id": "running-prisoner",
   "metadata": {},
   "source": [
    "### Demo"
   ]
  },
  {
   "cell_type": "code",
   "execution_count": 28,
   "id": "saved-interval",
   "metadata": {},
   "outputs": [],
   "source": [
    "qualitative_df = raw_df[(raw_df.experiment_id == EXPERIMENT_ID) & raw_df.trial_type.isin((\"survey-text\", \"survey-multi-choice\"))]"
   ]
  },
  {
   "cell_type": "code",
   "execution_count": 29,
   "id": "random-bernard",
   "metadata": {},
   "outputs": [
    {
     "data": {
      "text/plain": [
       "<AxesSubplot:xlabel='survey_answer', ylabel='Count'>"
      ]
     },
     "execution_count": 29,
     "metadata": {},
     "output_type": "execute_result"
    },
    {
     "data": {
      "image/png": "[encoded data removed]",
      "text/plain": [
       "<Figure size 432x288 with 1 Axes>"
      ]
     },
     "metadata": {
      "needs_background": "light"
     },
     "output_type": "display_data"
    }
   ],
   "source": [
    "ages = qualitative_df[(qualitative_df.trial_type == \"survey-text\") & (qualitative_df.internal_node_id == \"0.0-0.0\")].survey_answer.astype(int)\n",
    "sns.histplot(ages)"
   ]
  },
  {
   "cell_type": "code",
   "execution_count": 30,
   "id": "historical-requirement",
   "metadata": {},
   "outputs": [
    {
     "data": {
      "text/plain": [
       "Master's degree    1\n",
       "Name: survey_answer, dtype: int64"
      ]
     },
     "execution_count": 30,
     "metadata": {},
     "output_type": "execute_result"
    }
   ],
   "source": [
    "education = qualitative_df[(qualitative_df.trial_type == \"survey-multi-choice\") & (qualitative_df.survey_question_idx == 0)].survey_answer\n",
    "education.value_counts()"
   ]
  },
  {
   "cell_type": "code",
   "execution_count": 31,
   "id": "mexican-argument",
   "metadata": {},
   "outputs": [
    {
     "data": {
      "text/plain": [
       "Yes    1\n",
       "Name: survey_answer, dtype: int64"
      ]
     },
     "execution_count": 31,
     "metadata": {},
     "output_type": "execute_result"
    }
   ],
   "source": [
    "native = qualitative_df[(qualitative_df.trial_type == \"survey-multi-choice\") & (qualitative_df.survey_question_idx == 1)].survey_answer\n",
    "native.value_counts()"
   ]
  },
  {
   "cell_type": "markdown",
   "id": "hearing-republic",
   "metadata": {},
   "source": [
    "### Comments"
   ]
  },
  {
   "cell_type": "code",
   "execution_count": 32,
   "id": "published-fence",
   "metadata": {},
   "outputs": [
    {
     "data": {
      "text/plain": [
       "Series([], Name: survey_answer, dtype: object)"
      ]
     },
     "execution_count": 32,
     "metadata": {},
     "output_type": "execute_result"
    }
   ],
   "source": [
    "qualitative_df[(qualitative_df.trial_type == \"survey-text\") & (qualitative_df.internal_node_id != \"0.0-0.0\")].survey_answer"
   ]
  },
  {
   "cell_type": "markdown",
   "id": "rental-citation",
   "metadata": {},
   "source": [
    "### Total times"
   ]
  },
  {
   "cell_type": "code",
   "execution_count": 33,
   "id": "subject-timing",
   "metadata": {},
   "outputs": [
    {
     "data": {
      "text/plain": [
       "Text(0.5, 1.0, 'Total study time (minutes)')"
      ]
     },
     "execution_count": 33,
     "metadata": {},
     "output_type": "execute_result"
    },
    {
     "data": {
      "image/png": "[encoded data removed]",
      "text/plain": [
       "<Figure size 432x288 with 1 Axes>"
      ]
     },
     "metadata": {
      "needs_background": "light"
     },
     "output_type": "display_data"
    }
   ],
   "source": [
    "sns.histplot(pd.concat([response_df, qualitative_df]).groupby(\"uniqueid\").apply(lambda rows: rows.rt.sum() / 1000 / 60))\n",
    "plt.title(\"Total study time (minutes)\")"
   ]
  },
  {
   "cell_type": "code",
   "execution_count": 34,
   "id": "little-caribbean",
   "metadata": {},
   "outputs": [
    {
     "data": {
      "text/plain": [
       "mean    0.682480\n",
       "std     1.083475\n",
       "Name: rt, dtype: float64"
      ]
     },
     "execution_count": 34,
     "metadata": {},
     "output_type": "execute_result"
    }
   ],
   "source": [
    "pd.concat([response_df, qualitative_df]).groupby(\"uniqueid\").rt.sum().apply(lambda xs: xs / 1000 / 60).agg([\"mean\", \"std\"])"
   ]
  },
  {
   "cell_type": "markdown",
   "id": "stretch-disposal",
   "metadata": {},
   "source": [
    "### Response times"
   ]
  },
  {
   "cell_type": "code",
   "execution_count": 35,
   "id": "analyzed-institute",
   "metadata": {},
   "outputs": [],
   "source": [
    "# sns.displot(data=response_df, x=\"rt\", hue=\"uniqueid\", kind=\"hist\")"
   ]
  },
  {
   "cell_type": "code",
   "execution_count": 36,
   "id": "seven-tamil",
   "metadata": {},
   "outputs": [
    {
     "data": {
      "text/plain": [
       "<seaborn.axisgrid.FacetGrid at 0x7faefea7dca0>"
      ]
     },
     "execution_count": 36,
     "metadata": {},
     "output_type": "execute_result"
    },
    {
     "data": {
      "image/png": "[encoded data removed]",
      "text/plain": [
       "<Figure size 546.75x360 with 1 Axes>"
      ]
     },
     "metadata": {
      "needs_background": "light"
     },
     "output_type": "display_data"
    }
   ],
   "source": [
    "response_df[\"rt.log\"] = np.log(response_df.rt)\n",
    "sns.displot(data=response_df, x=\"rt.log\", hue=\"uniqueid\", kind=\"kde\")"
   ]
  },
  {
   "cell_type": "markdown",
   "id": "ordinary-riding",
   "metadata": {},
   "source": [
    "## Attention checks"
   ]
  },
  {
   "cell_type": "markdown",
   "id": "alternative-indonesian",
   "metadata": {},
   "source": [
    "### Practice round"
   ]
  },
  {
   "cell_type": "code",
   "execution_count": 23,
   "id": "double-competition",
   "metadata": {},
   "outputs": [
    {
     "data": {
      "text/plain": [
       "uniqueid\n",
       "A1GZFCHTPVEC2Z:3IXEICO7937W3Y9JD9H0ZD3THFPT63    0.333333\n",
       "A1PKTH9O2E5FVD:3LEIZ60CDKNF7TKGH89U5BVCSA79ZU    0.666667\n",
       "A1VR1XQEQQXYUE:3X4JMASXCNX1T1TNBYAYQINGY3R0B3    0.666667\n",
       "A23IR7G86SLJ9H:3PWWM24LHTMPNDYUN9U2I4QUNVY28Y    0.000000\n",
       "A24Z9ILARXI8DT:3WYGZ5XF3X32NDHTQD6BZRCPGR2SKP    0.000000\n",
       "A27BCUGIYJYCWR:3AUQQEL7U6HG2FRTGF1YRUHN1XK0VQ    0.000000\n",
       "A2BA2KLNO29T8D:3CCZ6YKWR87H0F0RAK2EG7OHRCE590    0.000000\n",
       "A2GGYB0IY743OD:3PZDLQMM0U9RZGO74LA7KQMDDMJ2C4    0.333333\n",
       "A2H68I6S6PKMV5:3K772S5NP9ZAB4B3JXJ9XISINJTHED    0.333333\n",
       "A2O176ITLYSAVF:3GU1KF0O4JP4HIX7SJPO5JOO6DQPBQ    0.000000\n",
       "A2R7PDGVB16KGY:37QW5D2ZRHAISCFSHO989M3YLPWS8Q    0.333333\n",
       "A2S1CTTMLZIMVV:3P1L2B7AD2DY9R7I4W13UMF382XOLK    0.000000\n",
       "A2YC6PEMIRSOAA:3K9FOBBF2I7GR6763H1QFXFYIRULN2    0.666667\n",
       "A35X2CHJGNRQLY:3QECW5O0KIP0KU958Q7V77PTLKET5N    0.000000\n",
       "A38C4RKZTI9WNM:3HYA4D452S7Y2S8HVN08SW7GAZ3F2K    0.000000\n",
       "A39LVL4A92K88X:3FE7TXL1LJBVTHYQ93B24VBUH2R2QI    0.666667\n",
       "A3A6BVDDO2M1C9:3M23Y66PO3VVOYW4O9CAP877FU6S64    0.000000\n",
       "A3I1XTKQOC0V4G:3QBD8R3Z2272BJ0XY42M85DSMEY4OZ    0.666667\n",
       "A3PLWSCPFLCEGI:3LUY3GC630OHF6UHF2D80H2SNNS7PF    0.000000\n",
       "A71NZTTHS4AMB:3Z2R0DQ0JI26WE8L0CG2AEMGYYW2EX     0.666667\n",
       "AFM65NU0UXIGP:3HFNH7HEMI2L8B6X8IWR6Z5VRLVQGO     0.666667\n",
       "APD5QQMW2CRIG:33LKR6A5KF81WC8M735J4HCC93BT15     0.333333\n",
       "ARWN6TT8EWCFJ:3B1NLC6UG0K08Z5I85H26UFLMO2PGN     0.333333\n",
       "dtype: float64"
      ]
     },
     "execution_count": 23,
     "metadata": {},
     "output_type": "execute_result"
    }
   ],
   "source": [
    "# def compute_practice_success(subj_rows):\n",
    "#     \"\"\"\n",
    "#     Compute fraction of practice sentences for which response equals\n",
    "#     ground truth.\n",
    "#     \"\"\"\n",
    "#     practice_rows = subj_rows[~subj_rows.practice_sentence.isna()]\n",
    "#     practice_rows[[\"practice_rating\", \"practice_idx\"]] = practice_rows.practice_sentence.str.split(\"-\", 1, expand=True)\n",
    "#     success = practice_rows[\"practice_rating\"].astype(int) == practice_rows[\"slider_value\"]\n",
    "#     return success.mean()\n",
    "    \n",
    "# practice_attention_failures = response_df.groupby(\"uniqueid\").apply(compute_practice_success)\n",
    "# practice_attention_failures = practice_attention_failures[practice_attention_failures < 1]\n",
    "# practice_attention_failures"
   ]
  },
  {
   "cell_type": "markdown",
   "id": "weird-music",
   "metadata": {},
   "source": [
    "### Fillers"
   ]
  },
  {
   "cell_type": "code",
   "execution_count": 46,
   "id": "returning-maple",
   "metadata": {},
   "outputs": [
    {
     "data": {
      "text/plain": [
       "<AxesSubplot:xlabel='survey_answer'>"
      ]
     },
     "execution_count": 46,
     "metadata": {},
     "output_type": "execute_result"
    },
    {
     "data": {
      "image/png": "[encoded data removed]",
      "text/plain": [
       "<Figure size 432x288 with 1 Axes>"
      ]
     },
     "metadata": {
      "needs_background": "light"
     },
     "output_type": "display_data"
    }
   ],
   "source": [
    "filler_stats = response_df[response_df.condition_0 == \"filler\"].reset_index() \\\n",
    "    .groupby([\"uniqueid\", \"condition_1\"]).apply(lambda xs: (xs.survey_answer == \"good\").astype(float))\n",
    "sns.boxplot(data=filler_stats.reset_index(), x=\"survey_answer\", hue=\"uniqueid\")"
   ]
  },
  {
   "cell_type": "code",
   "execution_count": 50,
   "id": "geographic-summer",
   "metadata": {},
   "outputs": [
    {
     "data": {
      "text/plain": [
       "uniqueid\n",
       "debug3RZ0EW:debugSKRMKQ    1.0\n",
       "Name: survey_answer, dtype: float64"
      ]
     },
     "execution_count": 50,
     "metadata": {},
     "output_type": "execute_result"
    }
   ],
   "source": [
    "filler_stats_summary = filler_stats.groupby(\"uniqueid\").mean()\n",
    "filler_stats_summary.sort_values()"
   ]
  },
  {
   "cell_type": "markdown",
   "id": "bright-luther",
   "metadata": {},
   "source": [
    "## Final data processing"
   ]
  },
  {
   "cell_type": "code",
   "execution_count": 47,
   "id": "thousand-jerusalem",
   "metadata": {},
   "outputs": [],
   "source": [
    "exp_items = response_df[(response_df.condition_0 != \"filler\") & response_df.practice_sentence.isna()]"
   ]
  },
  {
   "cell_type": "markdown",
   "id": "postal-separation",
   "metadata": {},
   "source": [
    "### Filter based on practice and attention checks"
   ]
  },
  {
   "cell_type": "code",
   "execution_count": 51,
   "id": "excellent-astrology",
   "metadata": {},
   "outputs": [
    {
     "name": "stdout",
     "output_type": "stream",
     "text": [
      "0 subjects (0.0%, possibly overlapping with previous) disqualified and dropped due to failed attention checks.\n",
      "\t\n"
     ]
    }
   ],
   "source": [
    "attention_drops = filler_stats_summary[(filler_stats_summary < 0.95)]\n",
    "drop_pct = np.round(len(attention_drops) / len(filler_stats_summary.index) * 100, 1)\n",
    "print(f\"{len(attention_drops)} subjects ({drop_pct}%, possibly overlapping with previous) disqualified and dropped due to failed attention checks.\")\n",
    "print(\"\\t\" + \"\\n\\t\".join(attention_drops.index))\n",
    "exp_items = exp_items.drop(attention_drops.index, level=\"uniqueid\")"
   ]
  },
  {
   "cell_type": "code",
   "execution_count": 52,
   "id": "considered-sixth",
   "metadata": {},
   "outputs": [
    {
     "name": "stdout",
     "output_type": "stream",
     "text": [
      "1 subjects remaining.\n"
     ]
    }
   ],
   "source": [
    "print(f\"{len(set(exp_items.index.get_level_values('uniqueid')))} subjects remaining.\")"
   ]
  },
  {
   "cell_type": "markdown",
   "id": "helpful-richmond",
   "metadata": {},
   "source": [
    "### Compute match"
   ]
  },
  {
   "cell_type": "code",
   "execution_count": 66,
   "id": "generous-confirmation",
   "metadata": {},
   "outputs": [],
   "source": [
    "exp_items[\"match\"] = exp_items.apply(lambda r: r.survey_answer == (\"agent\" if r.agent_is_topic else \"location\"), axis=1)"
   ]
  },
  {
   "cell_type": "markdown",
   "id": "false-parcel",
   "metadata": {},
   "source": [
    "### Merge in materials"
   ]
  },
  {
   "cell_type": "code",
   "execution_count": 67,
   "id": "above-cargo",
   "metadata": {},
   "outputs": [],
   "source": [
    "import json\n",
    "def load_materials(mat):\n",
    "    with open(f\"../../materials/{mat}.json\") as f:\n",
    "        materials = json.load(f)\n",
    "    return pd.DataFrame.from_records(materials[\"items\"]).rename(columns={\"id\": \"item_id\"}).set_index(\"item_id\")\n",
    "\n",
    "materials_ids = sorted(set(exp_items.materials_id))\n",
    "materials_df = pd.concat([load_materials(mat) for mat in materials_ids], names=[\"materials_id\"], keys=materials_ids, axis=0)\n",
    "\n",
    "materials_df[\"AV\"] = materials_df.A.str.cat(materials_df.V, \" \")\n",
    "\n",
    "# NB this doesn't handle fillers correctly"
   ]
  },
  {
   "cell_type": "code",
   "execution_count": 68,
   "id": "subject-repair",
   "metadata": {},
   "outputs": [],
   "source": [
    "keep_cols = [\"A\", \"V\", \"L\", \"AV\", \"A concrete?\", \"A countable?\"]\n",
    "merged_df = pd.merge(exp_items, materials_df[keep_cols], left_on=[\"materials_id\", \"item_id\"], right_index=True)"
   ]
  },
  {
   "cell_type": "markdown",
   "id": "sensitive-tolerance",
   "metadata": {},
   "source": [
    "### Export"
   ]
  },
  {
   "cell_type": "code",
   "execution_count": 69,
   "id": "pending-china",
   "metadata": {},
   "outputs": [],
   "source": [
    "merged_df.to_csv(\"merged_df.csv\")"
   ]
  },
  {
   "cell_type": "markdown",
   "id": "legal-guest",
   "metadata": {},
   "source": [
    "## Analysis"
   ]
  },
  {
   "cell_type": "code",
   "execution_count": 62,
   "id": "honest-drawing",
   "metadata": {},
   "outputs": [
    {
     "data": {
      "text/plain": [
       "<AxesSubplot:xlabel='agent_is_topic', ylabel='match'>"
      ]
     },
     "execution_count": 62,
     "metadata": {},
     "output_type": "execute_result"
    },
    {
     "data": {
      "image/png": "[encoded data removed]",
      "text/plain": [
       "<Figure size 432x288 with 1 Axes>"
      ]
     },
     "metadata": {
      "needs_background": "light"
     },
     "output_type": "display_data"
    }
   ],
   "source": [
    "sns.barplot(data=exp_items.reset_index(), x=\"agent_is_topic\", y=\"match\")"
   ]
  },
  {
   "cell_type": "markdown",
   "id": "advised-dynamics",
   "metadata": {},
   "source": [
    "### Item exposure"
   ]
  },
  {
   "cell_type": "code",
   "execution_count": 64,
   "id": "rolled-silver",
   "metadata": {},
   "outputs": [
    {
     "data": {
      "text/plain": [
       "item_id  AV                 agent_is_topic\n",
       "0.0      bees swarm         True              1\n",
       "39.0     sewage runn        True              1\n",
       "31.0     excitement puls    False             1\n",
       "30.0     fear prickl        False             1\n",
       "25.0     energy humm        False             1\n",
       "24.0     frogs hopp         False             1\n",
       "22.0     lights glow        False             1\n",
       "19.0     bubbles foam       False             1\n",
       "17.0     debris flow        False             1\n",
       "8.0      cockroaches creep  True              1\n",
       "7.0      excitement crackl  False             1\n",
       "6.0      terror cours       False             1\n",
       "5.0      conversation buzz  True              1\n",
       "4.0      people bustl       True              1\n",
       "3.0      trumpets ring      False             1\n",
       "2.0      ants crawl         False             1\n",
       "56.0     tadpoles swimm     True              1\n",
       "64.0     worms wriggl       True              1\n",
       "dtype: int64"
      ]
     },
     "execution_count": 64,
     "metadata": {},
     "output_type": "execute_result"
    }
   ],
   "source": [
    "merged_df[merged_df.condition_0 != \"filler\"] \\\n",
    "    .groupby([\"item_id\", \"AV\", \"agent_is_topic\"]).size().sort_values()"
   ]
  },
  {
   "cell_type": "markdown",
   "id": "narrow-spelling",
   "metadata": {},
   "source": [
    "### Concreteness"
   ]
  },
  {
   "cell_type": "code",
   "execution_count": 70,
   "id": "photographic-rebound",
   "metadata": {},
   "outputs": [
    {
     "data": {
      "text/plain": [
       "<AxesSubplot:xlabel='agent_is_topic', ylabel='match'>"
      ]
     },
     "execution_count": 70,
     "metadata": {},
     "output_type": "execute_result"
    },
    {
     "data": {
      "image/png": "[encoded data removed]",
      "text/plain": [
       "<Figure size 432x288 with 1 Axes>"
      ]
     },
     "metadata": {
      "needs_background": "light"
     },
     "output_type": "display_data"
    }
   ],
   "source": [
    "sns.barplot(data=merged_df[merged_df.condition_0 != \"filler\"].reset_index(), x=\"agent_is_topic\", y=\"match\", hue=\"A concrete?\")"
   ]
  }
 ],
 "metadata": {
  "kernelspec": {
   "display_name": "Python 3",
   "language": "python",
   "name": "python3"
  },
  "language_info": {
   "codemirror_mode": {
    "name": "ipython",
    "version": 3
   },
   "file_extension": ".py",
   "mimetype": "text/x-python",
   "name": "python",
   "nbconvert_exporter": "python",
   "pygments_lexer": "ipython3",
   "version": "3.8.8"
  }
 },
 "nbformat": 4,
 "nbformat_minor": 5
}
