{
 "cells": [
  {
   "cell_type": "code",
   "execution_count": 1,
   "id": "worthy-fisher",
   "metadata": {},
   "outputs": [],
   "source": [
    "import sys\n",
    "sys.path.append(\"../../src\")"
   ]
  },
  {
   "cell_type": "code",
   "execution_count": 2,
   "id": "facial-protection",
   "metadata": {},
   "outputs": [],
   "source": [
    "%load_ext autoreload\n",
    "%autoreload 2"
   ]
  },
  {
   "cell_type": "code",
   "execution_count": 3,
   "id": "double-vertex",
   "metadata": {},
   "outputs": [],
   "source": [
    "import numpy as np\n",
    "import pandas as pd\n",
    "import seaborn as sns\n",
    "from matplotlib import pyplot as plt"
   ]
  },
  {
   "cell_type": "markdown",
   "id": "material-morgan",
   "metadata": {},
   "source": [
    "## Load and preprocess data"
   ]
  },
  {
   "cell_type": "code",
   "execution_count": 4,
   "id": "shaped-freedom",
   "metadata": {},
   "outputs": [],
   "source": [
    "import data"
   ]
  },
  {
   "cell_type": "code",
   "execution_count": 5,
   "id": "cognitive-intake",
   "metadata": {},
   "outputs": [
    {
     "name": "stderr",
     "output_type": "stream",
     "text": [
      "Missing datastring for uid A33LYSCQQU1YDJ:31JLPPHS2VIHTNHTYQX3Y0LM83NO3X. Status was 1.\n",
      "Missing datastring for uid A1VWP7HOSGKATD:37WLF8U1WQEX0FJWJ038YMGXYHE6KK. Status was 1.\n",
      "Missing datastring for uid A6QDP0HAGE9W5:3V0Z7YWSIZONYPU7V25CAIA2YANV2I. Status was 1.\n",
      "Missing datastring for uid A19VDBNACNJNI8:3ZY8KE4ISKR4Q8WSXDVD6085GQIQVU. Status was 1.\n",
      "Missing datastring for uid AQ5TMPEPN5UIP:3QUO65DNQVC1SHUCDAT4L9BMNIZUO9. Status was 1.\n",
      "Missing datastring for uid A3I1W58P6SIV26:3LEP4MGT3HOVSLUHNAYT5P7ZWFIBD3. Status was 1.\n",
      "Missing datastring for uid A3V4AW6DGWBHDO:3ERET4BTVNXKIYLUH76KIW70TBHK9X. Status was 1.\n",
      "Missing datastring for uid A12VDN3TJJCAQQ:33TIN5LC05YF23ABLM7BR4MBRUY9YX. Status was 1.\n",
      "Missing datastring for uid A11EMV89KB6OCM:3DL65MZB8E3JUW0NX558MRV3F30EC8. Status was 1.\n",
      "Missing datastring for uid A1HRH92NH49RX2:3Z4GS9HPNWYS90QHJGJR0VB8S6T77C. Status was 1.\n",
      "Missing datastring for uid A29RCIFHRAZ797:33C7UALJVMMIYSGY45UODLGQ11O18G. Status was 1.\n",
      "Missing datastring for uid AROOCBM042SJD:3UJ1CZ6IZIDZ5UWQJQ25X2T8PBXS5M. Status was 1.\n",
      "Missing datastring for uid A1OW27AZS122X2:3KRVW3HTZO9XD1HWBPJRE44UB6MMS5. Status was 1.\n",
      "Missing datastring for uid A5WWHKD52I8GE:3UJ1CZ6IZIDZ5UWQJQ25X2T8PBXS5M. Status was 1.\n"
     ]
    }
   ],
   "source": [
    "# set db path hackily\n",
    "data._get_connection(\"../../data/participants.db\")\n",
    "\n",
    "raw_df = data.get_trials_df(data.load_raw_results(),\n",
    "                            (\"experiment_id\", \"materials_id\", \"item_id\", \"condition_id\",\n",
    "                             \"practice_sentence\"))\n",
    "\n",
    "EXPERIMENT_ID = \"08_acceptability_swarm-withprefix\"\n",
    "response_df = raw_df[(raw_df.experiment_id == EXPERIMENT_ID) & (raw_df.trial_type == \"html-slider-response-with-copout\")] \\\n",
    "    .reset_index().set_index([\"uniqueid\", \"trial_index\"])"
   ]
  },
  {
   "cell_type": "code",
   "execution_count": 6,
   "id": "subjective-arrival",
   "metadata": {},
   "outputs": [
    {
     "data": {
      "text/plain": [
       "04_comprehension_swarm-full                                     4953\n",
       "07_comprehension_spray-load-construction-meaning-with-images    2665\n",
       "05_comprehension_spray-load-construction-meaning                2624\n",
       "06_production_spray-load-weight                                 1998\n",
       "00_comprehension_swarm-construction-meaning                     1864\n",
       "02_acceptability_swarm                                          1692\n",
       "01_production_swarm-topicality                                  1564\n",
       "03_production_swarm-givenness                                   1015\n",
       "08_acceptability_swarm-withprefix                                423\n",
       "Name: experiment_id, dtype: int64"
      ]
     },
     "execution_count": 6,
     "metadata": {},
     "output_type": "execute_result"
    }
   ],
   "source": [
    "raw_df.experiment_id.value_counts()"
   ]
  },
  {
   "cell_type": "code",
   "execution_count": 7,
   "id": "willing-villa",
   "metadata": {},
   "outputs": [],
   "source": [
    "# Expand condition labels, which are tuples\n",
    "response_df = pd.concat([response_df, response_df.condition_id.apply(pd.Series).rename(columns=lambda x: f\"condition_{x}\")], axis=1) \\\n",
    "    .drop(columns=\"condition_id\")"
   ]
  },
  {
   "cell_type": "code",
   "execution_count": 8,
   "id": "catholic-kitchen",
   "metadata": {},
   "outputs": [],
   "source": [
    "# Convert condition_id to independent features\n",
    "response_df[\"agent_is_subject\"] = response_df[\"condition_1\"] == 1"
   ]
  },
  {
   "cell_type": "code",
   "execution_count": 9,
   "id": "attached-starter",
   "metadata": {},
   "outputs": [],
   "source": [
    "# Norm slider values within-subject.\n",
    "response_df[\"slider_zscore\"] = \\\n",
    "    response_df.groupby(\"uniqueid\").slider_value.apply(lambda xs: (xs - xs.mean()) / (xs.std(ddof=0)))"
   ]
  },
  {
   "cell_type": "code",
   "execution_count": 10,
   "id": "graphic-microphone",
   "metadata": {},
   "outputs": [],
   "source": [
    "# dtype fixes\n",
    "response_df[\"dateTime\"] = pd.to_datetime(response_df.dateTime, unit=\"ms\")"
   ]
  },
  {
   "cell_type": "code",
   "execution_count": 11,
   "id": "proper-suffering",
   "metadata": {},
   "outputs": [
    {
     "data": {
      "text/html": [
       "<div>\n",
       "<style scoped>\n",
       "    .dataframe tbody tr th:only-of-type {\n",
       "        vertical-align: middle;\n",
       "    }\n",
       "\n",
       "    .dataframe tbody tr th {\n",
       "        vertical-align: top;\n",
       "    }\n",
       "\n",
       "    .dataframe thead th {\n",
       "        text-align: right;\n",
       "    }\n",
       "</style>\n",
       "<table border=\"1\" class=\"dataframe\">\n",
       "  <thead>\n",
       "    <tr style=\"text-align: right;\">\n",
       "      <th></th>\n",
       "      <th></th>\n",
       "      <th>condition</th>\n",
       "      <th>counterbalance</th>\n",
       "      <th>assignmentId</th>\n",
       "      <th>workerId</th>\n",
       "      <th>hitId</th>\n",
       "      <th>trial_type</th>\n",
       "      <th>rt</th>\n",
       "      <th>internal_node_id</th>\n",
       "      <th>dateTime</th>\n",
       "      <th>experiment_id</th>\n",
       "      <th>...</th>\n",
       "      <th>survey_question_idx</th>\n",
       "      <th>survey_answer</th>\n",
       "      <th>slider_value</th>\n",
       "      <th>slider_copout</th>\n",
       "      <th>response</th>\n",
       "      <th>image_copout</th>\n",
       "      <th>condition_0</th>\n",
       "      <th>condition_1</th>\n",
       "      <th>agent_is_subject</th>\n",
       "      <th>slider_zscore</th>\n",
       "    </tr>\n",
       "    <tr>\n",
       "      <th>uniqueid</th>\n",
       "      <th>trial_index</th>\n",
       "      <th></th>\n",
       "      <th></th>\n",
       "      <th></th>\n",
       "      <th></th>\n",
       "      <th></th>\n",
       "      <th></th>\n",
       "      <th></th>\n",
       "      <th></th>\n",
       "      <th></th>\n",
       "      <th></th>\n",
       "      <th></th>\n",
       "      <th></th>\n",
       "      <th></th>\n",
       "      <th></th>\n",
       "      <th></th>\n",
       "      <th></th>\n",
       "      <th></th>\n",
       "      <th></th>\n",
       "      <th></th>\n",
       "      <th></th>\n",
       "      <th></th>\n",
       "    </tr>\n",
       "  </thead>\n",
       "  <tbody>\n",
       "    <tr>\n",
       "      <th rowspan=\"5\" valign=\"top\">A2RYP5HCVKX4A6:3U5NZHP4LSQE8V0TSBZKRURN8YXPHX</th>\n",
       "      <th>3</th>\n",
       "      <td>0</td>\n",
       "      <td>0</td>\n",
       "      <td>3U5NZHP4LSQE8V0TSBZKRURN8YXPHX</td>\n",
       "      <td>A2RYP5HCVKX4A6</td>\n",
       "      <td>3XAOZ9UYRZFLHCI10X6MBS5ZY8PQ1C</td>\n",
       "      <td>html-slider-response-with-copout</td>\n",
       "      <td>7318.1</td>\n",
       "      <td>0.0-3.0</td>\n",
       "      <td>2021-10-16 21:57:14.339</td>\n",
       "      <td>08_acceptability_swarm-withprefix</td>\n",
       "      <td>...</td>\n",
       "      <td>&lt;NA&gt;</td>\n",
       "      <td>NaN</td>\n",
       "      <td>1.0</td>\n",
       "      <td>False</td>\n",
       "      <td>NaN</td>\n",
       "      <td>NaN</td>\n",
       "      <td>NaN</td>\n",
       "      <td>NaN</td>\n",
       "      <td>False</td>\n",
       "      <td>-1.328688</td>\n",
       "    </tr>\n",
       "    <tr>\n",
       "      <th>4</th>\n",
       "      <td>0</td>\n",
       "      <td>0</td>\n",
       "      <td>3U5NZHP4LSQE8V0TSBZKRURN8YXPHX</td>\n",
       "      <td>A2RYP5HCVKX4A6</td>\n",
       "      <td>3XAOZ9UYRZFLHCI10X6MBS5ZY8PQ1C</td>\n",
       "      <td>html-slider-response-with-copout</td>\n",
       "      <td>5306.6</td>\n",
       "      <td>0.0-4.0</td>\n",
       "      <td>2021-10-16 21:57:19.655</td>\n",
       "      <td>08_acceptability_swarm-withprefix</td>\n",
       "      <td>...</td>\n",
       "      <td>&lt;NA&gt;</td>\n",
       "      <td>NaN</td>\n",
       "      <td>4.0</td>\n",
       "      <td>False</td>\n",
       "      <td>NaN</td>\n",
       "      <td>NaN</td>\n",
       "      <td>NaN</td>\n",
       "      <td>NaN</td>\n",
       "      <td>False</td>\n",
       "      <td>0.068138</td>\n",
       "    </tr>\n",
       "    <tr>\n",
       "      <th>5</th>\n",
       "      <td>0</td>\n",
       "      <td>0</td>\n",
       "      <td>3U5NZHP4LSQE8V0TSBZKRURN8YXPHX</td>\n",
       "      <td>A2RYP5HCVKX4A6</td>\n",
       "      <td>3XAOZ9UYRZFLHCI10X6MBS5ZY8PQ1C</td>\n",
       "      <td>html-slider-response-with-copout</td>\n",
       "      <td>4730.2</td>\n",
       "      <td>0.0-5.0</td>\n",
       "      <td>2021-10-16 21:57:24.395</td>\n",
       "      <td>08_acceptability_swarm-withprefix</td>\n",
       "      <td>...</td>\n",
       "      <td>&lt;NA&gt;</td>\n",
       "      <td>NaN</td>\n",
       "      <td>7.0</td>\n",
       "      <td>False</td>\n",
       "      <td>NaN</td>\n",
       "      <td>NaN</td>\n",
       "      <td>NaN</td>\n",
       "      <td>NaN</td>\n",
       "      <td>False</td>\n",
       "      <td>1.464964</td>\n",
       "    </tr>\n",
       "    <tr>\n",
       "      <th>7</th>\n",
       "      <td>0</td>\n",
       "      <td>0</td>\n",
       "      <td>3U5NZHP4LSQE8V0TSBZKRURN8YXPHX</td>\n",
       "      <td>A2RYP5HCVKX4A6</td>\n",
       "      <td>3XAOZ9UYRZFLHCI10X6MBS5ZY8PQ1C</td>\n",
       "      <td>html-slider-response-with-copout</td>\n",
       "      <td>5194.7</td>\n",
       "      <td>0.0-7.0</td>\n",
       "      <td>2021-10-16 21:57:30.955</td>\n",
       "      <td>08_acceptability_swarm-withprefix</td>\n",
       "      <td>...</td>\n",
       "      <td>&lt;NA&gt;</td>\n",
       "      <td>NaN</td>\n",
       "      <td>2.0</td>\n",
       "      <td>False</td>\n",
       "      <td>NaN</td>\n",
       "      <td>NaN</td>\n",
       "      <td>filler</td>\n",
       "      <td>good</td>\n",
       "      <td>False</td>\n",
       "      <td>-0.863079</td>\n",
       "    </tr>\n",
       "    <tr>\n",
       "      <th>8</th>\n",
       "      <td>0</td>\n",
       "      <td>0</td>\n",
       "      <td>3U5NZHP4LSQE8V0TSBZKRURN8YXPHX</td>\n",
       "      <td>A2RYP5HCVKX4A6</td>\n",
       "      <td>3XAOZ9UYRZFLHCI10X6MBS5ZY8PQ1C</td>\n",
       "      <td>html-slider-response-with-copout</td>\n",
       "      <td>4410.7</td>\n",
       "      <td>0.0-8.0</td>\n",
       "      <td>2021-10-16 21:57:35.375</td>\n",
       "      <td>08_acceptability_swarm-withprefix</td>\n",
       "      <td>...</td>\n",
       "      <td>&lt;NA&gt;</td>\n",
       "      <td>NaN</td>\n",
       "      <td>5.0</td>\n",
       "      <td>False</td>\n",
       "      <td>NaN</td>\n",
       "      <td>NaN</td>\n",
       "      <td>filler</td>\n",
       "      <td>good</td>\n",
       "      <td>False</td>\n",
       "      <td>0.533746</td>\n",
       "    </tr>\n",
       "  </tbody>\n",
       "</table>\n",
       "<p>5 rows × 23 columns</p>\n",
       "</div>"
      ],
      "text/plain": [
       "                                                           condition  \\\n",
       "uniqueid                                      trial_index              \n",
       "A2RYP5HCVKX4A6:3U5NZHP4LSQE8V0TSBZKRURN8YXPHX 3                    0   \n",
       "                                              4                    0   \n",
       "                                              5                    0   \n",
       "                                              7                    0   \n",
       "                                              8                    0   \n",
       "\n",
       "                                                           counterbalance  \\\n",
       "uniqueid                                      trial_index                   \n",
       "A2RYP5HCVKX4A6:3U5NZHP4LSQE8V0TSBZKRURN8YXPHX 3                         0   \n",
       "                                              4                         0   \n",
       "                                              5                         0   \n",
       "                                              7                         0   \n",
       "                                              8                         0   \n",
       "\n",
       "                                                                             assignmentId  \\\n",
       "uniqueid                                      trial_index                                   \n",
       "A2RYP5HCVKX4A6:3U5NZHP4LSQE8V0TSBZKRURN8YXPHX 3            3U5NZHP4LSQE8V0TSBZKRURN8YXPHX   \n",
       "                                              4            3U5NZHP4LSQE8V0TSBZKRURN8YXPHX   \n",
       "                                              5            3U5NZHP4LSQE8V0TSBZKRURN8YXPHX   \n",
       "                                              7            3U5NZHP4LSQE8V0TSBZKRURN8YXPHX   \n",
       "                                              8            3U5NZHP4LSQE8V0TSBZKRURN8YXPHX   \n",
       "\n",
       "                                                                 workerId  \\\n",
       "uniqueid                                      trial_index                   \n",
       "A2RYP5HCVKX4A6:3U5NZHP4LSQE8V0TSBZKRURN8YXPHX 3            A2RYP5HCVKX4A6   \n",
       "                                              4            A2RYP5HCVKX4A6   \n",
       "                                              5            A2RYP5HCVKX4A6   \n",
       "                                              7            A2RYP5HCVKX4A6   \n",
       "                                              8            A2RYP5HCVKX4A6   \n",
       "\n",
       "                                                                                    hitId  \\\n",
       "uniqueid                                      trial_index                                   \n",
       "A2RYP5HCVKX4A6:3U5NZHP4LSQE8V0TSBZKRURN8YXPHX 3            3XAOZ9UYRZFLHCI10X6MBS5ZY8PQ1C   \n",
       "                                              4            3XAOZ9UYRZFLHCI10X6MBS5ZY8PQ1C   \n",
       "                                              5            3XAOZ9UYRZFLHCI10X6MBS5ZY8PQ1C   \n",
       "                                              7            3XAOZ9UYRZFLHCI10X6MBS5ZY8PQ1C   \n",
       "                                              8            3XAOZ9UYRZFLHCI10X6MBS5ZY8PQ1C   \n",
       "\n",
       "                                                                                 trial_type  \\\n",
       "uniqueid                                      trial_index                                     \n",
       "A2RYP5HCVKX4A6:3U5NZHP4LSQE8V0TSBZKRURN8YXPHX 3            html-slider-response-with-copout   \n",
       "                                              4            html-slider-response-with-copout   \n",
       "                                              5            html-slider-response-with-copout   \n",
       "                                              7            html-slider-response-with-copout   \n",
       "                                              8            html-slider-response-with-copout   \n",
       "\n",
       "                                                               rt  \\\n",
       "uniqueid                                      trial_index           \n",
       "A2RYP5HCVKX4A6:3U5NZHP4LSQE8V0TSBZKRURN8YXPHX 3            7318.1   \n",
       "                                              4            5306.6   \n",
       "                                              5            4730.2   \n",
       "                                              7            5194.7   \n",
       "                                              8            4410.7   \n",
       "\n",
       "                                                          internal_node_id  \\\n",
       "uniqueid                                      trial_index                    \n",
       "A2RYP5HCVKX4A6:3U5NZHP4LSQE8V0TSBZKRURN8YXPHX 3                    0.0-3.0   \n",
       "                                              4                    0.0-4.0   \n",
       "                                              5                    0.0-5.0   \n",
       "                                              7                    0.0-7.0   \n",
       "                                              8                    0.0-8.0   \n",
       "\n",
       "                                                                         dateTime  \\\n",
       "uniqueid                                      trial_index                           \n",
       "A2RYP5HCVKX4A6:3U5NZHP4LSQE8V0TSBZKRURN8YXPHX 3           2021-10-16 21:57:14.339   \n",
       "                                              4           2021-10-16 21:57:19.655   \n",
       "                                              5           2021-10-16 21:57:24.395   \n",
       "                                              7           2021-10-16 21:57:30.955   \n",
       "                                              8           2021-10-16 21:57:35.375   \n",
       "\n",
       "                                                                               experiment_id  \\\n",
       "uniqueid                                      trial_index                                      \n",
       "A2RYP5HCVKX4A6:3U5NZHP4LSQE8V0TSBZKRURN8YXPHX 3            08_acceptability_swarm-withprefix   \n",
       "                                              4            08_acceptability_swarm-withprefix   \n",
       "                                              5            08_acceptability_swarm-withprefix   \n",
       "                                              7            08_acceptability_swarm-withprefix   \n",
       "                                              8            08_acceptability_swarm-withprefix   \n",
       "\n",
       "                                                           ...  \\\n",
       "uniqueid                                      trial_index  ...   \n",
       "A2RYP5HCVKX4A6:3U5NZHP4LSQE8V0TSBZKRURN8YXPHX 3            ...   \n",
       "                                              4            ...   \n",
       "                                              5            ...   \n",
       "                                              7            ...   \n",
       "                                              8            ...   \n",
       "\n",
       "                                                          survey_question_idx  \\\n",
       "uniqueid                                      trial_index                       \n",
       "A2RYP5HCVKX4A6:3U5NZHP4LSQE8V0TSBZKRURN8YXPHX 3                          <NA>   \n",
       "                                              4                          <NA>   \n",
       "                                              5                          <NA>   \n",
       "                                              7                          <NA>   \n",
       "                                              8                          <NA>   \n",
       "\n",
       "                                                           survey_answer  \\\n",
       "uniqueid                                      trial_index                  \n",
       "A2RYP5HCVKX4A6:3U5NZHP4LSQE8V0TSBZKRURN8YXPHX 3                      NaN   \n",
       "                                              4                      NaN   \n",
       "                                              5                      NaN   \n",
       "                                              7                      NaN   \n",
       "                                              8                      NaN   \n",
       "\n",
       "                                                          slider_value  \\\n",
       "uniqueid                                      trial_index                \n",
       "A2RYP5HCVKX4A6:3U5NZHP4LSQE8V0TSBZKRURN8YXPHX 3                    1.0   \n",
       "                                              4                    4.0   \n",
       "                                              5                    7.0   \n",
       "                                              7                    2.0   \n",
       "                                              8                    5.0   \n",
       "\n",
       "                                                           slider_copout  \\\n",
       "uniqueid                                      trial_index                  \n",
       "A2RYP5HCVKX4A6:3U5NZHP4LSQE8V0TSBZKRURN8YXPHX 3                    False   \n",
       "                                              4                    False   \n",
       "                                              5                    False   \n",
       "                                              7                    False   \n",
       "                                              8                    False   \n",
       "\n",
       "                                                          response  \\\n",
       "uniqueid                                      trial_index            \n",
       "A2RYP5HCVKX4A6:3U5NZHP4LSQE8V0TSBZKRURN8YXPHX 3                NaN   \n",
       "                                              4                NaN   \n",
       "                                              5                NaN   \n",
       "                                              7                NaN   \n",
       "                                              8                NaN   \n",
       "\n",
       "                                                           image_copout  \\\n",
       "uniqueid                                      trial_index                 \n",
       "A2RYP5HCVKX4A6:3U5NZHP4LSQE8V0TSBZKRURN8YXPHX 3                     NaN   \n",
       "                                              4                     NaN   \n",
       "                                              5                     NaN   \n",
       "                                              7                     NaN   \n",
       "                                              8                     NaN   \n",
       "\n",
       "                                                          condition_0  \\\n",
       "uniqueid                                      trial_index               \n",
       "A2RYP5HCVKX4A6:3U5NZHP4LSQE8V0TSBZKRURN8YXPHX 3                   NaN   \n",
       "                                              4                   NaN   \n",
       "                                              5                   NaN   \n",
       "                                              7                filler   \n",
       "                                              8                filler   \n",
       "\n",
       "                                                          condition_1  \\\n",
       "uniqueid                                      trial_index               \n",
       "A2RYP5HCVKX4A6:3U5NZHP4LSQE8V0TSBZKRURN8YXPHX 3                   NaN   \n",
       "                                              4                   NaN   \n",
       "                                              5                   NaN   \n",
       "                                              7                  good   \n",
       "                                              8                  good   \n",
       "\n",
       "                                                          agent_is_subject  \\\n",
       "uniqueid                                      trial_index                    \n",
       "A2RYP5HCVKX4A6:3U5NZHP4LSQE8V0TSBZKRURN8YXPHX 3                      False   \n",
       "                                              4                      False   \n",
       "                                              5                      False   \n",
       "                                              7                      False   \n",
       "                                              8                      False   \n",
       "\n",
       "                                                          slider_zscore  \n",
       "uniqueid                                      trial_index                \n",
       "A2RYP5HCVKX4A6:3U5NZHP4LSQE8V0TSBZKRURN8YXPHX 3               -1.328688  \n",
       "                                              4                0.068138  \n",
       "                                              5                1.464964  \n",
       "                                              7               -0.863079  \n",
       "                                              8                0.533746  \n",
       "\n",
       "[5 rows x 23 columns]"
      ]
     },
     "execution_count": 11,
     "metadata": {},
     "output_type": "execute_result"
    }
   ],
   "source": [
    "response_df.head()"
   ]
  },
  {
   "cell_type": "code",
   "execution_count": 12,
   "id": "flush-helicopter",
   "metadata": {},
   "outputs": [],
   "source": [
    "response_df.to_csv(\"raw_responses.csv\")"
   ]
  },
  {
   "cell_type": "markdown",
   "id": "novel-validation",
   "metadata": {},
   "source": [
    "## Preliminaries"
   ]
  },
  {
   "cell_type": "code",
   "execution_count": 13,
   "id": "proved-danish",
   "metadata": {},
   "outputs": [],
   "source": [
    "subjects = set(response_df.index.get_level_values(\"uniqueid\"))"
   ]
  },
  {
   "cell_type": "code",
   "execution_count": 14,
   "id": "electoral-budapest",
   "metadata": {},
   "outputs": [
    {
     "data": {
      "text/plain": [
       "9"
      ]
     },
     "execution_count": 14,
     "metadata": {},
     "output_type": "execute_result"
    }
   ],
   "source": [
    "len(subjects)"
   ]
  },
  {
   "cell_type": "markdown",
   "id": "damaged-cover",
   "metadata": {},
   "source": [
    "### Demo"
   ]
  },
  {
   "cell_type": "code",
   "execution_count": 15,
   "id": "magnetic-preview",
   "metadata": {},
   "outputs": [],
   "source": [
    "qualitative_df = raw_df[(raw_df.experiment_id == EXPERIMENT_ID) & raw_df.trial_type.isin((\"survey-text\", \"survey-multi-choice\"))]"
   ]
  },
  {
   "cell_type": "code",
   "execution_count": 16,
   "id": "sufficient-narrative",
   "metadata": {},
   "outputs": [
    {
     "data": {
      "text/plain": [
       "<AxesSubplot:xlabel='survey_answer', ylabel='Count'>"
      ]
     },
     "execution_count": 16,
     "metadata": {},
     "output_type": "execute_result"
    },
    {
     "data": {
      "image/png": "[encoded data removed]",
      "text/plain": [
       "<Figure size 432x288 with 1 Axes>"
      ]
     },
     "metadata": {
      "needs_background": "light"
     },
     "output_type": "display_data"
    }
   ],
   "source": [
    "ages = qualitative_df[(qualitative_df.trial_type == \"survey-text\") & (qualitative_df.internal_node_id == \"0.0-0.0\")].survey_answer.astype(int)\n",
    "sns.histplot(ages)"
   ]
  },
  {
   "cell_type": "code",
   "execution_count": 17,
   "id": "suffering-sleeping",
   "metadata": {},
   "outputs": [
    {
     "data": {
      "text/plain": [
       "Bachelor's degree    4\n",
       "High school/GED      2\n",
       "Some college         2\n",
       "Master's degree      1\n",
       "Name: survey_answer, dtype: int64"
      ]
     },
     "execution_count": 17,
     "metadata": {},
     "output_type": "execute_result"
    }
   ],
   "source": [
    "education = qualitative_df[(qualitative_df.trial_type == \"survey-multi-choice\") & (qualitative_df.survey_question_idx == 0)].survey_answer\n",
    "education.value_counts()"
   ]
  },
  {
   "cell_type": "code",
   "execution_count": 18,
   "id": "pregnant-jacket",
   "metadata": {},
   "outputs": [
    {
     "data": {
      "text/plain": [
       "Yes    9\n",
       "Name: survey_answer, dtype: int64"
      ]
     },
     "execution_count": 18,
     "metadata": {},
     "output_type": "execute_result"
    }
   ],
   "source": [
    "native = qualitative_df[(qualitative_df.trial_type == \"survey-multi-choice\") & (qualitative_df.survey_question_idx == 1)].survey_answer\n",
    "native.value_counts()"
   ]
  },
  {
   "cell_type": "markdown",
   "id": "familiar-election",
   "metadata": {},
   "source": [
    "### Comments"
   ]
  },
  {
   "cell_type": "code",
   "execution_count": 19,
   "id": "regional-brooklyn",
   "metadata": {},
   "outputs": [
    {
     "data": {
      "text/plain": [
       "trial_index  uniqueid                                     \n",
       "45           A2RYP5HCVKX4A6:3U5NZHP4LSQE8V0TSBZKRURN8YXPHX          Great study enjoyed taking it.\n",
       "             AA7UHXL34FXUX:3AAJC4I4FHG4D5XP3K07U59GVP8JZH                                     good\n",
       "             AXY0D2AMLKE2A:3SB5N7Y3O4SXKI1YRK2CRTEELQ8G0I                  thanks a lot, stay safe\n",
       "             AG2YM9OWQP690:3B1NLC6UG0K08Z5I85H26UFMTYKPGY     Keep safe and have a great weekend. \n",
       "             AAXX5LDVJ32F8:3TMSXRD2X7OTOTCG28AUR1JCK64W10                                         \n",
       "             A9AEW25F48DT1:31Z0PCVWUL3F7YNOWJMS5R3QJYM7TI                  GATHER MORE INFORMATION\n",
       "             A1T9XW8SNUDDY7:3W8CV64QJ3NTG8KMBM3N54R83UHH9W                                        \n",
       "             A2Y0WNHMT4PZ4C:3NJM2BJS4XUNRNPD6JLJG3U7V6UCPD                                    None\n",
       "             ASCGS018A7IBT:37XITHEISXX8305SJBP8LYUMWOKCR7                                     none\n",
       "Name: survey_answer, dtype: object"
      ]
     },
     "execution_count": 19,
     "metadata": {},
     "output_type": "execute_result"
    }
   ],
   "source": [
    "qualitative_df[(qualitative_df.trial_type == \"survey-text\") & (qualitative_df.internal_node_id != \"0.0-0.0\")].survey_answer"
   ]
  },
  {
   "cell_type": "markdown",
   "id": "possible-benjamin",
   "metadata": {},
   "source": [
    "### Total times"
   ]
  },
  {
   "cell_type": "code",
   "execution_count": 20,
   "id": "remarkable-prescription",
   "metadata": {},
   "outputs": [
    {
     "data": {
      "text/plain": [
       "Text(0.5, 1.0, 'Total study time (minutes)')"
      ]
     },
     "execution_count": 20,
     "metadata": {},
     "output_type": "execute_result"
    },
    {
     "data": {
      "image/png": "[encoded data removed]",
      "text/plain": [
       "<Figure size 432x288 with 1 Axes>"
      ]
     },
     "metadata": {
      "needs_background": "light"
     },
     "output_type": "display_data"
    }
   ],
   "source": [
    "sns.histplot(pd.concat([response_df, qualitative_df]).groupby(\"uniqueid\").apply(lambda rows: rows.rt.sum() / 1000 / 60))\n",
    "plt.title(\"Total study time (minutes)\")"
   ]
  },
  {
   "cell_type": "code",
   "execution_count": 21,
   "id": "blocked-sharp",
   "metadata": {},
   "outputs": [
    {
     "data": {
      "text/plain": [
       "mean    3.247291\n",
       "std     1.703502\n",
       "Name: rt, dtype: float64"
      ]
     },
     "execution_count": 21,
     "metadata": {},
     "output_type": "execute_result"
    }
   ],
   "source": [
    "pd.concat([response_df, qualitative_df]).groupby(\"uniqueid\").rt.sum().apply(lambda xs: xs / 1000 / 60).agg([\"mean\", \"std\"])"
   ]
  },
  {
   "cell_type": "markdown",
   "id": "tracked-period",
   "metadata": {},
   "source": [
    "### Response times"
   ]
  },
  {
   "cell_type": "code",
   "execution_count": 22,
   "id": "extraordinary-yellow",
   "metadata": {},
   "outputs": [],
   "source": [
    "# sns.displot(data=response_df, x=\"rt\", hue=\"uniqueid\", kind=\"hist\")"
   ]
  },
  {
   "cell_type": "code",
   "execution_count": 23,
   "id": "successful-resolution",
   "metadata": {},
   "outputs": [
    {
     "data": {
      "text/plain": [
       "<seaborn.axisgrid.FacetGrid at 0x7f446c8adc40>"
      ]
     },
     "execution_count": 23,
     "metadata": {},
     "output_type": "execute_result"
    },
    {
     "data": {
      "image/png": "[encoded data removed]",
      "text/plain": [
       "<Figure size 705.75x360 with 1 Axes>"
      ]
     },
     "metadata": {
      "needs_background": "light"
     },
     "output_type": "display_data"
    }
   ],
   "source": [
    "response_df[\"rt.log\"] = np.log(response_df.rt)\n",
    "sns.displot(data=response_df, x=\"rt.log\", hue=\"uniqueid\", kind=\"kde\")"
   ]
  },
  {
   "cell_type": "markdown",
   "id": "removable-cancer",
   "metadata": {},
   "source": [
    "### How are people using the sliders?"
   ]
  },
  {
   "cell_type": "markdown",
   "id": "metropolitan-direction",
   "metadata": {},
   "source": [
    "- Stripplot points correspond to individual slider responses.\n",
    "- Responses are grouped horizontally by subject.\n",
    "- Transparent boxplots indicate filler response value for a particular subject. Red median lines / boxes indicate \"good\" fillers and blue indicate \"bad.\""
   ]
  },
  {
   "cell_type": "code",
   "execution_count": 24,
   "id": "numerical-space",
   "metadata": {},
   "outputs": [
    {
     "data": {
      "text/plain": [
       "<AxesSubplot:xlabel='uniqueid', ylabel='slider_value'>"
      ]
     },
     "execution_count": 24,
     "metadata": {},
     "output_type": "execute_result"
    },
    {
     "data": {
      "image/png": "[encoded data removed]",
      "text/plain": [
       "<Figure size 1800x1080 with 1 Axes>"
      ]
     },
     "metadata": {
      "needs_background": "light"
     },
     "output_type": "display_data"
    }
   ],
   "source": [
    "# Order S by descending difference between mean full-filler and empty-filler rating\n",
    "filler_rows = response_df[response_df.condition_0 == \"filler\"]\n",
    "filler_diffs = filler_rows.groupby(\"uniqueid\").apply(\n",
    "    lambda xs: xs[xs.condition_1 == \"good\"].slider_value.mean() - xs[xs.condition_1 == \"bad\"].slider_value.mean())\n",
    "subject_order = filler_diffs.sort_values(ascending=False).index\n",
    "\n",
    "plt.subplots(figsize=(25, 15))\n",
    "g = sns.stripplot(data=response_df.reset_index(), x=\"uniqueid\", y=\"slider_value\", order=subject_order)\n",
    "\n",
    "# plot filler responses\n",
    "sns.boxplot(data=response_df[(response_df.condition_0 == \"filler\") & (response_df.condition_1 == \"good\")].reset_index(),\n",
    "            x=\"uniqueid\", y=\"slider_value\", order=subject_order,\n",
    "            color=\"red\", medianprops=dict(color=\"red\"), flierprops=dict(markerfacecolor=\"red\"), boxprops=dict(alpha=0.3))\n",
    "sns.boxplot(data=response_df[(response_df.condition_0 == \"filler\") & (response_df.condition_1 == \"bad\")].reset_index(),\n",
    "            x=\"uniqueid\", y=\"slider_value\", order=subject_order, \n",
    "            color=\"blue\", medianprops=dict(color=\"blue\"), flierprops=dict(markerfacecolor=\"blue\"), boxprops=dict(alpha=0.3))"
   ]
  },
  {
   "cell_type": "markdown",
   "id": "separate-advisory",
   "metadata": {},
   "source": [
    "## Attention checks"
   ]
  },
  {
   "cell_type": "markdown",
   "id": "foster-klein",
   "metadata": {},
   "source": [
    "### Practice round"
   ]
  },
  {
   "cell_type": "code",
   "execution_count": 25,
   "id": "functioning-brush",
   "metadata": {},
   "outputs": [
    {
     "data": {
      "text/plain": [
       "uniqueid\n",
       "AA7UHXL34FXUX:3AAJC4I4FHG4D5XP3K07U59GVP8JZH    0.000000\n",
       "AG2YM9OWQP690:3B1NLC6UG0K08Z5I85H26UFMTYKPGY    0.666667\n",
       "dtype: float64"
      ]
     },
     "execution_count": 25,
     "metadata": {},
     "output_type": "execute_result"
    }
   ],
   "source": [
    "def compute_practice_success(subj_rows):\n",
    "    \"\"\"\n",
    "    Compute fraction of practice sentences for which response equals\n",
    "    ground truth.\n",
    "    \"\"\"\n",
    "    practice_rows = subj_rows[~subj_rows.practice_sentence.isna()]\n",
    "    practice_rows[[\"practice_rating\", \"practice_idx\"]] = practice_rows.practice_sentence.str.split(\"-\", 1, expand=True)\n",
    "    success = practice_rows[\"practice_rating\"].astype(int) == practice_rows[\"slider_value\"]\n",
    "    return success.mean()\n",
    "    \n",
    "practice_attention_failures = response_df.groupby(\"uniqueid\").apply(compute_practice_success)\n",
    "practice_attention_failures = practice_attention_failures[practice_attention_failures < 1]\n",
    "practice_attention_failures"
   ]
  },
  {
   "cell_type": "markdown",
   "id": "velvet-organ",
   "metadata": {},
   "source": [
    "### Fillers"
   ]
  },
  {
   "cell_type": "code",
   "execution_count": 26,
   "id": "given-clinton",
   "metadata": {},
   "outputs": [
    {
     "data": {
      "text/plain": [
       "<AxesSubplot:xlabel='t'>"
      ]
     },
     "execution_count": 26,
     "metadata": {},
     "output_type": "execute_result"
    },
    {
     "data": {
      "image/png": "[encoded data removed]",
      "text/plain": [
       "<Figure size 432x288 with 1 Axes>"
      ]
     },
     "metadata": {
      "needs_background": "light"
     },
     "output_type": "display_data"
    }
   ],
   "source": [
    "from scipy.stats import ttest_ind\n",
    "def compute_filler_ttest(subj_rows):\n",
    "    \"\"\"\n",
    "    sanity check: \"good\" items should be rated higher than \"bad\" filler items\n",
    "    \"\"\"\n",
    "    filler_rows = subj_rows[subj_rows.condition_0 == \"filler\"]\n",
    "    \n",
    "    good_filler = filler_rows[filler_rows.condition_1 == \"good\"]\n",
    "    bad_filler = filler_rows[filler_rows.condition_1 == \"bad\"]\n",
    "    \n",
    "    return pd.Series(ttest_ind(good_filler.slider_value, bad_filler.slider_value),\n",
    "                     index=[\"t\", \"pval\"])\n",
    "\n",
    "filler_stats = response_df.groupby(\"uniqueid\").apply(compute_filler_ttest)\n",
    "sns.boxplot(data=filler_stats.reset_index(), x=\"t\", hue=\"uniqueid\")"
   ]
  },
  {
   "cell_type": "code",
   "execution_count": 27,
   "id": "serious-regard",
   "metadata": {},
   "outputs": [
    {
     "data": {
      "text/html": [
       "<div>\n",
       "<style scoped>\n",
       "    .dataframe tbody tr th:only-of-type {\n",
       "        vertical-align: middle;\n",
       "    }\n",
       "\n",
       "    .dataframe tbody tr th {\n",
       "        vertical-align: top;\n",
       "    }\n",
       "\n",
       "    .dataframe thead th {\n",
       "        text-align: right;\n",
       "    }\n",
       "</style>\n",
       "<table border=\"1\" class=\"dataframe\">\n",
       "  <thead>\n",
       "    <tr style=\"text-align: right;\">\n",
       "      <th></th>\n",
       "      <th>t</th>\n",
       "      <th>pval</th>\n",
       "    </tr>\n",
       "    <tr>\n",
       "      <th>uniqueid</th>\n",
       "      <th></th>\n",
       "      <th></th>\n",
       "    </tr>\n",
       "  </thead>\n",
       "  <tbody>\n",
       "    <tr>\n",
       "      <th>AA7UHXL34FXUX:3AAJC4I4FHG4D5XP3K07U59GVP8JZH</th>\n",
       "      <td>-1.364576</td>\n",
       "      <td>1.892038e-01</td>\n",
       "    </tr>\n",
       "    <tr>\n",
       "      <th>ASCGS018A7IBT:37XITHEISXX8305SJBP8LYUMWOKCR7</th>\n",
       "      <td>0.541002</td>\n",
       "      <td>5.951390e-01</td>\n",
       "    </tr>\n",
       "    <tr>\n",
       "      <th>A9AEW25F48DT1:31Z0PCVWUL3F7YNOWJMS5R3QJYM7TI</th>\n",
       "      <td>1.767767</td>\n",
       "      <td>9.404695e-02</td>\n",
       "    </tr>\n",
       "    <tr>\n",
       "      <th>A2RYP5HCVKX4A6:3U5NZHP4LSQE8V0TSBZKRURN8YXPHX</th>\n",
       "      <td>4.706787</td>\n",
       "      <td>1.758166e-04</td>\n",
       "    </tr>\n",
       "    <tr>\n",
       "      <th>A1T9XW8SNUDDY7:3W8CV64QJ3NTG8KMBM3N54R83UHH9W</th>\n",
       "      <td>5.893636</td>\n",
       "      <td>1.402311e-05</td>\n",
       "    </tr>\n",
       "    <tr>\n",
       "      <th>AG2YM9OWQP690:3B1NLC6UG0K08Z5I85H26UFMTYKPGY</th>\n",
       "      <td>8.158924</td>\n",
       "      <td>1.849853e-07</td>\n",
       "    </tr>\n",
       "    <tr>\n",
       "      <th>A2Y0WNHMT4PZ4C:3NJM2BJS4XUNRNPD6JLJG3U7V6UCPD</th>\n",
       "      <td>10.446858</td>\n",
       "      <td>4.538550e-09</td>\n",
       "    </tr>\n",
       "    <tr>\n",
       "      <th>AAXX5LDVJ32F8:3TMSXRD2X7OTOTCG28AUR1JCK64W10</th>\n",
       "      <td>13.054332</td>\n",
       "      <td>1.285916e-10</td>\n",
       "    </tr>\n",
       "    <tr>\n",
       "      <th>AXY0D2AMLKE2A:3SB5N7Y3O4SXKI1YRK2CRTEELQ8G0I</th>\n",
       "      <td>15.293597</td>\n",
       "      <td>9.315533e-12</td>\n",
       "    </tr>\n",
       "  </tbody>\n",
       "</table>\n",
       "</div>"
      ],
      "text/plain": [
       "                                                       t          pval\n",
       "uniqueid                                                              \n",
       "AA7UHXL34FXUX:3AAJC4I4FHG4D5XP3K07U59GVP8JZH   -1.364576  1.892038e-01\n",
       "ASCGS018A7IBT:37XITHEISXX8305SJBP8LYUMWOKCR7    0.541002  5.951390e-01\n",
       "A9AEW25F48DT1:31Z0PCVWUL3F7YNOWJMS5R3QJYM7TI    1.767767  9.404695e-02\n",
       "A2RYP5HCVKX4A6:3U5NZHP4LSQE8V0TSBZKRURN8YXPHX   4.706787  1.758166e-04\n",
       "A1T9XW8SNUDDY7:3W8CV64QJ3NTG8KMBM3N54R83UHH9W   5.893636  1.402311e-05\n",
       "AG2YM9OWQP690:3B1NLC6UG0K08Z5I85H26UFMTYKPGY    8.158924  1.849853e-07\n",
       "A2Y0WNHMT4PZ4C:3NJM2BJS4XUNRNPD6JLJG3U7V6UCPD  10.446858  4.538550e-09\n",
       "AAXX5LDVJ32F8:3TMSXRD2X7OTOTCG28AUR1JCK64W10   13.054332  1.285916e-10\n",
       "AXY0D2AMLKE2A:3SB5N7Y3O4SXKI1YRK2CRTEELQ8G0I   15.293597  9.315533e-12"
      ]
     },
     "execution_count": 27,
     "metadata": {},
     "output_type": "execute_result"
    }
   ],
   "source": [
    "filler_stats.sort_values(\"t\")"
   ]
  },
  {
   "cell_type": "markdown",
   "id": "stable-raise",
   "metadata": {},
   "source": [
    "## Final data processing"
   ]
  },
  {
   "cell_type": "code",
   "execution_count": 28,
   "id": "intimate-insider",
   "metadata": {},
   "outputs": [],
   "source": [
    "exp_items = response_df[response_df.practice_sentence.isna()]"
   ]
  },
  {
   "cell_type": "markdown",
   "id": "bizarre-romantic",
   "metadata": {},
   "source": [
    "### Filter based on practice and attention checks"
   ]
  },
  {
   "cell_type": "code",
   "execution_count": 29,
   "id": "serial-floating",
   "metadata": {},
   "outputs": [
    {
     "name": "stdout",
     "output_type": "stream",
     "text": [
      "2 subjects (22.2%) disqualified and dropped due to failed practice.\n",
      "\tAA7UHXL34FXUX:3AAJC4I4FHG4D5XP3K07U59GVP8JZH\n",
      "\tAG2YM9OWQP690:3B1NLC6UG0K08Z5I85H26UFMTYKPGY\n",
      "2 subjects (22.2%, possibly overlapping with previous) disqualified and dropped due to failed attention checks.\n",
      "\tAA7UHXL34FXUX:3AAJC4I4FHG4D5XP3K07U59GVP8JZH\n",
      "\tASCGS018A7IBT:37XITHEISXX8305SJBP8LYUMWOKCR7\n"
     ]
    }
   ],
   "source": [
    "practice_drops = practice_attention_failures\n",
    "drop_pct = np.round(len(practice_drops) / len(subjects) * 100 if len(practice_attention_failures) > 0 else 0, 1)\n",
    "print(f\"{len(practice_drops)} subjects ({drop_pct}%) disqualified and dropped due to failed practice.\")\n",
    "print(\"\\t\" + \"\\n\\t\".join(practice_drops.index))\n",
    "exp_items = exp_items.drop(practice_drops.index, level=\"uniqueid\")\n",
    "\n",
    "attention_drops = filler_stats[(filler_stats.t < 0) | (filler_stats.pval > 1e-1) | filler_stats.t.isna()]\n",
    "drop_pct = np.round(len(attention_drops) / len(filler_stats.index) * 100, 1)\n",
    "print(f\"{len(attention_drops)} subjects ({drop_pct}%, possibly overlapping with previous) disqualified and dropped due to failed attention checks.\")\n",
    "print(\"\\t\" + \"\\n\\t\".join(attention_drops.index))\n",
    "exp_items = exp_items.drop(attention_drops.index, level=\"uniqueid\")"
   ]
  },
  {
   "cell_type": "code",
   "execution_count": 30,
   "id": "political-netscape",
   "metadata": {},
   "outputs": [
    {
     "name": "stdout",
     "output_type": "stream",
     "text": [
      "6 subjects remaining.\n"
     ]
    }
   ],
   "source": [
    "print(f\"{len(set(exp_items.index.get_level_values('uniqueid')))} subjects remaining.\")"
   ]
  },
  {
   "cell_type": "markdown",
   "id": "thrown-ridge",
   "metadata": {},
   "source": [
    "### Merge in materials"
   ]
  },
  {
   "cell_type": "code",
   "execution_count": 31,
   "id": "personalized-trinity",
   "metadata": {},
   "outputs": [],
   "source": [
    "import json\n",
    "def load_materials(mat):\n",
    "    with open(f\"../../materials/{mat}.json\") as f:\n",
    "        materials = json.load(f)\n",
    "    return pd.DataFrame.from_records(materials[\"items\"]).rename(columns={\"id\": \"item_id\"}).set_index(\"item_id\")\n",
    "\n",
    "materials_ids = sorted(set(exp_items.materials_id))\n",
    "materials_df = pd.concat([load_materials(mat) for mat in materials_ids], names=[\"materials_id\"], keys=materials_ids, axis=0)\n",
    "\n",
    "materials_df[\"AV\"] = materials_df.A.str.cat(materials_df.V, \" \")\n",
    "\n",
    "# NB this doesn't handle fillers correctly"
   ]
  },
  {
   "cell_type": "code",
   "execution_count": 32,
   "id": "stunning-ballot",
   "metadata": {},
   "outputs": [],
   "source": [
    "keep_cols = [\"A\", \"V\", \"L\", \"AV\", \"A concrete?\", \"A countable?\"]\n",
    "merged_df = pd.merge(exp_items, materials_df[keep_cols], left_on=[\"materials_id\", \"item_id\"], right_index=True)"
   ]
  },
  {
   "cell_type": "markdown",
   "id": "seven-duncan",
   "metadata": {},
   "source": [
    "### Export"
   ]
  },
  {
   "cell_type": "code",
   "execution_count": 33,
   "id": "accessory-bridge",
   "metadata": {},
   "outputs": [],
   "source": [
    "merged_df.to_csv(\"merged_df.csv\")"
   ]
  },
  {
   "cell_type": "markdown",
   "id": "northern-gnome",
   "metadata": {},
   "source": [
    "## Analysis"
   ]
  },
  {
   "cell_type": "code",
   "execution_count": 52,
   "id": "satisfactory-mississippi",
   "metadata": {},
   "outputs": [
    {
     "data": {
      "text/plain": [
       "<AxesSubplot:xlabel='condition', ylabel='slider_zscore'>"
      ]
     },
     "execution_count": 52,
     "metadata": {},
     "output_type": "execute_result"
    },
    {
     "data": {
      "image/png": "[encoded data removed]",
      "text/plain": [
       "<Figure size 1080x1080 with 1 Axes>"
      ]
     },
     "metadata": {
      "needs_background": "light"
     },
     "output_type": "display_data"
    }
   ],
   "source": [
    "def condition_shortname(row):\n",
    "    if row.condition_0 == \"filler\":\n",
    "        return row.condition_1\n",
    "    else:\n",
    "        return \"g\" + (\"A\" if row.condition_0 == 1 else \"L\") + \\\n",
    "            \"c\" + (\"A\" if row.condition_1 == 1 else \"L\")\n",
    "        \n",
    "acceptability_df = merged_df.copy()\n",
    "acceptability_df[\"condition\"] = acceptability_df.apply(condition_shortname, axis=1)\n",
    "acceptability_df = acceptability_df.reset_index().set_index([\"uniqueid\", \"condition\", \"item_id\"])\n",
    "\n",
    "plt.subplots(figsize=(15, 15))\n",
    "order = [\"good\", \"gLcL\", \"gLcA\", \"gAcL\", \"gAcA\", \"bad\"]\n",
    "sns.barplot(data=acceptability_df.reset_index(),\n",
    "            x=\"condition\", y=\"slider_zscore\", \n",
    "            order=hue_order)"
   ]
  },
  {
   "cell_type": "code",
   "execution_count": 46,
   "id": "collective-barcelona",
   "metadata": {},
   "outputs": [
    {
     "data": {
      "text/plain": [
       "<AxesSubplot:xlabel='uniqueid', ylabel='slider_value'>"
      ]
     },
     "execution_count": 46,
     "metadata": {},
     "output_type": "execute_result"
    },
    {
     "data": {
      "image/png": "[encoded data removed]",
      "text/plain": [
       "<Figure size 1080x1080 with 1 Axes>"
      ]
     },
     "metadata": {
      "needs_background": "light"
     },
     "output_type": "display_data"
    }
   ],
   "source": [
    "def condition_shortname(row):\n",
    "    if row.condition_0 == \"filler\":\n",
    "        return row.condition_1\n",
    "    else:\n",
    "        return \"g\" + (\"A\" if row.condition_0 == 1 else \"L\") + \\\n",
    "            \"c\" + (\"A\" if row.condition_1 == 1 else \"L\")\n",
    "        \n",
    "acceptability_df = merged_df.copy()\n",
    "acceptability_df[\"condition\"] = acceptability_df.apply(condition_shortname, axis=1)\n",
    "acceptability_df = acceptability_df.reset_index().set_index([\"uniqueid\", \"condition\", \"item_id\"])\n",
    "\n",
    "plt.subplots(figsize=(15, 15))\n",
    "hue_order = [\"good\", \"gLcL\", \"gLcA\", \"gAcL\", \"gAcA\", \"bad\"]\n",
    "sns.barplot(data=acceptability_df.reset_index(),\n",
    "            x=\"uniqueid\", y=\"slider_value\", \n",
    "            hue=\"condition\", hue_order=hue_order)"
   ]
  },
  {
   "cell_type": "code",
   "execution_count": 48,
   "id": "increasing-appraisal",
   "metadata": {},
   "outputs": [
    {
     "data": {
      "text/html": [
       "<div>\n",
       "<style scoped>\n",
       "    .dataframe tbody tr th:only-of-type {\n",
       "        vertical-align: middle;\n",
       "    }\n",
       "\n",
       "    .dataframe tbody tr th {\n",
       "        vertical-align: top;\n",
       "    }\n",
       "\n",
       "    .dataframe thead th {\n",
       "        text-align: right;\n",
       "    }\n",
       "</style>\n",
       "<table border=\"1\" class=\"dataframe\">\n",
       "  <thead>\n",
       "    <tr style=\"text-align: right;\">\n",
       "      <th></th>\n",
       "      <th>location_t</th>\n",
       "      <th>location_pval</th>\n",
       "      <th>agent_t</th>\n",
       "      <th>agent_pval</th>\n",
       "    </tr>\n",
       "    <tr>\n",
       "      <th>uniqueid</th>\n",
       "      <th></th>\n",
       "      <th></th>\n",
       "      <th></th>\n",
       "      <th></th>\n",
       "    </tr>\n",
       "  </thead>\n",
       "  <tbody>\n",
       "    <tr>\n",
       "      <th>A1T9XW8SNUDDY7:3W8CV64QJ3NTG8KMBM3N54R83UHH9W</th>\n",
       "      <td>5.153435</td>\n",
       "      <td>6.668617e-05</td>\n",
       "      <td>5.238787</td>\n",
       "      <td>8.111737e-05</td>\n",
       "    </tr>\n",
       "    <tr>\n",
       "      <th>A2RYP5HCVKX4A6:3U5NZHP4LSQE8V0TSBZKRURN8YXPHX</th>\n",
       "      <td>5.021167</td>\n",
       "      <td>2.340426e-04</td>\n",
       "      <td>2.835761</td>\n",
       "      <td>9.901470e-03</td>\n",
       "    </tr>\n",
       "    <tr>\n",
       "      <th>A2Y0WNHMT4PZ4C:3NJM2BJS4XUNRNPD6JLJG3U7V6UCPD</th>\n",
       "      <td>10.098183</td>\n",
       "      <td>4.495542e-09</td>\n",
       "      <td>9.105611</td>\n",
       "      <td>1.689127e-07</td>\n",
       "    </tr>\n",
       "    <tr>\n",
       "      <th>A9AEW25F48DT1:31Z0PCVWUL3F7YNOWJMS5R3QJYM7TI</th>\n",
       "      <td>1.377995</td>\n",
       "      <td>1.842186e-01</td>\n",
       "      <td>1.274523</td>\n",
       "      <td>2.218693e-01</td>\n",
       "    </tr>\n",
       "    <tr>\n",
       "      <th>AAXX5LDVJ32F8:3TMSXRD2X7OTOTCG28AUR1JCK64W10</th>\n",
       "      <td>6.976220</td>\n",
       "      <td>4.453612e-06</td>\n",
       "      <td>9.466074</td>\n",
       "      <td>1.264289e-08</td>\n",
       "    </tr>\n",
       "    <tr>\n",
       "      <th>AXY0D2AMLKE2A:3SB5N7Y3O4SXKI1YRK2CRTEELQ8G0I</th>\n",
       "      <td>10.393190</td>\n",
       "      <td>1.601963e-08</td>\n",
       "      <td>7.794229</td>\n",
       "      <td>3.544796e-07</td>\n",
       "    </tr>\n",
       "  </tbody>\n",
       "</table>\n",
       "</div>"
      ],
      "text/plain": [
       "                                               location_t  location_pval  \\\n",
       "uniqueid                                                                   \n",
       "A1T9XW8SNUDDY7:3W8CV64QJ3NTG8KMBM3N54R83UHH9W    5.153435   6.668617e-05   \n",
       "A2RYP5HCVKX4A6:3U5NZHP4LSQE8V0TSBZKRURN8YXPHX    5.021167   2.340426e-04   \n",
       "A2Y0WNHMT4PZ4C:3NJM2BJS4XUNRNPD6JLJG3U7V6UCPD   10.098183   4.495542e-09   \n",
       "A9AEW25F48DT1:31Z0PCVWUL3F7YNOWJMS5R3QJYM7TI     1.377995   1.842186e-01   \n",
       "AAXX5LDVJ32F8:3TMSXRD2X7OTOTCG28AUR1JCK64W10     6.976220   4.453612e-06   \n",
       "AXY0D2AMLKE2A:3SB5N7Y3O4SXKI1YRK2CRTEELQ8G0I    10.393190   1.601963e-08   \n",
       "\n",
       "                                                agent_t    agent_pval  \n",
       "uniqueid                                                               \n",
       "A1T9XW8SNUDDY7:3W8CV64QJ3NTG8KMBM3N54R83UHH9W  5.238787  8.111737e-05  \n",
       "A2RYP5HCVKX4A6:3U5NZHP4LSQE8V0TSBZKRURN8YXPHX  2.835761  9.901470e-03  \n",
       "A2Y0WNHMT4PZ4C:3NJM2BJS4XUNRNPD6JLJG3U7V6UCPD  9.105611  1.689127e-07  \n",
       "A9AEW25F48DT1:31Z0PCVWUL3F7YNOWJMS5R3QJYM7TI   1.274523  2.218693e-01  \n",
       "AAXX5LDVJ32F8:3TMSXRD2X7OTOTCG28AUR1JCK64W10   9.466074  1.264289e-08  \n",
       "AXY0D2AMLKE2A:3SB5N7Y3O4SXKI1YRK2CRTEELQ8G0I   7.794229  3.544796e-07  "
      ]
     },
     "execution_count": 48,
     "metadata": {},
     "output_type": "execute_result"
    }
   ],
   "source": [
    "def test_within_subject(rows):\n",
    "    baseline = rows[(rows.condition_0 == \"filler\") & (rows.condition_1 == \"bad\")].slider_value\n",
    "    critical_rows = rows[~(rows.condition_0 == \"filler\")].set_index(\"agent_is_subject\").slider_value\n",
    "    \n",
    "    location_t, location_pval = ttest_ind(critical_rows.loc[False], baseline)\n",
    "    agent_t, agent_pval = ttest_ind(critical_rows.loc[True], baseline)\n",
    "    return pd.Series({\"location_t\": location_t, \"location_pval\": location_pval,\n",
    "                      \"agent_t\": agent_t, \"agent_pval\": agent_pval})\n",
    "merged_df.groupby(\"uniqueid\").apply(test_within_subject)"
   ]
  },
  {
   "cell_type": "code",
   "execution_count": 47,
   "id": "considerable-empire",
   "metadata": {},
   "outputs": [
    {
     "data": {
      "text/plain": [
       "(array([ 0,  1,  2,  3,  4,  5,  6,  7,  8,  9, 10, 11, 12, 13, 14, 15, 16,\n",
       "        17]),\n",
       " [Text(0, 0, 'excitement puls'),\n",
       "  Text(1, 0, 'trepidation shak'),\n",
       "  Text(2, 0, 'energy humm'),\n",
       "  Text(3, 0, 'anticipation tingl'),\n",
       "  Text(4, 0, 'debris flow'),\n",
       "  Text(5, 0, 'bubbles foam'),\n",
       "  Text(6, 0, 'people bustl'),\n",
       "  Text(7, 0, 'fear prickl'),\n",
       "  Text(8, 0, 'excitement crackl'),\n",
       "  Text(9, 0, 'birds flutter'),\n",
       "  Text(10, 0, 'lights glow'),\n",
       "  Text(11, 0, 'terror cours'),\n",
       "  Text(12, 0, 'frogs hopp'),\n",
       "  Text(13, 0, 'sewage runn'),\n",
       "  Text(14, 0, 'worms wriggl'),\n",
       "  Text(15, 0, 'tadpoles swimm'),\n",
       "  Text(16, 0, 'fireflies glimmer'),\n",
       "  Text(17, 0, 'cockroaches creep')])"
      ]
     },
     "execution_count": 47,
     "metadata": {},
     "output_type": "execute_result"
    },
    {
     "data": {
      "image/png": "[encoded data removed]",
      "text/plain": [
       "<Figure size 1440x720 with 1 Axes>"
      ]
     },
     "metadata": {
      "needs_background": "light"
     },
     "output_type": "display_data"
    }
   ],
   "source": [
    "exp_conditions = [\"gLcL\", \"gLcA\", \"gAcL\", \"gAcA\"]\n",
    "item_graph_data = acceptability_df.loc[(slice(None), exp_conditions), :].reset_index()\n",
    "order = item_graph_data.groupby([\"item_id\", \"AV\"]).slider_zscore.mean().sort_values().index.get_level_values(1)\n",
    "\n",
    "plt.subplots(figsize=(20, 10))\n",
    "sns.barplot(data=item_graph_data, \n",
    "            x=\"AV\", order=order,\n",
    "            y=\"slider_zscore\",\n",
    "            hue=\"condition\", hue_order=exp_conditions)\n",
    "plt.xticks(rotation=35, ha=\"right\")"
   ]
  },
  {
   "cell_type": "markdown",
   "id": "cardiac-crown",
   "metadata": {},
   "source": [
    "### Item exposure"
   ]
  },
  {
   "cell_type": "code",
   "execution_count": 49,
   "id": "restricted-tunnel",
   "metadata": {},
   "outputs": [
    {
     "data": {
      "text/plain": [
       "item_id  AV                  agent_is_subject\n",
       "19.0     bubbles foam        False               1\n",
       "6.0      terror cours        True                1\n",
       "39.0     sewage runn         False               1\n",
       "56.0     tadpoles swimm      False               1\n",
       "41.0     trepidation shak    True                1\n",
       "25.0     energy humm         False               2\n",
       "24.0     frogs hopp          True                2\n",
       "8.0      cockroaches creep   True                2\n",
       "64.0     worms wriggl        False               2\n",
       "22.0     lights glow         False               2\n",
       "18.0     birds flutter       True                2\n",
       "30.0     fear prickl         False               3\n",
       "31.0     excitement puls     True                3\n",
       "20.0     fireflies glimmer   True                3\n",
       "4.0      people bustl        False               3\n",
       "30.0     fear prickl         True                3\n",
       "17.0     debris flow         True                3\n",
       "                             False               3\n",
       "58.0     anticipation tingl  False               3\n",
       "7.0      excitement crackl   True                3\n",
       "                             False               3\n",
       "58.0     anticipation tingl  True                3\n",
       "4.0      people bustl        True                3\n",
       "20.0     fireflies glimmer   False               3\n",
       "31.0     excitement puls     False               3\n",
       "22.0     lights glow         True                4\n",
       "24.0     frogs hopp          False               4\n",
       "18.0     birds flutter       False               4\n",
       "8.0      cockroaches creep   False               4\n",
       "25.0     energy humm         True                4\n",
       "64.0     worms wriggl        True                4\n",
       "39.0     sewage runn         True                5\n",
       "41.0     trepidation shak    False               5\n",
       "19.0     bubbles foam        True                5\n",
       "56.0     tadpoles swimm      True                5\n",
       "6.0      terror cours        False               5\n",
       "dtype: int64"
      ]
     },
     "execution_count": 49,
     "metadata": {},
     "output_type": "execute_result"
    }
   ],
   "source": [
    "merged_df[merged_df.condition_0 != \"filler\"] \\\n",
    "    .groupby([\"item_id\", \"AV\", \"agent_is_subject\"]).size().sort_values()"
   ]
  },
  {
   "cell_type": "markdown",
   "id": "outstanding-rebate",
   "metadata": {},
   "source": [
    "### Concreteness"
   ]
  },
  {
   "cell_type": "code",
   "execution_count": 50,
   "id": "separated-transportation",
   "metadata": {},
   "outputs": [
    {
     "data": {
      "text/plain": [
       "uniqueid                                       condition  item_id\n",
       "A2RYP5HCVKX4A6:3U5NZHP4LSQE8V0TSBZKRURN8YXPHX  good       27.0        True\n",
       "AXY0D2AMLKE2A:3SB5N7Y3O4SXKI1YRK2CRTEELQ8G0I   good       27.0        True\n",
       "AAXX5LDVJ32F8:3TMSXRD2X7OTOTCG28AUR1JCK64W10   good       27.0        True\n",
       "A2Y0WNHMT4PZ4C:3NJM2BJS4XUNRNPD6JLJG3U7V6UCPD  good       27.0        True\n",
       "A2RYP5HCVKX4A6:3U5NZHP4LSQE8V0TSBZKRURN8YXPHX  good       21.0        True\n",
       "                                                                     ...  \n",
       "A9AEW25F48DT1:31Z0PCVWUL3F7YNOWJMS5R3QJYM7TI   bad        5.0        False\n",
       "A1T9XW8SNUDDY7:3W8CV64QJ3NTG8KMBM3N54R83UHH9W  bad        5.0        False\n",
       "A2Y0WNHMT4PZ4C:3NJM2BJS4XUNRNPD6JLJG3U7V6UCPD  bad        5.0        False\n",
       "A9AEW25F48DT1:31Z0PCVWUL3F7YNOWJMS5R3QJYM7TI   good       28.0        True\n",
       "A1T9XW8SNUDDY7:3W8CV64QJ3NTG8KMBM3N54R83UHH9W  good       28.0        True\n",
       "Name: A concrete?, Length: 228, dtype: object"
      ]
     },
     "execution_count": 50,
     "metadata": {},
     "output_type": "execute_result"
    }
   ],
   "source": [
    "acceptability_df[\"A concrete?\"]"
   ]
  },
  {
   "cell_type": "code",
   "execution_count": 51,
   "id": "integral-boutique",
   "metadata": {},
   "outputs": [
    {
     "data": {
      "text/plain": [
       "<AxesSubplot:xlabel='condition', ylabel='slider_zscore'>"
      ]
     },
     "execution_count": 51,
     "metadata": {},
     "output_type": "execute_result"
    },
    {
     "data": {
      "image/png": "[encoded data removed]",
      "text/plain": [
       "<Figure size 432x288 with 1 Axes>"
      ]
     },
     "metadata": {
      "needs_background": "light"
     },
     "output_type": "display_data"
    }
   ],
   "source": [
    "sns.barplot(data=acceptability_df.loc[(slice(None), exp_conditions), :].reset_index(),\n",
    "            x=\"condition\", y=\"slider_zscore\", hue=\"A concrete?\")"
   ]
  },
  {
   "cell_type": "code",
   "execution_count": null,
   "id": "joined-thesis",
   "metadata": {},
   "outputs": [],
   "source": []
  }
 ],
 "metadata": {
  "kernelspec": {
   "display_name": "Python 3",
   "language": "python",
   "name": "python3"
  },
  "language_info": {
   "codemirror_mode": {
    "name": "ipython",
    "version": 3
   },
   "file_extension": ".py",
   "mimetype": "text/x-python",
   "name": "python",
   "nbconvert_exporter": "python",
   "pygments_lexer": "ipython3",
   "version": "3.8.8"
  }
 },
 "nbformat": 4,
 "nbformat_minor": 5
}
