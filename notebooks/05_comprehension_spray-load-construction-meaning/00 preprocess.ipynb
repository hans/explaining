{
 "cells": [
  {
   "cell_type": "code",
   "execution_count": 1,
   "id": "happy-partner",
   "metadata": {},
   "outputs": [],
   "source": [
    "import sys\n",
    "sys.path.append(\"../../src\")"
   ]
  },
  {
   "cell_type": "code",
   "execution_count": 2,
   "id": "minor-conversion",
   "metadata": {},
   "outputs": [],
   "source": [
    "%load_ext autoreload\n",
    "%autoreload 2"
   ]
  },
  {
   "cell_type": "code",
   "execution_count": 3,
   "id": "understanding-memorabilia",
   "metadata": {},
   "outputs": [],
   "source": [
    "import numpy as np\n",
    "import pandas as pd\n",
    "import seaborn as sns\n",
    "from matplotlib import pyplot as plt"
   ]
  },
  {
   "cell_type": "markdown",
   "id": "powered-church",
   "metadata": {},
   "source": [
    "## Load and preprocess data"
   ]
  },
  {
   "cell_type": "code",
   "execution_count": 4,
   "id": "every-forge",
   "metadata": {},
   "outputs": [],
   "source": [
    "import data"
   ]
  },
  {
   "cell_type": "code",
   "execution_count": 14,
   "id": "universal-toronto",
   "metadata": {},
   "outputs": [
    {
     "name": "stderr",
     "output_type": "stream",
     "text": [
      "Missing datastring for uid A1I3TPX8GA7ISU:3634BBTX0PI2DDMJKQL1T7BJTU3IF4. Status was 1.\n",
      "Missing datastring for uid A33LYSCQQU1YDJ:31JLPPHS2VIHTNHTYQX3Y0LM83NO3X. Status was 1.\n",
      "Missing datastring for uid debugL9306E:debugJT1KTE. Status was 1.\n",
      "Missing datastring for uid A1VWP7HOSGKATD:37WLF8U1WQEX0FJWJ038YMGXYHE6KK. Status was 1.\n",
      "Missing datastring for uid A6QDP0HAGE9W5:3V0Z7YWSIZONYPU7V25CAIA2YANV2I. Status was 1.\n",
      "Missing datastring for uid A19VDBNACNJNI8:3ZY8KE4ISKR4Q8WSXDVD6085GQIQVU. Status was 1.\n",
      "Missing datastring for uid AQ5TMPEPN5UIP:3QUO65DNQVC1SHUCDAT4L9BMNIZUO9. Status was 1.\n",
      "Missing datastring for uid A3I1W58P6SIV26:3LEP4MGT3HOVSLUHNAYT5P7ZWFIBD3. Status was 1.\n",
      "Missing datastring for uid debug867J0M:debugHTHIZK. Status was 1.\n",
      "Missing datastring for uid debugNVWNGX:debug7T49K6. Status was 1.\n",
      "Missing datastring for uid debugNVWNGY:debug7T49K6. Status was 1.\n"
     ]
    }
   ],
   "source": [
    "# set db path hackily\n",
    "data._get_connection(\"../../data/participants.db\")\n",
    "\n",
    "EXPERIMENT_ID = \"05_comprehension_spray-load-construction-meaning\"\n",
    "\n",
    "raw_df = data.get_trials_df(data.load_raw_results(),\n",
    "                            (\"experiment_id\", \"materials_id\", \"item_id\", \"condition_id\"))\n",
    "\n",
    "response_df = raw_df[(raw_df.experiment_id == EXPERIMENT_ID) & (raw_df.trial_type == \"html-slider-response-with-copout\")]"
   ]
  },
  {
   "cell_type": "code",
   "execution_count": 15,
   "id": "super-outdoors",
   "metadata": {},
   "outputs": [
    {
     "name": "stdout",
     "output_type": "stream",
     "text": [
      "Dropping 0 dupe results.\n"
     ]
    }
   ],
   "source": [
    "# Drop dupes.\n",
    "print(f\"Dropping {response_df.index.duplicated().sum()} dupe results.\")\n",
    "response_df = response_df[~response_df.index.duplicated()]"
   ]
  },
  {
   "cell_type": "code",
   "execution_count": 16,
   "id": "impossible-appliance",
   "metadata": {},
   "outputs": [],
   "source": [
    "# Expand condition data\n",
    "response_df = pd.concat([response_df,\n",
    "                         response_df.condition_id.apply(pd.Series).rename(columns=lambda k: f\"condition_{k}\")],\n",
    "                        axis=1) \\\n",
    "    .drop(columns=\"condition_id\")"
   ]
  },
  {
   "cell_type": "code",
   "execution_count": 17,
   "id": "amino-flash",
   "metadata": {},
   "outputs": [],
   "source": [
    "# Convert condition_id to independent features\n",
    "response_df[\"theme_is_object\"] = response_df[\"condition_0\"] == 1\n",
    "response_df[\"location_is_heavy\"] = response_df[\"condition_1\"] == 1\n",
    "response_df[\"theme_is_heavy\"] = response_df[\"condition_2\"] == 1"
   ]
  },
  {
   "cell_type": "code",
   "execution_count": 18,
   "id": "stock-gathering",
   "metadata": {},
   "outputs": [],
   "source": [
    "# Norm slider values within-subject.\n",
    "response_df[\"slider_value_normed\"] = \\\n",
    "    response_df.groupby(\"uniqueid\").slider_value.apply(lambda xs: (xs - xs.mean()) / xs.std())"
   ]
  },
  {
   "cell_type": "code",
   "execution_count": 19,
   "id": "early-proposal",
   "metadata": {},
   "outputs": [],
   "source": [
    "# dtype fixes\n",
    "response_df[\"slider_copout\"] = response_df.slider_copout.astype(bool)\n",
    "response_df[\"dateTime\"] = pd.to_datetime(response_df.dateTime, unit=\"ms\")"
   ]
  },
  {
   "cell_type": "code",
   "execution_count": 20,
   "id": "representative-flour",
   "metadata": {},
   "outputs": [
    {
     "data": {
      "text/html": [
       "<div>\n",
       "<style scoped>\n",
       "    .dataframe tbody tr th:only-of-type {\n",
       "        vertical-align: middle;\n",
       "    }\n",
       "\n",
       "    .dataframe tbody tr th {\n",
       "        vertical-align: top;\n",
       "    }\n",
       "\n",
       "    .dataframe thead th {\n",
       "        text-align: right;\n",
       "    }\n",
       "</style>\n",
       "<table border=\"1\" class=\"dataframe\">\n",
       "  <thead>\n",
       "    <tr style=\"text-align: right;\">\n",
       "      <th></th>\n",
       "      <th></th>\n",
       "      <th>condition</th>\n",
       "      <th>counterbalance</th>\n",
       "      <th>assignmentId</th>\n",
       "      <th>workerId</th>\n",
       "      <th>hitId</th>\n",
       "      <th>trial_type</th>\n",
       "      <th>rt</th>\n",
       "      <th>internal_node_id</th>\n",
       "      <th>dateTime</th>\n",
       "      <th>experiment_id</th>\n",
       "      <th>...</th>\n",
       "      <th>survey_answer</th>\n",
       "      <th>slider_value</th>\n",
       "      <th>slider_copout</th>\n",
       "      <th>condition_0</th>\n",
       "      <th>condition_1</th>\n",
       "      <th>condition_2</th>\n",
       "      <th>theme_is_object</th>\n",
       "      <th>location_is_heavy</th>\n",
       "      <th>theme_is_heavy</th>\n",
       "      <th>slider_value_normed</th>\n",
       "    </tr>\n",
       "    <tr>\n",
       "      <th>trial_index</th>\n",
       "      <th>uniqueid</th>\n",
       "      <th></th>\n",
       "      <th></th>\n",
       "      <th></th>\n",
       "      <th></th>\n",
       "      <th></th>\n",
       "      <th></th>\n",
       "      <th></th>\n",
       "      <th></th>\n",
       "      <th></th>\n",
       "      <th></th>\n",
       "      <th></th>\n",
       "      <th></th>\n",
       "      <th></th>\n",
       "      <th></th>\n",
       "      <th></th>\n",
       "      <th></th>\n",
       "      <th></th>\n",
       "      <th></th>\n",
       "      <th></th>\n",
       "      <th></th>\n",
       "      <th></th>\n",
       "    </tr>\n",
       "  </thead>\n",
       "  <tbody>\n",
       "    <tr>\n",
       "      <th>3</th>\n",
       "      <th>debug867J0L:debugHTHIZK</th>\n",
       "      <td>0</td>\n",
       "      <td>0</td>\n",
       "      <td>debugHTHIZK</td>\n",
       "      <td>debug867J0L</td>\n",
       "      <td>debugYNMXK2</td>\n",
       "      <td>html-slider-response-with-copout</td>\n",
       "      <td>3395.8</td>\n",
       "      <td>0.0-3.0</td>\n",
       "      <td>2021-09-22 14:59:25.346</td>\n",
       "      <td>05_comprehension_spray-load-construction-meaning</td>\n",
       "      <td>...</td>\n",
       "      <td>NaN</td>\n",
       "      <td>100.0</td>\n",
       "      <td>False</td>\n",
       "      <td>practice</td>\n",
       "      <td>fill</td>\n",
       "      <td>full</td>\n",
       "      <td>False</td>\n",
       "      <td>False</td>\n",
       "      <td>False</td>\n",
       "      <td>0.911219</td>\n",
       "    </tr>\n",
       "    <tr>\n",
       "      <th>4</th>\n",
       "      <th>debug867J0L:debugHTHIZK</th>\n",
       "      <td>0</td>\n",
       "      <td>0</td>\n",
       "      <td>debugHTHIZK</td>\n",
       "      <td>debug867J0L</td>\n",
       "      <td>debugYNMXK2</td>\n",
       "      <td>html-slider-response-with-copout</td>\n",
       "      <td>2544.8</td>\n",
       "      <td>0.0-4.0</td>\n",
       "      <td>2021-09-22 14:59:27.896</td>\n",
       "      <td>05_comprehension_spray-load-construction-meaning</td>\n",
       "      <td>...</td>\n",
       "      <td>NaN</td>\n",
       "      <td>100.0</td>\n",
       "      <td>False</td>\n",
       "      <td>practice</td>\n",
       "      <td>fill</td>\n",
       "      <td>full</td>\n",
       "      <td>False</td>\n",
       "      <td>False</td>\n",
       "      <td>False</td>\n",
       "      <td>0.911219</td>\n",
       "    </tr>\n",
       "    <tr>\n",
       "      <th>5</th>\n",
       "      <th>debug867J0L:debugHTHIZK</th>\n",
       "      <td>0</td>\n",
       "      <td>0</td>\n",
       "      <td>debugHTHIZK</td>\n",
       "      <td>debug867J0L</td>\n",
       "      <td>debugYNMXK2</td>\n",
       "      <td>html-slider-response-with-copout</td>\n",
       "      <td>2002.9</td>\n",
       "      <td>0.0-5.0</td>\n",
       "      <td>2021-09-22 14:59:29.903</td>\n",
       "      <td>05_comprehension_spray-load-construction-meaning</td>\n",
       "      <td>...</td>\n",
       "      <td>NaN</td>\n",
       "      <td>0.0</td>\n",
       "      <td>False</td>\n",
       "      <td>practice</td>\n",
       "      <td>cover</td>\n",
       "      <td>empty</td>\n",
       "      <td>False</td>\n",
       "      <td>False</td>\n",
       "      <td>False</td>\n",
       "      <td>-1.825174</td>\n",
       "    </tr>\n",
       "    <tr>\n",
       "      <th>6</th>\n",
       "      <th>debug867J0L:debugHTHIZK</th>\n",
       "      <td>0</td>\n",
       "      <td>0</td>\n",
       "      <td>debugHTHIZK</td>\n",
       "      <td>debug867J0L</td>\n",
       "      <td>debugYNMXK2</td>\n",
       "      <td>html-slider-response-with-copout</td>\n",
       "      <td>2578.6</td>\n",
       "      <td>0.0-6.0</td>\n",
       "      <td>2021-09-22 14:59:32.486</td>\n",
       "      <td>05_comprehension_spray-load-construction-meaning</td>\n",
       "      <td>...</td>\n",
       "      <td>NaN</td>\n",
       "      <td>0.0</td>\n",
       "      <td>False</td>\n",
       "      <td>practice</td>\n",
       "      <td>fill</td>\n",
       "      <td>empty</td>\n",
       "      <td>False</td>\n",
       "      <td>False</td>\n",
       "      <td>False</td>\n",
       "      <td>-1.825174</td>\n",
       "    </tr>\n",
       "    <tr>\n",
       "      <th>7</th>\n",
       "      <th>debug867J0L:debugHTHIZK</th>\n",
       "      <td>0</td>\n",
       "      <td>0</td>\n",
       "      <td>debugHTHIZK</td>\n",
       "      <td>debug867J0L</td>\n",
       "      <td>debugYNMXK2</td>\n",
       "      <td>html-slider-response-with-copout</td>\n",
       "      <td>2632.1</td>\n",
       "      <td>0.0-7.0</td>\n",
       "      <td>2021-09-22 14:59:35.123</td>\n",
       "      <td>05_comprehension_spray-load-construction-meaning</td>\n",
       "      <td>...</td>\n",
       "      <td>NaN</td>\n",
       "      <td>100.0</td>\n",
       "      <td>False</td>\n",
       "      <td>practice</td>\n",
       "      <td>cover</td>\n",
       "      <td>full</td>\n",
       "      <td>False</td>\n",
       "      <td>False</td>\n",
       "      <td>False</td>\n",
       "      <td>0.911219</td>\n",
       "    </tr>\n",
       "  </tbody>\n",
       "</table>\n",
       "<p>5 rows × 23 columns</p>\n",
       "</div>"
      ],
      "text/plain": [
       "                                     condition  counterbalance assignmentId  \\\n",
       "trial_index uniqueid                                                          \n",
       "3           debug867J0L:debugHTHIZK          0               0  debugHTHIZK   \n",
       "4           debug867J0L:debugHTHIZK          0               0  debugHTHIZK   \n",
       "5           debug867J0L:debugHTHIZK          0               0  debugHTHIZK   \n",
       "6           debug867J0L:debugHTHIZK          0               0  debugHTHIZK   \n",
       "7           debug867J0L:debugHTHIZK          0               0  debugHTHIZK   \n",
       "\n",
       "                                        workerId        hitId  \\\n",
       "trial_index uniqueid                                            \n",
       "3           debug867J0L:debugHTHIZK  debug867J0L  debugYNMXK2   \n",
       "4           debug867J0L:debugHTHIZK  debug867J0L  debugYNMXK2   \n",
       "5           debug867J0L:debugHTHIZK  debug867J0L  debugYNMXK2   \n",
       "6           debug867J0L:debugHTHIZK  debug867J0L  debugYNMXK2   \n",
       "7           debug867J0L:debugHTHIZK  debug867J0L  debugYNMXK2   \n",
       "\n",
       "                                                           trial_type      rt  \\\n",
       "trial_index uniqueid                                                            \n",
       "3           debug867J0L:debugHTHIZK  html-slider-response-with-copout  3395.8   \n",
       "4           debug867J0L:debugHTHIZK  html-slider-response-with-copout  2544.8   \n",
       "5           debug867J0L:debugHTHIZK  html-slider-response-with-copout  2002.9   \n",
       "6           debug867J0L:debugHTHIZK  html-slider-response-with-copout  2578.6   \n",
       "7           debug867J0L:debugHTHIZK  html-slider-response-with-copout  2632.1   \n",
       "\n",
       "                                    internal_node_id                dateTime  \\\n",
       "trial_index uniqueid                                                           \n",
       "3           debug867J0L:debugHTHIZK          0.0-3.0 2021-09-22 14:59:25.346   \n",
       "4           debug867J0L:debugHTHIZK          0.0-4.0 2021-09-22 14:59:27.896   \n",
       "5           debug867J0L:debugHTHIZK          0.0-5.0 2021-09-22 14:59:29.903   \n",
       "6           debug867J0L:debugHTHIZK          0.0-6.0 2021-09-22 14:59:32.486   \n",
       "7           debug867J0L:debugHTHIZK          0.0-7.0 2021-09-22 14:59:35.123   \n",
       "\n",
       "                                                                        experiment_id  \\\n",
       "trial_index uniqueid                                                                    \n",
       "3           debug867J0L:debugHTHIZK  05_comprehension_spray-load-construction-meaning   \n",
       "4           debug867J0L:debugHTHIZK  05_comprehension_spray-load-construction-meaning   \n",
       "5           debug867J0L:debugHTHIZK  05_comprehension_spray-load-construction-meaning   \n",
       "6           debug867J0L:debugHTHIZK  05_comprehension_spray-load-construction-meaning   \n",
       "7           debug867J0L:debugHTHIZK  05_comprehension_spray-load-construction-meaning   \n",
       "\n",
       "                                     ... survey_answer  slider_value  \\\n",
       "trial_index uniqueid                 ...                               \n",
       "3           debug867J0L:debugHTHIZK  ...           NaN         100.0   \n",
       "4           debug867J0L:debugHTHIZK  ...           NaN         100.0   \n",
       "5           debug867J0L:debugHTHIZK  ...           NaN           0.0   \n",
       "6           debug867J0L:debugHTHIZK  ...           NaN           0.0   \n",
       "7           debug867J0L:debugHTHIZK  ...           NaN         100.0   \n",
       "\n",
       "                                     slider_copout condition_0  condition_1  \\\n",
       "trial_index uniqueid                                                          \n",
       "3           debug867J0L:debugHTHIZK          False    practice         fill   \n",
       "4           debug867J0L:debugHTHIZK          False    practice         fill   \n",
       "5           debug867J0L:debugHTHIZK          False    practice        cover   \n",
       "6           debug867J0L:debugHTHIZK          False    practice         fill   \n",
       "7           debug867J0L:debugHTHIZK          False    practice        cover   \n",
       "\n",
       "                                     condition_2 theme_is_object  \\\n",
       "trial_index uniqueid                                               \n",
       "3           debug867J0L:debugHTHIZK         full           False   \n",
       "4           debug867J0L:debugHTHIZK         full           False   \n",
       "5           debug867J0L:debugHTHIZK        empty           False   \n",
       "6           debug867J0L:debugHTHIZK        empty           False   \n",
       "7           debug867J0L:debugHTHIZK         full           False   \n",
       "\n",
       "                                    location_is_heavy theme_is_heavy  \\\n",
       "trial_index uniqueid                                                   \n",
       "3           debug867J0L:debugHTHIZK             False          False   \n",
       "4           debug867J0L:debugHTHIZK             False          False   \n",
       "5           debug867J0L:debugHTHIZK             False          False   \n",
       "6           debug867J0L:debugHTHIZK             False          False   \n",
       "7           debug867J0L:debugHTHIZK             False          False   \n",
       "\n",
       "                                     slider_value_normed  \n",
       "trial_index uniqueid                                      \n",
       "3           debug867J0L:debugHTHIZK             0.911219  \n",
       "4           debug867J0L:debugHTHIZK             0.911219  \n",
       "5           debug867J0L:debugHTHIZK            -1.825174  \n",
       "6           debug867J0L:debugHTHIZK            -1.825174  \n",
       "7           debug867J0L:debugHTHIZK             0.911219  \n",
       "\n",
       "[5 rows x 23 columns]"
      ]
     },
     "execution_count": 20,
     "metadata": {},
     "output_type": "execute_result"
    }
   ],
   "source": [
    "response_df.head()"
   ]
  },
  {
   "cell_type": "code",
   "execution_count": 21,
   "id": "classical-virtue",
   "metadata": {},
   "outputs": [],
   "source": [
    "response_df.to_csv(\"raw_responses.csv\")"
   ]
  },
  {
   "cell_type": "markdown",
   "id": "loving-washington",
   "metadata": {},
   "source": [
    "## Preliminaries"
   ]
  },
  {
   "cell_type": "code",
   "execution_count": 22,
   "id": "advanced-intensity",
   "metadata": {},
   "outputs": [
    {
     "data": {
      "text/plain": [
       "2"
      ]
     },
     "execution_count": 22,
     "metadata": {},
     "output_type": "execute_result"
    }
   ],
   "source": [
    "N = len(response_df.reset_index().uniqueid.unique())\n",
    "N"
   ]
  },
  {
   "cell_type": "markdown",
   "id": "boring-victor",
   "metadata": {},
   "source": [
    "### Demo"
   ]
  },
  {
   "cell_type": "code",
   "execution_count": 24,
   "id": "artistic-intake",
   "metadata": {},
   "outputs": [],
   "source": [
    "qualitative_df = raw_df[(raw_df.experiment_id == EXPERIMENT_ID) & raw_df.trial_type.isin((\"survey-text\", \"survey-multi-choice\"))]"
   ]
  },
  {
   "cell_type": "code",
   "execution_count": 25,
   "id": "eleven-concern",
   "metadata": {},
   "outputs": [
    {
     "data": {
      "text/plain": [
       "<AxesSubplot:xlabel='survey_answer', ylabel='Count'>"
      ]
     },
     "execution_count": 25,
     "metadata": {},
     "output_type": "execute_result"
    },
    {
     "data": {
      "image/png": "[encoded data removed]",
      "text/plain": [
       "<Figure size 432x288 with 1 Axes>"
      ]
     },
     "metadata": {
      "needs_background": "light"
     },
     "output_type": "display_data"
    }
   ],
   "source": [
    "ages = qualitative_df[(qualitative_df.trial_type == \"survey-text\") & (qualitative_df.internal_node_id == \"0.0-0.0\")].survey_answer.astype(int)\n",
    "sns.histplot(ages)"
   ]
  },
  {
   "cell_type": "code",
   "execution_count": 26,
   "id": "opening-relations",
   "metadata": {},
   "outputs": [
    {
     "data": {
      "text/plain": [
       "Bachelor's degree    1\n",
       "Master's degree      1\n",
       "Name: survey_answer, dtype: int64"
      ]
     },
     "execution_count": 26,
     "metadata": {},
     "output_type": "execute_result"
    }
   ],
   "source": [
    "education = qualitative_df[(qualitative_df.trial_type == \"survey-multi-choice\") & (qualitative_df.survey_question_idx == 0)].survey_answer\n",
    "education.value_counts()"
   ]
  },
  {
   "cell_type": "code",
   "execution_count": 27,
   "id": "referenced-formation",
   "metadata": {},
   "outputs": [
    {
     "data": {
      "text/plain": [
       "Yes    2\n",
       "Name: survey_answer, dtype: int64"
      ]
     },
     "execution_count": 27,
     "metadata": {},
     "output_type": "execute_result"
    }
   ],
   "source": [
    "native = qualitative_df[(qualitative_df.trial_type == \"survey-multi-choice\") & (qualitative_df.survey_question_idx == 1)].survey_answer\n",
    "native.value_counts()"
   ]
  },
  {
   "cell_type": "markdown",
   "id": "uniform-cambodia",
   "metadata": {},
   "source": [
    "### Comments"
   ]
  },
  {
   "cell_type": "code",
   "execution_count": 28,
   "id": "systematic-reception",
   "metadata": {},
   "outputs": [
    {
     "data": {
      "text/plain": [
       "['thx', '']"
      ]
     },
     "execution_count": 28,
     "metadata": {},
     "output_type": "execute_result"
    }
   ],
   "source": [
    "list(qualitative_df[(qualitative_df.trial_type == \"survey-text\") & (qualitative_df.internal_node_id != \"0.0-0.0\")].survey_answer)"
   ]
  },
  {
   "cell_type": "markdown",
   "id": "arctic-crack",
   "metadata": {},
   "source": [
    "### Total times"
   ]
  },
  {
   "cell_type": "code",
   "execution_count": 29,
   "id": "clinical-southeast",
   "metadata": {},
   "outputs": [
    {
     "data": {
      "text/plain": [
       "Text(0.5, 1.0, 'Total study time (minutes)')"
      ]
     },
     "execution_count": 29,
     "metadata": {},
     "output_type": "execute_result"
    },
    {
     "data": {
      "image/png": "[encoded data removed]",
      "text/plain": [
       "<Figure size 432x288 with 1 Axes>"
      ]
     },
     "metadata": {
      "needs_background": "light"
     },
     "output_type": "display_data"
    }
   ],
   "source": [
    "sns.histplot(pd.concat([response_df, qualitative_df]).groupby(\"uniqueid\").apply(lambda rows: rows.rt.sum() / 1000 / 60))\n",
    "plt.title(\"Total study time (minutes)\")"
   ]
  },
  {
   "cell_type": "code",
   "execution_count": 30,
   "id": "radical-nightmare",
   "metadata": {},
   "outputs": [
    {
     "data": {
      "text/plain": [
       "mean    4.930341\n",
       "std     0.097544\n",
       "Name: rt, dtype: float64"
      ]
     },
     "execution_count": 30,
     "metadata": {},
     "output_type": "execute_result"
    }
   ],
   "source": [
    "pd.concat([response_df, qualitative_df]).groupby(\"uniqueid\").rt.sum().apply(lambda xs: xs / 1000 / 60).agg([\"mean\", \"std\"])"
   ]
  },
  {
   "cell_type": "markdown",
   "id": "endangered-brass",
   "metadata": {},
   "source": [
    "### Response times"
   ]
  },
  {
   "cell_type": "code",
   "execution_count": 163,
   "id": "parliamentary-scheduling",
   "metadata": {},
   "outputs": [],
   "source": [
    "# sns.displot(data=response_df, x=\"rt\", hue=\"uniqueid\", kind=\"hist\")"
   ]
  },
  {
   "cell_type": "code",
   "execution_count": 31,
   "id": "featured-dragon",
   "metadata": {},
   "outputs": [
    {
     "data": {
      "text/plain": [
       "<seaborn.axisgrid.FacetGrid at 0x7f277066dee0>"
      ]
     },
     "execution_count": 31,
     "metadata": {},
     "output_type": "execute_result"
    },
    {
     "data": {
      "image/png": "[encoded data removed]",
      "text/plain": [
       "<Figure size 546.625x360 with 1 Axes>"
      ]
     },
     "metadata": {
      "needs_background": "light"
     },
     "output_type": "display_data"
    }
   ],
   "source": [
    "response_df[\"rt.log\"] = np.log(response_df.rt)\n",
    "sns.displot(data=response_df, x=\"rt.log\", hue=\"uniqueid\", kind=\"kde\")"
   ]
  },
  {
   "cell_type": "code",
   "execution_count": 165,
   "id": "formal-branch",
   "metadata": {},
   "outputs": [],
   "source": [
    "# sns.lmplot(data=response_df.reset_index(), x=\"trial_index\", y=\"rt.log\", hue=\"uniqueid\", height=10, ci=False)\n",
    "# plt.title(\"Log response time vs. trial position\")"
   ]
  },
  {
   "cell_type": "markdown",
   "id": "collectible-burlington",
   "metadata": {},
   "source": [
    "### How are people using the sliders?"
   ]
  },
  {
   "cell_type": "markdown",
   "id": "biblical-integrity",
   "metadata": {},
   "source": [
    "- Stripplot points correspond to individual slider responses.\n",
    "- Responses are grouped vertically by subject.\n",
    "- Transparent boxplots indicate filler response value for a particular subject. Red median lines / boxes indicate \"full\" fillers and blue indicate \"empty.\"\n",
    "- X marks indicate mean practice response value for a particular subject. Red and blue match above."
   ]
  },
  {
   "cell_type": "code",
   "execution_count": 32,
   "id": "verified-disco",
   "metadata": {},
   "outputs": [
    {
     "data": {
      "text/plain": [
       "[<matplotlib.lines.Line2D at 0x7f277097dca0>]"
      ]
     },
     "execution_count": 32,
     "metadata": {},
     "output_type": "execute_result"
    },
    {
     "data": {
      "image/png": "[encoded data removed]",
      "text/plain": [
       "<Figure size 2520x1080 with 1 Axes>"
      ]
     },
     "metadata": {
      "needs_background": "light"
     },
     "output_type": "display_data"
    }
   ],
   "source": [
    "# Order S by descending difference between mean full-filler and empty-filler rating\n",
    "filler_rows = response_df[response_df.condition_0 == \"filler\"]\n",
    "filler_diffs = filler_rows.groupby(\"uniqueid\").apply(lambda xs: xs[xs.condition_1 == \"full\"].slider_value.mean() - xs[xs.condition_1 == \"empty\"].slider_value.mean())\n",
    "subject_order = filler_diffs.sort_values(ascending=False).index\n",
    "\n",
    "plt.subplots(figsize=(35, 15))\n",
    "g = sns.stripplot(data=response_df.reset_index(), x=\"uniqueid\", y=\"slider_value\", order=subject_order)\n",
    "\n",
    "# plot filler responses\n",
    "sns.boxplot(data=response_df[(response_df.condition_0 == \"filler\") & (response_df.condition_1 == \"full\")].reset_index(),\n",
    "            x=\"uniqueid\", y=\"slider_value\", order=subject_order,\n",
    "            color=\"red\", medianprops=dict(color=\"red\"), flierprops=dict(markerfacecolor=\"red\"), boxprops=dict(alpha=0.3))\n",
    "sns.boxplot(data=response_df[(response_df.condition_0 == \"filler\") & (response_df.condition_1 == \"empty\")].reset_index(),\n",
    "            x=\"uniqueid\", y=\"slider_value\", order=subject_order, \n",
    "            color=\"blue\", medianprops=dict(color=\"blue\"), flierprops=dict(markerfacecolor=\"blue\"), boxprops=dict(alpha=0.3))\n",
    "\n",
    "# plot practice responses\n",
    "practice_full, practice_empty = [], []\n",
    "for i, subj in enumerate(subject_order):\n",
    "    subj_rows = response_df.xs(subj, level=\"uniqueid\")\n",
    "    subj_rows = subj_rows[(subj_rows.condition_0 == \"practice\")]\n",
    "    practice_full.append(subj_rows[subj_rows.condition_2 == \"full\"].slider_value.mean())\n",
    "    practice_empty.append(subj_rows[subj_rows.condition_2 == \"empty\"].slider_value.mean())\n",
    "    \n",
    "g.plot(np.arange(len(subject_order)), practice_full, marker=\"x\", markersize=10, color=\"red\", linestyle=\"none\")\n",
    "g.plot(np.arange(len(subject_order)), practice_empty, marker=\"x\", markersize=10, color=\"blue\", linestyle=\"none\")"
   ]
  },
  {
   "cell_type": "markdown",
   "id": "finished-february",
   "metadata": {},
   "source": [
    "## Attention checks"
   ]
  },
  {
   "cell_type": "markdown",
   "id": "powerful-pizza",
   "metadata": {},
   "source": [
    "### Practice round"
   ]
  },
  {
   "cell_type": "code",
   "execution_count": 36,
   "id": "premier-transformation",
   "metadata": {},
   "outputs": [
    {
     "name": "stderr",
     "output_type": "stream",
     "text": [
      "<ipython-input-36-380d923c644c>:2: SettingWithCopyWarning: \n",
      "A value is trying to be set on a copy of a slice from a DataFrame.\n",
      "Try using .loc[row_indexer,col_indexer] = value instead\n",
      "\n",
      "See the caveats in the documentation: https://pandas.pydata.org/pandas-docs/stable/user_guide/indexing.html#returning-a-view-versus-a-copy\n",
      "  practice_df[\"match\"] = practice_df.apply(lambda r: r.slider_value > 50 if r.condition_2 == \"full\" else r.slider_value <= 50, axis=1)\n",
      "<ipython-input-36-380d923c644c>:3: SettingWithCopyWarning: \n",
      "A value is trying to be set on a copy of a slice from a DataFrame.\n",
      "Try using .loc[row_indexer,col_indexer] = value instead\n",
      "\n",
      "See the caveats in the documentation: https://pandas.pydata.org/pandas-docs/stable/user_guide/indexing.html#returning-a-view-versus-a-copy\n",
      "  practice_df[\"practice_id\"] = practice_df.condition_1.str.cat(practice_df.condition_2)\n"
     ]
    }
   ],
   "source": [
    "practice_df = response_df[response_df.condition_0 == \"practice\"]\n",
    "practice_df[\"match\"] = practice_df.apply(lambda r: r.slider_value > 50 if r.condition_2 == \"full\" else r.slider_value <= 50, axis=1)\n",
    "practice_df[\"practice_id\"] = practice_df.condition_1.str.cat(practice_df.condition_2)"
   ]
  },
  {
   "cell_type": "code",
   "execution_count": 37,
   "id": "three-wells",
   "metadata": {},
   "outputs": [],
   "source": [
    "# Ignore evaluating practice items which retrospectively don't seem like good practice items...\n",
    "PRACTICE_IGNORE = set()\n",
    "\n",
    "practice_df = practice_df[~practice_df.practice_id.isin(PRACTICE_IGNORE)]"
   ]
  },
  {
   "cell_type": "markdown",
   "id": "tested-trinity",
   "metadata": {},
   "source": [
    "#### Practice failures by item"
   ]
  },
  {
   "cell_type": "code",
   "execution_count": 38,
   "id": "available-rwanda",
   "metadata": {},
   "outputs": [
    {
     "data": {
      "text/plain": [
       "practice_id\n",
       "coverempty    True\n",
       "coverfull     True\n",
       "fillempty     True\n",
       "fillfull      True\n",
       "Name: match, dtype: bool"
      ]
     },
     "execution_count": 38,
     "metadata": {},
     "output_type": "execute_result"
    }
   ],
   "source": [
    "practice_df.groupby(\"practice_id\").match.mean()"
   ]
  },
  {
   "cell_type": "code",
   "execution_count": 39,
   "id": "negative-nursery",
   "metadata": {},
   "outputs": [
    {
     "data": {
      "text/plain": [
       "<matplotlib.lines.Line2D at 0x7f27708b1370>"
      ]
     },
     "execution_count": 39,
     "metadata": {},
     "output_type": "execute_result"
    },
    {
     "data": {
      "image/png": "[encoded data removed]",
      "text/plain": [
       "<Figure size 1080x1080 with 1 Axes>"
      ]
     },
     "metadata": {
      "needs_background": "light"
     },
     "output_type": "display_data"
    }
   ],
   "source": [
    "plt.subplots(figsize=(15,15))\n",
    "sns.swarmplot(data=practice_df.reset_index(), x=\"practice_id\", y=\"slider_value\")\n",
    "plt.axhline(50)"
   ]
  },
  {
   "cell_type": "markdown",
   "id": "featured-source",
   "metadata": {},
   "source": [
    "#### Practice copouts"
   ]
  },
  {
   "cell_type": "code",
   "execution_count": 40,
   "id": "shared-permission",
   "metadata": {},
   "outputs": [
    {
     "data": {
      "text/html": [
       "<div>\n",
       "<style scoped>\n",
       "    .dataframe tbody tr th:only-of-type {\n",
       "        vertical-align: middle;\n",
       "    }\n",
       "\n",
       "    .dataframe tbody tr th {\n",
       "        vertical-align: top;\n",
       "    }\n",
       "\n",
       "    .dataframe thead th {\n",
       "        text-align: right;\n",
       "    }\n",
       "</style>\n",
       "<table border=\"1\" class=\"dataframe\">\n",
       "  <thead>\n",
       "    <tr style=\"text-align: right;\">\n",
       "      <th></th>\n",
       "      <th>mean</th>\n",
       "      <th>count</th>\n",
       "    </tr>\n",
       "    <tr>\n",
       "      <th>practice_id</th>\n",
       "      <th></th>\n",
       "      <th></th>\n",
       "    </tr>\n",
       "  </thead>\n",
       "  <tbody>\n",
       "    <tr>\n",
       "      <th>coverempty</th>\n",
       "      <td>False</td>\n",
       "      <td>2</td>\n",
       "    </tr>\n",
       "    <tr>\n",
       "      <th>coverfull</th>\n",
       "      <td>False</td>\n",
       "      <td>2</td>\n",
       "    </tr>\n",
       "    <tr>\n",
       "      <th>fillempty</th>\n",
       "      <td>False</td>\n",
       "      <td>2</td>\n",
       "    </tr>\n",
       "    <tr>\n",
       "      <th>fillfull</th>\n",
       "      <td>False</td>\n",
       "      <td>4</td>\n",
       "    </tr>\n",
       "  </tbody>\n",
       "</table>\n",
       "</div>"
      ],
      "text/plain": [
       "              mean  count\n",
       "practice_id              \n",
       "coverempty   False      2\n",
       "coverfull    False      2\n",
       "fillempty    False      2\n",
       "fillfull     False      4"
      ]
     },
     "execution_count": 40,
     "metadata": {},
     "output_type": "execute_result"
    }
   ],
   "source": [
    "practice_df.groupby(\"practice_id\").slider_copout.agg([\"mean\", \"count\"]).sort_values(\"mean\", ascending=False)"
   ]
  },
  {
   "cell_type": "markdown",
   "id": "local-money",
   "metadata": {},
   "source": [
    "### Fillers"
   ]
  },
  {
   "cell_type": "code",
   "execution_count": 41,
   "id": "departmental-eating",
   "metadata": {},
   "outputs": [
    {
     "data": {
      "text/plain": [
       "<AxesSubplot:xlabel='t'>"
      ]
     },
     "execution_count": 41,
     "metadata": {},
     "output_type": "execute_result"
    },
    {
     "data": {
      "image/png": "[encoded data removed]",
      "text/plain": [
       "<Figure size 432x288 with 1 Axes>"
      ]
     },
     "metadata": {
      "needs_background": "light"
     },
     "output_type": "display_data"
    }
   ],
   "source": [
    "from scipy.stats import ttest_ind\n",
    "def compute_filler_ttest(subj_rows):\n",
    "    \"\"\"\n",
    "    sanity check: \"full\" items should be rated higher than \"empty\" filler items\n",
    "    \"\"\"\n",
    "    filler_rows = subj_rows[subj_rows.condition_0 == \"filler\"]\n",
    "    \n",
    "    # Filter out copouts (and print warning -- fillers should not trigger copout)\n",
    "    copout_rows = filler_rows[filler_rows.slider_copout]\n",
    "    if len(copout_rows) > 0:\n",
    "        print(f\"WARNING: subject {filler_rows.iloc[0].name} had {len(copout_rows)} filler copout(s). Seems fishy.\")\n",
    "    filler_rows = filler_rows[~filler_rows.slider_copout]\n",
    "    \n",
    "    full_filler = filler_rows[filler_rows.condition_1 == \"full\"]\n",
    "    empty_filler = filler_rows[filler_rows.condition_1 == \"empty\"]\n",
    "    \n",
    "    return pd.Series(ttest_ind(full_filler.slider_value, empty_filler.slider_value),\n",
    "                     index=[\"t\", \"pval\"])\n",
    "\n",
    "filler_stats = response_df.groupby(\"uniqueid\").apply(compute_filler_ttest)\n",
    "sns.boxplot(data=filler_stats.reset_index(), x=\"t\", hue=\"uniqueid\")"
   ]
  },
  {
   "cell_type": "code",
   "execution_count": 42,
   "id": "copyrighted-feedback",
   "metadata": {},
   "outputs": [
    {
     "data": {
      "text/html": [
       "<div>\n",
       "<style scoped>\n",
       "    .dataframe tbody tr th:only-of-type {\n",
       "        vertical-align: middle;\n",
       "    }\n",
       "\n",
       "    .dataframe tbody tr th {\n",
       "        vertical-align: top;\n",
       "    }\n",
       "\n",
       "    .dataframe thead th {\n",
       "        text-align: right;\n",
       "    }\n",
       "</style>\n",
       "<table border=\"1\" class=\"dataframe\">\n",
       "  <thead>\n",
       "    <tr style=\"text-align: right;\">\n",
       "      <th></th>\n",
       "      <th>t</th>\n",
       "      <th>pval</th>\n",
       "    </tr>\n",
       "    <tr>\n",
       "      <th>uniqueid</th>\n",
       "      <th></th>\n",
       "      <th></th>\n",
       "    </tr>\n",
       "  </thead>\n",
       "  <tbody>\n",
       "    <tr>\n",
       "      <th>debugNVWNGZ:debug7T49K6</th>\n",
       "      <td>4.890820</td>\n",
       "      <td>6.316917e-04</td>\n",
       "    </tr>\n",
       "    <tr>\n",
       "      <th>debug867J0L:debugHTHIZK</th>\n",
       "      <td>38.447988</td>\n",
       "      <td>3.380211e-12</td>\n",
       "    </tr>\n",
       "  </tbody>\n",
       "</table>\n",
       "</div>"
      ],
      "text/plain": [
       "                                 t          pval\n",
       "uniqueid                                        \n",
       "debugNVWNGZ:debug7T49K6   4.890820  6.316917e-04\n",
       "debug867J0L:debugHTHIZK  38.447988  3.380211e-12"
      ]
     },
     "execution_count": 42,
     "metadata": {},
     "output_type": "execute_result"
    }
   ],
   "source": [
    "filler_stats.sort_values(\"t\").head(50)"
   ]
  },
  {
   "cell_type": "markdown",
   "id": "indian-intellectual",
   "metadata": {},
   "source": [
    "#### Filler copouts"
   ]
  },
  {
   "cell_type": "code",
   "execution_count": 43,
   "id": "aerial-interval",
   "metadata": {},
   "outputs": [
    {
     "data": {
      "text/html": [
       "<div>\n",
       "<style scoped>\n",
       "    .dataframe tbody tr th:only-of-type {\n",
       "        vertical-align: middle;\n",
       "    }\n",
       "\n",
       "    .dataframe tbody tr th {\n",
       "        vertical-align: top;\n",
       "    }\n",
       "\n",
       "    .dataframe thead th {\n",
       "        text-align: right;\n",
       "    }\n",
       "</style>\n",
       "<table border=\"1\" class=\"dataframe\">\n",
       "  <thead>\n",
       "    <tr style=\"text-align: right;\">\n",
       "      <th></th>\n",
       "      <th></th>\n",
       "      <th>mean</th>\n",
       "      <th>sum</th>\n",
       "      <th>count</th>\n",
       "    </tr>\n",
       "    <tr>\n",
       "      <th>item_id</th>\n",
       "      <th>condition_1</th>\n",
       "      <th></th>\n",
       "      <th></th>\n",
       "      <th></th>\n",
       "    </tr>\n",
       "  </thead>\n",
       "  <tbody>\n",
       "    <tr>\n",
       "      <th>0.0</th>\n",
       "      <th>empty</th>\n",
       "      <td>False</td>\n",
       "      <td>0</td>\n",
       "      <td>2</td>\n",
       "    </tr>\n",
       "    <tr>\n",
       "      <th>1.0</th>\n",
       "      <th>empty</th>\n",
       "      <td>False</td>\n",
       "      <td>0</td>\n",
       "      <td>2</td>\n",
       "    </tr>\n",
       "    <tr>\n",
       "      <th>2.0</th>\n",
       "      <th>empty</th>\n",
       "      <td>False</td>\n",
       "      <td>0</td>\n",
       "      <td>2</td>\n",
       "    </tr>\n",
       "    <tr>\n",
       "      <th>3.0</th>\n",
       "      <th>empty</th>\n",
       "      <td>False</td>\n",
       "      <td>0</td>\n",
       "      <td>2</td>\n",
       "    </tr>\n",
       "    <tr>\n",
       "      <th>4.0</th>\n",
       "      <th>empty</th>\n",
       "      <td>False</td>\n",
       "      <td>0</td>\n",
       "      <td>2</td>\n",
       "    </tr>\n",
       "    <tr>\n",
       "      <th>5.0</th>\n",
       "      <th>empty</th>\n",
       "      <td>False</td>\n",
       "      <td>0</td>\n",
       "      <td>2</td>\n",
       "    </tr>\n",
       "    <tr>\n",
       "      <th>6.0</th>\n",
       "      <th>full</th>\n",
       "      <td>False</td>\n",
       "      <td>0</td>\n",
       "      <td>2</td>\n",
       "    </tr>\n",
       "    <tr>\n",
       "      <th>7.0</th>\n",
       "      <th>full</th>\n",
       "      <td>False</td>\n",
       "      <td>0</td>\n",
       "      <td>2</td>\n",
       "    </tr>\n",
       "    <tr>\n",
       "      <th>8.0</th>\n",
       "      <th>full</th>\n",
       "      <td>False</td>\n",
       "      <td>0</td>\n",
       "      <td>2</td>\n",
       "    </tr>\n",
       "    <tr>\n",
       "      <th>9.0</th>\n",
       "      <th>full</th>\n",
       "      <td>False</td>\n",
       "      <td>0</td>\n",
       "      <td>2</td>\n",
       "    </tr>\n",
       "    <tr>\n",
       "      <th>10.0</th>\n",
       "      <th>full</th>\n",
       "      <td>False</td>\n",
       "      <td>0</td>\n",
       "      <td>2</td>\n",
       "    </tr>\n",
       "    <tr>\n",
       "      <th>11.0</th>\n",
       "      <th>full</th>\n",
       "      <td>False</td>\n",
       "      <td>0</td>\n",
       "      <td>2</td>\n",
       "    </tr>\n",
       "  </tbody>\n",
       "</table>\n",
       "</div>"
      ],
      "text/plain": [
       "                      mean  sum  count\n",
       "item_id condition_1                   \n",
       "0.0     empty        False    0      2\n",
       "1.0     empty        False    0      2\n",
       "2.0     empty        False    0      2\n",
       "3.0     empty        False    0      2\n",
       "4.0     empty        False    0      2\n",
       "5.0     empty        False    0      2\n",
       "6.0     full         False    0      2\n",
       "7.0     full         False    0      2\n",
       "8.0     full         False    0      2\n",
       "9.0     full         False    0      2\n",
       "10.0    full         False    0      2\n",
       "11.0    full         False    0      2"
      ]
     },
     "execution_count": 43,
     "metadata": {},
     "output_type": "execute_result"
    }
   ],
   "source": [
    "response_df[response_df.condition_0 == \"filler\"].groupby([\"item_id\", \"condition_1\"]).slider_copout.agg([\"mean\", \"sum\", \"count\"]).sort_values(\"mean\", ascending=False)"
   ]
  },
  {
   "cell_type": "markdown",
   "id": "unnecessary-implement",
   "metadata": {},
   "source": [
    "#### Filler failures by item"
   ]
  },
  {
   "cell_type": "code",
   "execution_count": 44,
   "id": "nearby-cowboy",
   "metadata": {},
   "outputs": [
    {
     "name": "stderr",
     "output_type": "stream",
     "text": [
      "<ipython-input-44-5f9f2f07b75b>:2: SettingWithCopyWarning: \n",
      "A value is trying to be set on a copy of a slice from a DataFrame.\n",
      "Try using .loc[row_indexer,col_indexer] = value instead\n",
      "\n",
      "See the caveats in the documentation: https://pandas.pydata.org/pandas-docs/stable/user_guide/indexing.html#returning-a-view-versus-a-copy\n",
      "  filler_df[\"match\"] = filler_df.apply(lambda r: r.slider_value > 50 if r.condition_1 == \"full\" else r.slider_value <= 50, axis=1)\n"
     ]
    }
   ],
   "source": [
    "filler_df = response_df[response_df.condition_0 == \"filler\"]\n",
    "filler_df[\"match\"] = filler_df.apply(lambda r: r.slider_value > 50 if r.condition_1 == \"full\" else r.slider_value <= 50, axis=1)"
   ]
  },
  {
   "cell_type": "code",
   "execution_count": 45,
   "id": "floppy-duncan",
   "metadata": {},
   "outputs": [
    {
     "data": {
      "text/plain": [
       "condition_1  item_id\n",
       "empty        0.0        1.0\n",
       "             1.0        1.0\n",
       "             2.0        1.0\n",
       "             3.0        1.0\n",
       "             4.0        1.0\n",
       "             5.0        1.0\n",
       "full         6.0        1.0\n",
       "             7.0        1.0\n",
       "             8.0        1.0\n",
       "             9.0        0.5\n",
       "             10.0       1.0\n",
       "             11.0       1.0\n",
       "Name: match, dtype: float64"
      ]
     },
     "execution_count": 45,
     "metadata": {},
     "output_type": "execute_result"
    }
   ],
   "source": [
    "filler_df.groupby([\"condition_1\", \"item_id\"]).match.mean()"
   ]
  },
  {
   "cell_type": "code",
   "execution_count": 46,
   "id": "quarterly-hindu",
   "metadata": {},
   "outputs": [
    {
     "data": {
      "text/plain": [
       "<matplotlib.lines.Line2D at 0x7f2770915160>"
      ]
     },
     "execution_count": 46,
     "metadata": {},
     "output_type": "execute_result"
    },
    {
     "data": {
      "image/png": "[encoded data removed]",
      "text/plain": [
       "<Figure size 2880x1080 with 1 Axes>"
      ]
     },
     "metadata": {
      "needs_background": "light"
     },
     "output_type": "display_data"
    }
   ],
   "source": [
    "plt.subplots(figsize=(40,15))\n",
    "# sns.barplot(data=filler_df.reset_index(), x=\"condition_1\", hue=\"item_id\", y=\"slider_value\")\n",
    "sns.swarmplot(data=filler_df.reset_index(), hue=\"condition_1\", x=\"item_id\", y=\"slider_value\")\n",
    "plt.axhline(50)"
   ]
  },
  {
   "cell_type": "markdown",
   "id": "satellite-synthetic",
   "metadata": {},
   "source": [
    "## Final data processing"
   ]
  },
  {
   "cell_type": "code",
   "execution_count": 47,
   "id": "successful-basement",
   "metadata": {},
   "outputs": [],
   "source": [
    "exp_items = response_df[~(response_df.condition_0.isin((\"practice\", \"filler\")))]"
   ]
  },
  {
   "cell_type": "markdown",
   "id": "mathematical-netherlands",
   "metadata": {},
   "source": [
    "### Filter based on practice and attention checks"
   ]
  },
  {
   "cell_type": "code",
   "execution_count": 48,
   "id": "awful-documentary",
   "metadata": {},
   "outputs": [
    {
     "name": "stdout",
     "output_type": "stream",
     "text": [
      "0 subjects (0.0%) disqualified and dropped due to failed practice.\n",
      "\t\n",
      "0 subjects (0.0%, possibly overlapping with previous) disqualified and dropped due to failed attention checks.\n",
      "\t\n"
     ]
    }
   ],
   "source": [
    "practice_drops = set(practice_df.groupby(\"uniqueid\").filter(lambda r: r.match.mean() < 0.66).index.get_level_values(\"uniqueid\"))\n",
    "drop_pct = np.round(len(practice_drops) / N * 100, 1)\n",
    "print(f\"{len(practice_drops)} subjects ({drop_pct}%) disqualified and dropped due to failed practice.\")\n",
    "print(\"\\t\" + \"\\n\\t\".join(practice_drops))\n",
    "exp_items = exp_items.drop(practice_drops, level=\"uniqueid\")\n",
    "\n",
    "attention_drops = filler_stats[(filler_stats.t < 0) | (filler_stats.pval > 1e-1) | filler_stats.t.isna()]\n",
    "drop_pct = np.round(len(attention_drops) / N * 100, 1)\n",
    "print(f\"{len(attention_drops)} subjects ({drop_pct}%, possibly overlapping with previous) disqualified and dropped due to failed attention checks.\")\n",
    "print(\"\\t\" + \"\\n\\t\".join(attention_drops.index))\n",
    "exp_items = exp_items.drop(attention_drops.index, level=\"uniqueid\")"
   ]
  },
  {
   "cell_type": "code",
   "execution_count": 49,
   "id": "pregnant-transformation",
   "metadata": {},
   "outputs": [
    {
     "name": "stdout",
     "output_type": "stream",
     "text": [
      "2 subjects remaining.\n"
     ]
    }
   ],
   "source": [
    "print(f\"{len(set(exp_items.index.get_level_values('uniqueid')))} subjects remaining.\")"
   ]
  },
  {
   "cell_type": "markdown",
   "id": "rubber-interview",
   "metadata": {},
   "source": [
    "### Merge in materials"
   ]
  },
  {
   "cell_type": "code",
   "execution_count": 65,
   "id": "generic-allen",
   "metadata": {},
   "outputs": [],
   "source": [
    "import json\n",
    "def load_materials(mat):\n",
    "    with open(f\"../../materials/{mat}.json\") as f:\n",
    "        materials = json.load(f)\n",
    "    return pd.DataFrame.from_records(materials[\"items\"]).rename(columns={\"id\": \"item_id\"}).set_index(\"item_id\")\n",
    "\n",
    "materials_ids = sorted(set(exp_items.materials_id))\n",
    "materials_df = pd.concat([load_materials(mat) for mat in materials_ids], names=[\"materials_id\"], keys=materials_ids, axis=0)\n",
    "\n",
    "materials_df[\"item_key\"] = materials_df.V.str.cat(materials_df[\"T\"], sep=\" \")\n",
    "\n",
    "# NB this doesn't handle fillers correctly"
   ]
  },
  {
   "cell_type": "code",
   "execution_count": 66,
   "id": "prerequisite-wholesale",
   "metadata": {},
   "outputs": [],
   "source": [
    "keep_cols = [\"item_key\", \"T\", \"T heavy\", \"L\", \"L heavy\", \"V\", \"scale type\", \"T plural?\", \"T mass?\", \"L plural?\"]\n",
    "merged_df = pd.merge(exp_items, materials_df[keep_cols], left_on=[\"materials_id\", \"item_id\"], right_index=True)"
   ]
  },
  {
   "cell_type": "markdown",
   "id": "refined-blank",
   "metadata": {},
   "source": [
    "### Filter out items which were dropped in later materials iterations"
   ]
  },
  {
   "cell_type": "code",
   "execution_count": 67,
   "id": "developmental-premises",
   "metadata": {},
   "outputs": [
    {
     "name": "stdout",
     "output_type": "stream",
     "text": [
      "Dropping 4 item results because they weren't included in the latest materials, spray-load-002-indefinite.\n"
     ]
    }
   ],
   "source": [
    "# Partition results into those evaluated on latest materials vs. earlier\n",
    "latest_materials = materials_ids[-1]\n",
    "latest_merged_df = merged_df[merged_df.materials_id == latest_materials]\n",
    "earlier_merged_df = merged_df[merged_df.materials_id != latest_materials]\n",
    "\n",
    "# Get item IDs which appear only in earlier\n",
    "early_only = set(earlier_merged_df.item_id) - set(latest_merged_df.item_id)\n",
    "\n",
    "print(f\"Dropping {len(early_only)} item results because they weren't included in the latest materials, {materials_ids[-1]}.\")\n",
    "merged_df = merged_df[~merged_df.item_id.isin(early_only)]"
   ]
  },
  {
   "cell_type": "markdown",
   "id": "classical-stamp",
   "metadata": {},
   "source": [
    "### Export"
   ]
  },
  {
   "cell_type": "code",
   "execution_count": 68,
   "id": "right-analyst",
   "metadata": {},
   "outputs": [],
   "source": [
    "merged_df.to_csv(\"merged_df.csv\")"
   ]
  },
  {
   "cell_type": "markdown",
   "id": "stunning-intranet",
   "metadata": {},
   "source": [
    "## Basic visualization: construction meaning"
   ]
  },
  {
   "cell_type": "code",
   "execution_count": 74,
   "id": "functional-karaoke",
   "metadata": {},
   "outputs": [],
   "source": [
    "# Compute by-item slider difference of means between conditions\n",
    "def compute_item_difference(item_rows):\n",
    "    item_rows = item_rows.set_index(\"theme_is_object\")\n",
    "    \n",
    "    if True not in item_rows.index or False not in item_rows.index:\n",
    "        return np.nan\n",
    "    \n",
    "    theme_rows, location_rows = item_rows.loc[True], item_rows.loc[False]\n",
    "    return location_rows.slider_value_normed.mean() - theme_rows.slider_value_normed.mean()\n",
    "\n",
    "item_differences = merged_df.groupby([\"item_id\", \"item_key\", \"T mass?\"]) \\\n",
    "    .apply(compute_item_difference) \\\n",
    "    .rename(\"LocationObject - ThemeObject\")"
   ]
  },
  {
   "cell_type": "code",
   "execution_count": 75,
   "id": "grand-counter",
   "metadata": {},
   "outputs": [
    {
     "data": {
      "text/plain": [
       "<seaborn.axisgrid.FacetGrid at 0x7f27637ab040>"
      ]
     },
     "execution_count": 75,
     "metadata": {},
     "output_type": "execute_result"
    },
    {
     "data": {
      "image/png": "[encoded data removed]",
      "text/plain": [
       "<Figure size 360x360 with 1 Axes>"
      ]
     },
     "metadata": {
      "needs_background": "light"
     },
     "output_type": "display_data"
    }
   ],
   "source": [
    "sns.displot(item_differences, bins=12)"
   ]
  },
  {
   "cell_type": "code",
   "execution_count": 76,
   "id": "bigger-liberia",
   "metadata": {},
   "outputs": [
    {
     "data": {
      "text/plain": [
       "item_id  item_key                  T mass?\n",
       "41.0     stuff money               True       0.406813\n",
       "35.0     squirt water              True      -0.027749\n",
       "43.0     wrap tape                 True      -0.163508\n",
       "4.0      dab ointment              True      -0.164647\n",
       "6.0      drizzle frosting          True      -0.301176\n",
       "36.0     stack books               False     -0.354631\n",
       "34.0     sprinkle nuts             False     -0.380722\n",
       "38.0     stock spices              False     -0.603743\n",
       "14.0     pack soil                 True      -0.733907\n",
       "0.0      brush powder              True            NaN\n",
       "         brush the powder          True            NaN\n",
       "1.0      cram clothes              True            NaN\n",
       "         cram the clothes          True            NaN\n",
       "7.0      dust sugar                True            NaN\n",
       "         dust the sugar            True            NaN\n",
       "9.0      heap appetizers           False           NaN\n",
       "         heap the appetizers       False           NaN\n",
       "10.0     inject jelly              True            NaN\n",
       "12.0     load hay                  True            NaN\n",
       "16.0     plant lavender seedlings  False           NaN\n",
       "19.0     rub marinade              True            NaN\n",
       "25.0     slather mayonnaise        True            NaN\n",
       "26.0     smear grease              True            NaN\n",
       "32.0     spray paint               True            NaN\n",
       "         spray the paint           True            NaN\n",
       "Name: LocationObject - ThemeObject, dtype: float64"
      ]
     },
     "execution_count": 76,
     "metadata": {},
     "output_type": "execute_result"
    }
   ],
   "source": [
    "item_differences.sort_values(ascending=False)"
   ]
  },
  {
   "cell_type": "code",
   "execution_count": 77,
   "id": "filled-chancellor",
   "metadata": {},
   "outputs": [
    {
     "data": {
      "text/plain": [
       "(array([ 0,  1,  2,  3,  4,  5,  6,  7,  8,  9, 10, 11, 12, 13, 14, 15, 16,\n",
       "        17, 18, 19, 20, 21, 22, 23, 24]),\n",
       " [Text(0, 0, 'stuff money'),\n",
       "  Text(1, 0, 'slather mayonnaise'),\n",
       "  Text(2, 0, 'heap the appetizers'),\n",
       "  Text(3, 0, 'stack books'),\n",
       "  Text(4, 0, 'plant lavender seedlings'),\n",
       "  Text(5, 0, 'inject jelly'),\n",
       "  Text(6, 0, 'sprinkle nuts'),\n",
       "  Text(7, 0, 'pack soil'),\n",
       "  Text(8, 0, 'brush the powder'),\n",
       "  Text(9, 0, 'drizzle frosting'),\n",
       "  Text(10, 0, 'spray the paint'),\n",
       "  Text(11, 0, 'squirt water'),\n",
       "  Text(12, 0, 'rub marinade'),\n",
       "  Text(13, 0, 'smear grease'),\n",
       "  Text(14, 0, 'load hay'),\n",
       "  Text(15, 0, 'dab ointment'),\n",
       "  Text(16, 0, 'cram the clothes'),\n",
       "  Text(17, 0, 'dust the sugar'),\n",
       "  Text(18, 0, 'wrap tape'),\n",
       "  Text(19, 0, 'stock spices'),\n",
       "  Text(20, 0, 'dust sugar'),\n",
       "  Text(21, 0, 'spray paint'),\n",
       "  Text(22, 0, 'brush powder'),\n",
       "  Text(23, 0, 'heap appetizers'),\n",
       "  Text(24, 0, 'cram clothes')])"
      ]
     },
     "execution_count": 77,
     "metadata": {},
     "output_type": "execute_result"
    },
    {
     "data": {
      "image/png": "[encoded data removed]",
      "text/plain": [
       "<Figure size 1080x720 with 1 Axes>"
      ]
     },
     "metadata": {
      "needs_background": "light"
     },
     "output_type": "display_data"
    }
   ],
   "source": [
    "plt.subplots(figsize=(15, 10))\n",
    "sns.barplot(data=merged_df.reset_index(), x=\"item_key\", hue=\"theme_is_object\", y=\"slider_value_normed\")\n",
    "plt.xticks(rotation=35, ha=\"right\")"
   ]
  },
  {
   "cell_type": "code",
   "execution_count": 78,
   "id": "disabled-content",
   "metadata": {},
   "outputs": [
    {
     "data": {
      "text/plain": [
       "<AxesSubplot:xlabel='T mass?', ylabel='LocationObject - ThemeObject'>"
      ]
     },
     "execution_count": 78,
     "metadata": {},
     "output_type": "execute_result"
    },
    {
     "data": {
      "image/png": "[encoded data removed]",
      "text/plain": [
       "<Figure size 432x288 with 1 Axes>"
      ]
     },
     "metadata": {
      "needs_background": "light"
     },
     "output_type": "display_data"
    }
   ],
   "source": [
    "sns.barplot(data=item_differences.reset_index(), x=\"T mass?\", y=\"LocationObject - ThemeObject\")"
   ]
  },
  {
   "cell_type": "markdown",
   "id": "descending-douglas",
   "metadata": {},
   "source": [
    "#### Bootstrap check"
   ]
  },
  {
   "cell_type": "code",
   "execution_count": 192,
   "id": "informational-delight",
   "metadata": {},
   "outputs": [],
   "source": [
    "def eval_bootstrap(rows):\n",
    "    pos = [value for cond, value in rows if cond]\n",
    "    neg = [value for cond, value in rows if not cond]\n",
    "    if not pos or not neg:\n",
    "        return None\n",
    "    return np.mean(neg) - np.mean(pos)\n",
    "\n",
    "def item_bootstrap(rows):\n",
    "    rows = rows[~rows.slider_copout]\n",
    "    bootstrap = sns.algorithms.bootstrap(rows[[\"agent_is_subject\", \"slider_value_normed\"]],\n",
    "                                         n_boot=10000, func=eval_bootstrap)\n",
    "    # Drop samples where there were no positive or negative classes\n",
    "    bootstrap = [x for x in bootstrap if x is not None]\n",
    "    \n",
    "    pcts = np.percentile(bootstrap, [0.025, 0.975])\n",
    "    return pd.Series({\"low\": pcts[0], \"high\": pcts[1]})\n",
    "\n",
    "# item_bootstrap_df = merged_df.groupby(\"item_id\").apply(item_bootstrap)\n",
    "# item_bootstrap_df"
   ]
  },
  {
   "cell_type": "code",
   "execution_count": 193,
   "id": "infinite-genetics",
   "metadata": {},
   "outputs": [],
   "source": [
    "# item_bootstrap_df = \\\n",
    "#     pd.merge(item_bootstrap_df, materials_df.loc[latest_materials][[\"A\", \"V\", \"AV\", \"L\"]],\n",
    "#              left_index=True, right_index=True).sort_values(\"low\", ascending=False)"
   ]
  },
  {
   "cell_type": "code",
   "execution_count": 194,
   "id": "ongoing-flower",
   "metadata": {},
   "outputs": [],
   "source": [
    "# item_bootstrap_df.sort_values(\"low\", ascending=False)"
   ]
  },
  {
   "cell_type": "code",
   "execution_count": 195,
   "id": "latin-joining",
   "metadata": {},
   "outputs": [],
   "source": [
    "# plt.subplots(figsize=(15, 15))\n",
    "# sns.barplot(\n",
    "#     data=item_bootstrap_df.reset_index().melt(id_vars=[\"item_id\", \"AV\", \"L\"], value_vars=[\"low\", \"high\"]),\n",
    "#     x=\"AV\", y=\"value\", hue=\"variable\")\n",
    "# plt.xticks(rotation=35, ha=\"right\")"
   ]
  },
  {
   "cell_type": "markdown",
   "id": "municipal-gallery",
   "metadata": {},
   "source": [
    "### Copouts"
   ]
  },
  {
   "cell_type": "code",
   "execution_count": 196,
   "id": "academic-logan",
   "metadata": {},
   "outputs": [],
   "source": [
    "copouts = exp_items.groupby([\"materials_id\", \"item_id\"]).apply(lambda subj_rows: subj_rows.slider_copout.astype(bool).mean())"
   ]
  },
  {
   "cell_type": "code",
   "execution_count": 79,
   "id": "instrumental-berlin",
   "metadata": {},
   "outputs": [
    {
     "data": {
      "text/html": [
       "<div>\n",
       "<style scoped>\n",
       "    .dataframe tbody tr th:only-of-type {\n",
       "        vertical-align: middle;\n",
       "    }\n",
       "\n",
       "    .dataframe tbody tr th {\n",
       "        vertical-align: top;\n",
       "    }\n",
       "\n",
       "    .dataframe thead th {\n",
       "        text-align: right;\n",
       "    }\n",
       "</style>\n",
       "<table border=\"1\" class=\"dataframe\">\n",
       "  <thead>\n",
       "    <tr style=\"text-align: right;\">\n",
       "      <th></th>\n",
       "      <th>slider_copout</th>\n",
       "      <th>sum</th>\n",
       "      <th>count</th>\n",
       "      <th>mean</th>\n",
       "    </tr>\n",
       "    <tr>\n",
       "      <th>item_id</th>\n",
       "      <th>theme_is_object</th>\n",
       "      <th></th>\n",
       "      <th></th>\n",
       "      <th></th>\n",
       "    </tr>\n",
       "  </thead>\n",
       "  <tbody>\n",
       "    <tr>\n",
       "      <th>0.0</th>\n",
       "      <th>True</th>\n",
       "      <td>0</td>\n",
       "      <td>1</td>\n",
       "      <td>0.0</td>\n",
       "    </tr>\n",
       "    <tr>\n",
       "      <th>36.0</th>\n",
       "      <th>False</th>\n",
       "      <td>0</td>\n",
       "      <td>1</td>\n",
       "      <td>0.0</td>\n",
       "    </tr>\n",
       "    <tr>\n",
       "      <th>41.0</th>\n",
       "      <th>False</th>\n",
       "      <td>0</td>\n",
       "      <td>1</td>\n",
       "      <td>0.0</td>\n",
       "    </tr>\n",
       "    <tr>\n",
       "      <th>38.0</th>\n",
       "      <th>False</th>\n",
       "      <td>0</td>\n",
       "      <td>1</td>\n",
       "      <td>0.0</td>\n",
       "    </tr>\n",
       "    <tr>\n",
       "      <th>36.0</th>\n",
       "      <th>True</th>\n",
       "      <td>0</td>\n",
       "      <td>1</td>\n",
       "      <td>0.0</td>\n",
       "    </tr>\n",
       "    <tr>\n",
       "      <th>35.0</th>\n",
       "      <th>True</th>\n",
       "      <td>0</td>\n",
       "      <td>1</td>\n",
       "      <td>0.0</td>\n",
       "    </tr>\n",
       "    <tr>\n",
       "      <th>34.0</th>\n",
       "      <th>True</th>\n",
       "      <td>0</td>\n",
       "      <td>1</td>\n",
       "      <td>0.0</td>\n",
       "    </tr>\n",
       "    <tr>\n",
       "      <th>14.0</th>\n",
       "      <th>True</th>\n",
       "      <td>0</td>\n",
       "      <td>1</td>\n",
       "      <td>0.0</td>\n",
       "    </tr>\n",
       "    <tr>\n",
       "      <th>9.0</th>\n",
       "      <th>False</th>\n",
       "      <td>0</td>\n",
       "      <td>1</td>\n",
       "      <td>0.0</td>\n",
       "    </tr>\n",
       "    <tr>\n",
       "      <th>6.0</th>\n",
       "      <th>True</th>\n",
       "      <td>0</td>\n",
       "      <td>1</td>\n",
       "      <td>0.0</td>\n",
       "    </tr>\n",
       "    <tr>\n",
       "      <th>4.0</th>\n",
       "      <th>False</th>\n",
       "      <td>0</td>\n",
       "      <td>1</td>\n",
       "      <td>0.0</td>\n",
       "    </tr>\n",
       "    <tr>\n",
       "      <th>0.0</th>\n",
       "      <th>False</th>\n",
       "      <td>0</td>\n",
       "      <td>1</td>\n",
       "      <td>0.0</td>\n",
       "    </tr>\n",
       "    <tr>\n",
       "      <th>43.0</th>\n",
       "      <th>False</th>\n",
       "      <td>0</td>\n",
       "      <td>1</td>\n",
       "      <td>0.0</td>\n",
       "    </tr>\n",
       "    <tr>\n",
       "      <th>41.0</th>\n",
       "      <th>True</th>\n",
       "      <td>0</td>\n",
       "      <td>1</td>\n",
       "      <td>0.0</td>\n",
       "    </tr>\n",
       "    <tr>\n",
       "      <th>38.0</th>\n",
       "      <th>True</th>\n",
       "      <td>0</td>\n",
       "      <td>1</td>\n",
       "      <td>0.0</td>\n",
       "    </tr>\n",
       "    <tr>\n",
       "      <th>35.0</th>\n",
       "      <th>False</th>\n",
       "      <td>0</td>\n",
       "      <td>1</td>\n",
       "      <td>0.0</td>\n",
       "    </tr>\n",
       "    <tr>\n",
       "      <th>1.0</th>\n",
       "      <th>False</th>\n",
       "      <td>0</td>\n",
       "      <td>2</td>\n",
       "      <td>0.0</td>\n",
       "    </tr>\n",
       "    <tr>\n",
       "      <th>34.0</th>\n",
       "      <th>False</th>\n",
       "      <td>0</td>\n",
       "      <td>1</td>\n",
       "      <td>0.0</td>\n",
       "    </tr>\n",
       "    <tr>\n",
       "      <th>32.0</th>\n",
       "      <th>True</th>\n",
       "      <td>0</td>\n",
       "      <td>2</td>\n",
       "      <td>0.0</td>\n",
       "    </tr>\n",
       "    <tr>\n",
       "      <th>26.0</th>\n",
       "      <th>False</th>\n",
       "      <td>0</td>\n",
       "      <td>2</td>\n",
       "      <td>0.0</td>\n",
       "    </tr>\n",
       "    <tr>\n",
       "      <th>25.0</th>\n",
       "      <th>False</th>\n",
       "      <td>0</td>\n",
       "      <td>2</td>\n",
       "      <td>0.0</td>\n",
       "    </tr>\n",
       "    <tr>\n",
       "      <th>19.0</th>\n",
       "      <th>False</th>\n",
       "      <td>0</td>\n",
       "      <td>2</td>\n",
       "      <td>0.0</td>\n",
       "    </tr>\n",
       "    <tr>\n",
       "      <th>16.0</th>\n",
       "      <th>True</th>\n",
       "      <td>0</td>\n",
       "      <td>2</td>\n",
       "      <td>0.0</td>\n",
       "    </tr>\n",
       "    <tr>\n",
       "      <th>14.0</th>\n",
       "      <th>False</th>\n",
       "      <td>0</td>\n",
       "      <td>1</td>\n",
       "      <td>0.0</td>\n",
       "    </tr>\n",
       "    <tr>\n",
       "      <th>12.0</th>\n",
       "      <th>True</th>\n",
       "      <td>0</td>\n",
       "      <td>2</td>\n",
       "      <td>0.0</td>\n",
       "    </tr>\n",
       "    <tr>\n",
       "      <th>10.0</th>\n",
       "      <th>False</th>\n",
       "      <td>0</td>\n",
       "      <td>2</td>\n",
       "      <td>0.0</td>\n",
       "    </tr>\n",
       "    <tr>\n",
       "      <th>9.0</th>\n",
       "      <th>True</th>\n",
       "      <td>0</td>\n",
       "      <td>1</td>\n",
       "      <td>0.0</td>\n",
       "    </tr>\n",
       "    <tr>\n",
       "      <th>7.0</th>\n",
       "      <th>False</th>\n",
       "      <td>0</td>\n",
       "      <td>2</td>\n",
       "      <td>0.0</td>\n",
       "    </tr>\n",
       "    <tr>\n",
       "      <th>6.0</th>\n",
       "      <th>False</th>\n",
       "      <td>0</td>\n",
       "      <td>1</td>\n",
       "      <td>0.0</td>\n",
       "    </tr>\n",
       "    <tr>\n",
       "      <th>4.0</th>\n",
       "      <th>True</th>\n",
       "      <td>0</td>\n",
       "      <td>1</td>\n",
       "      <td>0.0</td>\n",
       "    </tr>\n",
       "    <tr>\n",
       "      <th>43.0</th>\n",
       "      <th>True</th>\n",
       "      <td>0</td>\n",
       "      <td>1</td>\n",
       "      <td>0.0</td>\n",
       "    </tr>\n",
       "  </tbody>\n",
       "</table>\n",
       "</div>"
      ],
      "text/plain": [
       "slider_copout            sum  count  mean\n",
       "item_id theme_is_object                  \n",
       "0.0     True               0      1   0.0\n",
       "36.0    False              0      1   0.0\n",
       "41.0    False              0      1   0.0\n",
       "38.0    False              0      1   0.0\n",
       "36.0    True               0      1   0.0\n",
       "35.0    True               0      1   0.0\n",
       "34.0    True               0      1   0.0\n",
       "14.0    True               0      1   0.0\n",
       "9.0     False              0      1   0.0\n",
       "6.0     True               0      1   0.0\n",
       "4.0     False              0      1   0.0\n",
       "0.0     False              0      1   0.0\n",
       "43.0    False              0      1   0.0\n",
       "41.0    True               0      1   0.0\n",
       "38.0    True               0      1   0.0\n",
       "35.0    False              0      1   0.0\n",
       "1.0     False              0      2   0.0\n",
       "34.0    False              0      1   0.0\n",
       "32.0    True               0      2   0.0\n",
       "26.0    False              0      2   0.0\n",
       "25.0    False              0      2   0.0\n",
       "19.0    False              0      2   0.0\n",
       "16.0    True               0      2   0.0\n",
       "14.0    False              0      1   0.0\n",
       "12.0    True               0      2   0.0\n",
       "10.0    False              0      2   0.0\n",
       "9.0     True               0      1   0.0\n",
       "7.0     False              0      2   0.0\n",
       "6.0     False              0      1   0.0\n",
       "4.0     True               0      1   0.0\n",
       "43.0    True               0      1   0.0"
      ]
     },
     "execution_count": 79,
     "metadata": {},
     "output_type": "execute_result"
    }
   ],
   "source": [
    "copouts = merged_df.groupby([\"materials_id\", \"item_id\", \"theme_is_object\"] + keep_cols).apply(lambda rows: rows.slider_copout.astype(bool).agg([\"sum\", \"count\"]))\n",
    "copouts = copouts.sum(level=[\"item_id\", \"theme_is_object\"])\n",
    "copouts[\"mean\"] = copouts[\"sum\"].div(copouts[\"count\"])\n",
    "copouts.sort_values(\"mean\", ascending=False)"
   ]
  },
  {
   "cell_type": "code",
   "execution_count": 81,
   "id": "appointed-handle",
   "metadata": {},
   "outputs": [
    {
     "data": {
      "text/plain": [
       "<AxesSubplot:xlabel='item_key', ylabel='slider_copout'>"
      ]
     },
     "execution_count": 81,
     "metadata": {},
     "output_type": "execute_result"
    },
    {
     "data": {
      "image/png": "[encoded data removed]",
      "text/plain": [
       "<Figure size 1080x576 with 1 Axes>"
      ]
     },
     "metadata": {
      "needs_background": "light"
     },
     "output_type": "display_data"
    }
   ],
   "source": [
    "plt.subplots(figsize=(15, 8))\n",
    "sns.barplot(data=merged_df, x=\"item_key\", y=\"slider_copout\", hue=\"theme_is_object\")"
   ]
  },
  {
   "cell_type": "code",
   "execution_count": 82,
   "id": "arabic-manitoba",
   "metadata": {},
   "outputs": [
    {
     "data": {
      "text/plain": [
       "<AxesSubplot:xlabel='T mass?', ylabel='slider_copout'>"
      ]
     },
     "execution_count": 82,
     "metadata": {},
     "output_type": "execute_result"
    },
    {
     "data": {
      "image/png": "[encoded data removed]",
      "text/plain": [
       "<Figure size 432x288 with 1 Axes>"
      ]
     },
     "metadata": {
      "needs_background": "light"
     },
     "output_type": "display_data"
    }
   ],
   "source": [
    "sns.barplot(data=merged_df, x=\"T mass?\", y=\"slider_copout\")"
   ]
  },
  {
   "cell_type": "markdown",
   "id": "absolute-reasoning",
   "metadata": {},
   "source": [
    "## Item exposure"
   ]
  },
  {
   "cell_type": "code",
   "execution_count": 83,
   "id": "informative-outreach",
   "metadata": {},
   "outputs": [
    {
     "data": {
      "text/plain": [
       "item_id  item_key          theme_is_object\n",
       "0.0      brush powder      False              1\n",
       "41.0     stuff money       True               1\n",
       "                           False              1\n",
       "38.0     stock spices      True               1\n",
       "                           False              1\n",
       "36.0     stack books       True               1\n",
       "                           False              1\n",
       "35.0     squirt water      True               1\n",
       "                           False              1\n",
       "34.0     sprinkle nuts     True               1\n",
       "                           False              1\n",
       "32.0     spray the paint   True               1\n",
       "         spray paint       True               1\n",
       "43.0     wrap tape         False              1\n",
       "14.0     pack soil         True               1\n",
       "43.0     wrap tape         True               1\n",
       "7.0      dust sugar        False              1\n",
       "0.0      brush the powder  True               1\n",
       "1.0      cram clothes      False              1\n",
       "         cram the clothes  False              1\n",
       "dtype: int64"
      ]
     },
     "execution_count": 83,
     "metadata": {},
     "output_type": "execute_result"
    }
   ],
   "source": [
    "merged_df.groupby([\"item_id\", \"item_key\", \"theme_is_object\"]).size().sort_values().head(20)"
   ]
  }
 ],
 "metadata": {
  "kernelspec": {
   "display_name": "Python 3",
   "language": "python",
   "name": "python3"
  },
  "language_info": {
   "codemirror_mode": {
    "name": "ipython",
    "version": 3
   },
   "file_extension": ".py",
   "mimetype": "text/x-python",
   "name": "python",
   "nbconvert_exporter": "python",
   "pygments_lexer": "ipython3",
   "version": "3.8.8"
  }
 },
 "nbformat": 4,
 "nbformat_minor": 5
}
