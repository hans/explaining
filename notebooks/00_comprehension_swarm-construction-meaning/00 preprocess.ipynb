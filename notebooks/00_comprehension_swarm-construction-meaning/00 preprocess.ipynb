{
 "cells": [
  {
   "cell_type": "code",
   "execution_count": 3,
   "id": "plastic-finding",
   "metadata": {},
   "outputs": [],
   "source": [
    "import sys\n",
    "sys.path.append(\"../../src\")"
   ]
  },
  {
   "cell_type": "code",
   "execution_count": 4,
   "id": "organizational-metro",
   "metadata": {},
   "outputs": [],
   "source": [
    "%load_ext autoreload\n",
    "%autoreload 2"
   ]
  },
  {
   "cell_type": "code",
   "execution_count": 5,
   "id": "related-bracket",
   "metadata": {},
   "outputs": [],
   "source": [
    "import numpy as np\n",
    "import pandas as pd\n",
    "import seaborn as sns"
   ]
  },
  {
   "cell_type": "markdown",
   "id": "enabling-batch",
   "metadata": {},
   "source": [
    "## Load and preprocess data"
   ]
  },
  {
   "cell_type": "code",
   "execution_count": 6,
   "id": "lyric-summary",
   "metadata": {},
   "outputs": [],
   "source": [
    "import data"
   ]
  },
  {
   "cell_type": "code",
   "execution_count": 7,
   "id": "varied-marking",
   "metadata": {},
   "outputs": [
    {
     "name": "stderr",
     "output_type": "stream",
     "text": [
      "Missing datastring for uid debug9X7NKD:debugKJBC0S. Status was 1.\n",
      "Missing datastring for uid debugCIT0JY:debugOEXFJU. Status was 1.\n",
      "Missing datastring for uid debug49IEJI:debugSVU9KB. Status was 1.\n"
     ]
    },
    {
     "name": "stdout",
     "output_type": "stream",
     "text": [
      "debug9X7NKD:debugKJBC0S\n",
      "debugCIT0JY:debugOEXFJU\n",
      "debug49IEJF:debugSVU9KB\n",
      "debug49IEJG:debugSVU9KB\n",
      "debug49IEJI:debugSVU9KB\n"
     ]
    }
   ],
   "source": [
    "# set db path hackily\n",
    "data._get_connection(\"../../data/participants.db\")\n",
    "\n",
    "raw_df = data.get_trials_df(data.load_raw_results(),\n",
    "                            (\"materials_id\", \"item_id\", \"condition_id\"))\n",
    "\n",
    "response_df = raw_df[raw_df.trial_type == \"html-slider-response-with-copout\"]"
   ]
  },
  {
   "cell_type": "code",
   "execution_count": 8,
   "id": "expanded-monaco",
   "metadata": {},
   "outputs": [
    {
     "name": "stderr",
     "output_type": "stream",
     "text": [
      "<ipython-input-8-2274e96d65ef>:2: SettingWithCopyWarning: \n",
      "A value is trying to be set on a copy of a slice from a DataFrame.\n",
      "Try using .loc[row_indexer,col_indexer] = value instead\n",
      "\n",
      "See the caveats in the documentation: https://pandas.pydata.org/pandas-docs/stable/user_guide/indexing.html#returning-a-view-versus-a-copy\n",
      "  response_df[\"agent_is_topic\"], response_df[\"agent_is_subject\"] = \\\n",
      "<ipython-input-8-2274e96d65ef>:4: SettingWithCopyWarning: \n",
      "A value is trying to be set on a copy of a slice from a DataFrame.\n",
      "Try using .loc[row_indexer,col_indexer] = value instead\n",
      "\n",
      "See the caveats in the documentation: https://pandas.pydata.org/pandas-docs/stable/user_guide/indexing.html#returning-a-view-versus-a-copy\n",
      "  response_df[\"agent_is_topic\"] = response_df[\"agent_is_topic\"].astype(bool)\n",
      "<ipython-input-8-2274e96d65ef>:5: SettingWithCopyWarning: \n",
      "A value is trying to be set on a copy of a slice from a DataFrame.\n",
      "Try using .loc[row_indexer,col_indexer] = value instead\n",
      "\n",
      "See the caveats in the documentation: https://pandas.pydata.org/pandas-docs/stable/user_guide/indexing.html#returning-a-view-versus-a-copy\n",
      "  response_df[\"agent_is_subject\"] = response_df[\"agent_is_subject\"].astype(bool)\n"
     ]
    }
   ],
   "source": [
    "# Convert condition_id to independent features\n",
    "response_df[\"agent_is_topic\"], response_df[\"agent_is_subject\"] = \\\n",
    "    zip(*response_df.condition_id)\n",
    "response_df[\"agent_is_topic\"] = response_df[\"agent_is_topic\"].astype(bool)\n",
    "response_df[\"agent_is_subject\"] = response_df[\"agent_is_subject\"].astype(bool)"
   ]
  },
  {
   "cell_type": "code",
   "execution_count": 9,
   "id": "hourly-translation",
   "metadata": {},
   "outputs": [
    {
     "name": "stderr",
     "output_type": "stream",
     "text": [
      "<ipython-input-9-693d361db4f9>:2: SettingWithCopyWarning: \n",
      "A value is trying to be set on a copy of a slice from a DataFrame.\n",
      "Try using .loc[row_indexer,col_indexer] = value instead\n",
      "\n",
      "See the caveats in the documentation: https://pandas.pydata.org/pandas-docs/stable/user_guide/indexing.html#returning-a-view-versus-a-copy\n",
      "  response_df[\"slider_value_normed\"] = \\\n"
     ]
    }
   ],
   "source": [
    "# Norm slider values within-subject.\n",
    "response_df[\"slider_value_normed\"] = \\\n",
    "    response_df.groupby(\"uniqueid\").slider_value.apply(lambda xs: (xs - xs.min()) / (xs.max() - xs.min()))"
   ]
  },
  {
   "cell_type": "code",
   "execution_count": 10,
   "id": "signed-staff",
   "metadata": {},
   "outputs": [
    {
     "data": {
      "text/html": [
       "<div>\n",
       "<style scoped>\n",
       "    .dataframe tbody tr th:only-of-type {\n",
       "        vertical-align: middle;\n",
       "    }\n",
       "\n",
       "    .dataframe tbody tr th {\n",
       "        vertical-align: top;\n",
       "    }\n",
       "\n",
       "    .dataframe thead th {\n",
       "        text-align: right;\n",
       "    }\n",
       "</style>\n",
       "<table border=\"1\" class=\"dataframe\">\n",
       "  <thead>\n",
       "    <tr style=\"text-align: right;\">\n",
       "      <th></th>\n",
       "      <th></th>\n",
       "      <th>condition</th>\n",
       "      <th>counterbalance</th>\n",
       "      <th>assignmentId</th>\n",
       "      <th>workerId</th>\n",
       "      <th>hitId</th>\n",
       "      <th>trial_type</th>\n",
       "      <th>rt</th>\n",
       "      <th>internal_node_id</th>\n",
       "      <th>materials_id</th>\n",
       "      <th>item_id</th>\n",
       "      <th>condition_id</th>\n",
       "      <th>survey_question_idx</th>\n",
       "      <th>survey_answer</th>\n",
       "      <th>slider_value</th>\n",
       "      <th>slider_copout</th>\n",
       "      <th>agent_is_topic</th>\n",
       "      <th>agent_is_subject</th>\n",
       "      <th>slider_value_normed</th>\n",
       "    </tr>\n",
       "    <tr>\n",
       "      <th>trial_index</th>\n",
       "      <th>uniqueid</th>\n",
       "      <th></th>\n",
       "      <th></th>\n",
       "      <th></th>\n",
       "      <th></th>\n",
       "      <th></th>\n",
       "      <th></th>\n",
       "      <th></th>\n",
       "      <th></th>\n",
       "      <th></th>\n",
       "      <th></th>\n",
       "      <th></th>\n",
       "      <th></th>\n",
       "      <th></th>\n",
       "      <th></th>\n",
       "      <th></th>\n",
       "      <th></th>\n",
       "      <th></th>\n",
       "      <th></th>\n",
       "    </tr>\n",
       "  </thead>\n",
       "  <tbody>\n",
       "    <tr>\n",
       "      <th>2</th>\n",
       "      <th>debug49IEJF:debugSVU9KB</th>\n",
       "      <td>0</td>\n",
       "      <td>0</td>\n",
       "      <td>debugSVU9KB</td>\n",
       "      <td>debug49IEJF</td>\n",
       "      <td>debugGB5B3O</td>\n",
       "      <td>html-slider-response-with-copout</td>\n",
       "      <td>2554.7</td>\n",
       "      <td>0.0-2.0</td>\n",
       "      <td>swarm-001-more</td>\n",
       "      <td>17.0</td>\n",
       "      <td>[0, 0]</td>\n",
       "      <td>&lt;NA&gt;</td>\n",
       "      <td>NaN</td>\n",
       "      <td>62.0</td>\n",
       "      <td>False</td>\n",
       "      <td>False</td>\n",
       "      <td>False</td>\n",
       "      <td>0.631579</td>\n",
       "    </tr>\n",
       "    <tr>\n",
       "      <th>3</th>\n",
       "      <th>debug49IEJF:debugSVU9KB</th>\n",
       "      <td>0</td>\n",
       "      <td>0</td>\n",
       "      <td>debugSVU9KB</td>\n",
       "      <td>debug49IEJF</td>\n",
       "      <td>debugGB5B3O</td>\n",
       "      <td>html-slider-response-with-copout</td>\n",
       "      <td>1345.0</td>\n",
       "      <td>0.0-3.0</td>\n",
       "      <td>swarm-001-more</td>\n",
       "      <td>2.0</td>\n",
       "      <td>[0, 0]</td>\n",
       "      <td>&lt;NA&gt;</td>\n",
       "      <td>NaN</td>\n",
       "      <td>64.0</td>\n",
       "      <td>False</td>\n",
       "      <td>False</td>\n",
       "      <td>False</td>\n",
       "      <td>0.666667</td>\n",
       "    </tr>\n",
       "    <tr>\n",
       "      <th>4</th>\n",
       "      <th>debug49IEJF:debugSVU9KB</th>\n",
       "      <td>0</td>\n",
       "      <td>0</td>\n",
       "      <td>debugSVU9KB</td>\n",
       "      <td>debug49IEJF</td>\n",
       "      <td>debugGB5B3O</td>\n",
       "      <td>html-slider-response-with-copout</td>\n",
       "      <td>1286.2</td>\n",
       "      <td>0.0-4.0</td>\n",
       "      <td>swarm-001-more</td>\n",
       "      <td>3.0</td>\n",
       "      <td>[0, 1]</td>\n",
       "      <td>&lt;NA&gt;</td>\n",
       "      <td>NaN</td>\n",
       "      <td>36.0</td>\n",
       "      <td>False</td>\n",
       "      <td>False</td>\n",
       "      <td>True</td>\n",
       "      <td>0.175439</td>\n",
       "    </tr>\n",
       "    <tr>\n",
       "      <th>5</th>\n",
       "      <th>debug49IEJF:debugSVU9KB</th>\n",
       "      <td>0</td>\n",
       "      <td>0</td>\n",
       "      <td>debugSVU9KB</td>\n",
       "      <td>debug49IEJF</td>\n",
       "      <td>debugGB5B3O</td>\n",
       "      <td>html-slider-response-with-copout</td>\n",
       "      <td>2158.8</td>\n",
       "      <td>0.0-5.0</td>\n",
       "      <td>swarm-001-more</td>\n",
       "      <td>5.0</td>\n",
       "      <td>[0, 0]</td>\n",
       "      <td>&lt;NA&gt;</td>\n",
       "      <td>NaN</td>\n",
       "      <td>83.0</td>\n",
       "      <td>False</td>\n",
       "      <td>False</td>\n",
       "      <td>False</td>\n",
       "      <td>1.000000</td>\n",
       "    </tr>\n",
       "    <tr>\n",
       "      <th>6</th>\n",
       "      <th>debug49IEJF:debugSVU9KB</th>\n",
       "      <td>0</td>\n",
       "      <td>0</td>\n",
       "      <td>debugSVU9KB</td>\n",
       "      <td>debug49IEJF</td>\n",
       "      <td>debugGB5B3O</td>\n",
       "      <td>html-slider-response-with-copout</td>\n",
       "      <td>1708.6</td>\n",
       "      <td>0.0-6.0</td>\n",
       "      <td>swarm-001-more</td>\n",
       "      <td>31.0</td>\n",
       "      <td>[0, 1]</td>\n",
       "      <td>&lt;NA&gt;</td>\n",
       "      <td>NaN</td>\n",
       "      <td>39.0</td>\n",
       "      <td>False</td>\n",
       "      <td>False</td>\n",
       "      <td>True</td>\n",
       "      <td>0.228070</td>\n",
       "    </tr>\n",
       "  </tbody>\n",
       "</table>\n",
       "</div>"
      ],
      "text/plain": [
       "                                     condition  counterbalance assignmentId  \\\n",
       "trial_index uniqueid                                                          \n",
       "2           debug49IEJF:debugSVU9KB          0               0  debugSVU9KB   \n",
       "3           debug49IEJF:debugSVU9KB          0               0  debugSVU9KB   \n",
       "4           debug49IEJF:debugSVU9KB          0               0  debugSVU9KB   \n",
       "5           debug49IEJF:debugSVU9KB          0               0  debugSVU9KB   \n",
       "6           debug49IEJF:debugSVU9KB          0               0  debugSVU9KB   \n",
       "\n",
       "                                        workerId        hitId  \\\n",
       "trial_index uniqueid                                            \n",
       "2           debug49IEJF:debugSVU9KB  debug49IEJF  debugGB5B3O   \n",
       "3           debug49IEJF:debugSVU9KB  debug49IEJF  debugGB5B3O   \n",
       "4           debug49IEJF:debugSVU9KB  debug49IEJF  debugGB5B3O   \n",
       "5           debug49IEJF:debugSVU9KB  debug49IEJF  debugGB5B3O   \n",
       "6           debug49IEJF:debugSVU9KB  debug49IEJF  debugGB5B3O   \n",
       "\n",
       "                                                           trial_type      rt  \\\n",
       "trial_index uniqueid                                                            \n",
       "2           debug49IEJF:debugSVU9KB  html-slider-response-with-copout  2554.7   \n",
       "3           debug49IEJF:debugSVU9KB  html-slider-response-with-copout  1345.0   \n",
       "4           debug49IEJF:debugSVU9KB  html-slider-response-with-copout  1286.2   \n",
       "5           debug49IEJF:debugSVU9KB  html-slider-response-with-copout  2158.8   \n",
       "6           debug49IEJF:debugSVU9KB  html-slider-response-with-copout  1708.6   \n",
       "\n",
       "                                    internal_node_id    materials_id  item_id  \\\n",
       "trial_index uniqueid                                                            \n",
       "2           debug49IEJF:debugSVU9KB          0.0-2.0  swarm-001-more     17.0   \n",
       "3           debug49IEJF:debugSVU9KB          0.0-3.0  swarm-001-more      2.0   \n",
       "4           debug49IEJF:debugSVU9KB          0.0-4.0  swarm-001-more      3.0   \n",
       "5           debug49IEJF:debugSVU9KB          0.0-5.0  swarm-001-more      5.0   \n",
       "6           debug49IEJF:debugSVU9KB          0.0-6.0  swarm-001-more     31.0   \n",
       "\n",
       "                                    condition_id  survey_question_idx  \\\n",
       "trial_index uniqueid                                                    \n",
       "2           debug49IEJF:debugSVU9KB       [0, 0]                 <NA>   \n",
       "3           debug49IEJF:debugSVU9KB       [0, 0]                 <NA>   \n",
       "4           debug49IEJF:debugSVU9KB       [0, 1]                 <NA>   \n",
       "5           debug49IEJF:debugSVU9KB       [0, 0]                 <NA>   \n",
       "6           debug49IEJF:debugSVU9KB       [0, 1]                 <NA>   \n",
       "\n",
       "                                    survey_answer  slider_value slider_copout  \\\n",
       "trial_index uniqueid                                                            \n",
       "2           debug49IEJF:debugSVU9KB           NaN          62.0         False   \n",
       "3           debug49IEJF:debugSVU9KB           NaN          64.0         False   \n",
       "4           debug49IEJF:debugSVU9KB           NaN          36.0         False   \n",
       "5           debug49IEJF:debugSVU9KB           NaN          83.0         False   \n",
       "6           debug49IEJF:debugSVU9KB           NaN          39.0         False   \n",
       "\n",
       "                                     agent_is_topic  agent_is_subject  \\\n",
       "trial_index uniqueid                                                    \n",
       "2           debug49IEJF:debugSVU9KB           False             False   \n",
       "3           debug49IEJF:debugSVU9KB           False             False   \n",
       "4           debug49IEJF:debugSVU9KB           False              True   \n",
       "5           debug49IEJF:debugSVU9KB           False             False   \n",
       "6           debug49IEJF:debugSVU9KB           False              True   \n",
       "\n",
       "                                     slider_value_normed  \n",
       "trial_index uniqueid                                      \n",
       "2           debug49IEJF:debugSVU9KB             0.631579  \n",
       "3           debug49IEJF:debugSVU9KB             0.666667  \n",
       "4           debug49IEJF:debugSVU9KB             0.175439  \n",
       "5           debug49IEJF:debugSVU9KB             1.000000  \n",
       "6           debug49IEJF:debugSVU9KB             0.228070  "
      ]
     },
     "execution_count": 10,
     "metadata": {},
     "output_type": "execute_result"
    }
   ],
   "source": [
    "response_df.head()"
   ]
  },
  {
   "cell_type": "code",
   "execution_count": 12,
   "id": "intended-respondent",
   "metadata": {},
   "outputs": [],
   "source": [
    "response_df.to_csv(\"responses.csv\")"
   ]
  },
  {
   "cell_type": "markdown",
   "id": "potential-telling",
   "metadata": {},
   "source": [
    "## Basic visualization"
   ]
  },
  {
   "cell_type": "code",
   "execution_count": 13,
   "id": "continental-survival",
   "metadata": {},
   "outputs": [],
   "source": [
    "# Compute by-item slider difference of means between conditions\n",
    "def compute_item_difference(item_rows):\n",
    "    item_rows = item_rows.set_index(\"agent_is_subject\")\n",
    "    \n",
    "    if True not in item_rows.index or False not in item_rows.index:\n",
    "        return np.nan\n",
    "    \n",
    "    agent_rows, location_rows = item_rows.loc[True], item_rows.loc[False]\n",
    "    return location_rows.slider_value_normed.mean() - agent_rows.slider_value_normed.mean()\n",
    "\n",
    "item_differences = response_df.groupby([\"item_id\"]).apply(compute_item_difference)"
   ]
  },
  {
   "cell_type": "code",
   "execution_count": 14,
   "id": "stopped-piano",
   "metadata": {},
   "outputs": [
    {
     "data": {
      "text/plain": [
       "<seaborn.axisgrid.FacetGrid at 0x7f9b24881d00>"
      ]
     },
     "execution_count": 14,
     "metadata": {},
     "output_type": "execute_result"
    },
    {
     "data": {
      "image/png": "[encoded data removed]",
      "text/plain": [
       "<Figure size 360x360 with 1 Axes>"
      ]
     },
     "metadata": {
      "needs_background": "light"
     },
     "output_type": "display_data"
    }
   ],
   "source": [
    "sns.displot(item_differences)"
   ]
  },
  {
   "cell_type": "code",
   "execution_count": null,
   "id": "aging-composition",
   "metadata": {},
   "outputs": [],
   "source": []
  }
 ],
 "metadata": {
  "kernelspec": {
   "display_name": "Python 3",
   "language": "python",
   "name": "python3"
  },
  "language_info": {
   "codemirror_mode": {
    "name": "ipython",
    "version": 3
   },
   "file_extension": ".py",
   "mimetype": "text/x-python",
   "name": "python",
   "nbconvert_exporter": "python",
   "pygments_lexer": "ipython3",
   "version": "3.8.8"
  }
 },
 "nbformat": 4,
 "nbformat_minor": 5
}
