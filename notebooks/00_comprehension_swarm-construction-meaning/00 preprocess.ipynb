{
 "cells": [
  {
   "cell_type": "code",
   "execution_count": 1,
   "id": "efficient-shock",
   "metadata": {},
   "outputs": [],
   "source": [
    "import sys\n",
    "sys.path.append(\"../../src\")"
   ]
  },
  {
   "cell_type": "code",
   "execution_count": 2,
   "id": "opened-passion",
   "metadata": {},
   "outputs": [],
   "source": [
    "%load_ext autoreload\n",
    "%autoreload 2"
   ]
  },
  {
   "cell_type": "code",
   "execution_count": 3,
   "id": "grand-vaccine",
   "metadata": {},
   "outputs": [],
   "source": [
    "import numpy as np\n",
    "import pandas as pd\n",
    "import seaborn as sns"
   ]
  },
  {
   "cell_type": "markdown",
   "id": "broadband-rebel",
   "metadata": {},
   "source": [
    "## Load and preprocess data"
   ]
  },
  {
   "cell_type": "code",
   "execution_count": 4,
   "id": "swedish-salem",
   "metadata": {},
   "outputs": [],
   "source": [
    "import data"
   ]
  },
  {
   "cell_type": "code",
   "execution_count": 21,
   "id": "conventional-software",
   "metadata": {},
   "outputs": [
    {
     "name": "stderr",
     "output_type": "stream",
     "text": [
      "Missing datastring for uid debug9X7NKD:debugKJBC0S. Status was 1.\n",
      "Missing datastring for uid debugCIT0JY:debugOEXFJU. Status was 1.\n",
      "Missing datastring for uid debug49IEJI:debugSVU9KB. Status was 1.\n",
      "Missing datastring for uid debug49IEJK:debugSVU9KB. Status was 1.\n",
      "Missing datastring for uid debug49IEJL:debugSVU9KB. Status was 1.\n",
      "Missing datastring for uid debug49IEJM:debugSVU9KB. Status was 1.\n",
      "Missing datastring for uid debug49IEJO:debugSVU9KB. Status was 1.\n",
      "Missing datastring for uid debug49IEJFP:debugSVU9KB. Status was 1.\n",
      "Missing datastring for uid debug49IEJFQ:debugSVU9KB. Status was 1.\n",
      "Missing datastring for uid debug49IEJFR:debugSVU9KB. Status was 1.\n",
      "Missing datastring for uid debug49IEJFS:debugSVU9KB. Status was 1.\n",
      "Missing datastring for uid debug49IEJFW:debugSVU9KB. Status was 1.\n",
      "Missing datastring for uid debug6RHBXZ:debugBWV8YP. Status was 1.\n",
      "Missing datastring for uid debug6RHBXA:debugBWV8YP. Status was 1.\n"
     ]
    }
   ],
   "source": [
    "# set db path hackily\n",
    "data._get_connection(\"../../data/participants.db\")\n",
    "\n",
    "raw_df = data.get_trials_df(data.load_raw_results(),\n",
    "                            (\"materials_id\", \"item_id\", \"condition_id\"))\n",
    "\n",
    "response_df = raw_df[raw_df.trial_type == \"html-slider-response-with-copout\"]"
   ]
  },
  {
   "cell_type": "code",
   "execution_count": 22,
   "id": "tested-absorption",
   "metadata": {},
   "outputs": [],
   "source": [
    "# DEV just use last subject\n",
    "response_df = response_df.xs(\"debugV7NH7A:debugTOAZGF\", level=\"uniqueid\", drop_level=False)"
   ]
  },
  {
   "cell_type": "code",
   "execution_count": 24,
   "id": "wrong-chart",
   "metadata": {},
   "outputs": [],
   "source": [
    "# Expand condition data\n",
    "response_df = pd.concat([response_df,\n",
    "                         response_df.condition_id.apply(pd.Series).rename(columns=lambda k: f\"condition_{k}\")],\n",
    "                        axis=1) \\\n",
    "    .drop(columns=\"condition_id\")"
   ]
  },
  {
   "cell_type": "code",
   "execution_count": 25,
   "id": "extraordinary-matthew",
   "metadata": {},
   "outputs": [],
   "source": [
    "# Convert condition_id to independent features\n",
    "response_df[\"agent_is_topic\"] = response_df[\"condition_0\"] == 0\n",
    "response_df[\"agent_is_subject\"] = response_df[\"condition_1\"] == 0"
   ]
  },
  {
   "cell_type": "code",
   "execution_count": 26,
   "id": "small-climb",
   "metadata": {},
   "outputs": [],
   "source": [
    "# Norm slider values within-subject.\n",
    "response_df[\"slider_value_normed\"] = \\\n",
    "    response_df.groupby(\"uniqueid\").slider_value.apply(lambda xs: (xs - xs.min()) / (xs.max() - xs.min()))"
   ]
  },
  {
   "cell_type": "code",
   "execution_count": 27,
   "id": "tropical-justice",
   "metadata": {},
   "outputs": [
    {
     "data": {
      "text/html": [
       "<div>\n",
       "<style scoped>\n",
       "    .dataframe tbody tr th:only-of-type {\n",
       "        vertical-align: middle;\n",
       "    }\n",
       "\n",
       "    .dataframe tbody tr th {\n",
       "        vertical-align: top;\n",
       "    }\n",
       "\n",
       "    .dataframe thead th {\n",
       "        text-align: right;\n",
       "    }\n",
       "</style>\n",
       "<table border=\"1\" class=\"dataframe\">\n",
       "  <thead>\n",
       "    <tr style=\"text-align: right;\">\n",
       "      <th></th>\n",
       "      <th></th>\n",
       "      <th>condition</th>\n",
       "      <th>counterbalance</th>\n",
       "      <th>assignmentId</th>\n",
       "      <th>workerId</th>\n",
       "      <th>hitId</th>\n",
       "      <th>trial_type</th>\n",
       "      <th>rt</th>\n",
       "      <th>internal_node_id</th>\n",
       "      <th>materials_id</th>\n",
       "      <th>item_id</th>\n",
       "      <th>survey_question_idx</th>\n",
       "      <th>survey_answer</th>\n",
       "      <th>slider_value</th>\n",
       "      <th>slider_copout</th>\n",
       "      <th>condition_0</th>\n",
       "      <th>condition_1</th>\n",
       "      <th>condition_2</th>\n",
       "      <th>agent_is_topic</th>\n",
       "      <th>agent_is_subject</th>\n",
       "      <th>slider_value_normed</th>\n",
       "    </tr>\n",
       "    <tr>\n",
       "      <th>trial_index</th>\n",
       "      <th>uniqueid</th>\n",
       "      <th></th>\n",
       "      <th></th>\n",
       "      <th></th>\n",
       "      <th></th>\n",
       "      <th></th>\n",
       "      <th></th>\n",
       "      <th></th>\n",
       "      <th></th>\n",
       "      <th></th>\n",
       "      <th></th>\n",
       "      <th></th>\n",
       "      <th></th>\n",
       "      <th></th>\n",
       "      <th></th>\n",
       "      <th></th>\n",
       "      <th></th>\n",
       "      <th></th>\n",
       "      <th></th>\n",
       "      <th></th>\n",
       "      <th></th>\n",
       "    </tr>\n",
       "  </thead>\n",
       "  <tbody>\n",
       "    <tr>\n",
       "      <th>1</th>\n",
       "      <th>debugV7NH7A:debugTOAZGF</th>\n",
       "      <td>0</td>\n",
       "      <td>0</td>\n",
       "      <td>debugTOAZGF</td>\n",
       "      <td>debugV7NH7A</td>\n",
       "      <td>debugZBJLGS</td>\n",
       "      <td>html-slider-response-with-copout</td>\n",
       "      <td>3381.9</td>\n",
       "      <td>0.0-1.0</td>\n",
       "      <td>None</td>\n",
       "      <td>NaN</td>\n",
       "      <td>&lt;NA&gt;</td>\n",
       "      <td>NaN</td>\n",
       "      <td>94.0</td>\n",
       "      <td>False</td>\n",
       "      <td>practice</td>\n",
       "      <td>solid</td>\n",
       "      <td>full</td>\n",
       "      <td>False</td>\n",
       "      <td>False</td>\n",
       "      <td>0.94</td>\n",
       "    </tr>\n",
       "    <tr>\n",
       "      <th>2</th>\n",
       "      <th>debugV7NH7A:debugTOAZGF</th>\n",
       "      <td>0</td>\n",
       "      <td>0</td>\n",
       "      <td>debugTOAZGF</td>\n",
       "      <td>debugV7NH7A</td>\n",
       "      <td>debugZBJLGS</td>\n",
       "      <td>html-slider-response-with-copout</td>\n",
       "      <td>3157.8</td>\n",
       "      <td>0.0-2.0</td>\n",
       "      <td>None</td>\n",
       "      <td>NaN</td>\n",
       "      <td>&lt;NA&gt;</td>\n",
       "      <td>NaN</td>\n",
       "      <td>97.0</td>\n",
       "      <td>False</td>\n",
       "      <td>practice</td>\n",
       "      <td>liquid</td>\n",
       "      <td>full</td>\n",
       "      <td>False</td>\n",
       "      <td>False</td>\n",
       "      <td>0.97</td>\n",
       "    </tr>\n",
       "    <tr>\n",
       "      <th>3</th>\n",
       "      <th>debugV7NH7A:debugTOAZGF</th>\n",
       "      <td>0</td>\n",
       "      <td>0</td>\n",
       "      <td>debugTOAZGF</td>\n",
       "      <td>debugV7NH7A</td>\n",
       "      <td>debugZBJLGS</td>\n",
       "      <td>html-slider-response-with-copout</td>\n",
       "      <td>2873.7</td>\n",
       "      <td>0.0-3.0</td>\n",
       "      <td>None</td>\n",
       "      <td>NaN</td>\n",
       "      <td>&lt;NA&gt;</td>\n",
       "      <td>NaN</td>\n",
       "      <td>4.0</td>\n",
       "      <td>False</td>\n",
       "      <td>practice</td>\n",
       "      <td>abstract</td>\n",
       "      <td>empty</td>\n",
       "      <td>False</td>\n",
       "      <td>False</td>\n",
       "      <td>0.04</td>\n",
       "    </tr>\n",
       "    <tr>\n",
       "      <th>4</th>\n",
       "      <th>debugV7NH7A:debugTOAZGF</th>\n",
       "      <td>0</td>\n",
       "      <td>0</td>\n",
       "      <td>debugTOAZGF</td>\n",
       "      <td>debugV7NH7A</td>\n",
       "      <td>debugZBJLGS</td>\n",
       "      <td>html-slider-response-with-copout</td>\n",
       "      <td>2582.9</td>\n",
       "      <td>0.0-4.0</td>\n",
       "      <td>None</td>\n",
       "      <td>NaN</td>\n",
       "      <td>&lt;NA&gt;</td>\n",
       "      <td>NaN</td>\n",
       "      <td>5.0</td>\n",
       "      <td>False</td>\n",
       "      <td>practice</td>\n",
       "      <td>solid</td>\n",
       "      <td>empty</td>\n",
       "      <td>False</td>\n",
       "      <td>False</td>\n",
       "      <td>0.05</td>\n",
       "    </tr>\n",
       "    <tr>\n",
       "      <th>5</th>\n",
       "      <th>debugV7NH7A:debugTOAZGF</th>\n",
       "      <td>0</td>\n",
       "      <td>0</td>\n",
       "      <td>debugTOAZGF</td>\n",
       "      <td>debugV7NH7A</td>\n",
       "      <td>debugZBJLGS</td>\n",
       "      <td>html-slider-response-with-copout</td>\n",
       "      <td>2190.3</td>\n",
       "      <td>0.0-5.0</td>\n",
       "      <td>None</td>\n",
       "      <td>NaN</td>\n",
       "      <td>&lt;NA&gt;</td>\n",
       "      <td>NaN</td>\n",
       "      <td>96.0</td>\n",
       "      <td>False</td>\n",
       "      <td>practice</td>\n",
       "      <td>abstract</td>\n",
       "      <td>full</td>\n",
       "      <td>False</td>\n",
       "      <td>False</td>\n",
       "      <td>0.96</td>\n",
       "    </tr>\n",
       "  </tbody>\n",
       "</table>\n",
       "</div>"
      ],
      "text/plain": [
       "                                     condition  counterbalance assignmentId  \\\n",
       "trial_index uniqueid                                                          \n",
       "1           debugV7NH7A:debugTOAZGF          0               0  debugTOAZGF   \n",
       "2           debugV7NH7A:debugTOAZGF          0               0  debugTOAZGF   \n",
       "3           debugV7NH7A:debugTOAZGF          0               0  debugTOAZGF   \n",
       "4           debugV7NH7A:debugTOAZGF          0               0  debugTOAZGF   \n",
       "5           debugV7NH7A:debugTOAZGF          0               0  debugTOAZGF   \n",
       "\n",
       "                                        workerId        hitId  \\\n",
       "trial_index uniqueid                                            \n",
       "1           debugV7NH7A:debugTOAZGF  debugV7NH7A  debugZBJLGS   \n",
       "2           debugV7NH7A:debugTOAZGF  debugV7NH7A  debugZBJLGS   \n",
       "3           debugV7NH7A:debugTOAZGF  debugV7NH7A  debugZBJLGS   \n",
       "4           debugV7NH7A:debugTOAZGF  debugV7NH7A  debugZBJLGS   \n",
       "5           debugV7NH7A:debugTOAZGF  debugV7NH7A  debugZBJLGS   \n",
       "\n",
       "                                                           trial_type      rt  \\\n",
       "trial_index uniqueid                                                            \n",
       "1           debugV7NH7A:debugTOAZGF  html-slider-response-with-copout  3381.9   \n",
       "2           debugV7NH7A:debugTOAZGF  html-slider-response-with-copout  3157.8   \n",
       "3           debugV7NH7A:debugTOAZGF  html-slider-response-with-copout  2873.7   \n",
       "4           debugV7NH7A:debugTOAZGF  html-slider-response-with-copout  2582.9   \n",
       "5           debugV7NH7A:debugTOAZGF  html-slider-response-with-copout  2190.3   \n",
       "\n",
       "                                    internal_node_id materials_id  item_id  \\\n",
       "trial_index uniqueid                                                         \n",
       "1           debugV7NH7A:debugTOAZGF          0.0-1.0         None      NaN   \n",
       "2           debugV7NH7A:debugTOAZGF          0.0-2.0         None      NaN   \n",
       "3           debugV7NH7A:debugTOAZGF          0.0-3.0         None      NaN   \n",
       "4           debugV7NH7A:debugTOAZGF          0.0-4.0         None      NaN   \n",
       "5           debugV7NH7A:debugTOAZGF          0.0-5.0         None      NaN   \n",
       "\n",
       "                                     survey_question_idx survey_answer  \\\n",
       "trial_index uniqueid                                                     \n",
       "1           debugV7NH7A:debugTOAZGF                 <NA>           NaN   \n",
       "2           debugV7NH7A:debugTOAZGF                 <NA>           NaN   \n",
       "3           debugV7NH7A:debugTOAZGF                 <NA>           NaN   \n",
       "4           debugV7NH7A:debugTOAZGF                 <NA>           NaN   \n",
       "5           debugV7NH7A:debugTOAZGF                 <NA>           NaN   \n",
       "\n",
       "                                     slider_value slider_copout condition_0  \\\n",
       "trial_index uniqueid                                                          \n",
       "1           debugV7NH7A:debugTOAZGF          94.0         False    practice   \n",
       "2           debugV7NH7A:debugTOAZGF          97.0         False    practice   \n",
       "3           debugV7NH7A:debugTOAZGF           4.0         False    practice   \n",
       "4           debugV7NH7A:debugTOAZGF           5.0         False    practice   \n",
       "5           debugV7NH7A:debugTOAZGF          96.0         False    practice   \n",
       "\n",
       "                                    condition_1 condition_2  agent_is_topic  \\\n",
       "trial_index uniqueid                                                          \n",
       "1           debugV7NH7A:debugTOAZGF       solid        full           False   \n",
       "2           debugV7NH7A:debugTOAZGF      liquid        full           False   \n",
       "3           debugV7NH7A:debugTOAZGF    abstract       empty           False   \n",
       "4           debugV7NH7A:debugTOAZGF       solid       empty           False   \n",
       "5           debugV7NH7A:debugTOAZGF    abstract        full           False   \n",
       "\n",
       "                                     agent_is_subject  slider_value_normed  \n",
       "trial_index uniqueid                                                        \n",
       "1           debugV7NH7A:debugTOAZGF             False                 0.94  \n",
       "2           debugV7NH7A:debugTOAZGF             False                 0.97  \n",
       "3           debugV7NH7A:debugTOAZGF             False                 0.04  \n",
       "4           debugV7NH7A:debugTOAZGF             False                 0.05  \n",
       "5           debugV7NH7A:debugTOAZGF             False                 0.96  "
      ]
     },
     "execution_count": 27,
     "metadata": {},
     "output_type": "execute_result"
    }
   ],
   "source": [
    "response_df.head()"
   ]
  },
  {
   "cell_type": "code",
   "execution_count": 28,
   "id": "disturbed-qatar",
   "metadata": {},
   "outputs": [],
   "source": [
    "response_df.to_csv(\"responses.csv\")"
   ]
  },
  {
   "cell_type": "markdown",
   "id": "cognitive-focus",
   "metadata": {},
   "source": [
    "## Attention checks"
   ]
  },
  {
   "cell_type": "markdown",
   "id": "based-sierra",
   "metadata": {},
   "source": [
    "### Practice round"
   ]
  },
  {
   "cell_type": "code",
   "execution_count": 35,
   "id": "attempted-action",
   "metadata": {},
   "outputs": [
    {
     "data": {
      "text/plain": [
       "<seaborn.axisgrid.FacetGrid at 0x7f5106c00bb0>"
      ]
     },
     "execution_count": 35,
     "metadata": {},
     "output_type": "execute_result"
    },
    {
     "data": {
      "image/png": "[encoded data removed]",
      "text/plain": [
       "<Figure size 544.5x360 with 1 Axes>"
      ]
     },
     "metadata": {
      "needs_background": "light"
     },
     "output_type": "display_data"
    }
   ],
   "source": [
    "from scipy.stats import ttest_ind\n",
    "def compute_practice_ttest(subj_rows):\n",
    "    \"\"\"\n",
    "    sanity check: \"full\" items should be rated higher than \"empty\" practice items\n",
    "    \"\"\"\n",
    "    practice_rows = subj_rows[subj_rows.condition_0 == \"practice\"]\n",
    "    full_practice = practice_rows[practice_rows.condition_2 == \"full\"]\n",
    "    empty_practice = practice_rows[practice_rows.condition_2 == \"empty\"]\n",
    "    \n",
    "    return pd.Series(ttest_ind(full_practice.slider_value, empty_practice.slider_value),\n",
    "                     index=[\"t\", \"pval\"])\n",
    "\n",
    "practice_stats = response_df.groupby(\"uniqueid\").apply(compute_practice_ttest)\n",
    "sns.displot(practice_stats.reset_index(), x=\"t\", hue=\"uniqueid\")"
   ]
  },
  {
   "cell_type": "markdown",
   "id": "criminal-permission",
   "metadata": {},
   "source": [
    "### Fillers"
   ]
  },
  {
   "cell_type": "code",
   "execution_count": 38,
   "id": "exact-assault",
   "metadata": {},
   "outputs": [
    {
     "data": {
      "text/plain": [
       "<seaborn.axisgrid.FacetGrid at 0x7f50faa17790>"
      ]
     },
     "execution_count": 38,
     "metadata": {},
     "output_type": "execute_result"
    },
    {
     "data": {
      "image/png": "[encoded data removed]",
      "text/plain": [
       "<Figure size 544.5x360 with 1 Axes>"
      ]
     },
     "metadata": {
      "needs_background": "light"
     },
     "output_type": "display_data"
    }
   ],
   "source": [
    "from scipy.stats import ttest_ind\n",
    "def compute_filler_ttest(subj_rows):\n",
    "    \"\"\"\n",
    "    sanity check: \"full\" items should be rated higher than \"empty\" filler items\n",
    "    \"\"\"\n",
    "    practice_rows = subj_rows[subj_rows.condition_0 == \"filler\"]\n",
    "    full_practice = practice_rows[practice_rows.condition_1 == \"full\"]\n",
    "    empty_practice = practice_rows[practice_rows.condition_1 == \"empty\"]\n",
    "    \n",
    "    return pd.Series(ttest_ind(full_practice.slider_value, empty_practice.slider_value),\n",
    "                     index=[\"t\", \"pval\"])\n",
    "\n",
    "practice_stats = response_df.groupby(\"uniqueid\").apply(compute_practice_ttest)\n",
    "sns.displot(practice_stats.reset_index(), x=\"t\", hue=\"uniqueid\")"
   ]
  },
  {
   "cell_type": "markdown",
   "id": "experienced-prince",
   "metadata": {},
   "source": [
    "## Basic visualization"
   ]
  },
  {
   "cell_type": "code",
   "execution_count": 41,
   "id": "romantic-implement",
   "metadata": {},
   "outputs": [],
   "source": [
    "exp_items = response_df[~(response_df.condition_0.isin((\"practice\", \"filler\")))]"
   ]
  },
  {
   "cell_type": "code",
   "execution_count": 42,
   "id": "appreciated-webcam",
   "metadata": {},
   "outputs": [],
   "source": [
    "# Compute by-item slider difference of means between conditions\n",
    "def compute_item_difference(item_rows):\n",
    "    item_rows = item_rows.set_index(\"agent_is_subject\")\n",
    "    \n",
    "    if True not in item_rows.index or False not in item_rows.index:\n",
    "        return np.nan\n",
    "    \n",
    "    agent_rows, location_rows = item_rows.loc[True], item_rows.loc[False]\n",
    "    return location_rows.slider_value_normed.mean() - agent_rows.slider_value_normed.mean()\n",
    "\n",
    "item_differences = exp_items.groupby([\"item_id\"]).apply(compute_item_difference)"
   ]
  },
  {
   "cell_type": "code",
   "execution_count": 43,
   "id": "expected-czech",
   "metadata": {},
   "outputs": [
    {
     "data": {
      "text/plain": [
       "<seaborn.axisgrid.FacetGrid at 0x7f50fa9bfe80>"
      ]
     },
     "execution_count": 43,
     "metadata": {},
     "output_type": "execute_result"
    },
    {
     "data": {
      "image/png": "[encoded data removed]",
      "text/plain": [
       "<Figure size 360x360 with 1 Axes>"
      ]
     },
     "metadata": {
      "needs_background": "light"
     },
     "output_type": "display_data"
    }
   ],
   "source": [
    "sns.displot(item_differences)"
   ]
  }
 ],
 "metadata": {
  "kernelspec": {
   "display_name": "Python 3",
   "language": "python",
   "name": "python3"
  },
  "language_info": {
   "codemirror_mode": {
    "name": "ipython",
    "version": 3
   },
   "file_extension": ".py",
   "mimetype": "text/x-python",
   "name": "python",
   "nbconvert_exporter": "python",
   "pygments_lexer": "ipython3",
   "version": "3.8.8"
  }
 },
 "nbformat": 4,
 "nbformat_minor": 5
}
