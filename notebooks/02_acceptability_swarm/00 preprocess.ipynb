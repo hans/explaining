{
 "cells": [
  {
   "cell_type": "code",
   "execution_count": 1,
   "id": "other-poultry",
   "metadata": {},
   "outputs": [],
   "source": [
    "import sys\n",
    "sys.path.append(\"../../src\")"
   ]
  },
  {
   "cell_type": "code",
   "execution_count": 2,
   "id": "devoted-sentence",
   "metadata": {},
   "outputs": [],
   "source": [
    "%load_ext autoreload\n",
    "%autoreload 2"
   ]
  },
  {
   "cell_type": "code",
   "execution_count": 3,
   "id": "decreased-sally",
   "metadata": {},
   "outputs": [],
   "source": [
    "import numpy as np\n",
    "import pandas as pd\n",
    "import seaborn as sns\n",
    "from matplotlib import pyplot as plt"
   ]
  },
  {
   "cell_type": "markdown",
   "id": "coastal-store",
   "metadata": {},
   "source": [
    "## Load and preprocess data"
   ]
  },
  {
   "cell_type": "code",
   "execution_count": 4,
   "id": "religious-tuesday",
   "metadata": {},
   "outputs": [],
   "source": [
    "import data"
   ]
  },
  {
   "cell_type": "code",
   "execution_count": 5,
   "id": "spiritual-washer",
   "metadata": {},
   "outputs": [
    {
     "name": "stderr",
     "output_type": "stream",
     "text": [
      "Missing datastring for uid A33LYSCQQU1YDJ:31JLPPHS2VIHTNHTYQX3Y0LM83NO3X. Status was 1.\n",
      "Missing datastring for uid AT6ICEVY8RM8D:3WS1NTTKEZ0R6I53G0WU98E1D1J0FL. Status was 1.\n"
     ]
    }
   ],
   "source": [
    "# set db path hackily\n",
    "data._get_connection(\"../../data/participants.db\")\n",
    "\n",
    "raw_df = data.get_trials_df(data.load_raw_results(),\n",
    "                            (\"experiment_id\", \"materials_id\", \"item_id\", \"condition_id\",\n",
    "                             \"practice_sentence\"))\n",
    "\n",
    "response_df = raw_df[(raw_df.experiment_id == \"02_acceptability_swarm\") & (raw_df.trial_type == \"html-slider-response-with-copout\")] \\\n",
    "    .reset_index().set_index([\"uniqueid\", \"trial_index\"])"
   ]
  },
  {
   "cell_type": "code",
   "execution_count": 6,
   "id": "loving-czech",
   "metadata": {},
   "outputs": [],
   "source": [
    "# Expand condition labels, which are tuples\n",
    "response_df = pd.concat([response_df, response_df.condition_id.apply(pd.Series).rename(columns=lambda x: f\"condition_{x}\")], axis=1) \\\n",
    "    .drop(columns=\"condition_id\")"
   ]
  },
  {
   "cell_type": "code",
   "execution_count": 7,
   "id": "smooth-installation",
   "metadata": {},
   "outputs": [],
   "source": [
    "# Convert condition_id to independent features\n",
    "response_df[\"agent_is_subject\"] = response_df[\"condition_1\"] == 1"
   ]
  },
  {
   "cell_type": "code",
   "execution_count": 8,
   "id": "forward-warrant",
   "metadata": {},
   "outputs": [],
   "source": [
    "# Norm slider values within-subject.\n",
    "response_df[\"slider_zscore\"] = \\\n",
    "    response_df.groupby(\"uniqueid\").slider_value.apply(lambda xs: (xs - xs.mean()) / (xs.std(ddof=0)))"
   ]
  },
  {
   "cell_type": "code",
   "execution_count": 9,
   "id": "familiar-queen",
   "metadata": {},
   "outputs": [],
   "source": [
    "# dtype fixes\n",
    "response_df[\"dateTime\"] = pd.to_datetime(response_df.dateTime, unit=\"ms\")"
   ]
  },
  {
   "cell_type": "code",
   "execution_count": 10,
   "id": "accomplished-times",
   "metadata": {},
   "outputs": [
    {
     "data": {
      "text/html": [
       "<div>\n",
       "<style scoped>\n",
       "    .dataframe tbody tr th:only-of-type {\n",
       "        vertical-align: middle;\n",
       "    }\n",
       "\n",
       "    .dataframe tbody tr th {\n",
       "        vertical-align: top;\n",
       "    }\n",
       "\n",
       "    .dataframe thead th {\n",
       "        text-align: right;\n",
       "    }\n",
       "</style>\n",
       "<table border=\"1\" class=\"dataframe\">\n",
       "  <thead>\n",
       "    <tr style=\"text-align: right;\">\n",
       "      <th></th>\n",
       "      <th></th>\n",
       "      <th>condition</th>\n",
       "      <th>counterbalance</th>\n",
       "      <th>assignmentId</th>\n",
       "      <th>workerId</th>\n",
       "      <th>hitId</th>\n",
       "      <th>trial_type</th>\n",
       "      <th>rt</th>\n",
       "      <th>internal_node_id</th>\n",
       "      <th>dateTime</th>\n",
       "      <th>experiment_id</th>\n",
       "      <th>...</th>\n",
       "      <th>item_id</th>\n",
       "      <th>practice_sentence</th>\n",
       "      <th>survey_question_idx</th>\n",
       "      <th>survey_answer</th>\n",
       "      <th>slider_value</th>\n",
       "      <th>slider_copout</th>\n",
       "      <th>condition_0</th>\n",
       "      <th>condition_1</th>\n",
       "      <th>agent_is_subject</th>\n",
       "      <th>slider_zscore</th>\n",
       "    </tr>\n",
       "    <tr>\n",
       "      <th>uniqueid</th>\n",
       "      <th>trial_index</th>\n",
       "      <th></th>\n",
       "      <th></th>\n",
       "      <th></th>\n",
       "      <th></th>\n",
       "      <th></th>\n",
       "      <th></th>\n",
       "      <th></th>\n",
       "      <th></th>\n",
       "      <th></th>\n",
       "      <th></th>\n",
       "      <th></th>\n",
       "      <th></th>\n",
       "      <th></th>\n",
       "      <th></th>\n",
       "      <th></th>\n",
       "      <th></th>\n",
       "      <th></th>\n",
       "      <th></th>\n",
       "      <th></th>\n",
       "      <th></th>\n",
       "      <th></th>\n",
       "    </tr>\n",
       "  </thead>\n",
       "  <tbody>\n",
       "    <tr>\n",
       "      <th rowspan=\"5\" valign=\"top\">AUZNL6ARA1UEC:30LSNF239VJICJA7WV6TVTK8QRV2IY</th>\n",
       "      <th>3</th>\n",
       "      <td>0</td>\n",
       "      <td>0</td>\n",
       "      <td>30LSNF239VJICJA7WV6TVTK8QRV2IY</td>\n",
       "      <td>AUZNL6ARA1UEC</td>\n",
       "      <td>3Y40HMYLL16LZ6ABOZBYG26P2L4UXT</td>\n",
       "      <td>html-slider-response-with-copout</td>\n",
       "      <td>10886.3</td>\n",
       "      <td>0.0-3.0</td>\n",
       "      <td>2021-08-09 15:28:36.535</td>\n",
       "      <td>02_acceptability_swarm</td>\n",
       "      <td>...</td>\n",
       "      <td>NaN</td>\n",
       "      <td>1-1</td>\n",
       "      <td>&lt;NA&gt;</td>\n",
       "      <td>NaN</td>\n",
       "      <td>1.0</td>\n",
       "      <td>False</td>\n",
       "      <td>NaN</td>\n",
       "      <td>NaN</td>\n",
       "      <td>False</td>\n",
       "      <td>-1.596034</td>\n",
       "    </tr>\n",
       "    <tr>\n",
       "      <th>4</th>\n",
       "      <td>0</td>\n",
       "      <td>0</td>\n",
       "      <td>30LSNF239VJICJA7WV6TVTK8QRV2IY</td>\n",
       "      <td>AUZNL6ARA1UEC</td>\n",
       "      <td>3Y40HMYLL16LZ6ABOZBYG26P2L4UXT</td>\n",
       "      <td>html-slider-response-with-copout</td>\n",
       "      <td>9561.1</td>\n",
       "      <td>0.0-4.0</td>\n",
       "      <td>2021-08-09 15:28:46.099</td>\n",
       "      <td>02_acceptability_swarm</td>\n",
       "      <td>...</td>\n",
       "      <td>NaN</td>\n",
       "      <td>4-1</td>\n",
       "      <td>&lt;NA&gt;</td>\n",
       "      <td>NaN</td>\n",
       "      <td>4.0</td>\n",
       "      <td>False</td>\n",
       "      <td>NaN</td>\n",
       "      <td>NaN</td>\n",
       "      <td>False</td>\n",
       "      <td>-0.251430</td>\n",
       "    </tr>\n",
       "    <tr>\n",
       "      <th>5</th>\n",
       "      <td>0</td>\n",
       "      <td>0</td>\n",
       "      <td>30LSNF239VJICJA7WV6TVTK8QRV2IY</td>\n",
       "      <td>AUZNL6ARA1UEC</td>\n",
       "      <td>3Y40HMYLL16LZ6ABOZBYG26P2L4UXT</td>\n",
       "      <td>html-slider-response-with-copout</td>\n",
       "      <td>4337.5</td>\n",
       "      <td>0.0-5.0</td>\n",
       "      <td>2021-08-09 15:28:50.440</td>\n",
       "      <td>02_acceptability_swarm</td>\n",
       "      <td>...</td>\n",
       "      <td>NaN</td>\n",
       "      <td>7-1</td>\n",
       "      <td>&lt;NA&gt;</td>\n",
       "      <td>NaN</td>\n",
       "      <td>7.0</td>\n",
       "      <td>False</td>\n",
       "      <td>NaN</td>\n",
       "      <td>NaN</td>\n",
       "      <td>False</td>\n",
       "      <td>1.093174</td>\n",
       "    </tr>\n",
       "    <tr>\n",
       "      <th>7</th>\n",
       "      <td>0</td>\n",
       "      <td>0</td>\n",
       "      <td>30LSNF239VJICJA7WV6TVTK8QRV2IY</td>\n",
       "      <td>AUZNL6ARA1UEC</td>\n",
       "      <td>3Y40HMYLL16LZ6ABOZBYG26P2L4UXT</td>\n",
       "      <td>html-slider-response-with-copout</td>\n",
       "      <td>6262.3</td>\n",
       "      <td>0.0-7.0</td>\n",
       "      <td>2021-08-09 15:28:57.870</td>\n",
       "      <td>02_acceptability_swarm</td>\n",
       "      <td>...</td>\n",
       "      <td>29.0</td>\n",
       "      <td>None</td>\n",
       "      <td>&lt;NA&gt;</td>\n",
       "      <td>NaN</td>\n",
       "      <td>7.0</td>\n",
       "      <td>False</td>\n",
       "      <td>filler</td>\n",
       "      <td>good</td>\n",
       "      <td>False</td>\n",
       "      <td>1.093174</td>\n",
       "    </tr>\n",
       "    <tr>\n",
       "      <th>8</th>\n",
       "      <td>0</td>\n",
       "      <td>0</td>\n",
       "      <td>30LSNF239VJICJA7WV6TVTK8QRV2IY</td>\n",
       "      <td>AUZNL6ARA1UEC</td>\n",
       "      <td>3Y40HMYLL16LZ6ABOZBYG26P2L4UXT</td>\n",
       "      <td>html-slider-response-with-copout</td>\n",
       "      <td>7395.1</td>\n",
       "      <td>0.0-8.0</td>\n",
       "      <td>2021-08-09 15:29:05.268</td>\n",
       "      <td>02_acceptability_swarm</td>\n",
       "      <td>...</td>\n",
       "      <td>14.0</td>\n",
       "      <td>None</td>\n",
       "      <td>&lt;NA&gt;</td>\n",
       "      <td>NaN</td>\n",
       "      <td>2.0</td>\n",
       "      <td>False</td>\n",
       "      <td>filler</td>\n",
       "      <td>bad</td>\n",
       "      <td>False</td>\n",
       "      <td>-1.147832</td>\n",
       "    </tr>\n",
       "  </tbody>\n",
       "</table>\n",
       "<p>5 rows × 21 columns</p>\n",
       "</div>"
      ],
      "text/plain": [
       "                                                          condition  \\\n",
       "uniqueid                                     trial_index              \n",
       "AUZNL6ARA1UEC:30LSNF239VJICJA7WV6TVTK8QRV2IY 3                    0   \n",
       "                                             4                    0   \n",
       "                                             5                    0   \n",
       "                                             7                    0   \n",
       "                                             8                    0   \n",
       "\n",
       "                                                          counterbalance  \\\n",
       "uniqueid                                     trial_index                   \n",
       "AUZNL6ARA1UEC:30LSNF239VJICJA7WV6TVTK8QRV2IY 3                         0   \n",
       "                                             4                         0   \n",
       "                                             5                         0   \n",
       "                                             7                         0   \n",
       "                                             8                         0   \n",
       "\n",
       "                                                                            assignmentId  \\\n",
       "uniqueid                                     trial_index                                   \n",
       "AUZNL6ARA1UEC:30LSNF239VJICJA7WV6TVTK8QRV2IY 3            30LSNF239VJICJA7WV6TVTK8QRV2IY   \n",
       "                                             4            30LSNF239VJICJA7WV6TVTK8QRV2IY   \n",
       "                                             5            30LSNF239VJICJA7WV6TVTK8QRV2IY   \n",
       "                                             7            30LSNF239VJICJA7WV6TVTK8QRV2IY   \n",
       "                                             8            30LSNF239VJICJA7WV6TVTK8QRV2IY   \n",
       "\n",
       "                                                               workerId  \\\n",
       "uniqueid                                     trial_index                  \n",
       "AUZNL6ARA1UEC:30LSNF239VJICJA7WV6TVTK8QRV2IY 3            AUZNL6ARA1UEC   \n",
       "                                             4            AUZNL6ARA1UEC   \n",
       "                                             5            AUZNL6ARA1UEC   \n",
       "                                             7            AUZNL6ARA1UEC   \n",
       "                                             8            AUZNL6ARA1UEC   \n",
       "\n",
       "                                                                                   hitId  \\\n",
       "uniqueid                                     trial_index                                   \n",
       "AUZNL6ARA1UEC:30LSNF239VJICJA7WV6TVTK8QRV2IY 3            3Y40HMYLL16LZ6ABOZBYG26P2L4UXT   \n",
       "                                             4            3Y40HMYLL16LZ6ABOZBYG26P2L4UXT   \n",
       "                                             5            3Y40HMYLL16LZ6ABOZBYG26P2L4UXT   \n",
       "                                             7            3Y40HMYLL16LZ6ABOZBYG26P2L4UXT   \n",
       "                                             8            3Y40HMYLL16LZ6ABOZBYG26P2L4UXT   \n",
       "\n",
       "                                                                                trial_type  \\\n",
       "uniqueid                                     trial_index                                     \n",
       "AUZNL6ARA1UEC:30LSNF239VJICJA7WV6TVTK8QRV2IY 3            html-slider-response-with-copout   \n",
       "                                             4            html-slider-response-with-copout   \n",
       "                                             5            html-slider-response-with-copout   \n",
       "                                             7            html-slider-response-with-copout   \n",
       "                                             8            html-slider-response-with-copout   \n",
       "\n",
       "                                                               rt  \\\n",
       "uniqueid                                     trial_index            \n",
       "AUZNL6ARA1UEC:30LSNF239VJICJA7WV6TVTK8QRV2IY 3            10886.3   \n",
       "                                             4             9561.1   \n",
       "                                             5             4337.5   \n",
       "                                             7             6262.3   \n",
       "                                             8             7395.1   \n",
       "\n",
       "                                                         internal_node_id  \\\n",
       "uniqueid                                     trial_index                    \n",
       "AUZNL6ARA1UEC:30LSNF239VJICJA7WV6TVTK8QRV2IY 3                    0.0-3.0   \n",
       "                                             4                    0.0-4.0   \n",
       "                                             5                    0.0-5.0   \n",
       "                                             7                    0.0-7.0   \n",
       "                                             8                    0.0-8.0   \n",
       "\n",
       "                                                                        dateTime  \\\n",
       "uniqueid                                     trial_index                           \n",
       "AUZNL6ARA1UEC:30LSNF239VJICJA7WV6TVTK8QRV2IY 3           2021-08-09 15:28:36.535   \n",
       "                                             4           2021-08-09 15:28:46.099   \n",
       "                                             5           2021-08-09 15:28:50.440   \n",
       "                                             7           2021-08-09 15:28:57.870   \n",
       "                                             8           2021-08-09 15:29:05.268   \n",
       "\n",
       "                                                                   experiment_id  \\\n",
       "uniqueid                                     trial_index                           \n",
       "AUZNL6ARA1UEC:30LSNF239VJICJA7WV6TVTK8QRV2IY 3            02_acceptability_swarm   \n",
       "                                             4            02_acceptability_swarm   \n",
       "                                             5            02_acceptability_swarm   \n",
       "                                             7            02_acceptability_swarm   \n",
       "                                             8            02_acceptability_swarm   \n",
       "\n",
       "                                                          ... item_id  \\\n",
       "uniqueid                                     trial_index  ...           \n",
       "AUZNL6ARA1UEC:30LSNF239VJICJA7WV6TVTK8QRV2IY 3            ...     NaN   \n",
       "                                             4            ...     NaN   \n",
       "                                             5            ...     NaN   \n",
       "                                             7            ...    29.0   \n",
       "                                             8            ...    14.0   \n",
       "\n",
       "                                                          practice_sentence  \\\n",
       "uniqueid                                     trial_index                      \n",
       "AUZNL6ARA1UEC:30LSNF239VJICJA7WV6TVTK8QRV2IY 3                          1-1   \n",
       "                                             4                          4-1   \n",
       "                                             5                          7-1   \n",
       "                                             7                         None   \n",
       "                                             8                         None   \n",
       "\n",
       "                                                         survey_question_idx  \\\n",
       "uniqueid                                     trial_index                       \n",
       "AUZNL6ARA1UEC:30LSNF239VJICJA7WV6TVTK8QRV2IY 3                          <NA>   \n",
       "                                             4                          <NA>   \n",
       "                                             5                          <NA>   \n",
       "                                             7                          <NA>   \n",
       "                                             8                          <NA>   \n",
       "\n",
       "                                                          survey_answer  \\\n",
       "uniqueid                                     trial_index                  \n",
       "AUZNL6ARA1UEC:30LSNF239VJICJA7WV6TVTK8QRV2IY 3                      NaN   \n",
       "                                             4                      NaN   \n",
       "                                             5                      NaN   \n",
       "                                             7                      NaN   \n",
       "                                             8                      NaN   \n",
       "\n",
       "                                                         slider_value  \\\n",
       "uniqueid                                     trial_index                \n",
       "AUZNL6ARA1UEC:30LSNF239VJICJA7WV6TVTK8QRV2IY 3                    1.0   \n",
       "                                             4                    4.0   \n",
       "                                             5                    7.0   \n",
       "                                             7                    7.0   \n",
       "                                             8                    2.0   \n",
       "\n",
       "                                                          slider_copout  \\\n",
       "uniqueid                                     trial_index                  \n",
       "AUZNL6ARA1UEC:30LSNF239VJICJA7WV6TVTK8QRV2IY 3                    False   \n",
       "                                             4                    False   \n",
       "                                             5                    False   \n",
       "                                             7                    False   \n",
       "                                             8                    False   \n",
       "\n",
       "                                                         condition_0  \\\n",
       "uniqueid                                     trial_index               \n",
       "AUZNL6ARA1UEC:30LSNF239VJICJA7WV6TVTK8QRV2IY 3                   NaN   \n",
       "                                             4                   NaN   \n",
       "                                             5                   NaN   \n",
       "                                             7                filler   \n",
       "                                             8                filler   \n",
       "\n",
       "                                                         condition_1  \\\n",
       "uniqueid                                     trial_index               \n",
       "AUZNL6ARA1UEC:30LSNF239VJICJA7WV6TVTK8QRV2IY 3                   NaN   \n",
       "                                             4                   NaN   \n",
       "                                             5                   NaN   \n",
       "                                             7                  good   \n",
       "                                             8                   bad   \n",
       "\n",
       "                                                         agent_is_subject  \\\n",
       "uniqueid                                     trial_index                    \n",
       "AUZNL6ARA1UEC:30LSNF239VJICJA7WV6TVTK8QRV2IY 3                      False   \n",
       "                                             4                      False   \n",
       "                                             5                      False   \n",
       "                                             7                      False   \n",
       "                                             8                      False   \n",
       "\n",
       "                                                          slider_zscore  \n",
       "uniqueid                                     trial_index                 \n",
       "AUZNL6ARA1UEC:30LSNF239VJICJA7WV6TVTK8QRV2IY 3                -1.596034  \n",
       "                                             4                -0.251430  \n",
       "                                             5                 1.093174  \n",
       "                                             7                 1.093174  \n",
       "                                             8                -1.147832  \n",
       "\n",
       "[5 rows x 21 columns]"
      ]
     },
     "execution_count": 10,
     "metadata": {},
     "output_type": "execute_result"
    }
   ],
   "source": [
    "response_df.head()"
   ]
  },
  {
   "cell_type": "code",
   "execution_count": 11,
   "id": "annual-skating",
   "metadata": {},
   "outputs": [],
   "source": [
    "response_df.to_csv(\"raw_responses.csv\")"
   ]
  },
  {
   "cell_type": "markdown",
   "id": "integral-communist",
   "metadata": {},
   "source": [
    "## Preliminaries"
   ]
  },
  {
   "cell_type": "markdown",
   "id": "clear-component",
   "metadata": {},
   "source": [
    "### How are people using the sliders?"
   ]
  },
  {
   "cell_type": "markdown",
   "id": "brutal-profit",
   "metadata": {},
   "source": [
    "- Stripplot points correspond to individual slider responses.\n",
    "- Responses are grouped horizontally by subject.\n",
    "- Transparent boxplots indicate filler response value for a particular subject. Red median lines / boxes indicate \"good\" fillers and blue indicate \"bad.\""
   ]
  },
  {
   "cell_type": "code",
   "execution_count": 12,
   "id": "anonymous-austria",
   "metadata": {},
   "outputs": [
    {
     "data": {
      "text/plain": [
       "<AxesSubplot:xlabel='uniqueid', ylabel='slider_value'>"
      ]
     },
     "execution_count": 12,
     "metadata": {},
     "output_type": "execute_result"
    },
    {
     "data": {
      "image/png": "[encoded data removed]",
      "text/plain": [
       "<Figure size 1800x1080 with 1 Axes>"
      ]
     },
     "metadata": {
      "needs_background": "light"
     },
     "output_type": "display_data"
    }
   ],
   "source": [
    "# Order S by descending difference between mean full-filler and empty-filler rating\n",
    "filler_rows = response_df[response_df.condition_0 == \"filler\"]\n",
    "filler_diffs = filler_rows.groupby(\"uniqueid\").apply(\n",
    "    lambda xs: xs[xs.condition_1 == \"good\"].slider_value.mean() - xs[xs.condition_1 == \"bad\"].slider_value.mean())\n",
    "subject_order = filler_diffs.sort_values(ascending=False).index\n",
    "\n",
    "plt.subplots(figsize=(25, 15))\n",
    "g = sns.stripplot(data=response_df.reset_index(), x=\"uniqueid\", y=\"slider_value\", order=subject_order)\n",
    "\n",
    "# plot filler responses\n",
    "sns.boxplot(data=response_df[(response_df.condition_0 == \"filler\") & (response_df.condition_1 == \"good\")].reset_index(),\n",
    "            x=\"uniqueid\", y=\"slider_value\", order=subject_order,\n",
    "            color=\"red\", medianprops=dict(color=\"red\"), flierprops=dict(markerfacecolor=\"red\"), boxprops=dict(alpha=0.3))\n",
    "sns.boxplot(data=response_df[(response_df.condition_0 == \"filler\") & (response_df.condition_1 == \"bad\")].reset_index(),\n",
    "            x=\"uniqueid\", y=\"slider_value\", order=subject_order, \n",
    "            color=\"blue\", medianprops=dict(color=\"blue\"), flierprops=dict(markerfacecolor=\"blue\"), boxprops=dict(alpha=0.3))"
   ]
  },
  {
   "cell_type": "markdown",
   "id": "efficient-arrow",
   "metadata": {},
   "source": [
    "## Attention checks"
   ]
  },
  {
   "cell_type": "markdown",
   "id": "objective-product",
   "metadata": {},
   "source": [
    "### Practice round"
   ]
  },
  {
   "cell_type": "code",
   "execution_count": 13,
   "id": "bridal-expense",
   "metadata": {},
   "outputs": [
    {
     "data": {
      "text/plain": [
       "uniqueid\n",
       "A1PKTH9O2E5FVD:3LEIZ60CDKNF7TKGH89U5BVCSA79ZU    0.666667\n",
       "dtype: float64"
      ]
     },
     "execution_count": 13,
     "metadata": {},
     "output_type": "execute_result"
    }
   ],
   "source": [
    "def compute_practice_success(subj_rows):\n",
    "    \"\"\"\n",
    "    Compute fraction of practice sentences for which response equals\n",
    "    ground truth.\n",
    "    \"\"\"\n",
    "    practice_rows = subj_rows[~subj_rows.practice_sentence.isna()]\n",
    "    practice_rows[[\"practice_rating\", \"practice_idx\"]] = practice_rows.practice_sentence.str.split(\"-\", 1, expand=True)\n",
    "    success = practice_rows[\"practice_rating\"].astype(int) == practice_rows[\"slider_value\"]\n",
    "    return success.mean()\n",
    "    \n",
    "practice_attention_failures = response_df.groupby(\"uniqueid\").apply(compute_practice_success)\n",
    "practice_attention_failures = practice_attention_failures[practice_attention_failures < 1]\n",
    "practice_attention_failures"
   ]
  },
  {
   "cell_type": "markdown",
   "id": "nasty-console",
   "metadata": {},
   "source": [
    "### Fillers"
   ]
  },
  {
   "cell_type": "code",
   "execution_count": 14,
   "id": "present-florence",
   "metadata": {},
   "outputs": [
    {
     "data": {
      "text/plain": [
       "<AxesSubplot:xlabel='t'>"
      ]
     },
     "execution_count": 14,
     "metadata": {},
     "output_type": "execute_result"
    },
    {
     "data": {
      "image/png": "[encoded data removed]",
      "text/plain": [
       "<Figure size 432x288 with 1 Axes>"
      ]
     },
     "metadata": {
      "needs_background": "light"
     },
     "output_type": "display_data"
    }
   ],
   "source": [
    "from scipy.stats import ttest_ind\n",
    "def compute_filler_ttest(subj_rows):\n",
    "    \"\"\"\n",
    "    sanity check: \"good\" items should be rated higher than \"bad\" filler items\n",
    "    \"\"\"\n",
    "    filler_rows = subj_rows[subj_rows.condition_0 == \"filler\"]\n",
    "    \n",
    "    good_filler = filler_rows[filler_rows.condition_1 == \"good\"]\n",
    "    bad_filler = filler_rows[filler_rows.condition_1 == \"bad\"]\n",
    "    \n",
    "    return pd.Series(ttest_ind(good_filler.slider_value, bad_filler.slider_value),\n",
    "                     index=[\"t\", \"pval\"])\n",
    "\n",
    "filler_stats = response_df.groupby(\"uniqueid\").apply(compute_filler_ttest)\n",
    "sns.boxplot(data=filler_stats.reset_index(), x=\"t\", hue=\"uniqueid\")"
   ]
  },
  {
   "cell_type": "code",
   "execution_count": 15,
   "id": "extensive-rabbit",
   "metadata": {},
   "outputs": [
    {
     "data": {
      "text/html": [
       "<div>\n",
       "<style scoped>\n",
       "    .dataframe tbody tr th:only-of-type {\n",
       "        vertical-align: middle;\n",
       "    }\n",
       "\n",
       "    .dataframe tbody tr th {\n",
       "        vertical-align: top;\n",
       "    }\n",
       "\n",
       "    .dataframe thead th {\n",
       "        text-align: right;\n",
       "    }\n",
       "</style>\n",
       "<table border=\"1\" class=\"dataframe\">\n",
       "  <thead>\n",
       "    <tr style=\"text-align: right;\">\n",
       "      <th></th>\n",
       "      <th>t</th>\n",
       "      <th>pval</th>\n",
       "    </tr>\n",
       "    <tr>\n",
       "      <th>uniqueid</th>\n",
       "      <th></th>\n",
       "      <th></th>\n",
       "    </tr>\n",
       "  </thead>\n",
       "  <tbody>\n",
       "    <tr>\n",
       "      <th>A1PKTH9O2E5FVD:3LEIZ60CDKNF7TKGH89U5BVCSA79ZU</th>\n",
       "      <td>-0.600000</td>\n",
       "      <td>5.559852e-01</td>\n",
       "    </tr>\n",
       "    <tr>\n",
       "      <th>AUZNL6ARA1UEC:30LSNF239VJICJA7WV6TVTK8QRV2IY</th>\n",
       "      <td>14.144855</td>\n",
       "      <td>3.427774e-11</td>\n",
       "    </tr>\n",
       "  </tbody>\n",
       "</table>\n",
       "</div>"
      ],
      "text/plain": [
       "                                                       t          pval\n",
       "uniqueid                                                              \n",
       "A1PKTH9O2E5FVD:3LEIZ60CDKNF7TKGH89U5BVCSA79ZU  -0.600000  5.559852e-01\n",
       "AUZNL6ARA1UEC:30LSNF239VJICJA7WV6TVTK8QRV2IY   14.144855  3.427774e-11"
      ]
     },
     "execution_count": 15,
     "metadata": {},
     "output_type": "execute_result"
    }
   ],
   "source": [
    "filler_stats.sort_values(\"t\")"
   ]
  },
  {
   "cell_type": "markdown",
   "id": "informal-palmer",
   "metadata": {},
   "source": [
    "## Final data processing"
   ]
  },
  {
   "cell_type": "code",
   "execution_count": 16,
   "id": "continuous-termination",
   "metadata": {},
   "outputs": [],
   "source": [
    "exp_items = response_df[response_df.practice_sentence.isna()]"
   ]
  },
  {
   "cell_type": "markdown",
   "id": "another-strategy",
   "metadata": {},
   "source": [
    "### Filter based on practice and attention checks"
   ]
  },
  {
   "cell_type": "code",
   "execution_count": 17,
   "id": "ordered-sierra",
   "metadata": {},
   "outputs": [
    {
     "name": "stdout",
     "output_type": "stream",
     "text": [
      "1 subjects (100.0%) disqualified and dropped due to failed practice.\n",
      "\tA1PKTH9O2E5FVD:3LEIZ60CDKNF7TKGH89U5BVCSA79ZU\n",
      "1 subjects (50.0%, possibly overlapping with previous) disqualified and dropped due to failed attention checks.\n",
      "\tA1PKTH9O2E5FVD:3LEIZ60CDKNF7TKGH89U5BVCSA79ZU\n"
     ]
    }
   ],
   "source": [
    "practice_drops = practice_attention_failures[practice_attention_failures < 1]\n",
    "drop_pct = np.round(len(practice_drops) / len(practice_attention_failures.index) * 100 if len(practice_attention_failures) > 0 else 0, 1)\n",
    "print(f\"{len(practice_drops)} subjects ({drop_pct}%) disqualified and dropped due to failed practice.\")\n",
    "print(\"\\t\" + \"\\n\\t\".join(practice_drops.index))\n",
    "exp_items = exp_items.drop(practice_drops.index, level=\"uniqueid\")\n",
    "\n",
    "attention_drops = filler_stats[(filler_stats.t < 0) | (filler_stats.pval > 1e-1) | filler_stats.t.isna()]\n",
    "drop_pct = np.round(len(attention_drops) / len(filler_stats.index) * 100, 1)\n",
    "print(f\"{len(attention_drops)} subjects ({drop_pct}%, possibly overlapping with previous) disqualified and dropped due to failed attention checks.\")\n",
    "print(\"\\t\" + \"\\n\\t\".join(attention_drops.index))\n",
    "exp_items = exp_items.drop(attention_drops.index, level=\"uniqueid\")"
   ]
  },
  {
   "cell_type": "code",
   "execution_count": 18,
   "id": "human-camel",
   "metadata": {},
   "outputs": [
    {
     "name": "stdout",
     "output_type": "stream",
     "text": [
      "1 subjects remaining.\n"
     ]
    }
   ],
   "source": [
    "print(f\"{len(set(exp_items.index.get_level_values('uniqueid')))} subjects remaining.\")"
   ]
  },
  {
   "cell_type": "markdown",
   "id": "arabic-constraint",
   "metadata": {},
   "source": [
    "### Merge in materials"
   ]
  },
  {
   "cell_type": "code",
   "execution_count": 19,
   "id": "noted-beginning",
   "metadata": {},
   "outputs": [],
   "source": [
    "import json\n",
    "def load_materials(mat):\n",
    "    with open(f\"../../materials/{mat}.json\") as f:\n",
    "        materials = json.load(f)\n",
    "    return pd.DataFrame.from_records(materials[\"items\"]).rename(columns={\"id\": \"item_id\"}).set_index(\"item_id\")\n",
    "\n",
    "materials_ids = sorted(set(exp_items.materials_id))\n",
    "materials_df = pd.concat([load_materials(mat) for mat in materials_ids], names=[\"materials_id\"], keys=materials_ids, axis=0)\n",
    "\n",
    "materials_df[\"AV\"] = materials_df.A.str.cat(materials_df.V, \" \")\n",
    "\n",
    "# NB this doesn't handle fillers correctly"
   ]
  },
  {
   "cell_type": "code",
   "execution_count": 20,
   "id": "civil-projector",
   "metadata": {},
   "outputs": [],
   "source": [
    "keep_cols = [\"A\", \"V\", \"L\", \"AV\", \"A concrete?\", \"A countable?\"]\n",
    "merged_df = pd.merge(exp_items, materials_df[keep_cols], left_on=[\"materials_id\", \"item_id\"], right_index=True)"
   ]
  },
  {
   "cell_type": "markdown",
   "id": "republican-brazilian",
   "metadata": {},
   "source": [
    "### Export"
   ]
  },
  {
   "cell_type": "code",
   "execution_count": 21,
   "id": "fifth-premises",
   "metadata": {},
   "outputs": [],
   "source": [
    "merged_df.to_csv(\"merged_df.csv\")"
   ]
  },
  {
   "cell_type": "markdown",
   "id": "later-sustainability",
   "metadata": {},
   "source": [
    "## Analysis"
   ]
  },
  {
   "cell_type": "code",
   "execution_count": 22,
   "id": "verbal-chest",
   "metadata": {},
   "outputs": [
    {
     "data": {
      "text/html": [
       "<div>\n",
       "<style scoped>\n",
       "    .dataframe tbody tr th:only-of-type {\n",
       "        vertical-align: middle;\n",
       "    }\n",
       "\n",
       "    .dataframe tbody tr th {\n",
       "        vertical-align: top;\n",
       "    }\n",
       "\n",
       "    .dataframe thead th {\n",
       "        text-align: right;\n",
       "    }\n",
       "</style>\n",
       "<table border=\"1\" class=\"dataframe\">\n",
       "  <thead>\n",
       "    <tr style=\"text-align: right;\">\n",
       "      <th></th>\n",
       "      <th>location_t</th>\n",
       "      <th>location_pval</th>\n",
       "      <th>agent_t</th>\n",
       "      <th>agent_pval</th>\n",
       "    </tr>\n",
       "    <tr>\n",
       "      <th>uniqueid</th>\n",
       "      <th></th>\n",
       "      <th></th>\n",
       "      <th></th>\n",
       "      <th></th>\n",
       "    </tr>\n",
       "  </thead>\n",
       "  <tbody>\n",
       "    <tr>\n",
       "      <th>AUZNL6ARA1UEC:30LSNF239VJICJA7WV6TVTK8QRV2IY</th>\n",
       "      <td>5.457596</td>\n",
       "      <td>0.000018</td>\n",
       "      <td>7.432184</td>\n",
       "      <td>0.000008</td>\n",
       "    </tr>\n",
       "  </tbody>\n",
       "</table>\n",
       "</div>"
      ],
      "text/plain": [
       "                                              location_t  location_pval  \\\n",
       "uniqueid                                                                  \n",
       "AUZNL6ARA1UEC:30LSNF239VJICJA7WV6TVTK8QRV2IY    5.457596       0.000018   \n",
       "\n",
       "                                               agent_t  agent_pval  \n",
       "uniqueid                                                            \n",
       "AUZNL6ARA1UEC:30LSNF239VJICJA7WV6TVTK8QRV2IY  7.432184    0.000008  "
      ]
     },
     "execution_count": 22,
     "metadata": {},
     "output_type": "execute_result"
    }
   ],
   "source": [
    "def test_within_subject(rows):\n",
    "    baseline = rows[(rows.condition_0 == \"filler\") & (rows.condition_1 == \"bad\")].slider_value\n",
    "    critical_rows = rows[~(rows.condition_0 == \"filler\")].set_index(\"agent_is_subject\").slider_value\n",
    "    \n",
    "    location_t, location_pval = ttest_ind(critical_rows.loc[False], baseline)\n",
    "    agent_t, agent_pval = ttest_ind(critical_rows.loc[True], baseline)\n",
    "    return pd.Series({\"location_t\": location_t, \"location_pval\": location_pval,\n",
    "                      \"agent_t\": agent_t, \"agent_pval\": agent_pval})\n",
    "merged_df.groupby(\"uniqueid\").apply(test_within_subject)"
   ]
  },
  {
   "cell_type": "code",
   "execution_count": null,
   "id": "front-integrity",
   "metadata": {},
   "outputs": [],
   "source": []
  }
 ],
 "metadata": {
  "kernelspec": {
   "display_name": "Python 3",
   "language": "python",
   "name": "python3"
  },
  "language_info": {
   "codemirror_mode": {
    "name": "ipython",
    "version": 3
   },
   "file_extension": ".py",
   "mimetype": "text/x-python",
   "name": "python",
   "nbconvert_exporter": "python",
   "pygments_lexer": "ipython3",
   "version": "3.8.8"
  }
 },
 "nbformat": 4,
 "nbformat_minor": 5
}
