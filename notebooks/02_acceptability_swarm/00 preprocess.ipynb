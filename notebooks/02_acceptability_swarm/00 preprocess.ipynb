{
 "cells": [
  {
   "cell_type": "code",
   "execution_count": 38,
   "id": "skilled-headset",
   "metadata": {},
   "outputs": [],
   "source": [
    "import sys\n",
    "sys.path.append(\"../../src\")"
   ]
  },
  {
   "cell_type": "code",
   "execution_count": 39,
   "id": "disturbed-charger",
   "metadata": {},
   "outputs": [
    {
     "name": "stdout",
     "output_type": "stream",
     "text": [
      "The autoreload extension is already loaded. To reload it, use:\n",
      "  %reload_ext autoreload\n"
     ]
    }
   ],
   "source": [
    "%load_ext autoreload\n",
    "%autoreload 2"
   ]
  },
  {
   "cell_type": "code",
   "execution_count": 40,
   "id": "protected-encyclopedia",
   "metadata": {},
   "outputs": [],
   "source": [
    "import numpy as np\n",
    "import pandas as pd\n",
    "import seaborn as sns"
   ]
  },
  {
   "cell_type": "markdown",
   "id": "instrumental-portuguese",
   "metadata": {},
   "source": [
    "## Load and preprocess data"
   ]
  },
  {
   "cell_type": "code",
   "execution_count": 41,
   "id": "israeli-institution",
   "metadata": {},
   "outputs": [],
   "source": [
    "import data"
   ]
  },
  {
   "cell_type": "code",
   "execution_count": 63,
   "id": "alpha-accordance",
   "metadata": {},
   "outputs": [
    {
     "name": "stderr",
     "output_type": "stream",
     "text": [
      "Missing datastring for uid debug9X7NKD:debugKJBC0S. Status was 1.\n",
      "Missing datastring for uid debugCIT0JY:debugOEXFJU. Status was 1.\n",
      "Missing datastring for uid debug49IEJI:debugSVU9KB. Status was 1.\n",
      "Missing datastring for uid debug49IEJK:debugSVU9KB. Status was 1.\n",
      "Missing datastring for uid debug49IEJL:debugSVU9KB. Status was 1.\n",
      "Missing datastring for uid debug49IEJM:debugSVU9KB. Status was 1.\n",
      "Missing datastring for uid debug49IEJO:debugSVU9KB. Status was 1.\n",
      "Missing datastring for uid debug49IEJFP:debugSVU9KB. Status was 1.\n",
      "Missing datastring for uid debug49IEJFQ:debugSVU9KB. Status was 1.\n",
      "Missing datastring for uid debug49IEJFR:debugSVU9KB. Status was 1.\n",
      "Missing datastring for uid debug49IEJFS:debugSVU9KB. Status was 1.\n",
      "Missing datastring for uid debug49IEJFW:debugSVU9KB. Status was 1.\n"
     ]
    }
   ],
   "source": [
    "# set db path hackily\n",
    "data._get_connection(\"../../data/participants.db\")\n",
    "\n",
    "raw_df = data.get_trials_df(data.load_raw_results(),\n",
    "                            (\"experiment_id\", \"materials_id\", \"item_id\", \"condition_id\",\n",
    "                             \"practice_sentence\"))\n",
    "\n",
    "response_df = raw_df[(raw_df.experiment_id == \"02_acceptability_swarm\") & (raw_df.trial_type == \"html-slider-response-with-copout\")]"
   ]
  },
  {
   "cell_type": "code",
   "execution_count": 64,
   "id": "according-theme",
   "metadata": {},
   "outputs": [],
   "source": [
    "# Expand condition labels, which are tuples\n",
    "response_df = pd.concat([response_df, response_df.condition_id.apply(pd.Series).rename(columns=lambda x: f\"condition_{x}\")], axis=1) \\\n",
    "    .drop(columns=\"condition_id\")"
   ]
  },
  {
   "cell_type": "code",
   "execution_count": 65,
   "id": "handled-graduation",
   "metadata": {},
   "outputs": [],
   "source": [
    "# Norm slider values within-subject.\n",
    "response_df[\"slider_zscore\"] = \\\n",
    "    response_df.groupby(\"uniqueid\").slider_value.apply(lambda xs: (xs - xs.mean()) / (xs.std(ddof=0)))"
   ]
  },
  {
   "cell_type": "code",
   "execution_count": 67,
   "id": "running-eclipse",
   "metadata": {},
   "outputs": [
    {
     "data": {
      "text/html": [
       "<div>\n",
       "<style scoped>\n",
       "    .dataframe tbody tr th:only-of-type {\n",
       "        vertical-align: middle;\n",
       "    }\n",
       "\n",
       "    .dataframe tbody tr th {\n",
       "        vertical-align: top;\n",
       "    }\n",
       "\n",
       "    .dataframe thead th {\n",
       "        text-align: right;\n",
       "    }\n",
       "</style>\n",
       "<table border=\"1\" class=\"dataframe\">\n",
       "  <thead>\n",
       "    <tr style=\"text-align: right;\">\n",
       "      <th></th>\n",
       "      <th></th>\n",
       "      <th>condition</th>\n",
       "      <th>counterbalance</th>\n",
       "      <th>assignmentId</th>\n",
       "      <th>workerId</th>\n",
       "      <th>hitId</th>\n",
       "      <th>trial_type</th>\n",
       "      <th>rt</th>\n",
       "      <th>internal_node_id</th>\n",
       "      <th>experiment_id</th>\n",
       "      <th>materials_id</th>\n",
       "      <th>item_id</th>\n",
       "      <th>practice_sentence</th>\n",
       "      <th>survey_question_idx</th>\n",
       "      <th>survey_answer</th>\n",
       "      <th>slider_value</th>\n",
       "      <th>slider_copout</th>\n",
       "      <th>condition_0</th>\n",
       "      <th>condition_1</th>\n",
       "      <th>slider_zscore</th>\n",
       "    </tr>\n",
       "    <tr>\n",
       "      <th>trial_index</th>\n",
       "      <th>uniqueid</th>\n",
       "      <th></th>\n",
       "      <th></th>\n",
       "      <th></th>\n",
       "      <th></th>\n",
       "      <th></th>\n",
       "      <th></th>\n",
       "      <th></th>\n",
       "      <th></th>\n",
       "      <th></th>\n",
       "      <th></th>\n",
       "      <th></th>\n",
       "      <th></th>\n",
       "      <th></th>\n",
       "      <th></th>\n",
       "      <th></th>\n",
       "      <th></th>\n",
       "      <th></th>\n",
       "      <th></th>\n",
       "      <th></th>\n",
       "    </tr>\n",
       "  </thead>\n",
       "  <tbody>\n",
       "    <tr>\n",
       "      <th>1</th>\n",
       "      <th>debug49IEJFT:debugSVU9KB</th>\n",
       "      <td>0</td>\n",
       "      <td>0</td>\n",
       "      <td>debugSVU9KB</td>\n",
       "      <td>debug49IEJFT</td>\n",
       "      <td>debugGB5B3O</td>\n",
       "      <td>html-slider-response-with-copout</td>\n",
       "      <td>2192.2</td>\n",
       "      <td>0.0-1.0</td>\n",
       "      <td>02_acceptability_swarm</td>\n",
       "      <td>None</td>\n",
       "      <td>NaN</td>\n",
       "      <td>1-1</td>\n",
       "      <td>&lt;NA&gt;</td>\n",
       "      <td>NaN</td>\n",
       "      <td>1.0</td>\n",
       "      <td>False</td>\n",
       "      <td>NaN</td>\n",
       "      <td>NaN</td>\n",
       "      <td>-3.051286</td>\n",
       "    </tr>\n",
       "    <tr>\n",
       "      <th>2</th>\n",
       "      <th>debug49IEJFT:debugSVU9KB</th>\n",
       "      <td>0</td>\n",
       "      <td>0</td>\n",
       "      <td>debugSVU9KB</td>\n",
       "      <td>debug49IEJFT</td>\n",
       "      <td>debugGB5B3O</td>\n",
       "      <td>html-slider-response-with-copout</td>\n",
       "      <td>1472.1</td>\n",
       "      <td>0.0-2.0</td>\n",
       "      <td>02_acceptability_swarm</td>\n",
       "      <td>None</td>\n",
       "      <td>NaN</td>\n",
       "      <td>4-1</td>\n",
       "      <td>&lt;NA&gt;</td>\n",
       "      <td>NaN</td>\n",
       "      <td>4.0</td>\n",
       "      <td>False</td>\n",
       "      <td>NaN</td>\n",
       "      <td>NaN</td>\n",
       "      <td>-0.711967</td>\n",
       "    </tr>\n",
       "    <tr>\n",
       "      <th>3</th>\n",
       "      <th>debug49IEJFT:debugSVU9KB</th>\n",
       "      <td>0</td>\n",
       "      <td>0</td>\n",
       "      <td>debugSVU9KB</td>\n",
       "      <td>debug49IEJFT</td>\n",
       "      <td>debugGB5B3O</td>\n",
       "      <td>html-slider-response-with-copout</td>\n",
       "      <td>1524.6</td>\n",
       "      <td>0.0-3.0</td>\n",
       "      <td>02_acceptability_swarm</td>\n",
       "      <td>None</td>\n",
       "      <td>NaN</td>\n",
       "      <td>7-1</td>\n",
       "      <td>&lt;NA&gt;</td>\n",
       "      <td>NaN</td>\n",
       "      <td>7.0</td>\n",
       "      <td>False</td>\n",
       "      <td>NaN</td>\n",
       "      <td>NaN</td>\n",
       "      <td>1.627352</td>\n",
       "    </tr>\n",
       "    <tr>\n",
       "      <th>5</th>\n",
       "      <th>debug49IEJFT:debugSVU9KB</th>\n",
       "      <td>0</td>\n",
       "      <td>0</td>\n",
       "      <td>debugSVU9KB</td>\n",
       "      <td>debug49IEJFT</td>\n",
       "      <td>debugGB5B3O</td>\n",
       "      <td>html-slider-response-with-copout</td>\n",
       "      <td>3685.6</td>\n",
       "      <td>0.0-5.0</td>\n",
       "      <td>02_acceptability_swarm</td>\n",
       "      <td>swarm-002-promptP</td>\n",
       "      <td>2.0</td>\n",
       "      <td>None</td>\n",
       "      <td>&lt;NA&gt;</td>\n",
       "      <td>NaN</td>\n",
       "      <td>7.0</td>\n",
       "      <td>False</td>\n",
       "      <td>0</td>\n",
       "      <td>1</td>\n",
       "      <td>1.627352</td>\n",
       "    </tr>\n",
       "    <tr>\n",
       "      <th>6</th>\n",
       "      <th>debug49IEJFT:debugSVU9KB</th>\n",
       "      <td>0</td>\n",
       "      <td>0</td>\n",
       "      <td>debugSVU9KB</td>\n",
       "      <td>debug49IEJFT</td>\n",
       "      <td>debugGB5B3O</td>\n",
       "      <td>html-slider-response-with-copout</td>\n",
       "      <td>1621.9</td>\n",
       "      <td>0.0-6.0</td>\n",
       "      <td>02_acceptability_swarm</td>\n",
       "      <td>swarm-002-promptP</td>\n",
       "      <td>22.0</td>\n",
       "      <td>None</td>\n",
       "      <td>&lt;NA&gt;</td>\n",
       "      <td>NaN</td>\n",
       "      <td>5.0</td>\n",
       "      <td>False</td>\n",
       "      <td>0</td>\n",
       "      <td>1</td>\n",
       "      <td>0.067806</td>\n",
       "    </tr>\n",
       "  </tbody>\n",
       "</table>\n",
       "</div>"
      ],
      "text/plain": [
       "                                      condition  counterbalance assignmentId  \\\n",
       "trial_index uniqueid                                                           \n",
       "1           debug49IEJFT:debugSVU9KB          0               0  debugSVU9KB   \n",
       "2           debug49IEJFT:debugSVU9KB          0               0  debugSVU9KB   \n",
       "3           debug49IEJFT:debugSVU9KB          0               0  debugSVU9KB   \n",
       "5           debug49IEJFT:debugSVU9KB          0               0  debugSVU9KB   \n",
       "6           debug49IEJFT:debugSVU9KB          0               0  debugSVU9KB   \n",
       "\n",
       "                                          workerId        hitId  \\\n",
       "trial_index uniqueid                                              \n",
       "1           debug49IEJFT:debugSVU9KB  debug49IEJFT  debugGB5B3O   \n",
       "2           debug49IEJFT:debugSVU9KB  debug49IEJFT  debugGB5B3O   \n",
       "3           debug49IEJFT:debugSVU9KB  debug49IEJFT  debugGB5B3O   \n",
       "5           debug49IEJFT:debugSVU9KB  debug49IEJFT  debugGB5B3O   \n",
       "6           debug49IEJFT:debugSVU9KB  debug49IEJFT  debugGB5B3O   \n",
       "\n",
       "                                                            trial_type  \\\n",
       "trial_index uniqueid                                                     \n",
       "1           debug49IEJFT:debugSVU9KB  html-slider-response-with-copout   \n",
       "2           debug49IEJFT:debugSVU9KB  html-slider-response-with-copout   \n",
       "3           debug49IEJFT:debugSVU9KB  html-slider-response-with-copout   \n",
       "5           debug49IEJFT:debugSVU9KB  html-slider-response-with-copout   \n",
       "6           debug49IEJFT:debugSVU9KB  html-slider-response-with-copout   \n",
       "\n",
       "                                          rt internal_node_id  \\\n",
       "trial_index uniqueid                                            \n",
       "1           debug49IEJFT:debugSVU9KB  2192.2          0.0-1.0   \n",
       "2           debug49IEJFT:debugSVU9KB  1472.1          0.0-2.0   \n",
       "3           debug49IEJFT:debugSVU9KB  1524.6          0.0-3.0   \n",
       "5           debug49IEJFT:debugSVU9KB  3685.6          0.0-5.0   \n",
       "6           debug49IEJFT:debugSVU9KB  1621.9          0.0-6.0   \n",
       "\n",
       "                                               experiment_id  \\\n",
       "trial_index uniqueid                                           \n",
       "1           debug49IEJFT:debugSVU9KB  02_acceptability_swarm   \n",
       "2           debug49IEJFT:debugSVU9KB  02_acceptability_swarm   \n",
       "3           debug49IEJFT:debugSVU9KB  02_acceptability_swarm   \n",
       "5           debug49IEJFT:debugSVU9KB  02_acceptability_swarm   \n",
       "6           debug49IEJFT:debugSVU9KB  02_acceptability_swarm   \n",
       "\n",
       "                                           materials_id  item_id  \\\n",
       "trial_index uniqueid                                               \n",
       "1           debug49IEJFT:debugSVU9KB               None      NaN   \n",
       "2           debug49IEJFT:debugSVU9KB               None      NaN   \n",
       "3           debug49IEJFT:debugSVU9KB               None      NaN   \n",
       "5           debug49IEJFT:debugSVU9KB  swarm-002-promptP      2.0   \n",
       "6           debug49IEJFT:debugSVU9KB  swarm-002-promptP     22.0   \n",
       "\n",
       "                                     practice_sentence  survey_question_idx  \\\n",
       "trial_index uniqueid                                                          \n",
       "1           debug49IEJFT:debugSVU9KB               1-1                 <NA>   \n",
       "2           debug49IEJFT:debugSVU9KB               4-1                 <NA>   \n",
       "3           debug49IEJFT:debugSVU9KB               7-1                 <NA>   \n",
       "5           debug49IEJFT:debugSVU9KB              None                 <NA>   \n",
       "6           debug49IEJFT:debugSVU9KB              None                 <NA>   \n",
       "\n",
       "                                     survey_answer  slider_value  \\\n",
       "trial_index uniqueid                                               \n",
       "1           debug49IEJFT:debugSVU9KB           NaN           1.0   \n",
       "2           debug49IEJFT:debugSVU9KB           NaN           4.0   \n",
       "3           debug49IEJFT:debugSVU9KB           NaN           7.0   \n",
       "5           debug49IEJFT:debugSVU9KB           NaN           7.0   \n",
       "6           debug49IEJFT:debugSVU9KB           NaN           5.0   \n",
       "\n",
       "                                     slider_copout condition_0 condition_1  \\\n",
       "trial_index uniqueid                                                         \n",
       "1           debug49IEJFT:debugSVU9KB         False         NaN         NaN   \n",
       "2           debug49IEJFT:debugSVU9KB         False         NaN         NaN   \n",
       "3           debug49IEJFT:debugSVU9KB         False         NaN         NaN   \n",
       "5           debug49IEJFT:debugSVU9KB         False           0           1   \n",
       "6           debug49IEJFT:debugSVU9KB         False           0           1   \n",
       "\n",
       "                                      slider_zscore  \n",
       "trial_index uniqueid                                 \n",
       "1           debug49IEJFT:debugSVU9KB      -3.051286  \n",
       "2           debug49IEJFT:debugSVU9KB      -0.711967  \n",
       "3           debug49IEJFT:debugSVU9KB       1.627352  \n",
       "5           debug49IEJFT:debugSVU9KB       1.627352  \n",
       "6           debug49IEJFT:debugSVU9KB       0.067806  "
      ]
     },
     "execution_count": 67,
     "metadata": {},
     "output_type": "execute_result"
    }
   ],
   "source": [
    "response_df.head()"
   ]
  },
  {
   "cell_type": "code",
   "execution_count": 68,
   "id": "brown-translation",
   "metadata": {},
   "outputs": [],
   "source": [
    "response_df.to_csv(\"responses.csv\")"
   ]
  },
  {
   "cell_type": "markdown",
   "id": "instrumental-monkey",
   "metadata": {},
   "source": [
    "### Attention checks"
   ]
  },
  {
   "cell_type": "code",
   "execution_count": 69,
   "id": "tough-guyana",
   "metadata": {},
   "outputs": [],
   "source": [
    "subjects_to_drop = set()"
   ]
  },
  {
   "cell_type": "markdown",
   "id": "recreational-lindsay",
   "metadata": {},
   "source": [
    "#### Practice round"
   ]
  },
  {
   "cell_type": "code",
   "execution_count": 70,
   "id": "green-progress",
   "metadata": {},
   "outputs": [],
   "source": [
    "def compute_practice_success(subj_rows):\n",
    "    \"\"\"\n",
    "    Compute fraction of practice sentences for which response equals\n",
    "    ground truth.\n",
    "    \"\"\"\n",
    "    practice_rows = subj_rows[~subj_rows.practice_sentence.isna()]\n",
    "    practice_rows[[\"practice_rating\", \"practice_idx\"]] = practice_rows.practice_sentence.str.split(\"-\", 1, expand=True)\n",
    "    success = practice_rows[\"practice_rating\"].astype(int) == practice_rows[\"slider_value\"]\n",
    "    return success.mean()\n",
    "    \n",
    "practice_attention_failures = response_df.groupby(\"uniqueid\").apply(compute_practice_success)\n",
    "practice_attention_failures = practice_attention_failures[practice_attention_failures < 1]\n",
    "subjects_to_drop |= set(practice_attention_failures.index)"
   ]
  },
  {
   "cell_type": "code",
   "execution_count": 71,
   "id": "saved-pharmacology",
   "metadata": {},
   "outputs": [],
   "source": [
    "# TODO visualize and drop subjects from `subjects_to_drop`"
   ]
  },
  {
   "cell_type": "code",
   "execution_count": 72,
   "id": "biological-reach",
   "metadata": {},
   "outputs": [
    {
     "data": {
      "text/plain": [
       "{'debug49IEJFX:debugSVU9KB'}"
      ]
     },
     "execution_count": 72,
     "metadata": {},
     "output_type": "execute_result"
    }
   ],
   "source": [
    "subjects_to_drop"
   ]
  },
  {
   "cell_type": "markdown",
   "id": "nutritional-acrylic",
   "metadata": {},
   "source": [
    "### Fillers"
   ]
  },
  {
   "cell_type": "code",
   "execution_count": null,
   "id": "dramatic-rally",
   "metadata": {},
   "outputs": [],
   "source": [
    "# TODO"
   ]
  },
  {
   "cell_type": "markdown",
   "id": "reflected-tragedy",
   "metadata": {},
   "source": [
    "## Basic visualization"
   ]
  },
  {
   "cell_type": "markdown",
   "id": "previous-turkey",
   "metadata": {},
   "source": [
    "### Preliminaries"
   ]
  },
  {
   "cell_type": "code",
   "execution_count": 73,
   "id": "public-veteran",
   "metadata": {},
   "outputs": [
    {
     "data": {
      "text/plain": [
       "<seaborn.axisgrid.FacetGrid at 0x7f2ef010c880>"
      ]
     },
     "execution_count": 73,
     "metadata": {},
     "output_type": "execute_result"
    },
    {
     "data": {
      "image/png": "[encoded data removed]",
      "text/plain": [
       "<Figure size 539.875x360 with 1 Axes>"
      ]
     },
     "metadata": {
      "needs_background": "light"
     },
     "output_type": "display_data"
    }
   ],
   "source": [
    "sns.displot(response_df, x=\"slider_value\", hue=\"uniqueid\")"
   ]
  },
  {
   "cell_type": "code",
   "execution_count": 74,
   "id": "focal-secretariat",
   "metadata": {},
   "outputs": [
    {
     "data": {
      "text/plain": [
       "<seaborn.axisgrid.FacetGrid at 0x7f2ef012a4c0>"
      ]
     },
     "execution_count": 74,
     "metadata": {},
     "output_type": "execute_result"
    },
    {
     "data": {
      "image/png": "[encoded data removed]",
      "text/plain": [
       "<Figure size 539.875x360 with 1 Axes>"
      ]
     },
     "metadata": {
      "needs_background": "light"
     },
     "output_type": "display_data"
    }
   ],
   "source": [
    "sns.displot(response_df, x=\"rt\", hue=\"uniqueid\", kind=\"kde\")"
   ]
  },
  {
   "cell_type": "markdown",
   "id": "disabled-charity",
   "metadata": {},
   "source": [
    "## Analysis\n",
    "\n",
    "1. simple t-test to start, bootstrapped over subjects\n",
    "2. nested bootstrap"
   ]
  },
  {
   "cell_type": "code",
   "execution_count": null,
   "id": "outer-cotton",
   "metadata": {},
   "outputs": [],
   "source": [
    "def test_within_subject(rows):\n",
    "    exp_rows = rows[]"
   ]
  }
 ],
 "metadata": {
  "kernelspec": {
   "display_name": "Python 3",
   "language": "python",
   "name": "python3"
  },
  "language_info": {
   "codemirror_mode": {
    "name": "ipython",
    "version": 3
   },
   "file_extension": ".py",
   "mimetype": "text/x-python",
   "name": "python",
   "nbconvert_exporter": "python",
   "pygments_lexer": "ipython3",
   "version": "3.8.8"
  }
 },
 "nbformat": 4,
 "nbformat_minor": 5
}
