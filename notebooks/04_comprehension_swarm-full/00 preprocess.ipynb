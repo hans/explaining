{
 "cells": [
  {
   "cell_type": "code",
   "execution_count": 1,
   "id": "human-nowhere",
   "metadata": {},
   "outputs": [],
   "source": [
    "import sys\n",
    "sys.path.append(\"../../src\")"
   ]
  },
  {
   "cell_type": "code",
   "execution_count": 2,
   "id": "asian-nutrition",
   "metadata": {},
   "outputs": [],
   "source": [
    "%load_ext autoreload\n",
    "%autoreload 2"
   ]
  },
  {
   "cell_type": "code",
   "execution_count": 3,
   "id": "final-bandwidth",
   "metadata": {},
   "outputs": [],
   "source": [
    "import numpy as np\n",
    "import pandas as pd\n",
    "import seaborn as sns\n",
    "from matplotlib import pyplot as plt"
   ]
  },
  {
   "cell_type": "markdown",
   "id": "sealed-adapter",
   "metadata": {},
   "source": [
    "## Load and preprocess data"
   ]
  },
  {
   "cell_type": "code",
   "execution_count": 4,
   "id": "wrong-burns",
   "metadata": {},
   "outputs": [],
   "source": [
    "import data"
   ]
  },
  {
   "cell_type": "code",
   "execution_count": 5,
   "id": "pharmaceutical-administrator",
   "metadata": {},
   "outputs": [
    {
     "name": "stderr",
     "output_type": "stream",
     "text": [
      "Missing datastring for uid A1I3TPX8GA7ISU:3634BBTX0PI2DDMJKQL1T7BJTU3IF4. Status was 1.\n",
      "Missing datastring for uid A33LYSCQQU1YDJ:31JLPPHS2VIHTNHTYQX3Y0LM83NO3X. Status was 1.\n",
      "Missing datastring for uid debugL9306E:debugJT1KTE. Status was 1.\n",
      "Missing datastring for uid A1VWP7HOSGKATD:37WLF8U1WQEX0FJWJ038YMGXYHE6KK. Status was 1.\n",
      "Missing datastring for uid A6QDP0HAGE9W5:3V0Z7YWSIZONYPU7V25CAIA2YANV2I. Status was 1.\n",
      "Missing datastring for uid debugPY9OXD:debugUAXWZ3. Status was 1.\n",
      "Missing datastring for uid debugPY9OXE:debugUAXWZ3. Status was 1.\n"
     ]
    }
   ],
   "source": [
    "# set db path hackily\n",
    "data._get_connection(\"../../data/participants.db\")\n",
    "\n",
    "raw_df = data.get_trials_df(data.load_raw_results(),\n",
    "                            (\"experiment_id\", \"materials_id\", \"item_id\", \"condition_id\"))\n",
    "\n",
    "response_df = raw_df[(raw_df.experiment_id == \"04_comprehension_swarm-full\") & (raw_df.trial_type == \"html-slider-response-with-copout\")]"
   ]
  },
  {
   "cell_type": "code",
   "execution_count": 6,
   "id": "impressed-adrian",
   "metadata": {},
   "outputs": [],
   "source": [
    "# Expand condition data\n",
    "response_df = pd.concat([response_df,\n",
    "                         response_df.condition_id.apply(pd.Series).rename(columns=lambda k: f\"condition_{k}\")],\n",
    "                        axis=1) \\\n",
    "    .drop(columns=\"condition_id\")"
   ]
  },
  {
   "cell_type": "code",
   "execution_count": 7,
   "id": "patent-diamond",
   "metadata": {},
   "outputs": [],
   "source": [
    "# Convert condition_id to independent features\n",
    "response_df[\"agent_is_given\"] = response_df[\"condition_0\"] == 0\n",
    "response_df[\"agent_is_subject\"] = response_df[\"condition_1\"] == 1"
   ]
  },
  {
   "cell_type": "code",
   "execution_count": 8,
   "id": "official-footwear",
   "metadata": {},
   "outputs": [],
   "source": [
    "# Norm slider values within-subject.\n",
    "response_df[\"slider_value_normed\"] = \\\n",
    "    response_df.groupby(\"uniqueid\").slider_value.apply(lambda xs: (xs - xs.mean()) / xs.std())"
   ]
  },
  {
   "cell_type": "code",
   "execution_count": 9,
   "id": "particular-karen",
   "metadata": {},
   "outputs": [],
   "source": [
    "# dtype fixes\n",
    "response_df[\"slider_copout\"] = response_df.slider_copout.astype(bool)\n",
    "response_df[\"dateTime\"] = pd.to_datetime(response_df.dateTime, unit=\"ms\")"
   ]
  },
  {
   "cell_type": "code",
   "execution_count": 10,
   "id": "environmental-medicare",
   "metadata": {},
   "outputs": [
    {
     "data": {
      "text/html": [
       "<div>\n",
       "<style scoped>\n",
       "    .dataframe tbody tr th:only-of-type {\n",
       "        vertical-align: middle;\n",
       "    }\n",
       "\n",
       "    .dataframe tbody tr th {\n",
       "        vertical-align: top;\n",
       "    }\n",
       "\n",
       "    .dataframe thead th {\n",
       "        text-align: right;\n",
       "    }\n",
       "</style>\n",
       "<table border=\"1\" class=\"dataframe\">\n",
       "  <thead>\n",
       "    <tr style=\"text-align: right;\">\n",
       "      <th></th>\n",
       "      <th></th>\n",
       "      <th>condition</th>\n",
       "      <th>counterbalance</th>\n",
       "      <th>assignmentId</th>\n",
       "      <th>workerId</th>\n",
       "      <th>hitId</th>\n",
       "      <th>trial_type</th>\n",
       "      <th>rt</th>\n",
       "      <th>internal_node_id</th>\n",
       "      <th>dateTime</th>\n",
       "      <th>experiment_id</th>\n",
       "      <th>...</th>\n",
       "      <th>survey_question_idx</th>\n",
       "      <th>survey_answer</th>\n",
       "      <th>slider_value</th>\n",
       "      <th>slider_copout</th>\n",
       "      <th>condition_0</th>\n",
       "      <th>condition_1</th>\n",
       "      <th>condition_2</th>\n",
       "      <th>agent_is_given</th>\n",
       "      <th>agent_is_subject</th>\n",
       "      <th>slider_value_normed</th>\n",
       "    </tr>\n",
       "    <tr>\n",
       "      <th>trial_index</th>\n",
       "      <th>uniqueid</th>\n",
       "      <th></th>\n",
       "      <th></th>\n",
       "      <th></th>\n",
       "      <th></th>\n",
       "      <th></th>\n",
       "      <th></th>\n",
       "      <th></th>\n",
       "      <th></th>\n",
       "      <th></th>\n",
       "      <th></th>\n",
       "      <th></th>\n",
       "      <th></th>\n",
       "      <th></th>\n",
       "      <th></th>\n",
       "      <th></th>\n",
       "      <th></th>\n",
       "      <th></th>\n",
       "      <th></th>\n",
       "      <th></th>\n",
       "      <th></th>\n",
       "      <th></th>\n",
       "    </tr>\n",
       "  </thead>\n",
       "  <tbody>\n",
       "    <tr>\n",
       "      <th>3</th>\n",
       "      <th>debugPY9OXC:debugUAXWZ3</th>\n",
       "      <td>0</td>\n",
       "      <td>0</td>\n",
       "      <td>debugUAXWZ3</td>\n",
       "      <td>debugPY9OXC</td>\n",
       "      <td>debugJNGIUQ</td>\n",
       "      <td>html-slider-response-with-copout</td>\n",
       "      <td>2743.1</td>\n",
       "      <td>0.0-3.0</td>\n",
       "      <td>2021-08-23 19:17:48.223</td>\n",
       "      <td>04_comprehension_swarm-full</td>\n",
       "      <td>...</td>\n",
       "      <td>&lt;NA&gt;</td>\n",
       "      <td>NaN</td>\n",
       "      <td>100.0</td>\n",
       "      <td>False</td>\n",
       "      <td>practice</td>\n",
       "      <td>solid</td>\n",
       "      <td>full</td>\n",
       "      <td>False</td>\n",
       "      <td>False</td>\n",
       "      <td>0.934678</td>\n",
       "    </tr>\n",
       "    <tr>\n",
       "      <th>4</th>\n",
       "      <th>debugPY9OXC:debugUAXWZ3</th>\n",
       "      <td>0</td>\n",
       "      <td>0</td>\n",
       "      <td>debugUAXWZ3</td>\n",
       "      <td>debugPY9OXC</td>\n",
       "      <td>debugJNGIUQ</td>\n",
       "      <td>html-slider-response-with-copout</td>\n",
       "      <td>3068.0</td>\n",
       "      <td>0.0-4.0</td>\n",
       "      <td>2021-08-23 19:17:51.296</td>\n",
       "      <td>04_comprehension_swarm-full</td>\n",
       "      <td>...</td>\n",
       "      <td>&lt;NA&gt;</td>\n",
       "      <td>NaN</td>\n",
       "      <td>100.0</td>\n",
       "      <td>False</td>\n",
       "      <td>practice</td>\n",
       "      <td>liquid</td>\n",
       "      <td>full</td>\n",
       "      <td>False</td>\n",
       "      <td>False</td>\n",
       "      <td>0.934678</td>\n",
       "    </tr>\n",
       "    <tr>\n",
       "      <th>5</th>\n",
       "      <th>debugPY9OXC:debugUAXWZ3</th>\n",
       "      <td>0</td>\n",
       "      <td>0</td>\n",
       "      <td>debugUAXWZ3</td>\n",
       "      <td>debugPY9OXC</td>\n",
       "      <td>debugJNGIUQ</td>\n",
       "      <td>html-slider-response-with-copout</td>\n",
       "      <td>3086.1</td>\n",
       "      <td>0.0-5.0</td>\n",
       "      <td>2021-08-23 19:17:54.386</td>\n",
       "      <td>04_comprehension_swarm-full</td>\n",
       "      <td>...</td>\n",
       "      <td>&lt;NA&gt;</td>\n",
       "      <td>NaN</td>\n",
       "      <td>0.0</td>\n",
       "      <td>False</td>\n",
       "      <td>practice</td>\n",
       "      <td>abstract</td>\n",
       "      <td>empty</td>\n",
       "      <td>False</td>\n",
       "      <td>False</td>\n",
       "      <td>-1.655482</td>\n",
       "    </tr>\n",
       "    <tr>\n",
       "      <th>6</th>\n",
       "      <th>debugPY9OXC:debugUAXWZ3</th>\n",
       "      <td>0</td>\n",
       "      <td>0</td>\n",
       "      <td>debugUAXWZ3</td>\n",
       "      <td>debugPY9OXC</td>\n",
       "      <td>debugJNGIUQ</td>\n",
       "      <td>html-slider-response-with-copout</td>\n",
       "      <td>2362.1</td>\n",
       "      <td>0.0-6.0</td>\n",
       "      <td>2021-08-23 19:17:56.753</td>\n",
       "      <td>04_comprehension_swarm-full</td>\n",
       "      <td>...</td>\n",
       "      <td>&lt;NA&gt;</td>\n",
       "      <td>NaN</td>\n",
       "      <td>0.0</td>\n",
       "      <td>False</td>\n",
       "      <td>practice</td>\n",
       "      <td>solid</td>\n",
       "      <td>empty</td>\n",
       "      <td>False</td>\n",
       "      <td>False</td>\n",
       "      <td>-1.655482</td>\n",
       "    </tr>\n",
       "    <tr>\n",
       "      <th>7</th>\n",
       "      <th>debugPY9OXC:debugUAXWZ3</th>\n",
       "      <td>0</td>\n",
       "      <td>0</td>\n",
       "      <td>debugUAXWZ3</td>\n",
       "      <td>debugPY9OXC</td>\n",
       "      <td>debugJNGIUQ</td>\n",
       "      <td>html-slider-response-with-copout</td>\n",
       "      <td>2141.6</td>\n",
       "      <td>0.0-7.0</td>\n",
       "      <td>2021-08-23 19:17:58.900</td>\n",
       "      <td>04_comprehension_swarm-full</td>\n",
       "      <td>...</td>\n",
       "      <td>&lt;NA&gt;</td>\n",
       "      <td>NaN</td>\n",
       "      <td>100.0</td>\n",
       "      <td>False</td>\n",
       "      <td>practice</td>\n",
       "      <td>abstract</td>\n",
       "      <td>full</td>\n",
       "      <td>False</td>\n",
       "      <td>False</td>\n",
       "      <td>0.934678</td>\n",
       "    </tr>\n",
       "  </tbody>\n",
       "</table>\n",
       "<p>5 rows × 22 columns</p>\n",
       "</div>"
      ],
      "text/plain": [
       "                                     condition  counterbalance assignmentId  \\\n",
       "trial_index uniqueid                                                          \n",
       "3           debugPY9OXC:debugUAXWZ3          0               0  debugUAXWZ3   \n",
       "4           debugPY9OXC:debugUAXWZ3          0               0  debugUAXWZ3   \n",
       "5           debugPY9OXC:debugUAXWZ3          0               0  debugUAXWZ3   \n",
       "6           debugPY9OXC:debugUAXWZ3          0               0  debugUAXWZ3   \n",
       "7           debugPY9OXC:debugUAXWZ3          0               0  debugUAXWZ3   \n",
       "\n",
       "                                        workerId        hitId  \\\n",
       "trial_index uniqueid                                            \n",
       "3           debugPY9OXC:debugUAXWZ3  debugPY9OXC  debugJNGIUQ   \n",
       "4           debugPY9OXC:debugUAXWZ3  debugPY9OXC  debugJNGIUQ   \n",
       "5           debugPY9OXC:debugUAXWZ3  debugPY9OXC  debugJNGIUQ   \n",
       "6           debugPY9OXC:debugUAXWZ3  debugPY9OXC  debugJNGIUQ   \n",
       "7           debugPY9OXC:debugUAXWZ3  debugPY9OXC  debugJNGIUQ   \n",
       "\n",
       "                                                           trial_type      rt  \\\n",
       "trial_index uniqueid                                                            \n",
       "3           debugPY9OXC:debugUAXWZ3  html-slider-response-with-copout  2743.1   \n",
       "4           debugPY9OXC:debugUAXWZ3  html-slider-response-with-copout  3068.0   \n",
       "5           debugPY9OXC:debugUAXWZ3  html-slider-response-with-copout  3086.1   \n",
       "6           debugPY9OXC:debugUAXWZ3  html-slider-response-with-copout  2362.1   \n",
       "7           debugPY9OXC:debugUAXWZ3  html-slider-response-with-copout  2141.6   \n",
       "\n",
       "                                    internal_node_id                dateTime  \\\n",
       "trial_index uniqueid                                                           \n",
       "3           debugPY9OXC:debugUAXWZ3          0.0-3.0 2021-08-23 19:17:48.223   \n",
       "4           debugPY9OXC:debugUAXWZ3          0.0-4.0 2021-08-23 19:17:51.296   \n",
       "5           debugPY9OXC:debugUAXWZ3          0.0-5.0 2021-08-23 19:17:54.386   \n",
       "6           debugPY9OXC:debugUAXWZ3          0.0-6.0 2021-08-23 19:17:56.753   \n",
       "7           debugPY9OXC:debugUAXWZ3          0.0-7.0 2021-08-23 19:17:58.900   \n",
       "\n",
       "                                                   experiment_id  ...  \\\n",
       "trial_index uniqueid                                              ...   \n",
       "3           debugPY9OXC:debugUAXWZ3  04_comprehension_swarm-full  ...   \n",
       "4           debugPY9OXC:debugUAXWZ3  04_comprehension_swarm-full  ...   \n",
       "5           debugPY9OXC:debugUAXWZ3  04_comprehension_swarm-full  ...   \n",
       "6           debugPY9OXC:debugUAXWZ3  04_comprehension_swarm-full  ...   \n",
       "7           debugPY9OXC:debugUAXWZ3  04_comprehension_swarm-full  ...   \n",
       "\n",
       "                                    survey_question_idx  survey_answer  \\\n",
       "trial_index uniqueid                                                     \n",
       "3           debugPY9OXC:debugUAXWZ3                <NA>            NaN   \n",
       "4           debugPY9OXC:debugUAXWZ3                <NA>            NaN   \n",
       "5           debugPY9OXC:debugUAXWZ3                <NA>            NaN   \n",
       "6           debugPY9OXC:debugUAXWZ3                <NA>            NaN   \n",
       "7           debugPY9OXC:debugUAXWZ3                <NA>            NaN   \n",
       "\n",
       "                                     slider_value slider_copout  condition_0  \\\n",
       "trial_index uniqueid                                                           \n",
       "3           debugPY9OXC:debugUAXWZ3         100.0         False     practice   \n",
       "4           debugPY9OXC:debugUAXWZ3         100.0         False     practice   \n",
       "5           debugPY9OXC:debugUAXWZ3           0.0         False     practice   \n",
       "6           debugPY9OXC:debugUAXWZ3           0.0         False     practice   \n",
       "7           debugPY9OXC:debugUAXWZ3         100.0         False     practice   \n",
       "\n",
       "                                     condition_1 condition_2 agent_is_given  \\\n",
       "trial_index uniqueid                                                          \n",
       "3           debugPY9OXC:debugUAXWZ3        solid        full          False   \n",
       "4           debugPY9OXC:debugUAXWZ3       liquid        full          False   \n",
       "5           debugPY9OXC:debugUAXWZ3     abstract       empty          False   \n",
       "6           debugPY9OXC:debugUAXWZ3        solid       empty          False   \n",
       "7           debugPY9OXC:debugUAXWZ3     abstract        full          False   \n",
       "\n",
       "                                    agent_is_subject  slider_value_normed  \n",
       "trial_index uniqueid                                                       \n",
       "3           debugPY9OXC:debugUAXWZ3            False             0.934678  \n",
       "4           debugPY9OXC:debugUAXWZ3            False             0.934678  \n",
       "5           debugPY9OXC:debugUAXWZ3            False            -1.655482  \n",
       "6           debugPY9OXC:debugUAXWZ3            False            -1.655482  \n",
       "7           debugPY9OXC:debugUAXWZ3            False             0.934678  \n",
       "\n",
       "[5 rows x 22 columns]"
      ]
     },
     "execution_count": 10,
     "metadata": {},
     "output_type": "execute_result"
    }
   ],
   "source": [
    "response_df.head()"
   ]
  },
  {
   "cell_type": "code",
   "execution_count": 11,
   "id": "conventional-approval",
   "metadata": {},
   "outputs": [],
   "source": [
    "response_df.to_csv(\"raw_responses.csv\")"
   ]
  },
  {
   "cell_type": "markdown",
   "id": "acknowledged-badge",
   "metadata": {},
   "source": [
    "## Preliminaries"
   ]
  },
  {
   "cell_type": "code",
   "execution_count": 13,
   "id": "completed-shirt",
   "metadata": {},
   "outputs": [
    {
     "data": {
      "text/plain": [
       "1"
      ]
     },
     "execution_count": 13,
     "metadata": {},
     "output_type": "execute_result"
    }
   ],
   "source": [
    "len(response_df.reset_index().uniqueid.unique())"
   ]
  },
  {
   "cell_type": "markdown",
   "id": "million-absolute",
   "metadata": {},
   "source": [
    "### Demo"
   ]
  },
  {
   "cell_type": "code",
   "execution_count": 14,
   "id": "psychological-methodology",
   "metadata": {},
   "outputs": [],
   "source": [
    "# again hack -- forgot to put in experiment_id\n",
    "qualitative_df = raw_df[(raw_df.experiment_id == \"04_comprehension_swarm-full\") & raw_df.trial_type.isin((\"survey-text\", \"survey-multi-choice\"))]"
   ]
  },
  {
   "cell_type": "code",
   "execution_count": 15,
   "id": "educational-review",
   "metadata": {},
   "outputs": [
    {
     "data": {
      "text/plain": [
       "<AxesSubplot:xlabel='survey_answer', ylabel='Count'>"
      ]
     },
     "execution_count": 15,
     "metadata": {},
     "output_type": "execute_result"
    },
    {
     "data": {
      "image/png": "[encoded data removed]",
      "text/plain": [
       "<Figure size 432x288 with 1 Axes>"
      ]
     },
     "metadata": {
      "needs_background": "light"
     },
     "output_type": "display_data"
    }
   ],
   "source": [
    "ages = qualitative_df[(qualitative_df.trial_type == \"survey-text\") & (qualitative_df.internal_node_id == \"0.0-0.0\")].survey_answer.astype(int)\n",
    "sns.histplot(ages)"
   ]
  },
  {
   "cell_type": "code",
   "execution_count": 16,
   "id": "abandoned-belle",
   "metadata": {},
   "outputs": [
    {
     "data": {
      "text/plain": [
       "Master's degree    1\n",
       "Name: survey_answer, dtype: int64"
      ]
     },
     "execution_count": 16,
     "metadata": {},
     "output_type": "execute_result"
    }
   ],
   "source": [
    "education = qualitative_df[(qualitative_df.trial_type == \"survey-multi-choice\") & (qualitative_df.survey_question_idx == 0)].survey_answer\n",
    "education.value_counts()"
   ]
  },
  {
   "cell_type": "code",
   "execution_count": 17,
   "id": "divine-complaint",
   "metadata": {},
   "outputs": [
    {
     "data": {
      "text/plain": [
       "Yes    1\n",
       "Name: survey_answer, dtype: int64"
      ]
     },
     "execution_count": 17,
     "metadata": {},
     "output_type": "execute_result"
    }
   ],
   "source": [
    "native = qualitative_df[(qualitative_df.trial_type == \"survey-multi-choice\") & (qualitative_df.survey_question_idx == 1)].survey_answer\n",
    "native.value_counts()"
   ]
  },
  {
   "cell_type": "markdown",
   "id": "civilian-orientation",
   "metadata": {},
   "source": [
    "### Comments"
   ]
  },
  {
   "cell_type": "code",
   "execution_count": 18,
   "id": "structured-karen",
   "metadata": {},
   "outputs": [
    {
     "data": {
      "text/plain": [
       "trial_index  uniqueid               \n",
       "39           debugPY9OXC:debugUAXWZ3    thx\n",
       "Name: survey_answer, dtype: object"
      ]
     },
     "execution_count": 18,
     "metadata": {},
     "output_type": "execute_result"
    }
   ],
   "source": [
    "qualitative_df[(qualitative_df.trial_type == \"survey-text\") & (qualitative_df.internal_node_id != \"0.0-0.0\")].survey_answer"
   ]
  },
  {
   "cell_type": "markdown",
   "id": "desperate-night",
   "metadata": {},
   "source": [
    "### Total times"
   ]
  },
  {
   "cell_type": "code",
   "execution_count": 19,
   "id": "pressing-indication",
   "metadata": {},
   "outputs": [
    {
     "data": {
      "text/plain": [
       "Text(0.5, 1.0, 'Total study time (minutes)')"
      ]
     },
     "execution_count": 19,
     "metadata": {},
     "output_type": "execute_result"
    },
    {
     "data": {
      "image/png": "[encoded data removed]",
      "text/plain": [
       "<Figure size 432x288 with 1 Axes>"
      ]
     },
     "metadata": {
      "needs_background": "light"
     },
     "output_type": "display_data"
    }
   ],
   "source": [
    "sns.histplot(pd.concat([response_df, qualitative_df]).groupby(\"uniqueid\").apply(lambda rows: rows.rt.sum() / 1000 / 60))\n",
    "plt.title(\"Total study time (minutes)\")"
   ]
  },
  {
   "cell_type": "code",
   "execution_count": 20,
   "id": "competitive-providence",
   "metadata": {},
   "outputs": [
    {
     "data": {
      "text/plain": [
       "mean    3.156127\n",
       "std          NaN\n",
       "Name: rt, dtype: float64"
      ]
     },
     "execution_count": 20,
     "metadata": {},
     "output_type": "execute_result"
    }
   ],
   "source": [
    "pd.concat([response_df, qualitative_df]).groupby(\"uniqueid\").rt.sum().apply(lambda xs: xs / 1000 / 60).agg([\"mean\", \"std\"])"
   ]
  },
  {
   "cell_type": "markdown",
   "id": "quantitative-process",
   "metadata": {},
   "source": [
    "### Response times"
   ]
  },
  {
   "cell_type": "code",
   "execution_count": 21,
   "id": "civic-proposal",
   "metadata": {},
   "outputs": [],
   "source": [
    "# sns.displot(data=response_df, x=\"rt\", hue=\"uniqueid\", kind=\"hist\")"
   ]
  },
  {
   "cell_type": "code",
   "execution_count": 22,
   "id": "everyday-fusion",
   "metadata": {},
   "outputs": [
    {
     "data": {
      "text/plain": [
       "<seaborn.axisgrid.FacetGrid at 0x7f013e6e1ca0>"
      ]
     },
     "execution_count": 22,
     "metadata": {},
     "output_type": "execute_result"
    },
    {
     "data": {
      "image/png": "[encoded data removed]",
      "text/plain": [
       "<Figure size 544.75x360 with 1 Axes>"
      ]
     },
     "metadata": {
      "needs_background": "light"
     },
     "output_type": "display_data"
    }
   ],
   "source": [
    "response_df[\"rt.log\"] = np.log(response_df.rt)\n",
    "sns.displot(data=response_df, x=\"rt.log\", hue=\"uniqueid\", kind=\"kde\")"
   ]
  },
  {
   "cell_type": "code",
   "execution_count": 23,
   "id": "gothic-sword",
   "metadata": {},
   "outputs": [
    {
     "data": {
      "text/plain": [
       "Text(0.5, 1.0, 'Log response time vs. trial position')"
      ]
     },
     "execution_count": 23,
     "metadata": {},
     "output_type": "execute_result"
    },
    {
     "data": {
      "image/png": "[encoded data removed]",
      "text/plain": [
       "<Figure size 904.75x720 with 1 Axes>"
      ]
     },
     "metadata": {
      "needs_background": "light"
     },
     "output_type": "display_data"
    }
   ],
   "source": [
    "sns.lmplot(data=response_df.reset_index(), x=\"trial_index\", y=\"rt.log\", hue=\"uniqueid\", height=10, ci=False)\n",
    "plt.title(\"Log response time vs. trial position\")"
   ]
  },
  {
   "cell_type": "markdown",
   "id": "mechanical-avatar",
   "metadata": {},
   "source": [
    "### How are people using the sliders?"
   ]
  },
  {
   "cell_type": "markdown",
   "id": "binary-venezuela",
   "metadata": {},
   "source": [
    "- Stripplot points correspond to individual slider responses.\n",
    "- Responses are grouped vertically by subject.\n",
    "- Transparent boxplots indicate filler response value for a particular subject. Red median lines / boxes indicate \"full\" fillers and blue indicate \"empty.\"\n",
    "- X marks indicate mean practice response value for a particular subject. Red and blue match above."
   ]
  },
  {
   "cell_type": "code",
   "execution_count": 24,
   "id": "educational-stick",
   "metadata": {},
   "outputs": [
    {
     "data": {
      "text/plain": [
       "[<matplotlib.lines.Line2D at 0x7f013e5c1370>]"
      ]
     },
     "execution_count": 24,
     "metadata": {},
     "output_type": "execute_result"
    },
    {
     "data": {
      "image/png": "[encoded data removed]",
      "text/plain": [
       "<Figure size 1800x1080 with 1 Axes>"
      ]
     },
     "metadata": {
      "needs_background": "light"
     },
     "output_type": "display_data"
    }
   ],
   "source": [
    "# Order S by descending difference between mean full-filler and empty-filler rating\n",
    "filler_rows = response_df[response_df.condition_0 == \"filler\"]\n",
    "filler_diffs = filler_rows.groupby(\"uniqueid\").apply(lambda xs: xs[xs.condition_1 == \"full\"].slider_value.mean() - xs[xs.condition_1 == \"empty\"].slider_value.mean())\n",
    "subject_order = filler_diffs.sort_values(ascending=False).index\n",
    "\n",
    "plt.subplots(figsize=(25, 15))\n",
    "g = sns.stripplot(data=response_df.reset_index(), x=\"uniqueid\", y=\"slider_value\", order=subject_order)\n",
    "\n",
    "# plot filler responses\n",
    "sns.boxplot(data=response_df[(response_df.condition_0 == \"filler\") & (response_df.condition_1 == \"full\")].reset_index(),\n",
    "            x=\"uniqueid\", y=\"slider_value\", order=subject_order,\n",
    "            color=\"red\", medianprops=dict(color=\"red\"), flierprops=dict(markerfacecolor=\"red\"), boxprops=dict(alpha=0.3))\n",
    "sns.boxplot(data=response_df[(response_df.condition_0 == \"filler\") & (response_df.condition_1 == \"empty\")].reset_index(),\n",
    "            x=\"uniqueid\", y=\"slider_value\", order=subject_order, \n",
    "            color=\"blue\", medianprops=dict(color=\"blue\"), flierprops=dict(markerfacecolor=\"blue\"), boxprops=dict(alpha=0.3))\n",
    "\n",
    "# plot practice responses\n",
    "practice_full, practice_empty = [], []\n",
    "for i, subj in enumerate(subject_order):\n",
    "    subj_rows = response_df.xs(subj, level=\"uniqueid\")\n",
    "    subj_rows = subj_rows[(subj_rows.condition_0 == \"practice\")]\n",
    "    practice_full.append(subj_rows[subj_rows.condition_2 == \"full\"].slider_value.mean())\n",
    "    practice_empty.append(subj_rows[subj_rows.condition_2 == \"empty\"].slider_value.mean())\n",
    "    \n",
    "g.plot(np.arange(len(subject_order)), practice_full, marker=\"x\", markersize=10, color=\"red\", linestyle=\"none\")\n",
    "g.plot(np.arange(len(subject_order)), practice_empty, marker=\"x\", markersize=10, color=\"blue\", linestyle=\"none\")"
   ]
  },
  {
   "cell_type": "markdown",
   "id": "promotional-singing",
   "metadata": {},
   "source": [
    "## Attention checks"
   ]
  },
  {
   "cell_type": "markdown",
   "id": "foreign-provincial",
   "metadata": {},
   "source": [
    "### Practice round"
   ]
  },
  {
   "cell_type": "code",
   "execution_count": 36,
   "id": "minus-crawford",
   "metadata": {},
   "outputs": [
    {
     "name": "stderr",
     "output_type": "stream",
     "text": [
      "/opt/conda/lib/python3.8/site-packages/numpy/lib/function_base.py:3961: RuntimeWarning: invalid value encountered in subtract\n",
      "  diff_b_a = subtract(b, a)\n"
     ]
    },
    {
     "data": {
      "text/plain": [
       "<AxesSubplot:xlabel='t'>"
      ]
     },
     "execution_count": 36,
     "metadata": {},
     "output_type": "execute_result"
    },
    {
     "data": {
      "image/png": "[encoded data removed]",
      "text/plain": [
       "<Figure size 432x288 with 1 Axes>"
      ]
     },
     "metadata": {
      "needs_background": "light"
     },
     "output_type": "display_data"
    }
   ],
   "source": [
    "from scipy.stats import ttest_ind\n",
    "def compute_practice_ttest(subj_rows):\n",
    "    \"\"\"\n",
    "    sanity check: \"full\" items should be rated higher than \"empty\" practice items\n",
    "    \"\"\"\n",
    "    practice_rows = subj_rows[subj_rows.condition_0 == \"practice\"]\n",
    "    \n",
    "    # Filter out copouts (and print warning -- practice should not trigger copout)\n",
    "    copout_rows = practice_rows[practice_rows.slider_copout]\n",
    "    if len(copout_rows) > 0:\n",
    "        print(f\"WARNING: subject {practice_rows.iloc[0].name} had {len(copout_rows)} practice copout(s). Seems fishy.\")\n",
    "    practice_rows = practice_rows[~practice_rows.slider_copout]\n",
    "    \n",
    "    full_practice = practice_rows[practice_rows.condition_2 == \"full\"]\n",
    "    empty_practice = practice_rows[practice_rows.condition_2 == \"empty\"]\n",
    "    \n",
    "    return pd.Series(ttest_ind(full_practice.slider_value, empty_practice.slider_value),\n",
    "                     index=[\"t\", \"pval\"])\n",
    "\n",
    "practice_stats = response_df.groupby(\"uniqueid\").apply(compute_practice_ttest)\n",
    "sns.boxplot(data=practice_stats.reset_index(), x=\"t\", hue=\"uniqueid\")"
   ]
  },
  {
   "cell_type": "code",
   "execution_count": 37,
   "id": "square-handling",
   "metadata": {},
   "outputs": [
    {
     "data": {
      "text/html": [
       "<div>\n",
       "<style scoped>\n",
       "    .dataframe tbody tr th:only-of-type {\n",
       "        vertical-align: middle;\n",
       "    }\n",
       "\n",
       "    .dataframe tbody tr th {\n",
       "        vertical-align: top;\n",
       "    }\n",
       "\n",
       "    .dataframe thead th {\n",
       "        text-align: right;\n",
       "    }\n",
       "</style>\n",
       "<table border=\"1\" class=\"dataframe\">\n",
       "  <thead>\n",
       "    <tr style=\"text-align: right;\">\n",
       "      <th></th>\n",
       "      <th>t</th>\n",
       "      <th>pval</th>\n",
       "    </tr>\n",
       "    <tr>\n",
       "      <th>uniqueid</th>\n",
       "      <th></th>\n",
       "      <th></th>\n",
       "    </tr>\n",
       "  </thead>\n",
       "  <tbody>\n",
       "    <tr>\n",
       "      <th>debugPY9OXC:debugUAXWZ3</th>\n",
       "      <td>inf</td>\n",
       "      <td>0.0</td>\n",
       "    </tr>\n",
       "  </tbody>\n",
       "</table>\n",
       "</div>"
      ],
      "text/plain": [
       "                           t  pval\n",
       "uniqueid                          \n",
       "debugPY9OXC:debugUAXWZ3  inf   0.0"
      ]
     },
     "execution_count": 37,
     "metadata": {},
     "output_type": "execute_result"
    }
   ],
   "source": [
    "practice_stats.sort_values(\"t\")"
   ]
  },
  {
   "cell_type": "markdown",
   "id": "adverse-stretch",
   "metadata": {},
   "source": [
    "#### Practice copouts"
   ]
  },
  {
   "cell_type": "code",
   "execution_count": 38,
   "id": "remarkable-burden",
   "metadata": {},
   "outputs": [
    {
     "data": {
      "text/html": [
       "<div>\n",
       "<style scoped>\n",
       "    .dataframe tbody tr th:only-of-type {\n",
       "        vertical-align: middle;\n",
       "    }\n",
       "\n",
       "    .dataframe tbody tr th {\n",
       "        vertical-align: top;\n",
       "    }\n",
       "\n",
       "    .dataframe thead th {\n",
       "        text-align: right;\n",
       "    }\n",
       "</style>\n",
       "<table border=\"1\" class=\"dataframe\">\n",
       "  <thead>\n",
       "    <tr style=\"text-align: right;\">\n",
       "      <th></th>\n",
       "      <th></th>\n",
       "      <th>mean</th>\n",
       "      <th>count</th>\n",
       "    </tr>\n",
       "    <tr>\n",
       "      <th>condition_1</th>\n",
       "      <th>condition_2</th>\n",
       "      <th></th>\n",
       "      <th></th>\n",
       "    </tr>\n",
       "  </thead>\n",
       "  <tbody>\n",
       "    <tr>\n",
       "      <th rowspan=\"2\" valign=\"top\">abstract</th>\n",
       "      <th>empty</th>\n",
       "      <td>False</td>\n",
       "      <td>1</td>\n",
       "    </tr>\n",
       "    <tr>\n",
       "      <th>full</th>\n",
       "      <td>False</td>\n",
       "      <td>1</td>\n",
       "    </tr>\n",
       "    <tr>\n",
       "      <th>liquid</th>\n",
       "      <th>full</th>\n",
       "      <td>False</td>\n",
       "      <td>1</td>\n",
       "    </tr>\n",
       "    <tr>\n",
       "      <th rowspan=\"2\" valign=\"top\">solid</th>\n",
       "      <th>empty</th>\n",
       "      <td>False</td>\n",
       "      <td>1</td>\n",
       "    </tr>\n",
       "    <tr>\n",
       "      <th>full</th>\n",
       "      <td>False</td>\n",
       "      <td>1</td>\n",
       "    </tr>\n",
       "  </tbody>\n",
       "</table>\n",
       "</div>"
      ],
      "text/plain": [
       "                          mean  count\n",
       "condition_1 condition_2              \n",
       "abstract    empty        False      1\n",
       "            full         False      1\n",
       "liquid      full         False      1\n",
       "solid       empty        False      1\n",
       "            full         False      1"
      ]
     },
     "execution_count": 38,
     "metadata": {},
     "output_type": "execute_result"
    }
   ],
   "source": [
    "response_df[response_df.condition_0 == \"practice\"].groupby([\"condition_1\", \"condition_2\"]).slider_copout.agg([\"mean\", \"count\"]).sort_values(\"mean\", ascending=False)"
   ]
  },
  {
   "cell_type": "markdown",
   "id": "interpreted-fabric",
   "metadata": {},
   "source": [
    "### Fillers"
   ]
  },
  {
   "cell_type": "code",
   "execution_count": 39,
   "id": "prerequisite-andrew",
   "metadata": {},
   "outputs": [
    {
     "data": {
      "text/plain": [
       "<AxesSubplot:xlabel='t'>"
      ]
     },
     "execution_count": 39,
     "metadata": {},
     "output_type": "execute_result"
    },
    {
     "data": {
      "image/png": "[encoded data removed]",
      "text/plain": [
       "<Figure size 432x288 with 1 Axes>"
      ]
     },
     "metadata": {
      "needs_background": "light"
     },
     "output_type": "display_data"
    }
   ],
   "source": [
    "from scipy.stats import ttest_ind\n",
    "def compute_filler_ttest(subj_rows):\n",
    "    \"\"\"\n",
    "    sanity check: \"full\" items should be rated higher than \"empty\" filler items\n",
    "    \"\"\"\n",
    "    filler_rows = subj_rows[subj_rows.condition_0 == \"filler\"]\n",
    "    \n",
    "    # Filter out copouts (and print warning -- fillers should not trigger copout)\n",
    "    copout_rows = filler_rows[filler_rows.slider_copout]\n",
    "    if len(copout_rows) > 0:\n",
    "        print(f\"WARNING: subject {filler_rows.iloc[0].name} had {len(copout_rows)} filler copout(s). Seems fishy.\")\n",
    "    filler_rows = filler_rows[~filler_rows.slider_copout]\n",
    "    \n",
    "    full_filler = filler_rows[filler_rows.condition_1 == \"full\"]\n",
    "    empty_filler = filler_rows[filler_rows.condition_1 == \"empty\"]\n",
    "    \n",
    "    return pd.Series(ttest_ind(full_filler.slider_value, empty_filler.slider_value),\n",
    "                     index=[\"t\", \"pval\"])\n",
    "\n",
    "filler_stats = response_df.groupby(\"uniqueid\").apply(compute_filler_ttest)\n",
    "sns.boxplot(data=filler_stats.reset_index(), x=\"t\", hue=\"uniqueid\")"
   ]
  },
  {
   "cell_type": "code",
   "execution_count": 40,
   "id": "quality-regression",
   "metadata": {},
   "outputs": [
    {
     "data": {
      "text/html": [
       "<div>\n",
       "<style scoped>\n",
       "    .dataframe tbody tr th:only-of-type {\n",
       "        vertical-align: middle;\n",
       "    }\n",
       "\n",
       "    .dataframe tbody tr th {\n",
       "        vertical-align: top;\n",
       "    }\n",
       "\n",
       "    .dataframe thead th {\n",
       "        text-align: right;\n",
       "    }\n",
       "</style>\n",
       "<table border=\"1\" class=\"dataframe\">\n",
       "  <thead>\n",
       "    <tr style=\"text-align: right;\">\n",
       "      <th></th>\n",
       "      <th>t</th>\n",
       "      <th>pval</th>\n",
       "    </tr>\n",
       "    <tr>\n",
       "      <th>uniqueid</th>\n",
       "      <th></th>\n",
       "      <th></th>\n",
       "    </tr>\n",
       "  </thead>\n",
       "  <tbody>\n",
       "    <tr>\n",
       "      <th>debugPY9OXC:debugUAXWZ3</th>\n",
       "      <td>169.202808</td>\n",
       "      <td>1.277408e-18</td>\n",
       "    </tr>\n",
       "  </tbody>\n",
       "</table>\n",
       "</div>"
      ],
      "text/plain": [
       "                                  t          pval\n",
       "uniqueid                                         \n",
       "debugPY9OXC:debugUAXWZ3  169.202808  1.277408e-18"
      ]
     },
     "execution_count": 40,
     "metadata": {},
     "output_type": "execute_result"
    }
   ],
   "source": [
    "filler_stats.sort_values(\"t\")"
   ]
  },
  {
   "cell_type": "markdown",
   "id": "hungry-block",
   "metadata": {},
   "source": [
    "#### Filler copouts"
   ]
  },
  {
   "cell_type": "code",
   "execution_count": 41,
   "id": "double-union",
   "metadata": {},
   "outputs": [
    {
     "data": {
      "text/html": [
       "<div>\n",
       "<style scoped>\n",
       "    .dataframe tbody tr th:only-of-type {\n",
       "        vertical-align: middle;\n",
       "    }\n",
       "\n",
       "    .dataframe tbody tr th {\n",
       "        vertical-align: top;\n",
       "    }\n",
       "\n",
       "    .dataframe thead th {\n",
       "        text-align: right;\n",
       "    }\n",
       "</style>\n",
       "<table border=\"1\" class=\"dataframe\">\n",
       "  <thead>\n",
       "    <tr style=\"text-align: right;\">\n",
       "      <th></th>\n",
       "      <th></th>\n",
       "      <th>mean</th>\n",
       "      <th>count</th>\n",
       "    </tr>\n",
       "    <tr>\n",
       "      <th>item_id</th>\n",
       "      <th>condition_1</th>\n",
       "      <th></th>\n",
       "      <th></th>\n",
       "    </tr>\n",
       "  </thead>\n",
       "  <tbody>\n",
       "    <tr>\n",
       "      <th>0.0</th>\n",
       "      <th>empty</th>\n",
       "      <td>False</td>\n",
       "      <td>1</td>\n",
       "    </tr>\n",
       "    <tr>\n",
       "      <th>1.0</th>\n",
       "      <th>empty</th>\n",
       "      <td>False</td>\n",
       "      <td>1</td>\n",
       "    </tr>\n",
       "    <tr>\n",
       "      <th>2.0</th>\n",
       "      <th>empty</th>\n",
       "      <td>False</td>\n",
       "      <td>1</td>\n",
       "    </tr>\n",
       "    <tr>\n",
       "      <th>3.0</th>\n",
       "      <th>empty</th>\n",
       "      <td>False</td>\n",
       "      <td>1</td>\n",
       "    </tr>\n",
       "    <tr>\n",
       "      <th>4.0</th>\n",
       "      <th>empty</th>\n",
       "      <td>False</td>\n",
       "      <td>1</td>\n",
       "    </tr>\n",
       "    <tr>\n",
       "      <th>5.0</th>\n",
       "      <th>empty</th>\n",
       "      <td>False</td>\n",
       "      <td>1</td>\n",
       "    </tr>\n",
       "    <tr>\n",
       "      <th>6.0</th>\n",
       "      <th>full</th>\n",
       "      <td>False</td>\n",
       "      <td>1</td>\n",
       "    </tr>\n",
       "    <tr>\n",
       "      <th>7.0</th>\n",
       "      <th>full</th>\n",
       "      <td>False</td>\n",
       "      <td>1</td>\n",
       "    </tr>\n",
       "    <tr>\n",
       "      <th>8.0</th>\n",
       "      <th>full</th>\n",
       "      <td>False</td>\n",
       "      <td>1</td>\n",
       "    </tr>\n",
       "    <tr>\n",
       "      <th>9.0</th>\n",
       "      <th>full</th>\n",
       "      <td>False</td>\n",
       "      <td>1</td>\n",
       "    </tr>\n",
       "    <tr>\n",
       "      <th>10.0</th>\n",
       "      <th>full</th>\n",
       "      <td>False</td>\n",
       "      <td>1</td>\n",
       "    </tr>\n",
       "    <tr>\n",
       "      <th>11.0</th>\n",
       "      <th>full</th>\n",
       "      <td>False</td>\n",
       "      <td>1</td>\n",
       "    </tr>\n",
       "  </tbody>\n",
       "</table>\n",
       "</div>"
      ],
      "text/plain": [
       "                      mean  count\n",
       "item_id condition_1              \n",
       "0.0     empty        False      1\n",
       "1.0     empty        False      1\n",
       "2.0     empty        False      1\n",
       "3.0     empty        False      1\n",
       "4.0     empty        False      1\n",
       "5.0     empty        False      1\n",
       "6.0     full         False      1\n",
       "7.0     full         False      1\n",
       "8.0     full         False      1\n",
       "9.0     full         False      1\n",
       "10.0    full         False      1\n",
       "11.0    full         False      1"
      ]
     },
     "execution_count": 41,
     "metadata": {},
     "output_type": "execute_result"
    }
   ],
   "source": [
    "response_df[response_df.condition_0 == \"filler\"].groupby([\"item_id\", \"condition_1\"]).slider_copout.agg([\"mean\", \"count\"]).sort_values(\"mean\", ascending=False)"
   ]
  },
  {
   "cell_type": "markdown",
   "id": "described-factory",
   "metadata": {},
   "source": [
    "## Final data processing"
   ]
  },
  {
   "cell_type": "code",
   "execution_count": 42,
   "id": "radical-missouri",
   "metadata": {},
   "outputs": [],
   "source": [
    "exp_items = response_df[~(response_df.condition_0.isin((\"practice\", \"filler\")))]"
   ]
  },
  {
   "cell_type": "markdown",
   "id": "logical-executive",
   "metadata": {},
   "source": [
    "### Filter based on practice and attention checks"
   ]
  },
  {
   "cell_type": "code",
   "execution_count": 43,
   "id": "stock-scene",
   "metadata": {},
   "outputs": [
    {
     "name": "stdout",
     "output_type": "stream",
     "text": [
      "0 subjects (0.0%) disqualified and dropped due to failed practice.\n",
      "\t\n",
      "0 subjects (0.0%, possibly overlapping with previous) disqualified and dropped due to failed attention checks.\n",
      "\t\n"
     ]
    }
   ],
   "source": [
    "practice_drops = practice_stats[(practice_stats.t < 0) | (practice_stats.pval > 1e-1) | practice_stats.t.isna()]\n",
    "drop_pct = np.round(len(practice_drops) / len(practice_stats.index) * 100, 1)\n",
    "print(f\"{len(practice_drops)} subjects ({drop_pct}%) disqualified and dropped due to failed practice.\")\n",
    "print(\"\\t\" + \"\\n\\t\".join(practice_drops.index))\n",
    "exp_items = exp_items.drop(practice_drops.index, level=\"uniqueid\")\n",
    "\n",
    "attention_drops = filler_stats[(filler_stats.t < 0) | (filler_stats.pval > 1e-1) | filler_stats.t.isna()]\n",
    "drop_pct = np.round(len(attention_drops) / len(filler_stats.index) * 100, 1)\n",
    "print(f\"{len(attention_drops)} subjects ({drop_pct}%, possibly overlapping with previous) disqualified and dropped due to failed attention checks.\")\n",
    "print(\"\\t\" + \"\\n\\t\".join(attention_drops.index))\n",
    "exp_items = exp_items.drop(attention_drops.index, level=\"uniqueid\")"
   ]
  },
  {
   "cell_type": "code",
   "execution_count": 44,
   "id": "enclosed-bridges",
   "metadata": {},
   "outputs": [
    {
     "name": "stdout",
     "output_type": "stream",
     "text": [
      "1 subjects remaining.\n"
     ]
    }
   ],
   "source": [
    "print(f\"{len(set(exp_items.index.get_level_values('uniqueid')))} subjects remaining.\")"
   ]
  },
  {
   "cell_type": "markdown",
   "id": "related-block",
   "metadata": {},
   "source": [
    "### Merge in materials"
   ]
  },
  {
   "cell_type": "code",
   "execution_count": 45,
   "id": "flying-helmet",
   "metadata": {},
   "outputs": [],
   "source": [
    "import json\n",
    "def load_materials(mat):\n",
    "    with open(f\"../../materials/{mat}.json\") as f:\n",
    "        materials = json.load(f)\n",
    "    return pd.DataFrame.from_records(materials[\"items\"]).rename(columns={\"id\": \"item_id\"}).set_index(\"item_id\")\n",
    "\n",
    "materials_ids = sorted(set(exp_items.materials_id))\n",
    "materials_df = pd.concat([load_materials(mat) for mat in materials_ids], names=[\"materials_id\"], keys=materials_ids, axis=0)\n",
    "\n",
    "materials_df[\"AV\"] = materials_df.A.str.cat(materials_df.V, \" \")\n",
    "\n",
    "# NB this doesn't handle fillers correctly"
   ]
  },
  {
   "cell_type": "code",
   "execution_count": 46,
   "id": "specified-begin",
   "metadata": {},
   "outputs": [],
   "source": [
    "keep_cols = [\"A\", \"V\", \"L\", \"AV\", \"A concrete?\", \"A countable?\"]\n",
    "merged_df = pd.merge(exp_items, materials_df[keep_cols], left_on=[\"materials_id\", \"item_id\"], right_index=True)"
   ]
  },
  {
   "cell_type": "markdown",
   "id": "strong-figure",
   "metadata": {},
   "source": [
    "### Filter out items which were dropped in later materials iterations"
   ]
  },
  {
   "cell_type": "code",
   "execution_count": 47,
   "id": "alone-handy",
   "metadata": {},
   "outputs": [
    {
     "name": "stdout",
     "output_type": "stream",
     "text": [
      "Dropping 0 item results because they weren't included in the latest materials, swarm-004-given.\n"
     ]
    }
   ],
   "source": [
    "# Partition results into those evaluated on latest materials vs. earlier\n",
    "latest_materials = materials_ids[-1]\n",
    "latest_merged_df = merged_df[merged_df.materials_id == latest_materials]\n",
    "earlier_merged_df = merged_df[merged_df.materials_id != latest_materials]\n",
    "\n",
    "# Get item IDs which appear only in earlier\n",
    "early_only = set(earlier_merged_df.item_id) - set(latest_merged_df.item_id)\n",
    "\n",
    "print(f\"Dropping {len(early_only)} item results because they weren't included in the latest materials, {materials_ids[-1]}.\")\n",
    "merged_df = merged_df[~merged_df.item_id.isin(early_only)]"
   ]
  },
  {
   "cell_type": "markdown",
   "id": "fixed-choir",
   "metadata": {},
   "source": [
    "### Export"
   ]
  },
  {
   "cell_type": "code",
   "execution_count": 48,
   "id": "given-punishment",
   "metadata": {},
   "outputs": [],
   "source": [
    "merged_df.to_csv(\"merged_df.csv\")"
   ]
  },
  {
   "cell_type": "markdown",
   "id": "loving-austria",
   "metadata": {},
   "source": [
    "## Basic visualization"
   ]
  },
  {
   "cell_type": "code",
   "execution_count": 49,
   "id": "solved-peter",
   "metadata": {},
   "outputs": [],
   "source": [
    "# Compute by-item slider difference of means between conditions\n",
    "def compute_item_difference(item_rows):\n",
    "    item_rows = item_rows.set_index(\"agent_is_subject\")\n",
    "    \n",
    "    if True not in item_rows.index or False not in item_rows.index:\n",
    "        return np.nan\n",
    "    \n",
    "    agent_rows, location_rows = item_rows.loc[True], item_rows.loc[False]\n",
    "    return location_rows.slider_value_normed.mean() - agent_rows.slider_value_normed.mean()\n",
    "\n",
    "item_differences = merged_df.groupby([\"item_id\", \"A\", \"V\", \"L\", \"A concrete?\", \"A countable?\"]) \\\n",
    "    .apply(compute_item_difference) \\\n",
    "    .rename(\"LocationSubject - AgentSubject\")"
   ]
  },
  {
   "cell_type": "code",
   "execution_count": 50,
   "id": "raising-testing",
   "metadata": {},
   "outputs": [
    {
     "data": {
      "text/plain": [
       "<seaborn.axisgrid.FacetGrid at 0x7f013df56ee0>"
      ]
     },
     "execution_count": 50,
     "metadata": {},
     "output_type": "execute_result"
    },
    {
     "data": {
      "image/png": "[encoded data removed]",
      "text/plain": [
       "<Figure size 360x360 with 1 Axes>"
      ]
     },
     "metadata": {
      "needs_background": "light"
     },
     "output_type": "display_data"
    }
   ],
   "source": [
    "sns.displot(item_differences, bins=12)"
   ]
  },
  {
   "cell_type": "code",
   "execution_count": 51,
   "id": "still-strain",
   "metadata": {},
   "outputs": [
    {
     "data": {
      "text/plain": [
       "item_id  A             V        L           A concrete?  A countable?\n",
       "4.0      people        bustl    square      True         True           NaN\n",
       "6.0      terror        cours    body        False        False          NaN\n",
       "7.0      excitement    crackl   theater     False        False          NaN\n",
       "8.0      cockroaches   creep    cave        True         True           NaN\n",
       "17.0     debris        flow     river       True         False          NaN\n",
       "18.0     birds         flutter  courtyard   True         True           NaN\n",
       "19.0     bubbles       foam     tub         True         True           NaN\n",
       "20.0     fireflies     glimmer  backyard    True         True           NaN\n",
       "22.0     lights        glow     sky         True         True           NaN\n",
       "24.0     frogs         hopp     swamp       True         True           NaN\n",
       "25.0     energy        humm     market      False        False          NaN\n",
       "30.0     fear          prickl   fingertips  False        False          NaN\n",
       "31.0     excitement    puls     temples     False        False          NaN\n",
       "39.0     sewage        runn     street      True         False          NaN\n",
       "41.0     trepidation   shak     chest       False        False          NaN\n",
       "56.0     tadpoles      swimm    pond        True         True           NaN\n",
       "58.0     anticipation  tingl    arms        False        False          NaN\n",
       "64.0     worms         wriggl   bucket      True         True           NaN\n",
       "Name: LocationSubject - AgentSubject, dtype: float64"
      ]
     },
     "execution_count": 51,
     "metadata": {},
     "output_type": "execute_result"
    }
   ],
   "source": [
    "item_differences.sort_values(ascending=False)"
   ]
  },
  {
   "cell_type": "code",
   "execution_count": 52,
   "id": "downtown-progress",
   "metadata": {},
   "outputs": [
    {
     "data": {
      "text/plain": [
       "(array([ 0,  1,  2,  3,  4,  5,  6,  7,  8,  9, 10, 11, 12, 13, 14, 15, 16,\n",
       "        17]),\n",
       " [Text(0, 0, 'worms wriggl'),\n",
       "  Text(1, 0, 'lights glow'),\n",
       "  Text(2, 0, 'bubbles foam'),\n",
       "  Text(3, 0, 'birds flutter'),\n",
       "  Text(4, 0, 'fireflies glimmer'),\n",
       "  Text(5, 0, 'people bustl'),\n",
       "  Text(6, 0, 'frogs hopp'),\n",
       "  Text(7, 0, 'debris flow'),\n",
       "  Text(8, 0, 'excitement puls'),\n",
       "  Text(9, 0, 'terror cours'),\n",
       "  Text(10, 0, 'trepidation shak'),\n",
       "  Text(11, 0, 'fear prickl'),\n",
       "  Text(12, 0, 'sewage runn'),\n",
       "  Text(13, 0, 'anticipation tingl'),\n",
       "  Text(14, 0, 'excitement crackl'),\n",
       "  Text(15, 0, 'tadpoles swimm'),\n",
       "  Text(16, 0, 'energy humm'),\n",
       "  Text(17, 0, 'cockroaches creep')])"
      ]
     },
     "execution_count": 52,
     "metadata": {},
     "output_type": "execute_result"
    },
    {
     "data": {
      "image/png": "[encoded data removed]",
      "text/plain": [
       "<Figure size 1080x720 with 1 Axes>"
      ]
     },
     "metadata": {
      "needs_background": "light"
     },
     "output_type": "display_data"
    }
   ],
   "source": [
    "plt.subplots(figsize=(15, 10))\n",
    "sns.barplot(data=merged_df.reset_index(), x=\"AV\", hue=\"agent_is_subject\", y=\"slider_value_normed\")\n",
    "plt.xticks(rotation=35, ha=\"right\")"
   ]
  },
  {
   "cell_type": "code",
   "execution_count": 53,
   "id": "sticky-platinum",
   "metadata": {},
   "outputs": [
    {
     "data": {
      "text/plain": [
       "<AxesSubplot:xlabel='A concrete?', ylabel='LocationSubject - AgentSubject'>"
      ]
     },
     "execution_count": 53,
     "metadata": {},
     "output_type": "execute_result"
    },
    {
     "data": {
      "image/png": "[encoded data removed]",
      "text/plain": [
       "<Figure size 432x288 with 1 Axes>"
      ]
     },
     "metadata": {
      "needs_background": "light"
     },
     "output_type": "display_data"
    }
   ],
   "source": [
    "sns.barplot(data=item_differences.reset_index(), x=\"A concrete?\", y=\"LocationSubject - AgentSubject\")"
   ]
  },
  {
   "cell_type": "code",
   "execution_count": 54,
   "id": "constitutional-friday",
   "metadata": {},
   "outputs": [
    {
     "data": {
      "text/plain": [
       "<AxesSubplot:xlabel='A countable?', ylabel='LocationSubject - AgentSubject'>"
      ]
     },
     "execution_count": 54,
     "metadata": {},
     "output_type": "execute_result"
    },
    {
     "data": {
      "image/png": "[encoded data removed]",
      "text/plain": [
       "<Figure size 432x288 with 1 Axes>"
      ]
     },
     "metadata": {
      "needs_background": "light"
     },
     "output_type": "display_data"
    }
   ],
   "source": [
    "sns.barplot(data=item_differences.reset_index(), x=\"A countable?\", y=\"LocationSubject - AgentSubject\")"
   ]
  },
  {
   "cell_type": "markdown",
   "id": "violent-israel",
   "metadata": {},
   "source": [
    "#### Bootstrap check"
   ]
  },
  {
   "cell_type": "code",
   "execution_count": 55,
   "id": "protected-musician",
   "metadata": {},
   "outputs": [
    {
     "ename": "IndexError",
     "evalue": "index -1 is out of bounds for axis 0 with size 0",
     "output_type": "error",
     "traceback": [
      "\u001b[0;31m---------------------------------------------------------------------------\u001b[0m",
      "\u001b[0;31mIndexError\u001b[0m                                Traceback (most recent call last)",
      "\u001b[0;32m<ipython-input-55-f858f223b7d1>\u001b[0m in \u001b[0;36m<module>\u001b[0;34m\u001b[0m\n\u001b[1;32m     16\u001b[0m     \u001b[0;32mreturn\u001b[0m \u001b[0mpd\u001b[0m\u001b[0;34m.\u001b[0m\u001b[0mSeries\u001b[0m\u001b[0;34m(\u001b[0m\u001b[0;34m{\u001b[0m\u001b[0;34m\"low\"\u001b[0m\u001b[0;34m:\u001b[0m \u001b[0mpcts\u001b[0m\u001b[0;34m[\u001b[0m\u001b[0;36m0\u001b[0m\u001b[0;34m]\u001b[0m\u001b[0;34m,\u001b[0m \u001b[0;34m\"high\"\u001b[0m\u001b[0;34m:\u001b[0m \u001b[0mpcts\u001b[0m\u001b[0;34m[\u001b[0m\u001b[0;36m1\u001b[0m\u001b[0;34m]\u001b[0m\u001b[0;34m}\u001b[0m\u001b[0;34m)\u001b[0m\u001b[0;34m\u001b[0m\u001b[0;34m\u001b[0m\u001b[0m\n\u001b[1;32m     17\u001b[0m \u001b[0;34m\u001b[0m\u001b[0m\n\u001b[0;32m---> 18\u001b[0;31m \u001b[0mitem_bootstrap_df\u001b[0m \u001b[0;34m=\u001b[0m \u001b[0mmerged_df\u001b[0m\u001b[0;34m.\u001b[0m\u001b[0mgroupby\u001b[0m\u001b[0;34m(\u001b[0m\u001b[0;34m\"item_id\"\u001b[0m\u001b[0;34m)\u001b[0m\u001b[0;34m.\u001b[0m\u001b[0mapply\u001b[0m\u001b[0;34m(\u001b[0m\u001b[0mitem_bootstrap\u001b[0m\u001b[0;34m)\u001b[0m\u001b[0;34m\u001b[0m\u001b[0;34m\u001b[0m\u001b[0m\n\u001b[0m\u001b[1;32m     19\u001b[0m \u001b[0mitem_bootstrap_df\u001b[0m\u001b[0;34m\u001b[0m\u001b[0;34m\u001b[0m\u001b[0m\n",
      "\u001b[0;32m/opt/conda/lib/python3.8/site-packages/pandas/core/groupby/groupby.py\u001b[0m in \u001b[0;36mapply\u001b[0;34m(self, func, *args, **kwargs)\u001b[0m\n\u001b[1;32m    892\u001b[0m         \u001b[0;32mwith\u001b[0m \u001b[0moption_context\u001b[0m\u001b[0;34m(\u001b[0m\u001b[0;34m\"mode.chained_assignment\"\u001b[0m\u001b[0;34m,\u001b[0m \u001b[0;32mNone\u001b[0m\u001b[0;34m)\u001b[0m\u001b[0;34m:\u001b[0m\u001b[0;34m\u001b[0m\u001b[0;34m\u001b[0m\u001b[0m\n\u001b[1;32m    893\u001b[0m             \u001b[0;32mtry\u001b[0m\u001b[0;34m:\u001b[0m\u001b[0;34m\u001b[0m\u001b[0;34m\u001b[0m\u001b[0m\n\u001b[0;32m--> 894\u001b[0;31m                 \u001b[0mresult\u001b[0m \u001b[0;34m=\u001b[0m \u001b[0mself\u001b[0m\u001b[0;34m.\u001b[0m\u001b[0m_python_apply_general\u001b[0m\u001b[0;34m(\u001b[0m\u001b[0mf\u001b[0m\u001b[0;34m,\u001b[0m \u001b[0mself\u001b[0m\u001b[0;34m.\u001b[0m\u001b[0m_selected_obj\u001b[0m\u001b[0;34m)\u001b[0m\u001b[0;34m\u001b[0m\u001b[0;34m\u001b[0m\u001b[0m\n\u001b[0m\u001b[1;32m    895\u001b[0m             \u001b[0;32mexcept\u001b[0m \u001b[0mTypeError\u001b[0m\u001b[0;34m:\u001b[0m\u001b[0;34m\u001b[0m\u001b[0;34m\u001b[0m\u001b[0m\n\u001b[1;32m    896\u001b[0m                 \u001b[0;31m# gh-20949\u001b[0m\u001b[0;34m\u001b[0m\u001b[0;34m\u001b[0m\u001b[0;34m\u001b[0m\u001b[0m\n",
      "\u001b[0;32m/opt/conda/lib/python3.8/site-packages/pandas/core/groupby/groupby.py\u001b[0m in \u001b[0;36m_python_apply_general\u001b[0;34m(self, f, data)\u001b[0m\n\u001b[1;32m    926\u001b[0m             \u001b[0mdata\u001b[0m \u001b[0mafter\u001b[0m \u001b[0mapplying\u001b[0m \u001b[0mf\u001b[0m\u001b[0;34m\u001b[0m\u001b[0;34m\u001b[0m\u001b[0m\n\u001b[1;32m    927\u001b[0m         \"\"\"\n\u001b[0;32m--> 928\u001b[0;31m         \u001b[0mkeys\u001b[0m\u001b[0;34m,\u001b[0m \u001b[0mvalues\u001b[0m\u001b[0;34m,\u001b[0m \u001b[0mmutated\u001b[0m \u001b[0;34m=\u001b[0m \u001b[0mself\u001b[0m\u001b[0;34m.\u001b[0m\u001b[0mgrouper\u001b[0m\u001b[0;34m.\u001b[0m\u001b[0mapply\u001b[0m\u001b[0;34m(\u001b[0m\u001b[0mf\u001b[0m\u001b[0;34m,\u001b[0m \u001b[0mdata\u001b[0m\u001b[0;34m,\u001b[0m \u001b[0mself\u001b[0m\u001b[0;34m.\u001b[0m\u001b[0maxis\u001b[0m\u001b[0;34m)\u001b[0m\u001b[0;34m\u001b[0m\u001b[0;34m\u001b[0m\u001b[0m\n\u001b[0m\u001b[1;32m    929\u001b[0m \u001b[0;34m\u001b[0m\u001b[0m\n\u001b[1;32m    930\u001b[0m         return self._wrap_applied_output(\n",
      "\u001b[0;32m/opt/conda/lib/python3.8/site-packages/pandas/core/groupby/ops.py\u001b[0m in \u001b[0;36mapply\u001b[0;34m(self, f, data, axis)\u001b[0m\n\u001b[1;32m    236\u001b[0m             \u001b[0;31m# group might be modified\u001b[0m\u001b[0;34m\u001b[0m\u001b[0;34m\u001b[0m\u001b[0;34m\u001b[0m\u001b[0m\n\u001b[1;32m    237\u001b[0m             \u001b[0mgroup_axes\u001b[0m \u001b[0;34m=\u001b[0m \u001b[0mgroup\u001b[0m\u001b[0;34m.\u001b[0m\u001b[0maxes\u001b[0m\u001b[0;34m\u001b[0m\u001b[0;34m\u001b[0m\u001b[0m\n\u001b[0;32m--> 238\u001b[0;31m             \u001b[0mres\u001b[0m \u001b[0;34m=\u001b[0m \u001b[0mf\u001b[0m\u001b[0;34m(\u001b[0m\u001b[0mgroup\u001b[0m\u001b[0;34m)\u001b[0m\u001b[0;34m\u001b[0m\u001b[0;34m\u001b[0m\u001b[0m\n\u001b[0m\u001b[1;32m    239\u001b[0m             \u001b[0;32mif\u001b[0m \u001b[0;32mnot\u001b[0m \u001b[0m_is_indexed_like\u001b[0m\u001b[0;34m(\u001b[0m\u001b[0mres\u001b[0m\u001b[0;34m,\u001b[0m \u001b[0mgroup_axes\u001b[0m\u001b[0;34m,\u001b[0m \u001b[0maxis\u001b[0m\u001b[0;34m)\u001b[0m\u001b[0;34m:\u001b[0m\u001b[0;34m\u001b[0m\u001b[0;34m\u001b[0m\u001b[0m\n\u001b[1;32m    240\u001b[0m                 \u001b[0mmutated\u001b[0m \u001b[0;34m=\u001b[0m \u001b[0;32mTrue\u001b[0m\u001b[0;34m\u001b[0m\u001b[0;34m\u001b[0m\u001b[0m\n",
      "\u001b[0;32m<ipython-input-55-f858f223b7d1>\u001b[0m in \u001b[0;36mitem_bootstrap\u001b[0;34m(rows)\u001b[0m\n\u001b[1;32m     13\u001b[0m     \u001b[0mbootstrap\u001b[0m \u001b[0;34m=\u001b[0m \u001b[0;34m[\u001b[0m\u001b[0mx\u001b[0m \u001b[0;32mfor\u001b[0m \u001b[0mx\u001b[0m \u001b[0;32min\u001b[0m \u001b[0mbootstrap\u001b[0m \u001b[0;32mif\u001b[0m \u001b[0mx\u001b[0m \u001b[0;32mis\u001b[0m \u001b[0;32mnot\u001b[0m \u001b[0;32mNone\u001b[0m\u001b[0;34m]\u001b[0m\u001b[0;34m\u001b[0m\u001b[0;34m\u001b[0m\u001b[0m\n\u001b[1;32m     14\u001b[0m \u001b[0;34m\u001b[0m\u001b[0m\n\u001b[0;32m---> 15\u001b[0;31m     \u001b[0mpcts\u001b[0m \u001b[0;34m=\u001b[0m \u001b[0mnp\u001b[0m\u001b[0;34m.\u001b[0m\u001b[0mpercentile\u001b[0m\u001b[0;34m(\u001b[0m\u001b[0mbootstrap\u001b[0m\u001b[0;34m,\u001b[0m \u001b[0;34m[\u001b[0m\u001b[0;36m0.05\u001b[0m\u001b[0;34m,\u001b[0m \u001b[0;36m0.95\u001b[0m\u001b[0;34m]\u001b[0m\u001b[0;34m)\u001b[0m\u001b[0;34m\u001b[0m\u001b[0;34m\u001b[0m\u001b[0m\n\u001b[0m\u001b[1;32m     16\u001b[0m     \u001b[0;32mreturn\u001b[0m \u001b[0mpd\u001b[0m\u001b[0;34m.\u001b[0m\u001b[0mSeries\u001b[0m\u001b[0;34m(\u001b[0m\u001b[0;34m{\u001b[0m\u001b[0;34m\"low\"\u001b[0m\u001b[0;34m:\u001b[0m \u001b[0mpcts\u001b[0m\u001b[0;34m[\u001b[0m\u001b[0;36m0\u001b[0m\u001b[0;34m]\u001b[0m\u001b[0;34m,\u001b[0m \u001b[0;34m\"high\"\u001b[0m\u001b[0;34m:\u001b[0m \u001b[0mpcts\u001b[0m\u001b[0;34m[\u001b[0m\u001b[0;36m1\u001b[0m\u001b[0;34m]\u001b[0m\u001b[0;34m}\u001b[0m\u001b[0;34m)\u001b[0m\u001b[0;34m\u001b[0m\u001b[0;34m\u001b[0m\u001b[0m\n\u001b[1;32m     17\u001b[0m \u001b[0;34m\u001b[0m\u001b[0m\n",
      "\u001b[0;32m<__array_function__ internals>\u001b[0m in \u001b[0;36mpercentile\u001b[0;34m(*args, **kwargs)\u001b[0m\n",
      "\u001b[0;32m/opt/conda/lib/python3.8/site-packages/numpy/lib/function_base.py\u001b[0m in \u001b[0;36mpercentile\u001b[0;34m(a, q, axis, out, overwrite_input, interpolation, keepdims)\u001b[0m\n\u001b[1;32m   3816\u001b[0m     \u001b[0;32mif\u001b[0m \u001b[0;32mnot\u001b[0m \u001b[0m_quantile_is_valid\u001b[0m\u001b[0;34m(\u001b[0m\u001b[0mq\u001b[0m\u001b[0;34m)\u001b[0m\u001b[0;34m:\u001b[0m\u001b[0;34m\u001b[0m\u001b[0;34m\u001b[0m\u001b[0m\n\u001b[1;32m   3817\u001b[0m         \u001b[0;32mraise\u001b[0m \u001b[0mValueError\u001b[0m\u001b[0;34m(\u001b[0m\u001b[0;34m\"Percentiles must be in the range [0, 100]\"\u001b[0m\u001b[0;34m)\u001b[0m\u001b[0;34m\u001b[0m\u001b[0;34m\u001b[0m\u001b[0m\n\u001b[0;32m-> 3818\u001b[0;31m     return _quantile_unchecked(\n\u001b[0m\u001b[1;32m   3819\u001b[0m         a, q, axis, out, overwrite_input, interpolation, keepdims)\n\u001b[1;32m   3820\u001b[0m \u001b[0;34m\u001b[0m\u001b[0m\n",
      "\u001b[0;32m/opt/conda/lib/python3.8/site-packages/numpy/lib/function_base.py\u001b[0m in \u001b[0;36m_quantile_unchecked\u001b[0;34m(a, q, axis, out, overwrite_input, interpolation, keepdims)\u001b[0m\n\u001b[1;32m   3935\u001b[0m                         interpolation='linear', keepdims=False):\n\u001b[1;32m   3936\u001b[0m     \u001b[0;34m\"\"\"Assumes that q is in [0, 1], and is an ndarray\"\"\"\u001b[0m\u001b[0;34m\u001b[0m\u001b[0;34m\u001b[0m\u001b[0m\n\u001b[0;32m-> 3937\u001b[0;31m     r, k = _ureduce(a, func=_quantile_ureduce_func, q=q, axis=axis, out=out,\n\u001b[0m\u001b[1;32m   3938\u001b[0m                     \u001b[0moverwrite_input\u001b[0m\u001b[0;34m=\u001b[0m\u001b[0moverwrite_input\u001b[0m\u001b[0;34m,\u001b[0m\u001b[0;34m\u001b[0m\u001b[0;34m\u001b[0m\u001b[0m\n\u001b[1;32m   3939\u001b[0m                     interpolation=interpolation)\n",
      "\u001b[0;32m/opt/conda/lib/python3.8/site-packages/numpy/lib/function_base.py\u001b[0m in \u001b[0;36m_ureduce\u001b[0;34m(a, func, **kwargs)\u001b[0m\n\u001b[1;32m   3513\u001b[0m         \u001b[0mkeepdim\u001b[0m \u001b[0;34m=\u001b[0m \u001b[0;34m(\u001b[0m\u001b[0;36m1\u001b[0m\u001b[0;34m,\u001b[0m\u001b[0;34m)\u001b[0m \u001b[0;34m*\u001b[0m \u001b[0ma\u001b[0m\u001b[0;34m.\u001b[0m\u001b[0mndim\u001b[0m\u001b[0;34m\u001b[0m\u001b[0;34m\u001b[0m\u001b[0m\n\u001b[1;32m   3514\u001b[0m \u001b[0;34m\u001b[0m\u001b[0m\n\u001b[0;32m-> 3515\u001b[0;31m     \u001b[0mr\u001b[0m \u001b[0;34m=\u001b[0m \u001b[0mfunc\u001b[0m\u001b[0;34m(\u001b[0m\u001b[0ma\u001b[0m\u001b[0;34m,\u001b[0m \u001b[0;34m**\u001b[0m\u001b[0mkwargs\u001b[0m\u001b[0;34m)\u001b[0m\u001b[0;34m\u001b[0m\u001b[0;34m\u001b[0m\u001b[0m\n\u001b[0m\u001b[1;32m   3516\u001b[0m     \u001b[0;32mreturn\u001b[0m \u001b[0mr\u001b[0m\u001b[0;34m,\u001b[0m \u001b[0mkeepdim\u001b[0m\u001b[0;34m\u001b[0m\u001b[0;34m\u001b[0m\u001b[0m\n\u001b[1;32m   3517\u001b[0m \u001b[0;34m\u001b[0m\u001b[0m\n",
      "\u001b[0;32m/opt/conda/lib/python3.8/site-packages/numpy/lib/function_base.py\u001b[0m in \u001b[0;36m_quantile_ureduce_func\u001b[0;34m(***failed resolving arguments***)\u001b[0m\n\u001b[1;32m   4048\u001b[0m                 \u001b[0mindices_below\u001b[0m\u001b[0;34m.\u001b[0m\u001b[0mravel\u001b[0m\u001b[0;34m(\u001b[0m\u001b[0;34m)\u001b[0m\u001b[0;34m,\u001b[0m \u001b[0mindices_above\u001b[0m\u001b[0;34m.\u001b[0m\u001b[0mravel\u001b[0m\u001b[0;34m(\u001b[0m\u001b[0;34m)\u001b[0m\u001b[0;34m,\u001b[0m \u001b[0;34m[\u001b[0m\u001b[0;34m-\u001b[0m\u001b[0;36m1\u001b[0m\u001b[0;34m]\u001b[0m\u001b[0;34m\u001b[0m\u001b[0;34m\u001b[0m\u001b[0m\n\u001b[1;32m   4049\u001b[0m             )), axis=0)\n\u001b[0;32m-> 4050\u001b[0;31m             \u001b[0mn\u001b[0m \u001b[0;34m=\u001b[0m \u001b[0mnp\u001b[0m\u001b[0;34m.\u001b[0m\u001b[0misnan\u001b[0m\u001b[0;34m(\u001b[0m\u001b[0map\u001b[0m\u001b[0;34m[\u001b[0m\u001b[0;34m-\u001b[0m\u001b[0;36m1\u001b[0m\u001b[0;34m]\u001b[0m\u001b[0;34m)\u001b[0m\u001b[0;34m\u001b[0m\u001b[0;34m\u001b[0m\u001b[0m\n\u001b[0m\u001b[1;32m   4051\u001b[0m         \u001b[0;32melse\u001b[0m\u001b[0;34m:\u001b[0m\u001b[0;34m\u001b[0m\u001b[0;34m\u001b[0m\u001b[0m\n\u001b[1;32m   4052\u001b[0m             \u001b[0;31m# cannot contain nan\u001b[0m\u001b[0;34m\u001b[0m\u001b[0;34m\u001b[0m\u001b[0;34m\u001b[0m\u001b[0m\n",
      "\u001b[0;31mIndexError\u001b[0m: index -1 is out of bounds for axis 0 with size 0"
     ]
    }
   ],
   "source": [
    "def eval_bootstrap(rows):\n",
    "    pos = [value for cond, value in rows if cond]\n",
    "    neg = [value for cond, value in rows if not cond]\n",
    "    if not pos or not neg:\n",
    "        return None\n",
    "    return np.mean(neg) - np.mean(pos)\n",
    "\n",
    "def item_bootstrap(rows):\n",
    "    rows = rows[~rows.slider_copout]\n",
    "    bootstrap = sns.algorithms.bootstrap(rows[[\"agent_is_subject\", \"slider_value_normed\"]],\n",
    "                                         n_boot=10000, func=eval_bootstrap)\n",
    "    # Drop samples where there were no positive or negative classes\n",
    "    bootstrap = [x for x in bootstrap if x is not None]\n",
    "    \n",
    "    pcts = np.percentile(bootstrap, [0.05, 0.95])\n",
    "    return pd.Series({\"low\": pcts[0], \"high\": pcts[1]})\n",
    "\n",
    "item_bootstrap_df = merged_df.groupby(\"item_id\").apply(item_bootstrap)\n",
    "item_bootstrap_df"
   ]
  },
  {
   "cell_type": "code",
   "execution_count": null,
   "id": "arbitrary-decimal",
   "metadata": {},
   "outputs": [],
   "source": [
    "item_bootstrap_df = \\\n",
    "    pd.merge(item_bootstrap_df, materials_df.loc[latest_materials][[\"A\", \"V\", \"AV\", \"L\"]],\n",
    "             left_index=True, right_index=True).sort_values(\"low\", ascending=False)"
   ]
  },
  {
   "cell_type": "code",
   "execution_count": null,
   "id": "greatest-hearing",
   "metadata": {},
   "outputs": [],
   "source": [
    "item_bootstrap_df.sort_values(\"low\", ascending=False)"
   ]
  },
  {
   "cell_type": "code",
   "execution_count": null,
   "id": "extensive-audio",
   "metadata": {},
   "outputs": [],
   "source": [
    "plt.subplots(figsize=(15, 15))\n",
    "sns.barplot(\n",
    "    data=item_bootstrap_df.reset_index().melt(id_vars=[\"item_id\", \"AV\", \"L\"], value_vars=[\"low\", \"high\"]),\n",
    "    x=\"AV\", y=\"value\", hue=\"variable\")\n",
    "plt.xticks(rotation=35, ha=\"right\")"
   ]
  },
  {
   "cell_type": "markdown",
   "id": "impossible-butter",
   "metadata": {},
   "source": [
    "### Copouts"
   ]
  },
  {
   "cell_type": "code",
   "execution_count": null,
   "id": "boolean-germany",
   "metadata": {},
   "outputs": [],
   "source": [
    "copouts = exp_items.groupby([\"materials_id\", \"item_id\"]).apply(lambda subj_rows: subj_rows.slider_copout.astype(bool).mean())"
   ]
  },
  {
   "cell_type": "code",
   "execution_count": null,
   "id": "stopped-renewal",
   "metadata": {},
   "outputs": [],
   "source": [
    "copouts = merged_df.groupby([\"materials_id\", \"item_id\", \"agent_is_subject\"] + keep_cols).apply(lambda rows: rows.slider_copout.astype(bool).agg([\"sum\", \"count\"]))\n",
    "copouts = copouts.sum(level=[\"item_id\", \"agent_is_subject\"])\n",
    "copouts[\"mean\"] = copouts[\"sum\"].div(copouts[\"count\"])\n",
    "copouts.sort_values(\"mean\", ascending=False)"
   ]
  },
  {
   "cell_type": "code",
   "execution_count": null,
   "id": "behind-ecology",
   "metadata": {},
   "outputs": [],
   "source": [
    "plt.subplots(figsize=(15, 8))\n",
    "sns.barplot(data=merged_df, x=\"A\", y=\"slider_copout\", hue=\"agent_is_subject\")"
   ]
  },
  {
   "cell_type": "code",
   "execution_count": null,
   "id": "involved-structure",
   "metadata": {},
   "outputs": [],
   "source": [
    "sns.barplot(data=merged_df, x=\"A concrete?\", y=\"slider_copout\")"
   ]
  },
  {
   "cell_type": "code",
   "execution_count": null,
   "id": "valuable-blade",
   "metadata": {},
   "outputs": [],
   "source": [
    "sns.barplot(data=merged_df, x=\"A countable?\", y=\"slider_copout\")"
   ]
  },
  {
   "cell_type": "markdown",
   "id": "caroline-nebraska",
   "metadata": {},
   "source": [
    "### Item exposure"
   ]
  },
  {
   "cell_type": "code",
   "execution_count": null,
   "id": "occupied-briefing",
   "metadata": {},
   "outputs": [],
   "source": [
    "merged_df.groupby([\"item_id\", \"A\", \"agent_is_subject\"]).size().sort_values()"
   ]
  },
  {
   "cell_type": "markdown",
   "id": "transparent-steps",
   "metadata": {},
   "source": [
    "## Extras"
   ]
  },
  {
   "cell_type": "code",
   "execution_count": null,
   "id": "romantic-shakespeare",
   "metadata": {},
   "outputs": [],
   "source": [
    "pd.merge(response_df.xs(\"A1VX5ZKAT3S8YP:34PGFRQONPZ0JASKSXG0V1FX6U6JWX\", level=\"uniqueid\").reset_index()[[\"trial_index\", \"materials_id\", \"item_id\", \"condition_0\", \"condition_1\", \"agent_is_subject\", \"slider_value\"]],\n",
    "         materials_df[[\"A\", \"V\", \"L\"]],\n",
    "         left_on=[\"materials_id\", \"item_id\"], right_index=True).sort_values(\"agent_is_subject\")"
   ]
  },
  {
   "cell_type": "code",
   "execution_count": null,
   "id": "grave-desperate",
   "metadata": {},
   "outputs": [],
   "source": [
    "exp_items[(exp_items.condition_0 != \"filler\") & (exp_items.item_id == 3)][[\"agent_is_subject\", \"slider_value_normed\"]].sort_values([\"agent_is_subject\", \"slider_value_normed\"])"
   ]
  },
  {
   "cell_type": "code",
   "execution_count": null,
   "id": "amber-small",
   "metadata": {},
   "outputs": [],
   "source": []
  }
 ],
 "metadata": {
  "kernelspec": {
   "display_name": "Python 3",
   "language": "python",
   "name": "python3"
  },
  "language_info": {
   "codemirror_mode": {
    "name": "ipython",
    "version": 3
   },
   "file_extension": ".py",
   "mimetype": "text/x-python",
   "name": "python",
   "nbconvert_exporter": "python",
   "pygments_lexer": "ipython3",
   "version": "3.8.8"
  }
 },
 "nbformat": 4,
 "nbformat_minor": 5
}
